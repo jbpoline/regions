{
 "metadata": {
  "name": ""
 },
 "nbformat": 3,
 "nbformat_minor": 0,
 "worksheets": [
  {
   "cells": [
    {
     "cell_type": "heading",
     "level": 1,
     "metadata": {},
     "source": [
      "Constructing an atlas!"
     ]
    },
    {
     "cell_type": "code",
     "collapsed": false,
     "input": [
      "%pylab inline"
     ],
     "language": "python",
     "metadata": {},
     "outputs": [
      {
       "output_type": "stream",
       "stream": "stdout",
       "text": [
        "Populating the interactive namespace from numpy and matplotlib\n"
       ]
      }
     ],
     "prompt_number": 1
    },
    {
     "cell_type": "code",
     "collapsed": false,
     "input": [
      "import nibabel as nib\n",
      "import numpy as np\n",
      "import os\n",
      "import os.path as osp\n",
      "import matplotlib.pyplot as plt"
     ],
     "language": "python",
     "metadata": {},
     "outputs": [],
     "prompt_number": 2
    },
    {
     "cell_type": "code",
     "collapsed": false,
     "input": [
      "def show_imgs(imgs, pos, titles=None, cmap=\"gray\", interp=\"nearest\"):\n",
      "    \"\"\"\n",
      "    \"\"\"\n",
      "    \n",
      "    Nimg = len(imgs)\n",
      "    \n",
      "    if (titles is None):\n",
      "        titles = ['No title']*Nimg \n",
      "    \n",
      "    if not isinstance(pos, list):\n",
      "        pos = [pos]*Nimg\n",
      "        \n",
      "    fig, ax = plt.subplots(1,Nimg)\n",
      "    \n",
      "    for ix,im in enumerate(imgs):\n",
      "        if hasattr(im, \"get_data\") and callable(getattr(im, \"get_data\")):\n",
      "            data = im.get_data()\n",
      "        else: #assume im is a 3d array\n",
      "            data = im         \n",
      "        \n",
      "        ax[ix].imshow(data[pos[ix]], cmap=cmap, interpolation=interp)\n",
      "        ax[ix].get_xaxis().set_ticks([])\n",
      "        ax[ix].get_yaxis().set_ticks([])\n",
      "        ax[ix].set_title(titles[ix])"
     ],
     "language": "python",
     "metadata": {},
     "outputs": [],
     "prompt_number": 3
    },
    {
     "cell_type": "code",
     "collapsed": false,
     "input": [
      "USER = osp.expanduser('~')\n",
      "#IMGDIR = osp.join(USER,'code','atlas','img')\n",
      "IMGDIR = osp.join(USER,'code','regions','regions','atlases')\n",
      "FSLCort = osp.join(IMGDIR,\"HarvardOxford-cort-prob-2mm.nii.gz\")\n",
      "FSLSub = osp.join(IMGDIR,\"HarvardOxford-sub-prob-2mm.nii.gz\")\n",
      "#MNI = osp.join(IMGDIR,\"MNI-prob-2mm.nii.gz\")\n",
      "fslcort = nib.load(FSLCort)\n",
      "fslsub = nib.load(FSLSub)\n",
      "#mni = nib.load(MNI)"
     ],
     "language": "python",
     "metadata": {},
     "outputs": [],
     "prompt_number": 4
    },
    {
     "cell_type": "code",
     "collapsed": false,
     "input": [
      "import regions as reg"
     ],
     "language": "python",
     "metadata": {},
     "outputs": [
      {
       "output_type": "stream",
       "stream": "stdout",
       "text": [
        "reloading ProbAtlas at 13-10-02-00-07-52 \n",
        "\n"
       ]
      }
     ],
     "prompt_number": 5
    },
    {
     "cell_type": "code",
     "collapsed": false,
     "input": [
      "reg.__version__"
     ],
     "language": "python",
     "metadata": {},
     "outputs": [
      {
       "metadata": {},
       "output_type": "pyout",
       "prompt_number": 6,
       "text": [
        "'0.111'"
       ]
      }
     ],
     "prompt_number": 6
    },
    {
     "cell_type": "heading",
     "level": 2,
     "metadata": {},
     "source": [
      "Import Cortical atlas"
     ]
    },
    {
     "cell_type": "code",
     "collapsed": false,
     "input": [
      "#del C, d, a, l\n",
      "%run /home/jb/code/regions/regions/prob_atlas.py"
     ],
     "language": "python",
     "metadata": {},
     "outputs": [
      {
       "output_type": "stream",
       "stream": "stdout",
       "text": [
        "reloading ProbAtlas at 13-10-02-00-07-52 \n",
        "\n"
       ]
      }
     ],
     "prompt_number": 7
    },
    {
     "cell_type": "heading",
     "level": 3,
     "metadata": {},
     "source": [
      "import cortical 1mm"
     ]
    },
    {
     "cell_type": "code",
     "collapsed": false,
     "input": [
      "# load 1mm data\n",
      "IMGDIR = osp.join(USER,'code','regions','regions','atlases')\n",
      "atlas_file = 'HarvardOxford-cort-prob-1mm.nii.gz'\n",
      "atlas_labels = 'HarvardOxford-Cortical.xml'\n",
      "\n",
      "(d, a, l) = load_atlas(atlas_file, IMGDIR, atlas_labels, scalefactor='max', verbose=1)\n",
      "\n",
      "C = ProbAtlas(d, a, l)\n",
      "print C.shape\n",
      "del d,a,l"
     ],
     "language": "python",
     "metadata": {},
     "outputs": [
      {
       "output_type": "stream",
       "stream": "stdout",
       "text": [
        "Atlas has 48 rois \n",
        "\n",
        " scalefactor = 0.010000 "
       ]
      },
      {
       "output_type": "stream",
       "stream": "stdout",
       "text": [
        "\n"
       ]
      },
      {
       "output_type": "stream",
       "stream": "stdout",
       "text": [
        "(182, 218, 182, 48)\n"
       ]
      }
     ],
     "prompt_number": 8
    },
    {
     "cell_type": "code",
     "collapsed": false,
     "input": [
      "C.summary()"
     ],
     "language": "python",
     "metadata": {},
     "outputs": [
      {
       "output_type": "stream",
       "stream": "stdout",
       "text": [
        " nrois : 48  shape (182, 218, 182, 48)  dtype float32 \n",
        "\n",
        "Max values : [0.98999995, 1.0, 0.96999997, 0.94, 0.81, 0.85999995, 0.93000001, 0.94999999, 0.76999998, 0.48999998, 0.84999996, 0.91999996, 0.93000001, 0.78999996, 0.81999999, 0.85999995, 0.93000001, 0.79999995, 0.88999999, 0.77999997, 0.87, 0.95999998, 0.94, 0.76999998, 1.0, 0.94, 0.98999995, 0.93000001, 1.0, 1.0, 1.0, 0.88, 0.97999996, 0.94999999, 0.89999998, 0.94999999, 0.76999998, 0.96999997, 0.94999999, 0.84999996, 0.81999999, 0.90999997, 0.81999999, 0.81999999, 0.72999996, 0.74000001, 0.59999996, 0.81999999] "
       ]
      },
      {
       "output_type": "stream",
       "stream": "stdout",
       "text": [
        "\n",
        "\n",
        "Min values : [0.0, 0.0, 0.0, 0.0, 0.0, 0.0, 0.0, 0.0, 0.0, 0.0, 0.0, 0.0, 0.0, 0.0, 0.0, 0.0, 0.0, 0.0, 0.0, 0.0, 0.0, 0.0, 0.0, 0.0, 0.0, 0.0, 0.0, 0.0, 0.0, 0.0, 0.0, 0.0, 0.0, 0.0, 0.0, 0.0, 0.0, 0.0, 0.0, 0.0, 0.0, 0.0, 0.0, 0.0, 0.0, 0.0, 0.0, 0.0] "
       ]
      },
      {
       "output_type": "stream",
       "stream": "stdout",
       "text": [
        "\n"
       ]
      }
     ],
     "prompt_number": 9
    },
    {
     "cell_type": "heading",
     "level": 3,
     "metadata": {},
     "source": [
      "Cut the cortical atlas in right components"
     ]
    },
    {
     "cell_type": "code",
     "collapsed": false,
     "input": [
      "print C.affine"
     ],
     "language": "python",
     "metadata": {},
     "outputs": [
      {
       "output_type": "stream",
       "stream": "stdout",
       "text": [
        "[[  -1.    0.    0.   90.]\n",
        " [   0.    1.    0. -126.]\n",
        " [   0.    0.    1.  -72.]\n",
        " [   0.    0.    0.    1.]]\n"
       ]
      }
     ],
     "prompt_number": 10
    },
    {
     "cell_type": "code",
     "collapsed": false,
     "input": [
      "# the right part of the brain in real space is the 91:\n",
      "Rmask = np.zeros_like(C._data[...,0])\n",
      "xyz = [100, 109, 91, 1]\n",
      "print \"on the left: \",  C.affine.dot(xyz)\n",
      "xyz = [50, 109, 91, 1]\n",
      "print \"on the right: \", C.affine.dot(xyz)\n",
      "Rmask[:Rmask.shape[0]/2,:,:] = 1"
     ],
     "language": "python",
     "metadata": {},
     "outputs": [
      {
       "output_type": "stream",
       "stream": "stdout",
       "text": [
        "on the left:  [-10. -17.  19.   1.]\n",
        "on the right:  [ 40. -17.  19.   1.]\n"
       ]
      }
     ],
     "prompt_number": 11
    },
    {
     "cell_type": "code",
     "collapsed": false,
     "input": [
      "idx_not_cut = range(24,32)"
     ],
     "language": "python",
     "metadata": {},
     "outputs": [],
     "prompt_number": 12
    },
    {
     "cell_type": "code",
     "collapsed": false,
     "input": [
      "(r_d, r_a, r_l) = C.keep_mask(Rmask, 'Right_', do_not_cut=idx_not_cut, cut_value=0., verbose=1)\n",
      "C = ProbAtlas(r_d, r_a, r_l)\n",
      "del r_d, r_a, r_l"
     ],
     "language": "python",
     "metadata": {},
     "outputs": [
      {
       "output_type": "stream",
       "stream": "stdout",
       "text": [
        " entering keep_mask stdout\n"
       ]
      },
      {
       "output_type": "stream",
       "stream": "stdout",
       "text": [
        " cut 0 "
       ]
      },
      {
       "output_type": "stream",
       "stream": "stdout",
       "text": [
        " cut 1 "
       ]
      },
      {
       "output_type": "stream",
       "stream": "stdout",
       "text": [
        " cut 2 "
       ]
      },
      {
       "output_type": "stream",
       "stream": "stdout",
       "text": [
        " cut 3 "
       ]
      },
      {
       "output_type": "stream",
       "stream": "stdout",
       "text": [
        " cut 4 "
       ]
      },
      {
       "output_type": "stream",
       "stream": "stdout",
       "text": [
        " cut 5 "
       ]
      },
      {
       "output_type": "stream",
       "stream": "stdout",
       "text": [
        " cut 6 "
       ]
      },
      {
       "output_type": "stream",
       "stream": "stdout",
       "text": [
        " cut 7 "
       ]
      },
      {
       "output_type": "stream",
       "stream": "stdout",
       "text": [
        " cut 8 "
       ]
      },
      {
       "output_type": "stream",
       "stream": "stdout",
       "text": [
        " cut 9 "
       ]
      },
      {
       "output_type": "stream",
       "stream": "stdout",
       "text": [
        " cut 10 "
       ]
      },
      {
       "output_type": "stream",
       "stream": "stdout",
       "text": [
        " cut 11 "
       ]
      },
      {
       "output_type": "stream",
       "stream": "stdout",
       "text": [
        " cut 12 "
       ]
      },
      {
       "output_type": "stream",
       "stream": "stdout",
       "text": [
        " cut 13 "
       ]
      },
      {
       "output_type": "stream",
       "stream": "stdout",
       "text": [
        " cut 14 "
       ]
      },
      {
       "output_type": "stream",
       "stream": "stdout",
       "text": [
        " cut 15 "
       ]
      },
      {
       "output_type": "stream",
       "stream": "stdout",
       "text": [
        " cut 16 "
       ]
      },
      {
       "output_type": "stream",
       "stream": "stdout",
       "text": [
        " cut 17 "
       ]
      },
      {
       "output_type": "stream",
       "stream": "stdout",
       "text": [
        " cut 18 "
       ]
      },
      {
       "output_type": "stream",
       "stream": "stdout",
       "text": [
        " cut 19 "
       ]
      },
      {
       "output_type": "stream",
       "stream": "stdout",
       "text": [
        " cut 20 "
       ]
      },
      {
       "output_type": "stream",
       "stream": "stdout",
       "text": [
        " cut 21 "
       ]
      },
      {
       "output_type": "stream",
       "stream": "stdout",
       "text": [
        " cut 22 "
       ]
      },
      {
       "output_type": "stream",
       "stream": "stdout",
       "text": [
        " cut 23 "
       ]
      },
      {
       "output_type": "stream",
       "stream": "stdout",
       "text": [
        " not 24 "
       ]
      },
      {
       "output_type": "stream",
       "stream": "stdout",
       "text": [
        " not 25 "
       ]
      },
      {
       "output_type": "stream",
       "stream": "stdout",
       "text": [
        " not 26 "
       ]
      },
      {
       "output_type": "stream",
       "stream": "stdout",
       "text": [
        " not 27 "
       ]
      },
      {
       "output_type": "stream",
       "stream": "stdout",
       "text": [
        " not 28 "
       ]
      },
      {
       "output_type": "stream",
       "stream": "stdout",
       "text": [
        " not 29 "
       ]
      },
      {
       "output_type": "stream",
       "stream": "stdout",
       "text": [
        " not 30 "
       ]
      },
      {
       "output_type": "stream",
       "stream": "stdout",
       "text": [
        " not 31 "
       ]
      },
      {
       "output_type": "stream",
       "stream": "stdout",
       "text": [
        " cut 32 "
       ]
      },
      {
       "output_type": "stream",
       "stream": "stdout",
       "text": [
        " cut 33 "
       ]
      },
      {
       "output_type": "stream",
       "stream": "stdout",
       "text": [
        " cut 34 "
       ]
      },
      {
       "output_type": "stream",
       "stream": "stdout",
       "text": [
        " cut 35 "
       ]
      },
      {
       "output_type": "stream",
       "stream": "stdout",
       "text": [
        " cut 36 "
       ]
      },
      {
       "output_type": "stream",
       "stream": "stdout",
       "text": [
        " cut 37 "
       ]
      },
      {
       "output_type": "stream",
       "stream": "stdout",
       "text": [
        " cut 38 "
       ]
      },
      {
       "output_type": "stream",
       "stream": "stdout",
       "text": [
        " cut 39 "
       ]
      },
      {
       "output_type": "stream",
       "stream": "stdout",
       "text": [
        " cut 40 "
       ]
      },
      {
       "output_type": "stream",
       "stream": "stdout",
       "text": [
        " cut 41 "
       ]
      },
      {
       "output_type": "stream",
       "stream": "stdout",
       "text": [
        " cut 42 "
       ]
      },
      {
       "output_type": "stream",
       "stream": "stdout",
       "text": [
        " cut 43 "
       ]
      },
      {
       "output_type": "stream",
       "stream": "stdout",
       "text": [
        " cut 44 "
       ]
      },
      {
       "output_type": "stream",
       "stream": "stdout",
       "text": [
        " cut 45 "
       ]
      },
      {
       "output_type": "stream",
       "stream": "stdout",
       "text": [
        " cut 46 "
       ]
      },
      {
       "output_type": "stream",
       "stream": "stdout",
       "text": [
        " cut 47 "
       ]
      }
     ],
     "prompt_number": 13
    },
    {
     "cell_type": "code",
     "collapsed": false,
     "input": [
      "C.summary()"
     ],
     "language": "python",
     "metadata": {},
     "outputs": [
      {
       "output_type": "stream",
       "stream": "stdout",
       "text": [
        " nrois : 48  shape (182, 218, 182, 48)  dtype float32 \n",
        "\n",
        "Max values : [0.96999997, 0.98999995, 0.96999997, 0.88999999, 0.81, 0.81, 0.90999997, 0.94999999, 0.76999998, 0.48999998, 0.84999996, 0.88999999, 0.93000001, 0.75999999, 0.81999999, 0.85999995, 0.93000001, 0.77999997, 0.88999999, 0.77999997, 0.87, 0.93000001, 0.91999996, 0.75999999, 1.0, 0.94, 0.98999995, 0.93000001, 1.0, 1.0, 1.0, 0.88, 0.97999996, 0.94999999, 0.89999998, 0.94999999, 0.75999999, 0.87, 0.94999999, 0.84999996, 0.71999997, 0.90999997, 0.81, 0.81999999, 0.65999997, 0.69, 0.59999996, 0.81999999] "
       ]
      },
      {
       "output_type": "stream",
       "stream": "stdout",
       "text": [
        "\n",
        "\n",
        "Min values : [0.0, 0.0, 0.0, 0.0, 0.0, 0.0, 0.0, 0.0, 0.0, 0.0, 0.0, 0.0, 0.0, 0.0, 0.0, 0.0, 0.0, 0.0, 0.0, 0.0, 0.0, 0.0, 0.0, 0.0, 0.0, 0.0, 0.0, 0.0, 0.0, 0.0, 0.0, 0.0, 0.0, 0.0, 0.0, 0.0, 0.0, 0.0, 0.0, 0.0, 0.0, 0.0, 0.0, 0.0, 0.0, 0.0, 0.0, 0.0] "
       ]
      },
      {
       "output_type": "stream",
       "stream": "stdout",
       "text": [
        "\n"
       ]
      }
     ],
     "prompt_number": 14
    },
    {
     "cell_type": "heading",
     "level": 3,
     "metadata": {},
     "source": [
      "Resample right to 2 mm with continuous sampling:"
     ]
    },
    {
     "cell_type": "code",
     "collapsed": false,
     "input": [
      "# get 2mm affine\n",
      "FSLCort2mm = osp.join(IMGDIR,\"HarvardOxford-cort-prob-2mm.nii.gz\")\n",
      "fslcort2mm = nib.load(FSLCort2mm)\n",
      "aff2mm = fslcort2mm.get_affine()\n",
      "print aff2mm\n",
      "shape2mm = fslcort2mm.get_data().shape[:-1]"
     ],
     "language": "python",
     "metadata": {},
     "outputs": [
      {
       "output_type": "stream",
       "stream": "stdout",
       "text": [
        "[[  -2.    0.    0.   90.]\n",
        " [   0.    2.    0. -126.]\n",
        " [   0.    0.    2.  -72.]\n",
        " [   0.    0.    0.    1.]]\n"
       ]
      }
     ],
     "prompt_number": 15
    },
    {
     "cell_type": "code",
     "collapsed": false,
     "input": [
      "data2mm = C.resample((shape2mm, aff2mm), interpolation='continuous')"
     ],
     "language": "python",
     "metadata": {},
     "outputs": [],
     "prompt_number": 16
    },
    {
     "cell_type": "code",
     "collapsed": false,
     "input": [
      "Cr = ProbAtlas(data2mm, aff2mm, C.labels)"
     ],
     "language": "python",
     "metadata": {},
     "outputs": [],
     "prompt_number": 17
    },
    {
     "cell_type": "code",
     "collapsed": false,
     "input": [
      "Cr.summary()"
     ],
     "language": "python",
     "metadata": {},
     "outputs": [
      {
       "output_type": "stream",
       "stream": "stdout",
       "text": [
        " nrois : 48  shape (91, 109, 91, 48)  dtype float32 \n",
        "\n",
        "Max values : [0.95999998, 0.98999995, 0.96999997, 0.88, 0.75, 0.79999995, 0.88, 0.94, 0.75999999, 0.48999998, 0.83999997, 0.88, 0.90999997, 0.70999998, 0.79999995, 0.85999995, 0.89999998, 0.75, 0.88, 0.75999999, 0.85999995, 0.93000001, 0.90999997, 0.75, 0.97999996, 0.90999997, 0.97999996, 0.89999998, 1.0, 1.0, 0.98999995, 0.88, 0.97999996, 0.91999996, 0.88, 0.93000001, 0.74000001, 0.84999996, 0.91999996, 0.81, 0.70999998, 0.89999998, 0.79999995, 0.78999996, 0.65999997, 0.63999999, 0.59999996, 0.79999995] "
       ]
      },
      {
       "output_type": "stream",
       "stream": "stdout",
       "text": [
        "\n",
        "\n",
        "Min values : [0.0, 0.0, 0.0, 0.0, 0.0, 0.0, 0.0, 0.0, 0.0, 0.0, 0.0, 0.0, 0.0, 0.0, 0.0, 0.0, 0.0, 0.0, 0.0, 0.0, 0.0, 0.0, 0.0, 0.0, 0.0, 0.0, 0.0, 0.0, 0.0, 0.0, 0.0, 0.0, 0.0, 0.0, 0.0, 0.0, 0.0, 0.0, 0.0, 0.0, 0.0, 0.0, 0.0, 0.0, 0.0, 0.0, 0.0, 0.0] "
       ]
      },
      {
       "output_type": "stream",
       "stream": "stdout",
       "text": [
        "\n"
       ]
      }
     ],
     "prompt_number": 18
    },
    {
     "cell_type": "code",
     "collapsed": false,
     "input": [
      "roi = 10\n",
      "d = Cr._data[...,roi][Cr._data[...,roi] > 1.e-8]\n",
      "(a, b, c) = plt.hist(d, bins=50)"
     ],
     "language": "python",
     "metadata": {},
     "outputs": [
      {
       "metadata": {},
       "output_type": "display_data",
       "png": "[encoded data removed]",
       "text": [
        "<matplotlib.figure.Figure at 0x5060550>"
       ]
      }
     ],
     "prompt_number": 19
    },
    {
     "cell_type": "code",
     "collapsed": false,
     "input": [
      "m = Cr.get_mask(1.e-6)\n",
      "Cr.mask_rois(m)"
     ],
     "language": "python",
     "metadata": {},
     "outputs": [],
     "prompt_number": 20
    },
    {
     "cell_type": "code",
     "collapsed": false,
     "input": [
      "d = Cr._data[...,roi][Cr._data[...,roi] > 1.e-8]\n",
      "(a, b, c) = plt.hist(d, bins=50)"
     ],
     "language": "python",
     "metadata": {},
     "outputs": [
      {
       "metadata": {},
       "output_type": "display_data",
       "png": "[encoded data removed]",
       "text": [
        "<matplotlib.figure.Figure at 0x52cc690>"
       ]
      }
     ],
     "prompt_number": 21
    },
    {
     "cell_type": "code",
     "collapsed": false,
     "input": [
      "Cr.summary()"
     ],
     "language": "python",
     "metadata": {},
     "outputs": [
      {
       "output_type": "stream",
       "stream": "stdout",
       "text": [
        " nrois : 48  shape (91, 109, 91, 48)  dtype float32 \n",
        "\n",
        "Max values : [0.95999998, 0.98999995, 0.96999997, 0.88, 0.75, 0.79999995, 0.88, 0.94, 0.75999999, 0.48999998, 0.83999997, 0.88, 0.90999997, 0.70999998, 0.79999995, 0.85999995, 0.89999998, 0.75, 0.88, 0.75999999, 0.85999995, 0.93000001, 0.90999997, 0.75, 0.97999996, 0.90999997, 0.97999996, 0.89999998, 1.0, 1.0, 0.98999995, 0.88, 0.97999996, 0.91999996, 0.88, 0.93000001, 0.74000001, 0.84999996, 0.91999996, 0.81, 0.70999998, 0.89999998, 0.79999995, 0.78999996, 0.65999997, 0.63999999, 0.59999996, 0.79999995] "
       ]
      },
      {
       "output_type": "stream",
       "stream": "stdout",
       "text": [
        "\n",
        "\n",
        "Min values : [-1.0, -1.0, -1.0, -1.0, -1.0, -1.0, -1.0, -1.0, -1.0, -1.0, -1.0, -1.0, -1.0, -1.0, -1.0, -1.0, -1.0, -1.0, -1.0, -1.0, -1.0, -1.0, -1.0, -1.0, -1.0, -1.0, -1.0, -1.0, -1.0, -1.0, -1.0, -1.0, -1.0, -1.0, -1.0, -1.0, -1.0, -1.0, -1.0, -1.0, -1.0, -1.0, -1.0, -1.0, -1.0, -1.0, -1.0, -1.0] "
       ]
      },
      {
       "output_type": "stream",
       "stream": "stdout",
       "text": [
        "\n"
       ]
      }
     ],
     "prompt_number": 22
    },
    {
     "cell_type": "code",
     "collapsed": false,
     "input": [
      "mask = Cr.get_mask()\n",
      "x,y,z = 60,45,40\n",
      "pos = [[x, slice(None), slice(None)],\n",
      "       [slice(None), y, slice(None)],\n",
      "       [slice(None), slice(None), z]]\n",
      "\n",
      "titles = [\"sagittal\", \"coronal\", \"axial\"]\n",
      "# print [k for k in plt.cm.datad.keys() if not k.endswith('_r')]\n",
      "\n",
      "#plt.imshow(labels_cort[pos], cmap=\"flag\", interpolation=\"nearest\")\n",
      "show_imgs([mask.astype(int)]*3, pos[::-1], cmap=\"hot\", titles=titles[::-1])"
     ],
     "language": "python",
     "metadata": {},
     "outputs": [
      {
       "metadata": {},
       "output_type": "display_data",
       "png": "[encoded data removed]",
       "text": [
        "<matplotlib.figure.Figure at 0x52d91d0>"
       ]
      }
     ],
     "prompt_number": 23
    },
    {
     "cell_type": "code",
     "collapsed": false,
     "input": [
      "d = Cr._data[...,roi][Cr._data[...,roi] > 1.e-8]\n",
      "(a, b, c) = plt.hist(d, bins=50)"
     ],
     "language": "python",
     "metadata": {},
     "outputs": [
      {
       "metadata": {},
       "output_type": "display_data",
       "png": "[encoded data removed]",
       "text": [
        "<matplotlib.figure.Figure at 0x57452d0>"
       ]
      }
     ],
     "prompt_number": 24
    },
    {
     "cell_type": "heading",
     "level": 3,
     "metadata": {},
     "source": [
      "Do this again for the left side:"
     ]
    },
    {
     "cell_type": "code",
     "collapsed": false,
     "input": [
      "# load 1mm data\n",
      "IMGDIR = osp.join(USER,'code','regions','regions','atlases')\n",
      "atlas_file = 'HarvardOxford-cort-prob-1mm.nii.gz'\n",
      "atlas_labels = 'HarvardOxford-Cortical.xml'\n",
      "\n",
      "(d, a, l) = load_atlas(atlas_file, IMGDIR, atlas_labels, scalefactor='max', verbose=1)\n",
      "C = ProbAtlas(d, a, l)\n",
      "del d,a,l\n",
      "\n",
      "# the left part of the brain in real space is the 91:\n",
      "maskL = np.zeros_like(C._data[...,0])\n",
      "maskL[C.shape[0]/2:,:,:] = 1.\n",
      "maskL.shape"
     ],
     "language": "python",
     "metadata": {},
     "outputs": [
      {
       "output_type": "stream",
       "stream": "stdout",
       "text": [
        "Atlas has 48 rois \n",
        "\n",
        " scalefactor = 0.010000 "
       ]
      },
      {
       "output_type": "stream",
       "stream": "stdout",
       "text": [
        "\n"
       ]
      },
      {
       "metadata": {},
       "output_type": "pyout",
       "prompt_number": 25,
       "text": [
        "(182, 218, 182)"
       ]
      }
     ],
     "prompt_number": 25
    },
    {
     "cell_type": "code",
     "collapsed": false,
     "input": [
      "(l_d, l_a, l_l) = C.keep_mask(maskL, 'Left_', do_not_cut=idx_not_cut, cut_value=0., verbose=1)"
     ],
     "language": "python",
     "metadata": {},
     "outputs": [
      {
       "output_type": "stream",
       "stream": "stdout",
       "text": [
        " entering keep_mask stdout\n"
       ]
      },
      {
       "output_type": "stream",
       "stream": "stdout",
       "text": [
        " cut 0 "
       ]
      },
      {
       "output_type": "stream",
       "stream": "stdout",
       "text": [
        " cut 1 "
       ]
      },
      {
       "output_type": "stream",
       "stream": "stdout",
       "text": [
        " cut 2 "
       ]
      },
      {
       "output_type": "stream",
       "stream": "stdout",
       "text": [
        " cut 3 "
       ]
      },
      {
       "output_type": "stream",
       "stream": "stdout",
       "text": [
        " cut 4 "
       ]
      },
      {
       "output_type": "stream",
       "stream": "stdout",
       "text": [
        " cut 5 "
       ]
      },
      {
       "output_type": "stream",
       "stream": "stdout",
       "text": [
        " cut 6 "
       ]
      },
      {
       "output_type": "stream",
       "stream": "stdout",
       "text": [
        " cut 7 "
       ]
      },
      {
       "output_type": "stream",
       "stream": "stdout",
       "text": [
        " cut 8 "
       ]
      },
      {
       "output_type": "stream",
       "stream": "stdout",
       "text": [
        " cut 9 "
       ]
      },
      {
       "output_type": "stream",
       "stream": "stdout",
       "text": [
        " cut 10 "
       ]
      },
      {
       "output_type": "stream",
       "stream": "stdout",
       "text": [
        " cut 11 "
       ]
      },
      {
       "output_type": "stream",
       "stream": "stdout",
       "text": [
        " cut 12 "
       ]
      },
      {
       "output_type": "stream",
       "stream": "stdout",
       "text": [
        " cut 13 "
       ]
      },
      {
       "output_type": "stream",
       "stream": "stdout",
       "text": [
        " cut 14 "
       ]
      },
      {
       "output_type": "stream",
       "stream": "stdout",
       "text": [
        " cut 15 "
       ]
      },
      {
       "output_type": "stream",
       "stream": "stdout",
       "text": [
        " cut 16 "
       ]
      },
      {
       "output_type": "stream",
       "stream": "stdout",
       "text": [
        " cut 17 "
       ]
      },
      {
       "output_type": "stream",
       "stream": "stdout",
       "text": [
        " cut 18 "
       ]
      },
      {
       "output_type": "stream",
       "stream": "stdout",
       "text": [
        " cut 19 "
       ]
      },
      {
       "output_type": "stream",
       "stream": "stdout",
       "text": [
        " cut 20 "
       ]
      },
      {
       "output_type": "stream",
       "stream": "stdout",
       "text": [
        " cut 21 "
       ]
      },
      {
       "output_type": "stream",
       "stream": "stdout",
       "text": [
        " cut 22 "
       ]
      },
      {
       "output_type": "stream",
       "stream": "stdout",
       "text": [
        " cut 23 "
       ]
      },
      {
       "output_type": "stream",
       "stream": "stdout",
       "text": [
        " not 24 "
       ]
      },
      {
       "output_type": "stream",
       "stream": "stdout",
       "text": [
        " not 25 "
       ]
      },
      {
       "output_type": "stream",
       "stream": "stdout",
       "text": [
        " not 26 "
       ]
      },
      {
       "output_type": "stream",
       "stream": "stdout",
       "text": [
        " not 27 "
       ]
      },
      {
       "output_type": "stream",
       "stream": "stdout",
       "text": [
        " not 28 "
       ]
      },
      {
       "output_type": "stream",
       "stream": "stdout",
       "text": [
        " not 29 "
       ]
      },
      {
       "output_type": "stream",
       "stream": "stdout",
       "text": [
        " not 30 "
       ]
      },
      {
       "output_type": "stream",
       "stream": "stdout",
       "text": [
        " not 31 "
       ]
      },
      {
       "output_type": "stream",
       "stream": "stdout",
       "text": [
        " cut 32 "
       ]
      },
      {
       "output_type": "stream",
       "stream": "stdout",
       "text": [
        " cut 33 "
       ]
      },
      {
       "output_type": "stream",
       "stream": "stdout",
       "text": [
        " cut 34 "
       ]
      },
      {
       "output_type": "stream",
       "stream": "stdout",
       "text": [
        " cut 35 "
       ]
      },
      {
       "output_type": "stream",
       "stream": "stdout",
       "text": [
        " cut 36 "
       ]
      },
      {
       "output_type": "stream",
       "stream": "stdout",
       "text": [
        " cut 37 "
       ]
      },
      {
       "output_type": "stream",
       "stream": "stdout",
       "text": [
        " cut 38 "
       ]
      },
      {
       "output_type": "stream",
       "stream": "stdout",
       "text": [
        " cut 39 "
       ]
      },
      {
       "output_type": "stream",
       "stream": "stdout",
       "text": [
        " cut 40 "
       ]
      },
      {
       "output_type": "stream",
       "stream": "stdout",
       "text": [
        " cut 41 "
       ]
      },
      {
       "output_type": "stream",
       "stream": "stdout",
       "text": [
        " cut 42 "
       ]
      },
      {
       "output_type": "stream",
       "stream": "stdout",
       "text": [
        " cut 43 "
       ]
      },
      {
       "output_type": "stream",
       "stream": "stdout",
       "text": [
        " cut 44 "
       ]
      },
      {
       "output_type": "stream",
       "stream": "stdout",
       "text": [
        " cut 45 "
       ]
      },
      {
       "output_type": "stream",
       "stream": "stdout",
       "text": [
        " cut 46 "
       ]
      },
      {
       "output_type": "stream",
       "stream": "stdout",
       "text": [
        " cut 47 "
       ]
      }
     ],
     "prompt_number": 26
    },
    {
     "cell_type": "code",
     "collapsed": false,
     "input": [
      "C = ProbAtlas(l_d, l_a, l_l)\n",
      "data2mm = C.resample((shape2mm, aff2mm), interpolation='continuous')"
     ],
     "language": "python",
     "metadata": {},
     "outputs": [],
     "prompt_number": 27
    },
    {
     "cell_type": "code",
     "collapsed": false,
     "input": [
      "#del l_d, l_a, l_l\n",
      "Cl = ProbAtlas(data2mm, aff2mm, C.labels)"
     ],
     "language": "python",
     "metadata": {},
     "outputs": [],
     "prompt_number": 28
    },
    {
     "cell_type": "code",
     "collapsed": false,
     "input": [
      "Cl.summary()"
     ],
     "language": "python",
     "metadata": {},
     "outputs": [
      {
       "output_type": "stream",
       "stream": "stdout",
       "text": [
        " nrois : 48  shape (91, 109, 91, 48)  dtype float32 \n",
        "\n",
        "Max values : [0.97999996, 1.0, 0.88999999, 0.90999997, 0.75999999, 0.81999999, 0.88999999, 0.93000001, 0.75999999, 0.48999998, 0.79999995, 0.90999997, 0.87, 0.76999998, 0.71999997, 0.81, 0.89999998, 0.75999999, 0.81999999, 0.69, 0.65999997, 0.94999999, 0.93000001, 0.76999998, 0.97999996, 0.90999997, 0.97999996, 0.89999998, 1.0, 1.0, 0.98999995, 0.88, 0.94, 0.91999996, 0.79999995, 0.91999996, 0.75999999, 0.94999999, 0.85999995, 0.74000001, 0.81999999, 0.89999998, 0.81, 0.75, 0.70999998, 0.72999996, 0.41, 0.79999995] "
       ]
      },
      {
       "output_type": "stream",
       "stream": "stdout",
       "text": [
        "\n",
        "\n",
        "Min values : [0.0, 0.0, 0.0, 0.0, 0.0, 0.0, 0.0, 0.0, 0.0, 0.0, 0.0, 0.0, 0.0, 0.0, 0.0, 0.0, 0.0, 0.0, 0.0, 0.0, 0.0, 0.0, 0.0, 0.0, 0.0, 0.0, 0.0, 0.0, 0.0, 0.0, 0.0, 0.0, 0.0, 0.0, 0.0, 0.0, 0.0, 0.0, 0.0, 0.0, 0.0, 0.0, 0.0, 0.0, 0.0, 0.0, 0.0, 0.0] "
       ]
      },
      {
       "output_type": "stream",
       "stream": "stdout",
       "text": [
        "\n"
       ]
      }
     ],
     "prompt_number": 29
    },
    {
     "cell_type": "code",
     "collapsed": false,
     "input": [
      "m = Cl.get_mask()\n",
      "Cl.mask_rois(m)\n",
      "Cl.summary()"
     ],
     "language": "python",
     "metadata": {},
     "outputs": [
      {
       "output_type": "stream",
       "stream": "stdout",
       "text": [
        " nrois : 48  shape (91, 109, 91, 48)  dtype float32 \n",
        "\n",
        "Max values : [0.97999996, 1.0, 0.88999999, 0.90999997, 0.75999999, 0.81999999, 0.88999999, 0.93000001, 0.75999999, 0.48999998, 0.79999995, 0.90999997, 0.87, 0.76999998, 0.71999997, 0.81, 0.89999998, 0.75999999, 0.81999999, 0.69, 0.65999997, 0.94999999, 0.93000001, 0.76999998, 0.97999996, 0.90999997, 0.97999996, 0.89999998, 1.0, 1.0, 0.98999995, 0.88, 0.94, 0.91999996, 0.79999995, 0.91999996, 0.75999999, 0.94999999, 0.85999995, 0.74000001, 0.81999999, 0.89999998, 0.81, 0.75, 0.70999998, 0.72999996, 0.41, 0.79999995] "
       ]
      },
      {
       "output_type": "stream",
       "stream": "stdout",
       "text": [
        "\n",
        "\n",
        "Min values : [-1.0, -1.0, -1.0, -1.0, -1.0, -1.0, -1.0, -1.0, -1.0, -1.0, -1.0, -1.0, -1.0, -1.0, -1.0, -1.0, -1.0, -1.0, -1.0, -1.0, -1.0, -1.0, -1.0, -1.0, -1.0, -1.0, -1.0, -1.0, -1.0, -1.0, -1.0, -1.0, -1.0, -1.0, -1.0, -1.0, -1.0, -1.0, -1.0, -1.0, -1.0, -1.0, -1.0, -1.0, -1.0, -1.0, -1.0, -1.0] "
       ]
      },
      {
       "output_type": "stream",
       "stream": "stdout",
       "text": [
        "\n"
       ]
      }
     ],
     "prompt_number": 30
    },
    {
     "cell_type": "code",
     "collapsed": false,
     "input": [
      "Cr.nrois"
     ],
     "language": "python",
     "metadata": {},
     "outputs": [
      {
       "metadata": {},
       "output_type": "pyout",
       "prompt_number": 31,
       "text": [
        "48"
       ]
      },
      {
       "metadata": {},
       "output_type": "pyout",
       "prompt_number": 32,
       "text": [
        "48"
       ]
      }
     ],
     "prompt_number": 32
    },
    {
     "cell_type": "code",
     "collapsed": false,
     "input": [
      "Cr.rm_rois(idx_not_cut)"
     ],
     "language": "python",
     "metadata": {},
     "outputs": [],
     "prompt_number": 33
    },
    {
     "cell_type": "code",
     "collapsed": false,
     "input": [
      "Cr.nrois"
     ],
     "language": "python",
     "metadata": {},
     "outputs": [
      {
       "metadata": {},
       "output_type": "pyout",
       "prompt_number": 34,
       "text": [
        "40"
       ]
      }
     ],
     "prompt_number": 34
    },
    {
     "cell_type": "code",
     "collapsed": false,
     "input": [
      "roi = 39\n",
      "x,y,z = Cr.max_rois_pos(roi)\n",
      "pos = [[x, slice(None), slice(None)],\n",
      "       [slice(None), y, slice(None)],\n",
      "       [slice(None), slice(None), z]]\n",
      "\n",
      "titles = [\"sagittal\", \"coronal\", \"axial\"]\n",
      "# print [k for k in plt.cm.datad.keys() if not k.endswith('_r')]\n",
      "\n",
      "#plt.imshow(labels_cort[pos], cmap=\"flag\", interpolation=\"nearest\")\n",
      "show_imgs([Cr._data[...,roi]]*3, pos[::-1], cmap=\"jet\", titles=titles[::-1])"
     ],
     "language": "python",
     "metadata": {},
     "outputs": [
      {
       "metadata": {},
       "output_type": "display_data",
       "png": "[encoded data removed]",
       "text": [
        "<matplotlib.figure.Figure at 0x57250d0>"
       ]
      }
     ],
     "prompt_number": 41
    },
    {
     "cell_type": "code",
     "collapsed": false,
     "input": [
      "Cr.summary()"
     ],
     "language": "python",
     "metadata": {},
     "outputs": [
      {
       "output_type": "stream",
       "stream": "stdout",
       "text": [
        " nrois : 40  shape (91, 109, 91, 40)  dtype float32 \n",
        "\n",
        "Max values : [0.95999998, 0.98999995, 0.96999997, 0.88, 0.75, 0.79999995, 0.88, 0.94, 0.75999999, 0.48999998, 0.83999997, 0.88, 0.90999997, 0.70999998, 0.79999995, 0.85999995, 0.89999998, 0.75, 0.88, 0.75999999, 0.85999995, 0.93000001, 0.90999997, 0.75, 0.97999996, 0.91999996, 0.88, 0.93000001, 0.74000001, 0.84999996, 0.91999996, 0.81, 0.70999998, 0.89999998, 0.79999995, 0.78999996, 0.65999997, 0.63999999, 0.59999996, 0.79999995] \n",
        "\n",
        "Min values : [-1.0, -1.0, -1.0, -1.0, -1.0, -1.0, -1.0, -1.0, -1.0, -1.0, -1.0, -1.0, -1.0, -1.0, -1.0, -1.0, -1.0, -1.0, -1.0, -1.0, -1.0, -1.0, -1.0, -1.0, -1.0, -1.0, -1.0, -1.0, -1.0, -1.0, -1.0, -1.0, -1.0, -1.0, -1.0, -1.0, -1.0, -1.0, -1.0, -1.0] "
       ]
      },
      {
       "output_type": "stream",
       "stream": "stdout",
       "text": [
        "\n"
       ]
      }
     ],
     "prompt_number": 42
    },
    {
     "cell_type": "code",
     "collapsed": false,
     "input": [
      "Cl.append(Cr)"
     ],
     "language": "python",
     "metadata": {},
     "outputs": [],
     "prompt_number": 43
    },
    {
     "cell_type": "code",
     "collapsed": false,
     "input": [
      "Cl.summary()"
     ],
     "language": "python",
     "metadata": {},
     "outputs": [
      {
       "output_type": "stream",
       "stream": "stdout",
       "text": [
        " nrois : 88  shape (91, 109, 91, 88)  dtype float32 \n",
        "\n",
        "Max values : [0.97999996, 1.0, 0.88999999, 0.90999997, 0.75999999, 0.81999999, 0.88999999, 0.93000001, 0.75999999, 0.48999998, 0.79999995, 0.90999997, 0.87, 0.76999998, 0.71999997, 0.81, 0.89999998, 0.75999999, 0.81999999, 0.69, 0.65999997, 0.94999999, 0.93000001, 0.76999998, 0.97999996, 0.90999997, 0.97999996, 0.89999998, 1.0, 1.0, 0.98999995, 0.88, 0.94, 0.91999996, 0.79999995, 0.91999996, 0.75999999, 0.94999999, 0.85999995, 0.74000001, 0.81999999, 0.89999998, 0.81, 0.75, 0.70999998, 0.72999996, 0.41, 0.79999995, 0.95999998, 0.98999995, 0.96999997, 0.88, 0.75, 0.79999995, 0.88, 0.94, 0.75999999, 0.48999998, 0.83999997, 0.88, 0.90999997, 0.70999998, 0.79999995, 0.85999995, 0.89999998, 0.75, 0.88, 0.75999999, 0.85999995, 0.93000001, 0.90999997, 0.75, 0.97999996, 0.91999996, 0.88, 0.93000001, 0.74000001, 0.84999996, 0.91999996, 0.81, 0.70999998, 0.89999998, 0.79999995, 0.78999996, 0.65999997, 0.63999999, 0.59999996, 0.79999995] "
       ]
      },
      {
       "output_type": "stream",
       "stream": "stdout",
       "text": [
        "\n",
        "\n",
        "Min values : [-1.0, -1.0, -1.0, -1.0, -1.0, -1.0, -1.0, -1.0, -1.0, -1.0, -1.0, -1.0, -1.0, -1.0, -1.0, -1.0, -1.0, -1.0, -1.0, -1.0, -1.0, -1.0, -1.0, -1.0, -1.0, -1.0, -1.0, -1.0, -1.0, -1.0, -1.0, -1.0, -1.0, -1.0, -1.0, -1.0, -1.0, -1.0, -1.0, -1.0, -1.0, -1.0, -1.0, -1.0, -1.0, -1.0, -1.0, -1.0, -1.0, -1.0, -1.0, -1.0, -1.0, -1.0, -1.0, -1.0, -1.0, -1.0, -1.0, -1.0, -1.0, -1.0, -1.0, -1.0, -1.0, -1.0, -1.0, -1.0, -1.0, -1.0, -1.0, -1.0, -1.0, -1.0, -1.0, -1.0, -1.0, -1.0, -1.0, -1.0, -1.0, -1.0, -1.0, -1.0, -1.0, -1.0, -1.0, -1.0] "
       ]
      },
      {
       "output_type": "stream",
       "stream": "stdout",
       "text": [
        "\n"
       ]
      }
     ],
     "prompt_number": 44
    },
    {
     "cell_type": "heading",
     "level": 2,
     "metadata": {},
     "source": [
      "Import Sub-Cortical Atlas"
     ]
    },
    {
     "cell_type": "code",
     "collapsed": false,
     "input": [
      "IMGDIR = osp.join(USER,'code','regions','regions','atlases')\n",
      "\n",
      "atlas_file = 'HarvardOxford-sub-prob-2mm.nii.gz'\n",
      "atlas_labels = 'HarvardOxford-Subcortical.xml'"
     ],
     "language": "python",
     "metadata": {},
     "outputs": [],
     "prompt_number": 45
    },
    {
     "cell_type": "code",
     "collapsed": false,
     "input": [
      "(d, a, l) = load_atlas(atlas_file, IMGDIR, atlas_labels, scalefactor='max')\n",
      "S = ProbAtlas(d, a, l)\n",
      "del d, a, l\n",
      "S.summary()"
     ],
     "language": "python",
     "metadata": {},
     "outputs": [
      {
       "output_type": "stream",
       "stream": "stdout",
       "text": [
        " scalefactor = 0.010000 \n"
       ]
      },
      {
       "output_type": "stream",
       "stream": "stdout",
       "text": [
        " nrois : 21  shape (91, 109, 91, 21)  dtype float32 \n",
        "\n",
        "Max values : [1.0, 0.97999996, 0.97999996, 1.0, 0.96999997, 1.0, 0.98999995, 1.0, 0.98999995, 0.97999996, 0.89999998, 1.0, 1.0, 1.0, 1.0, 0.98999995, 1.0, 1.0, 1.0, 1.0, 0.91999996] \n",
        "\n",
        "Min values : [0.0, 0.0, 0.0, 0.0, 0.0, 0.0, 0.0, 0.0, 0.0, 0.0, 0.0, 0.0, 0.0, 0.0, 0.0, 0.0, 0.0, 0.0, 0.0, 0.0, 0.0] \n"
       ]
      }
     ],
     "prompt_number": 48
    },
    {
     "cell_type": "code",
     "collapsed": false,
     "input": [
      "rmidx = S.indexof(['Left Cerebral White Matter', 'Left Cerebral Cortex ', \n",
      "           'Right Cerebral White Matter', 'Right Cerebral Cortex ',\n",
      "           'Right Lateral Ventricle', 'Left Lateral Ventrical' ])\n",
      "\n",
      "print rmidx\n",
      "S.rm_rois(rmidx)"
     ],
     "language": "python",
     "metadata": {},
     "outputs": [
      {
       "output_type": "stream",
       "stream": "stdout",
       "text": [
        "[0, 1, 11, 12, 13, 2]\n"
       ]
      }
     ],
     "prompt_number": 49
    },
    {
     "cell_type": "code",
     "collapsed": false,
     "input": [
      "S._data.shape\n",
      "S.labels"
     ],
     "language": "python",
     "metadata": {},
     "outputs": [
      {
       "metadata": {},
       "output_type": "pyout",
       "prompt_number": 50,
       "text": [
        "['Left Thalamus',\n",
        " 'Left Caudate',\n",
        " 'Left Putamen',\n",
        " 'Left Pallidum',\n",
        " 'Brain-Stem',\n",
        " 'Left Hippocampus',\n",
        " 'Left Amygdala',\n",
        " 'Left Accumbens',\n",
        " 'Right Thalamus',\n",
        " 'Right Caudate',\n",
        " 'Right Putamen',\n",
        " 'Right Pallidum',\n",
        " 'Right Hippocampus',\n",
        " 'Right Amygdala',\n",
        " 'Right Accumbens']"
       ]
      }
     ],
     "prompt_number": 50
    },
    {
     "cell_type": "code",
     "collapsed": false,
     "input": [
      "x,y,z = 35,45,20\n",
      "pos = [[x, slice(None), slice(None)],\n",
      "       [slice(None), y, slice(None)],\n",
      "       [slice(None), slice(None), z]]\n",
      "\n",
      "titles = [\"sagittal\", \"coronal\", \"axial\"]\n",
      "# print [k for k in plt.cm.datad.keys() if not k.endswith('_r')]\n",
      "\n",
      "#plt.imshow(labels_cort[pos], cmap=\"flag\", interpolation=\"nearest\")\n",
      "show_imgs([S.get_mask()]*3, pos[::-1], cmap=\"gray\", titles=titles[::-1])"
     ],
     "language": "python",
     "metadata": {},
     "outputs": [
      {
       "metadata": {},
       "output_type": "display_data",
       "png": "[encoded data removed]",
       "text": [
        "<matplotlib.figure.Figure at 0x505b510>"
       ]
      }
     ],
     "prompt_number": 52
    },
    {
     "cell_type": "heading",
     "level": 3,
     "metadata": {},
     "source": [
      "Add this to previous cortex atlas"
     ]
    },
    {
     "cell_type": "code",
     "collapsed": false,
     "input": [
      "assert np.allclose(Cl.affine, S.affine)\n",
      "\n",
      "Cl.append(S)"
     ],
     "language": "python",
     "metadata": {},
     "outputs": [],
     "prompt_number": 53
    },
    {
     "cell_type": "code",
     "collapsed": false,
     "input": [
      "Cl.mask_rois(Cl.get_mask())\n",
      "Cl.summary()"
     ],
     "language": "python",
     "metadata": {},
     "outputs": [
      {
       "output_type": "stream",
       "stream": "stdout",
       "text": [
        " nrois : 103  shape (91, 109, 91, 103)  dtype float32 \n",
        "\n",
        "Max values : [0.97999996, 1.0, 0.88999999, 0.90999997, 0.75999999, 0.81999999, 0.88999999, 0.93000001, 0.75999999, 0.48999998, 0.79999995, 0.90999997, 0.87, 0.76999998, 0.71999997, 0.81, 0.89999998, 0.75999999, 0.81999999, 0.69, 0.65999997, 0.94999999, 0.93000001, 0.76999998, 0.97999996, 0.90999997, 0.97999996, 0.89999998, 1.0, 1.0, 0.98999995, 0.88, 0.94, 0.91999996, 0.79999995, 0.91999996, 0.75999999, 0.94999999, 0.85999995, 0.74000001, 0.81999999, 0.89999998, 0.81, 0.75, 0.70999998, 0.72999996, 0.41, 0.79999995, 0.95999998, 0.98999995, 0.96999997, 0.88, 0.75, 0.79999995, 0.88, 0.94, 0.75999999, 0.48999998, 0.83999997, 0.88, 0.90999997, 0.70999998, 0.79999995, 0.85999995, 0.89999998, 0.75, 0.88, 0.75999999, 0.85999995, 0.93000001, 0.90999997, 0.75, 0.97999996, 0.91999996, 0.88, 0.93000001, 0.74000001, 0.84999996, 0.91999996, 0.81, 0.70999998, 0.89999998, 0.79999995, 0.78999996, 0.65999997, 0.63999999, 0.59999996, 0.79999995, 1.0, 0.96999997, 1.0, 0.98999995, 1.0, 0.98999995, 0.97999996, 0.89999998, 1.0, 0.98999995, 1.0, 1.0, 1.0, 1.0, 0.91999996] "
       ]
      },
      {
       "output_type": "stream",
       "stream": "stdout",
       "text": [
        "\n",
        "\n",
        "Min values : [-1.0, -1.0, -1.0, -1.0, -1.0, -1.0, -1.0, -1.0, -1.0, -1.0, -1.0, -1.0, -1.0, -1.0, -1.0, -1.0, -1.0, -1.0, -1.0, -1.0, -1.0, -1.0, -1.0, -1.0, -1.0, -1.0, -1.0, -1.0, -1.0, -1.0, -1.0, -1.0, -1.0, -1.0, -1.0, -1.0, -1.0, -1.0, -1.0, -1.0, -1.0, -1.0, -1.0, -1.0, -1.0, -1.0, -1.0, -1.0, -1.0, -1.0, -1.0, -1.0, -1.0, -1.0, -1.0, -1.0, -1.0, -1.0, -1.0, -1.0, -1.0, -1.0, -1.0, -1.0, -1.0, -1.0, -1.0, -1.0, -1.0, -1.0, -1.0, -1.0, -1.0, -1.0, -1.0, -1.0, -1.0, -1.0, -1.0, -1.0, -1.0, -1.0, -1.0, -1.0, -1.0, -1.0, -1.0, -1.0, -1.0, -1.0, -1.0, -1.0, -1.0, -1.0, -1.0, -1.0, -1.0, -1.0, -1.0, -1.0, -1.0, -1.0, -1.0] "
       ]
      },
      {
       "output_type": "stream",
       "stream": "stdout",
       "text": [
        "\n"
       ]
      }
     ],
     "prompt_number": 55
    },
    {
     "cell_type": "code",
     "collapsed": false,
     "input": [
      "Cl.writefile(osp.join(IMGDIR, 'cortical_subcortical2mm'), force=1)"
     ],
     "language": "python",
     "metadata": {},
     "outputs": [],
     "prompt_number": 56
    },
    {
     "cell_type": "code",
     "collapsed": false,
     "input": [
      "Cl.parcellate()"
     ],
     "language": "python",
     "metadata": {},
     "outputs": []
    },
    {
     "cell_type": "heading",
     "level": 2,
     "metadata": {},
     "source": [
      "import Cerebelum atlas"
     ]
    },
    {
     "cell_type": "code",
     "collapsed": false,
     "input": [
      "%run /home/jb/code/regions/regions/prob_atlas.py"
     ],
     "language": "python",
     "metadata": {},
     "outputs": [
      {
       "output_type": "stream",
       "stream": "stdout",
       "text": [
        "reloading ProbAtlas at 13-10-02-00-21-51 \n",
        "\n"
       ]
      }
     ],
     "prompt_number": 57
    },
    {
     "cell_type": "code",
     "collapsed": false,
     "input": [
      "ATLsubDIR = 'Cerebellum-MNIflirt-MRICroN'\n",
      "IMGDIR = osp.join(USER,'code','regions','regions','atlases',ATLsubDIR)\n",
      "\n",
      "atlas_labels = \"Cerebellum_MNIflirt.xml\"\n",
      "atlas_fname = osp.join('', \"Cerebellum-MNIflirt-prob.nii\")\n",
      "\n",
      "(d, a, l) = load_atlas(atlas_fname, IMGDIR, scalefactor=\"max\", atlas_labels=atlas_labels)"
     ],
     "language": "python",
     "metadata": {},
     "outputs": [
      {
       "output_type": "stream",
       "stream": "stdout",
       "text": [
        " scalefactor = 3.921568 \n"
       ]
      }
     ],
     "prompt_number": 58
    },
    {
     "cell_type": "code",
     "collapsed": false,
     "input": [
      "print a\n",
      "print Cl.affine"
     ],
     "language": "python",
     "metadata": {},
     "outputs": [
      {
       "output_type": "stream",
       "stream": "stdout",
       "text": [
        "[[  -2.    0.    0.   90.]\n",
        " [   0.    2.    0. -126.]\n",
        " [   0.    0.    2.  -72.]\n",
        " [   0.    0.    0.    1.]]\n",
        "[[  -2.    0.    0.   90.]\n",
        " [   0.    2.    0. -126.]\n",
        " [   0.    0.    2.  -72.]\n",
        " [   0.    0.    0.    1.]]\n"
       ]
      }
     ],
     "prompt_number": 59
    },
    {
     "cell_type": "code",
     "collapsed": false,
     "input": [
      "B = ProbAtlas(d, a, l)\n",
      "B.summary()"
     ],
     "language": "python",
     "metadata": {},
     "outputs": [
      {
       "output_type": "stream",
       "stream": "stdout",
       "text": [
        " nrois : 28  shape (91, 109, 91, 28)  dtype float32 \n",
        "\n",
        "Max values : [memmap(1.0, dtype=float32), memmap(1.0, dtype=float32), memmap(1.0, dtype=float32), memmap(1.0, dtype=float32), memmap(1.0, dtype=float32), memmap(1.0, dtype=float32), memmap(1.0, dtype=float32), memmap(1.0, dtype=float32), memmap(0.9176470041275024, dtype=float32), memmap(1.0, dtype=float32), memmap(1.0, dtype=float32), memmap(1.0, dtype=float32), memmap(1.0, dtype=float32), memmap(1.0, dtype=float32), memmap(1.0, dtype=float32), memmap(1.0, dtype=float32), memmap(1.0, dtype=float32), memmap(1.0, dtype=float32), memmap(1.0, dtype=float32), memmap(1.0, dtype=float32), memmap(1.0, dtype=float32), memmap(1.0, dtype=float32), memmap(1.0, dtype=float32), memmap(1.0, dtype=float32), memmap(1.0, dtype=float32), memmap(1.0, dtype=float32), memmap(1.0, dtype=float32), memmap(1.0, dtype=float32)] \n",
        "\n",
        "Min values : [memmap(0.0, dtype=float32), memmap(0.0, dtype=float32), memmap(0.0, dtype=float32), memmap(0.0, dtype=float32), memmap(0.0, dtype=float32), memmap(0.0, dtype=float32), memmap(0.0, dtype=float32), memmap(0.0, dtype=float32), memmap(0.0, dtype=float32), memmap(0.0, dtype=float32), memmap(0.0, dtype=float32), memmap(0.0, dtype=float32), memmap(0.0, dtype=float32), memmap(0.0, dtype=float32), memmap(0.0, dtype=float32), memmap(0.0, dtype=float32), memmap(0.0, dtype=float32), memmap(0.0, dtype=float32), memmap(0.0, dtype=float32), memmap(0.0, dtype=float32), memmap(0.0, dtype=float32), memmap(0.0, dtype=float32), memmap(0.0, dtype=float32), memmap(0.0, dtype=float32), memmap(0.0, dtype=float32), memmap(0.0, dtype=float32), memmap(0.0, dtype=float32), memmap(0.0, dtype=float32)] \n"
       ]
      }
     ],
     "prompt_number": 61
    },
    {
     "cell_type": "code",
     "collapsed": false,
     "input": [
      "x,y,z = 35,45,20\n",
      "pos = [[x, slice(None), slice(None)],\n",
      "       [slice(None), y, slice(None)],\n",
      "       [slice(None), slice(None), z]]\n",
      "\n",
      "titles = [\"sagittal\", \"coronal\", \"axial\"]\n",
      "# print [k for k in plt.cm.datad.keys() if not k.endswith('_r')]\n",
      "\n",
      "#plt.imshow(labels_cort[pos], cmap=\"flag\", interpolation=\"nearest\")\n",
      "show_imgs([B.get_mask()]*3, pos[::-1], cmap=\"gray\", titles=titles[::-1])"
     ],
     "language": "python",
     "metadata": {},
     "outputs": [
      {
       "metadata": {},
       "output_type": "display_data",
       "png": "[encoded data removed]",
       "text": [
        "<matplotlib.figure.Figure at 0x52d91d0>"
       ]
      }
     ],
     "prompt_number": 62
    },
    {
     "cell_type": "code",
     "collapsed": false,
     "input": [
      "B.mask_rois(B.get_mask())"
     ],
     "language": "python",
     "metadata": {},
     "outputs": [],
     "prompt_number": 63
    },
    {
     "cell_type": "code",
     "collapsed": false,
     "input": [
      "B.summary()"
     ],
     "language": "python",
     "metadata": {},
     "outputs": [
      {
       "output_type": "stream",
       "stream": "stdout",
       "text": [
        " nrois : 28  shape (91, 109, 91, 28)  dtype float32 \n",
        "\n",
        "Max values : [memmap(1.0, dtype=float32), memmap(1.0, dtype=float32), memmap(1.0, dtype=float32), memmap(1.0, dtype=float32), memmap(1.0, dtype=float32), memmap(1.0, dtype=float32), memmap(1.0, dtype=float32), memmap(1.0, dtype=float32), memmap(0.9176470041275024, dtype=float32), memmap(1.0, dtype=float32), memmap(1.0, dtype=float32), memmap(1.0, dtype=float32), memmap(1.0, dtype=float32), memmap(1.0, dtype=float32), memmap(1.0, dtype=float32), memmap(1.0, dtype=float32), memmap(1.0, dtype=float32), memmap(1.0, dtype=float32), memmap(1.0, dtype=float32), memmap(1.0, dtype=float32), memmap(1.0, dtype=float32), memmap(1.0, dtype=float32), memmap(1.0, dtype=float32), memmap(1.0, dtype=float32), memmap(1.0, dtype=float32), memmap(1.0, dtype=float32), memmap(1.0, dtype=float32), memmap(1.0, dtype=float32)] \n",
        "\n",
        "Min values : [memmap(-1.0, dtype=float32), memmap(-1.0, dtype=float32), memmap(-1.0, dtype=float32), memmap(-1.0, dtype=float32), memmap(-1.0, dtype=float32), memmap(-1.0, dtype=float32), memmap(-1.0, dtype=float32), memmap(-1.0, dtype=float32), memmap(-1.0, dtype=float32), memmap(-1.0, dtype=float32), memmap(-1.0, dtype=float32), memmap(-1.0, dtype=float32), memmap(-1.0, dtype=float32), memmap(-1.0, dtype=float32), memmap(-1.0, dtype=float32), memmap(-1.0, dtype=float32), memmap(-1.0, dtype=float32), memmap(-1.0, dtype=float32), memmap(-1.0, dtype=float32), memmap(-1.0, dtype=float32), memmap(-1.0, dtype=float32), memmap(-1.0, dtype=float32), memmap(-1.0, dtype=float32), memmap(-1.0, dtype=float32), memmap(-1.0, dtype=float32), memmap(-1.0, dtype=float32), memmap(-1.0, dtype=float32), memmap(-1.0, dtype=float32)] \n"
       ]
      }
     ],
     "prompt_number": 64
    },
    {
     "cell_type": "code",
     "collapsed": false,
     "input": [
      "Cl.append(B)"
     ],
     "language": "python",
     "metadata": {},
     "outputs": [],
     "prompt_number": 65
    },
    {
     "cell_type": "code",
     "collapsed": false,
     "input": [
      "print Cl.nrois"
     ],
     "language": "python",
     "metadata": {},
     "outputs": [
      {
       "output_type": "stream",
       "stream": "stdout",
       "text": [
        "131\n"
       ]
      }
     ],
     "prompt_number": 66
    },
    {
     "cell_type": "code",
     "collapsed": false,
     "input": [
      "Cl.writefile(osp.join(IMGDIR, 'cortical_subcortical_cereb_2mm'))"
     ],
     "language": "python",
     "metadata": {},
     "outputs": [],
     "prompt_number": 67
    },
    {
     "cell_type": "code",
     "collapsed": false,
     "input": [
      "Cl.parcellate()"
     ],
     "language": "python",
     "metadata": {},
     "outputs": [],
     "prompt_number": 68
    },
    {
     "cell_type": "code",
     "collapsed": false,
     "input": [
      "Cl.shape"
     ],
     "language": "python",
     "metadata": {},
     "outputs": [
      {
       "metadata": {},
       "output_type": "pyout",
       "prompt_number": 69,
       "text": [
        "(91, 109, 91, 131)"
       ]
      }
     ],
     "prompt_number": 69
    },
    {
     "cell_type": "code",
     "collapsed": false,
     "input": [
      "img = nib.Nifti1Image(Cl.parcellation, Cl.affine)\n",
      "nib.save(img, \"CSC2mm.nii\")"
     ],
     "language": "python",
     "metadata": {},
     "outputs": [],
     "prompt_number": 70
    },
    {
     "cell_type": "code",
     "collapsed": false,
     "input": [
      "roi = 0\n",
      "x,y,z = Cl.max_rois_pos(roi)\n",
      "pos = [[x, slice(None), slice(None)],\n",
      "       [slice(None), y, slice(None)],\n",
      "       [slice(None), slice(None), z]]\n",
      "\n",
      "titles = [\"sagittal\", \"coronal\", \"axial\"]\n",
      "# print [k for k in plt.cm.datad.keys() if not k.endswith('_r')]\n",
      "\n",
      "#plt.imshow(labels_cort[pos], cmap=\"flag\", interpolation=\"nearest\")\n",
      "show_imgs([Cl.parcellation]*3, pos[::-1], cmap=\"jet\", titles=titles[::-1])\n"
     ],
     "language": "python",
     "metadata": {},
     "outputs": [
      {
       "metadata": {},
       "output_type": "display_data",
       "png": "[encoded data removed]",
       "text": [
        "<matplotlib.figure.Figure at 0x62f0a10>"
       ]
      }
     ],
     "prompt_number": 73
    },
    {
     "cell_type": "code",
     "collapsed": false,
     "input": [],
     "language": "python",
     "metadata": {},
     "outputs": []
    }
   ],
   "metadata": {}
  }
 ]
}