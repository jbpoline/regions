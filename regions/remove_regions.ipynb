{
 "metadata": {
  "name": "",
  "signature": "sha256:706b31de715df2ce4a1d426dfe568ec46da1df9f29ff1f695956c47d98dfd4d0"
 },
 "nbformat": 3,
 "nbformat_minor": 0,
 "worksheets": [
  {
   "cells": [
    {
     "cell_type": "code",
     "collapsed": false,
     "input": [
      "%pylab inline --no-import-all\n",
      "import os\n",
      "import os.path as osp\n",
      "import sys\n",
      "import numpy as np\n",
      "import nibabel as nib\n",
      "from glob import glob\n",
      "import json\n",
      "import scipy.ndimage as ndi\n",
      "from __future__ import print_function\n"
     ],
     "language": "python",
     "metadata": {},
     "outputs": [
      {
       "output_type": "stream",
       "stream": "stdout",
       "text": [
        "Populating the interactive namespace from numpy and matplotlib\n"
       ]
      }
     ],
     "prompt_number": 1,
     "trusted": true
    },
    {
     "cell_type": "code",
     "collapsed": false,
     "input": [
      "HOME = osp.expanduser('~')\n",
      "ATLASDIR = osp.join(HOME,'code','regions','regions','atlases','jba','v02')\n",
      "fatlases = glob(osp.join(ATLASDIR, '*_????.nii'))\n",
      "#atlas = nib.load(atlasfilename)\n",
      "print(fatlases)"
     ],
     "language": "python",
     "metadata": {},
     "outputs": [
      {
       "output_type": "stream",
       "stream": "stdout",
       "text": [
        "['/home/jb/code/regions/regions/atlases/jba/v02/jba_1000.nii', '/home/jb/code/regions/regions/atlases/jba/v02/jba_0350.nii', '/home/jb/code/regions/regions/atlases/jba/v02/jba_0135.nii', '/home/jb/code/regions/regions/atlases/jba/v02/jba_0500.nii', '/home/jb/code/regions/regions/atlases/jba/v02/jba_2000.nii', '/home/jb/code/regions/regions/atlases/jba/v02/jba_0250.nii']\n"
       ]
      }
     ],
     "prompt_number": 3,
     "trusted": true
    },
    {
     "cell_type": "code",
     "collapsed": false,
     "input": [
      "fatjson = [osp.splitext(f)[0]+'.json' for f in fatlases ]\n",
      "fatlabel = [osp.splitext(f)[0]+'.labels.npy' for f in fatlases ]\n",
      "#fat1 = fatlases[1]\n",
      "#fatj = fatjson[1]\n",
      "#fatl = fatlabel[1]\n",
      "#print(fat1, fatj, fatl)"
     ],
     "language": "python",
     "metadata": {},
     "outputs": [],
     "prompt_number": 4,
     "trusted": true
    },
    {
     "cell_type": "code",
     "collapsed": false,
     "input": [
      "# The original atlas did not have a label.npy file associated - creating one\n",
      "to_process = 'jba_0135'\n",
      "idx = [i for (i,s) in enumerate(fatlases) if to_process in s][0]\n",
      "#print(fatjson[idx],fatlabel[idx])\n",
      "\n",
      "with open(fatjson[idx]) as f:\n",
      "    j_lab = json.load(f)\n",
      "\n",
      "ll = [[np.asarray([int(lab[0])]),lab] for lab in j_lab]\n",
      "np.save(fatlabel[idx], np.asarray(ll))\n"
     ],
     "language": "python",
     "metadata": {},
     "outputs": [],
     "prompt_number": 5,
     "trusted": true
    },
    {
     "cell_type": "code",
     "collapsed": false,
     "input": [
      "print('Checking the format of jba_0135 labels:')\n",
      "a = np.load(fatlabel[idx])\n",
      "print(a[:5])\n",
      "b = np.load(fatlabel[1])\n",
      "print(b[:5])"
     ],
     "language": "python",
     "metadata": {},
     "outputs": [
      {
       "output_type": "stream",
       "stream": "stdout",
       "text": [
        "Checking the format of jba_0135 labels:\n",
        "[[array([0]) [u'0', u'Left_Frontal Pole']]\n",
        " [array([1]) [u'1', u'Left_Insular Cortex']]\n",
        " [array([2]) [u'2', u'Left_Superior Frontal Gyrus']]\n",
        " [array([3]) [u'3', u'Left_Middle Frontal Gyrus']]\n",
        " [array([4]) [u'4', u'Left_Inferior Frontal Gyrus, pars triangularis']]]\n",
        "[[array([ 0,  1,  2,  3,  4,  5,  6,  7,  8,  9, 10, 11, 12])\n",
        "  [u'0', u'Left_Frontal Pole']]\n",
        " [array([13, 14]) [u'1', u'Left_Insular Cortex']]\n",
        " [array([15, 16, 17, 18, 19]) [u'2', u'Left_Superior Frontal Gyrus']]\n",
        " [array([20, 21, 22, 23]) [u'3', u'Left_Middle Frontal Gyrus']]\n",
        " [array([24]) [u'4', u'Left_Inferior Frontal Gyrus, pars triangularis']]]\n"
       ]
      }
     ],
     "prompt_number": 6,
     "trusted": true
    },
    {
     "cell_type": "code",
     "collapsed": false,
     "input": [
      "def searchin(labels, pattern, regex=False):\n",
      "    \"\"\"\n",
      "    return the list of roi index in which pattern is found in labels\n",
      "    labels : of the form [ [[array_of_new_labels] [u'old_lab' u'name']] ... ]\n",
      "    \"\"\"\n",
      "    \n",
      "    torm = a = []\n",
      "    torm = [ l[0] for l in labels if pattern in l[1][1] ] \n",
      "    \n",
      "    if len(torm):\n",
      "        a = torm[0]\n",
      "        for i,arr in enumerate(torm[1:]):\n",
      "            a = np.hstack((a, arr))\n",
      "    \n",
      "    return list(a)\n",
      "\"\"\"    \n",
      "    if not regex:\n",
      "        return([i for i in range(self.nrois) if pattern in self.labels[i]])\n",
      "    else:\n",
      "        import re\n",
      "        regsearch = [re.search(pattern, self.labels[i]) for i in range(self.nrois)]\n",
      "        return [i for (i,s) in enumerate(regsearch) if s != None]\n",
      "\"\"\";"
     ],
     "language": "python",
     "metadata": {},
     "outputs": [],
     "prompt_number": 7,
     "trusted": true
    },
    {
     "cell_type": "code",
     "collapsed": false,
     "input": [
      "\n",
      "def get_too_small(labels_img, min_size, debug=True):\n",
      "    \"\"\"\n",
      "    returns the list of labels number to be remove\n",
      "    \"\"\"\n",
      "    \n",
      "    maxlab = labels_img.max()\n",
      "    too_small = []\n",
      "\n",
      "    for lab in range(0,int(maxlab)+1):\n",
      "        lab_img = (labels_img==lab)\n",
      "        (cmpimg, lab_ncomp) = ndi.label(lab_img)\n",
      "        if lab_ncomp != 1:\n",
      "            print(\"\\n bloody hell \\n\")\n",
      "            break\n",
      "        cmpsize = [(cmpimg==1).sum()] \n",
      "        if debug:\n",
      "            print(\"label={:3d} lab_ncomp={:2d}\".format(lab,lab_ncomp), cmpsize)\n",
      "        if cmpsize[0] < min_size: too_small.append(lab)\n",
      "    \n",
      "    return too_small\n",
      "\n",
      "\n",
      "def print_labels(labels):\n",
      "    \"\"\"\n",
      "    \n",
      "    \"\"\"\n",
      "    maxlab = labels.max()\n",
      "\n",
      "    for lab in range(0,int(maxlab)+1):\n",
      "        lab_img = (labels==lab)\n",
      "        (cmpimg, lab_ncomp) = ndi.label(lab_img)\n",
      "        sortcomp = sorted([(cmpimg==ii).sum() \n",
      "                           for ii in range(1,lab_ncomp+1)], reverse=True)\n",
      "        print(\"label={:3d} lab_ncomp={:2d}\".format(lab,lab_ncomp), sortcomp)\n"
     ],
     "language": "python",
     "metadata": {},
     "outputs": [],
     "prompt_number": 8,
     "trusted": true
    },
    {
     "cell_type": "code",
     "collapsed": false,
     "input": [
      "def replace_labels(arr, lab2rep, repval, debug=True):\n",
      "    \"\"\"\n",
      "    Replace the list of labels lab2rep with the values in repvalues\n",
      "    \"\"\"\n",
      "    # F.... memmap \n",
      "    arr = np.asarray(arr)\n",
      "    \n",
      "    # repval can be a number : make a list of that number\n",
      "    if not hasattr(repval, '__iter__'):\n",
      "        repval = [repval]*len(list(lab2rep))\n",
      "    \n",
      "    #check same lenght\n",
      "    assert len(list(lab2rep)) == len(list(repval))\n",
      "    \n",
      "    for ii,lb in enumerate(lab2rep):\n",
      "        if debug:\n",
      "            print('moving {} to value {}:'.format(lb,repval[ii]))\n",
      "        arr = np.where(arr == lb, repval[ii], arr)\n",
      "    \n",
      "    print(type(arr))\n",
      "    \n",
      "    return arr"
     ],
     "language": "python",
     "metadata": {},
     "outputs": [],
     "prompt_number": 9,
     "trusted": true
    },
    {
     "cell_type": "code",
     "collapsed": false,
     "input": [
      "# do them all :\n",
      "\n",
      "def clean_one(niifile, labelfile, min_size=7, rm_str=['Ventri', 'White'], debug=True):\n",
      "    \"\"\"\n",
      "    \"\"\"\n",
      "    aimg = nib.load(niifile)\n",
      "    alab = np.load(labelfile)\n",
      "    aimg_arr = aimg.get_data()\n",
      "    \n",
      "    torm = []\n",
      "    # rm the labels with strings in rm_str \n",
      "    #   *** Attention: Ventricule / Ventricle *** \n",
      "    for patt in rm_str:\n",
      "        torm = torm + searchin(alab, patt)\n",
      "    \n",
      "    # rm regions too small\n",
      "    torm = torm + get_too_small(aimg_arr, min_size, debug=False)\n",
      "\n",
      "    #replace values in array\n",
      "    rmval = -1.0*np.asarray(torm)\n",
      "    aimg_arr = replace_labels(aimg_arr, torm, rmval, debug=False)\n",
      "    \n",
      "    if debug: print(\"processing {} removing {}\".format(niifile,torm))\n",
      "    \n",
      "    # save image on disk\n",
      "    cleanedimg = nib.Nifti1Image(aimg_arr, aimg.get_affine())\n",
      "    fname, fext = osp.splitext(niifile)\n",
      "    fname = fname+'_c'+'.nii'\n",
      "    cleanedimg.to_filename(fname)    \n",
      "    \n",
      "    print(\"writting {} \".format(fname))\n",
      "    \n",
      "    return None\n",
      "\n",
      "for f,g in zip(fatlases,fatlabel):\n",
      "    clean_one(f,g)\n",
      "    "
     ],
     "language": "python",
     "metadata": {},
     "outputs": [
      {
       "output_type": "stream",
       "stream": "stdout",
       "text": [
        "<type 'numpy.ndarray'>\n",
        "processing /home/jb/code/regions/regions/atlases/jba/v02/jba_1000.nii removing [677, 678, 679, 680, 681, 863, 864, 865, 866, 571, 572, 573, 574, 575, 576, 577, 578, 579, 580, 581, 582, 583, 584, 585, 586, 587, 588, 589, 590, 591, 592, 593, 594, 595, 596, 597, 598, 599, 600, 601, 602, 603, 604, 605, 606, 607, 608, 609, 610, 611, 612, 613, 614, 615, 616, 617, 618, 619, 620, 621, 622, 623, 624, 625, 626, 627, 628, 629, 630, 631, 632, 633, 634, 635, 636, 637, 638, 639, 640, 641, 642, 643, 644, 645, 646, 647, 648, 649, 650, 651, 652, 653, 654, 655, 656, 657, 658, 659, 660, 661, 662, 663, 664, 665, 666, 667, 668, 669, 670, 671, 672, 673, 674, 675, 676, 724, 725, 726, 727, 728, 729, 730, 731, 732, 733, 734, 735, 736, 737, 738, 739, 740, 741, 742, 743, 744, 745, 746, 747, 748, 749, 750, 751, 752, 753, 754, 755, 756, 757, 758, 759, 760, 761, 762, 763, 764, 765, 766, 767, 768, 769, 770, 771, 772, 773, 774, 775, 776, 777, 778, 779, 780, 781, 782, 783, 784, 785, 786, 787, 788, 789, 790, 791, 792, 793, 794, 795, 796, 797, 798, 799, 800, 801, 802, 803, 804, 805, 806, 807, 808, 809, 810, 811, 812, 813, 814, 815, 816, 817, 818, 819, 820, 821, 822, 823, 824, 825, 826, 827, 828, 829, 830, 831, 832, 833, 834, 835, 836, 837, 838, 839, 840, 841, 842, 843, 844, 845, 846, 847, 848, 849, 850, 851, 852, 853, 854, 855, 856, 857, 858, 859, 860, 861, 862, 928]\n",
        "writting /home/jb/code/regions/regions/atlases/jba/v02/jba_1000_c.nii \n",
        "<type 'numpy.ndarray'>"
       ]
      },
      {
       "output_type": "stream",
       "stream": "stdout",
       "text": [
        "\n",
        "processing /home/jb/code/regions/regions/atlases/jba/v02/jba_0350.nii removing [248, 249, 315, 211, 212, 213, 214, 215, 216, 217, 218, 219, 220, 221, 222, 223, 224, 225, 226, 227, 228, 229, 230, 231, 232, 233, 234, 235, 236, 237, 238, 239, 240, 241, 242, 243, 244, 245, 246, 247, 266, 267, 268, 269, 270, 271, 272, 273, 274, 275, 276, 277, 278, 279, 280, 281, 282, 283, 284, 285, 286, 287, 288, 289, 290, 291, 292, 293, 294, 295, 296, 297, 298, 299, 300, 301, 302, 303, 304, 305, 306, 307, 308, 309, 310, 311, 312, 313, 314, 339]\n",
        "writting /home/jb/code/regions/regions/atlases/jba/v02/jba_0350_c.nii \n",
        "<type 'numpy.ndarray'>"
       ]
      },
      {
       "output_type": "stream",
       "stream": "stdout",
       "text": [
        "\n",
        "processing /home/jb/code/regions/regions/atlases/jba/v02/jba_0135.nii removing [89, 99, 88, 98, 115]\n",
        "writting /home/jb/code/regions/regions/atlases/jba/v02/jba_0135_c.nii \n",
        "<type 'numpy.ndarray'>"
       ]
      },
      {
       "output_type": "stream",
       "stream": "stdout",
       "text": [
        "\n",
        "processing /home/jb/code/regions/regions/atlases/jba/v02/jba_0500.nii removing [346, 347, 441, 442, 293, 294, 295, 296, 297, 298, 299, 300, 301, 302, 303, 304, 305, 306, 307, 308, 309, 310, 311, 312, 313, 314, 315, 316, 317, 318, 319, 320, 321, 322, 323, 324, 325, 326, 327, 328, 329, 330, 331, 332, 333, 334, 335, 336, 337, 338, 339, 340, 341, 342, 343, 344, 345, 371, 372, 373, 374, 375, 376, 377, 378, 379, 380, 381, 382, 383, 384, 385, 386, 387, 388, 389, 390, 391, 392, 393, 394, 395, 396, 397, 398, 399, 400, 401, 402, 403, 404, 405, 406, 407, 408, 409, 410, 411, 412, 413, 414, 415, 416, 417, 418, 419, 420, 421, 422, 423, 424, 425, 426, 427, 428, 429, 430, 431, 432, 433, 434, 435, 436, 437, 438, 439, 440, 477]\n",
        "writting /home/jb/code/regions/regions/atlases/jba/v02/jba_0500_c.nii \n",
        "<type 'numpy.ndarray'>"
       ]
      },
      {
       "output_type": "stream",
       "stream": "stdout",
       "text": [
        "\n",
        "processing /home/jb/code/regions/regions/atlases/jba/v02/jba_2000.nii removing [1362, 1363, 1364, 1365, 1366, 1367, 1368, 1369, 1370, 1371, 1733, 1734, 1735, 1736, 1737, 1738, 1739, 1740, 1149, 1150, 1151, 1152, 1153, 1154, 1155, 1156, 1157, 1158, 1159, 1160, 1161, 1162, 1163, 1164, 1165, 1166, 1167, 1168, 1169, 1170, 1171, 1172, 1173, 1174, 1175, 1176, 1177, 1178, 1179, 1180, 1181, 1182, 1183, 1184, 1185, 1186, 1187, 1188, 1189, 1190, 1191, 1192, 1193, 1194, 1195, 1196, 1197, 1198, 1199, 1200, 1201, 1202, 1203, 1204, 1205, 1206, 1207, 1208, 1209, 1210, 1211, 1212, 1213, 1214, 1215, 1216, 1217, 1218, 1219, 1220, 1221, 1222, 1223, 1224, 1225, 1226, 1227, 1228, 1229, 1230, 1231, 1232, 1233, 1234, 1235, 1236, 1237, 1238, 1239, 1240, 1241, 1242, 1243, 1244, 1245, 1246, 1247, 1248, 1249, 1250, 1251, 1252, 1253, 1254, 1255, 1256, 1257, 1258, 1259, 1260, 1261, 1262, 1263, 1264, 1265, 1266, 1267, 1268, 1269, 1270, 1271, 1272, 1273, 1274, 1275, 1276, 1277, 1278, 1279, 1280, 1281, 1282, 1283, 1284, 1285, 1286, 1287, 1288, 1289, 1290, 1291, 1292, 1293, 1294, 1295, 1296, 1297, 1298, 1299, 1300, 1301, 1302, 1303, 1304, 1305, 1306, 1307, 1308, 1309, 1310, 1311, 1312, 1313, 1314, 1315, 1316, 1317, 1318, 1319, 1320, 1321, 1322, 1323, 1324, 1325, 1326, 1327, 1328, 1329, 1330, 1331, 1332, 1333, 1334, 1335, 1336, 1337, 1338, 1339, 1340, 1341, 1342, 1343, 1344, 1345, 1346, 1347, 1348, 1349, 1350, 1351, 1352, 1353, 1354, 1355, 1356, 1357, 1358, 1359, 1360, 1361, 1455, 1456, 1457, 1458, 1459, 1460, 1461, 1462, 1463, 1464, 1465, 1466, 1467, 1468, 1469, 1470, 1471, 1472, 1473, 1474, 1475, 1476, 1477, 1478, 1479, 1480, 1481, 1482, 1483, 1484, 1485, 1486, 1487, 1488, 1489, 1490, 1491, 1492, 1493, 1494, 1495, 1496, 1497, 1498, 1499, 1500, 1501, 1502, 1503, 1504, 1505, 1506, 1507, 1508, 1509, 1510, 1511, 1512, 1513, 1514, 1515, 1516, 1517, 1518, 1519, 1520, 1521, 1522, 1523, 1524, 1525, 1526, 1527, 1528, 1529, 1530, 1531, 1532, 1533, 1534, 1535, 1536, 1537, 1538, 1539, 1540, 1541, 1542, 1543, 1544, 1545, 1546, 1547, 1548, 1549, 1550, 1551, 1552, 1553, 1554, 1555, 1556, 1557, 1558, 1559, 1560, 1561, 1562, 1563, 1564, 1565, 1566, 1567, 1568, 1569, 1570, 1571, 1572, 1573, 1574, 1575, 1576, 1577, 1578, 1579, 1580, 1581, 1582, 1583, 1584, 1585, 1586, 1587, 1588, 1589, 1590, 1591, 1592, 1593, 1594, 1595, 1596, 1597, 1598, 1599, 1600, 1601, 1602, 1603, 1604, 1605, 1606, 1607, 1608, 1609, 1610, 1611, 1612, 1613, 1614, 1615, 1616, 1617, 1618, 1619, 1620, 1621, 1622, 1623, 1624, 1625, 1626, 1627, 1628, 1629, 1630, 1631, 1632, 1633, 1634, 1635, 1636, 1637, 1638, 1639, 1640, 1641, 1642, 1643, 1644, 1645, 1646, 1647, 1648, 1649, 1650, 1651, 1652, 1653, 1654, 1655, 1656, 1657, 1658, 1659, 1660, 1661, 1662, 1663, 1664, 1665, 1666, 1667, 1668, 1669, 1670, 1671, 1672, 1673, 1674, 1675, 1676, 1677, 1678, 1679, 1680, 1681, 1682, 1683, 1684, 1685, 1686, 1687, 1688, 1689, 1690, 1691, 1692, 1693, 1694, 1695, 1696, 1697, 1698, 1699, 1700, 1701, 1702, 1703, 1704, 1705, 1706, 1707, 1708, 1709, 1710, 1711, 1712, 1713, 1714, 1715, 1716, 1717, 1718, 1719, 1720, 1721, 1722, 1723, 1724, 1725, 1726, 1727, 1728, 1729, 1730, 1731, 1732, 1862]\n",
        "writting /home/jb/code/regions/regions/atlases/jba/v02/jba_2000_c.nii \n",
        "<type 'numpy.ndarray'>"
       ]
      },
      {
       "output_type": "stream",
       "stream": "stdout",
       "text": [
        "\n",
        "processing /home/jb/code/regions/regions/atlases/jba/v02/jba_0250.nii removing [184, 233, 157, 158, 159, 160, 161, 162, 163, 164, 165, 166, 167, 168, 169, 170, 171, 172, 173, 174, 175, 176, 177, 178, 179, 180, 181, 182, 183, 198, 199, 200, 201, 202, 203, 204, 205, 206, 207, 208, 209, 210, 211, 212, 213, 214, 215, 216, 217, 218, 219, 220, 221, 222, 223, 224, 225, 226, 227, 228, 229, 230, 231, 232, 253]\n",
        "writting /home/jb/code/regions/regions/atlases/jba/v02/jba_0250_c.nii \n"
       ]
      }
     ],
     "prompt_number": 11,
     "trusted": true
    }
   ],
   "metadata": {}
  }
 ]
}