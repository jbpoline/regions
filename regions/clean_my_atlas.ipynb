{
 "metadata": {
  "name": "",
  "signature": "sha256:0eb5310d163f2e764a313254d5289634467f7a008f82e729bec18ee8d978d321"
 },
 "nbformat": 3,
 "nbformat_minor": 0,
 "worksheets": [
  {
   "cells": [
    {
     "cell_type": "code",
     "collapsed": false,
     "input": [
      "# import mamba3D as m3d"
     ],
     "language": "python",
     "metadata": {},
     "outputs": [],
     "trusted": true
    },
    {
     "cell_type": "heading",
     "level": 2,
     "metadata": {},
     "source": [
      "Test morpho math -  3d image test with a hole"
     ]
    },
    {
     "cell_type": "code",
     "collapsed": false,
     "input": [
      "import os.path as osp\n",
      "import numpy as np\n",
      "import scipy.ndimage.morphology as mor\n",
      "import scipy.ndimage as ndi\n",
      "import nibabel as nib\n",
      "from __future__ import print_function\n",
      "import logging as logg"
     ],
     "language": "python",
     "metadata": {},
     "outputs": [],
     "prompt_number": 8,
     "trusted": true
    },
    {
     "cell_type": "code",
     "collapsed": false,
     "input": [
      "def make_testarr():\n",
      "    testarr = np.zeros((5,6,7), dtype=int)\n",
      "    testarr.fill(-1)\n",
      "    testarr[1:-1,1:3,1:-1] = 1\n",
      "    testarr[1:-1,3:5,1:-1] = 2\n",
      "    testarr[1:4,1:5,1:6] = 0\n",
      "    return testarr\n"
     ],
     "language": "python",
     "metadata": {},
     "outputs": [],
     "trusted": true
    },
    {
     "cell_type": "code",
     "collapsed": false,
     "input": [
      "testarr =  make_testarr()\n",
      "\n",
      "boule1 = mor.generate_binary_structure(3,1)"
     ],
     "language": "python",
     "metadata": {},
     "outputs": [],
     "trusted": true
    },
    {
     "cell_type": "code",
     "collapsed": false,
     "input": [
      "%run clean_atlas.py\n",
      "print(testarr)\n",
      "filledarr = fill_hole_mult_label(testarr, testarr==0, boule1, exclude=-1, loglevel=30);\n",
      "print(\"---------------\\n\",filledarr)"
     ],
     "language": "python",
     "metadata": {},
     "outputs": [],
     "trusted": true
    },
    {
     "cell_type": "code",
     "collapsed": false,
     "input": [
      "print(filledarr)"
     ],
     "language": "python",
     "metadata": {},
     "outputs": [],
     "trusted": true
    },
    {
     "cell_type": "code",
     "collapsed": false,
     "input": [
      "\"\"\"\n",
      "#print testarr[[0,1,2]]\n",
      "\n",
      "coo =  neigh_coords([1,1,1], boule1, testarr.shape)\n",
      "#print coo.T\n",
      "#print [(pt, testarr[pt.reshape((3,1))]) for pt in coo.T]\n",
      "\n",
      "pt = [2,4,1]\n",
      "print testarr[idxof(pt)].ravel()[0]\n",
      "print testarr[2,4,1]\n",
      "print valof(testarr, pt)\n",
      "\n",
      "sli = (slice(0,1,1),slice(1,2,1),slice(1,2,1))\n",
      "#print testarr[sli]\n",
      "\n",
      "sli = [slice(pt[i]) for i in range(coo.shape[0])]\n",
      "#print sli\n",
      "#print testarr[sli]\n",
      "\n",
      "neighcoords = np.asarray([pt for pt in coo.T if testarr[pt[0],pt[1],pt[2]] ]).T\n",
      "print neighcoords\n",
      "\"\"\";"
     ],
     "language": "python",
     "metadata": {},
     "outputs": [],
     "trusted": true
    },
    {
     "cell_type": "heading",
     "level": 2,
     "metadata": {},
     "source": [
      "Experimenting with logging"
     ]
    },
    {
     "cell_type": "code",
     "collapsed": false,
     "input": [
      "import logging as logg\n",
      "\n",
      "logg.basicConfig()\n",
      "LOG = logg.getLogger(\"fill_holes\")\n",
      "print(LOG.setLevel)\n",
      "LOG.setLevel(10)\n",
      "\n",
      "LOG.log(10, \"msg\")\n",
      "print(\"effective: \", LOG.getEffectiveLevel())\n",
      "print(\"log level: \", LOG.setLevel)"
     ],
     "language": "python",
     "metadata": {},
     "outputs": [],
     "trusted": true
    },
    {
     "cell_type": "code",
     "collapsed": false,
     "input": [
      "#logg.basicConfig()\n",
      "LOG = logg.getLogger(\"cleanAtlas\")\n",
      "print(logg.CRITICAL)\n",
      "toprnt = \"----------msg------------ val: {} -- \".format(LOG.setLevel)\n",
      "print(type(toprnt),toprnt)\n",
      "#LOG.log(LOG.setLevel,\"----------msg------------ {}\", LOG.setLevel)\n",
      "LOG.log(LOG.getEffectiveLevel(),toprnt)\n",
      "print(LOG.getEffectiveLevel())\n",
      "print(LOG.setLevel)\n",
      "LOG.setLevel(10)"
     ],
     "language": "python",
     "metadata": {},
     "outputs": [],
     "trusted": true
    },
    {
     "cell_type": "code",
     "collapsed": false,
     "input": [
      "logger = logg.getLogger(\"mylog\")\n",
      "logger.setLevel(logg.DEBUG)\n"
     ],
     "language": "python",
     "metadata": {},
     "outputs": [],
     "trusted": true
    },
    {
     "cell_type": "heading",
     "level": 2,
     "metadata": {},
     "source": [
      "scrap - testing"
     ]
    },
    {
     "cell_type": "code",
     "collapsed": false,
     "input": [
      "\"\"\"test2 = (testarr==1)\n",
      "test2[3,3,3] =1\n",
      "(imagelab, nlabel) = ndi.label(test2, boule1)\n",
      "\n",
      "print testarr\n",
      "coords = np.asarray(np.where(testarr == 0 ))\n",
      "print coords\n",
      "print testarr[[1,1,1]]\n",
      "print testarr[tuple([1,1,1])]\n",
      "print testarr.__getitem__??\n",
      "[(imagelab==lab).sum() for lab in np.arange(nlabel)+1]\n",
      "print (testarr==0).sum()\n",
      "zero_coo = np.where(testarr==0)\n",
      "print zero_coo\n",
      "print testarr[zero_coo]\n",
      "\"\"\";"
     ],
     "language": "python",
     "metadata": {},
     "outputs": [],
     "trusted": true
    },
    {
     "cell_type": "code",
     "collapsed": false,
     "input": [
      "#def translate_boule(point, boule):\n",
      "#    return (np.asarray(np.where(boule)).T + np.asarray(point)-1).T\n",
      "\n",
      "#def neigh_coord(point, boule, dim):\n",
      "#    translated = translate_boule(point, boule)\n",
      "#    #keep = np.where(translated.min(axis=0)>=0)[0]\n",
      "#    keep_pos = translated >= 0\n",
      "#    keep_small_than_dim = (translated.T - dim).T.max(axis=0) < 0\n",
      "#    keep_all = np.logical_and(keep_pos, keep_small_than_dim).all(axis=0)\n",
      "#    keep = np.where(keep_all)[0]\n",
      "\n",
      "#    return translated[:,keep]\n"
     ],
     "language": "python",
     "metadata": {},
     "outputs": [],
     "trusted": true
    },
    {
     "cell_type": "heading",
     "level": 2,
     "metadata": {},
     "source": [
      "scrap testing the fill_hole function"
     ]
    },
    {
     "cell_type": "code",
     "collapsed": false,
     "input": [
      "# interior boundary detection\n",
      "%run clean_atlas.py"
     ],
     "language": "python",
     "metadata": {},
     "outputs": [],
     "trusted": true
    },
    {
     "cell_type": "code",
     "collapsed": false,
     "input": [
      "bouleind = boule1.astype(int)\n",
      "bouleind.flatten()\n",
      "point = [10,10,10]\n",
      "translated = translate_struct(point, bouleind)\n",
      "print(np.asarray(np.where(bouleind)), '\\n', translated, '\\n')\n",
      "\n",
      "keep = np.where(translated >= 0)\n",
      "print(keep, \"\\n\")\n",
      "\n",
      "dim = [11,11,11]\n",
      "keep = np.where(np.logical_and( (translated.T - dim).T.max(axis=0) < 0,\n",
      "                                translated >= 0).all(axis=0))[0]\n",
      "print(keep, \"\\n\")\n",
      "#keep = [np.where(translated>=0)]\n",
      "keeptranslated = translated[:,keep]\n",
      "print(keeptranslated) \n",
      "print(neigh_coords(point, boule1, dim))"
     ],
     "language": "python",
     "metadata": {},
     "outputs": [],
     "trusted": true
    },
    {
     "cell_type": "code",
     "collapsed": false,
     "input": [
      "coords = neigh_coords([0,0,0], boule1, dim)\n",
      "print(coords, coords.shape)\n",
      "t = [coords[i] for i in range(coords.shape[0])]\n",
      "testarr[t]\n",
      "#testarr[coords[0],coords[1],coords[2]]"
     ],
     "language": "python",
     "metadata": {},
     "outputs": [],
     "trusted": true
    },
    {
     "cell_type": "code",
     "collapsed": false,
     "input": [
      "coords = np.asarray(get_border_coords(testarr>=-1,boule1))\n",
      "print(coords)\n",
      "pt = np.asarray([1,0,2])\n",
      "print(pt, point_is_in_coords(pt, rm_point_from_coords(pt, coords)))"
     ],
     "language": "python",
     "metadata": {},
     "outputs": [],
     "trusted": true
    },
    {
     "cell_type": "code",
     "collapsed": false,
     "input": [
      "u = [-1, 1, 0, 2, 3, 5, 5, 5, -1, -1]\n",
      "u = [v for v in u if v != 1]\n",
      "uu = np.unique(u)\n",
      "count = [(u==v).sum() for v in uu]\n",
      "print(count, uu)\n",
      "print(np.argmax(count), uu[np.argmax(count)])\n",
      "pt = [1,1,1]\n",
      "np.any(~(coords.T - pt).any(axis=1))\n",
      "print(np.asarray(coords).shape)"
     ],
     "language": "python",
     "metadata": {},
     "outputs": [],
     "trusted": true
    },
    {
     "cell_type": "heading",
     "level": 2,
     "metadata": {},
     "source": [
      "Clean up the original anatomical atlas"
     ]
    },
    {
     "cell_type": "markdown",
     "metadata": {},
     "source": [
      "get labels that are around the hole\n",
      "- get the blob\n",
      "- find its external boundary (Border of the image a pb?)\n",
      "- get the labels in the boundary\n",
      "- fill holes on lablels in the boundary\n",
      "- iterate fill holes on these labels\n",
      "\n",
      "Alternative:\n",
      "- get the blob\n",
      "- get the voxels at the boundary\n",
      "- for each, find the neighbourhood\n",
      "- what's the most common label in the neighborhood?\n",
      "- fill with that label\n",
      "- start again"
     ]
    },
    {
     "cell_type": "code",
     "collapsed": false,
     "input": [
      "from __future__ import print_function\n",
      "import os.path as osp\n",
      "import numpy as np\n",
      "import scipy.ndimage as ndi\n",
      "import scipy.ndimage.morphology as mor\n",
      "import nibabel as nib\n"
     ],
     "language": "python",
     "metadata": {},
     "outputs": [],
     "prompt_number": 69,
     "trusted": true
    },
    {
     "cell_type": "code",
     "collapsed": false,
     "input": [
      "HOME = osp.expanduser('~')\n",
      "ATLASDIR = osp.join(HOME,'code','regions','regions')\n",
      "atlasfilename = osp.join(ATLASDIR, 'CSC2mm.nii')\n",
      "cleanatlasfilename = osp.join(ATLASDIR, 'CSC2mm_v2.nii')\n",
      "atlas = nib.load(atlasfilename)"
     ],
     "language": "python",
     "metadata": {},
     "outputs": [],
     "prompt_number": 70,
     "trusted": true
    },
    {
     "cell_type": "code",
     "collapsed": false,
     "input": [
      "atlasarr = np.array(atlas.get_data()).astype(int)"
     ],
     "language": "python",
     "metadata": {},
     "outputs": [],
     "prompt_number": 71,
     "trusted": true
    },
    {
     "cell_type": "code",
     "collapsed": false,
     "input": [
      "labels = np.unique(atlasarr)\n",
      "maxlabel = labels.max()\n",
      "print(maxlabel)"
     ],
     "language": "python",
     "metadata": {},
     "outputs": [
      {
       "output_type": "stream",
       "stream": "stdout",
       "text": [
        "134\n"
       ]
      }
     ],
     "prompt_number": 72,
     "trusted": true
    },
    {
     "cell_type": "code",
     "collapsed": false,
     "input": [
      "labels_size = np.asarray([(atlasarr==lab).sum() \n",
      "                           for lab in np.arange(labels.max())+1])"
     ],
     "language": "python",
     "metadata": {},
     "outputs": [],
     "prompt_number": 73,
     "trusted": true
    },
    {
     "cell_type": "code",
     "collapsed": false,
     "input": [
      "print(len(labels_size))\n",
      "print(\" min {} max {}\".format(labels_size.min(), labels_size.max()))"
     ],
     "language": "python",
     "metadata": {},
     "outputs": [
      {
       "output_type": "stream",
       "stream": "stdout",
       "text": [
        "134\n",
        " min 2 max 37239\n"
       ]
      }
     ],
     "prompt_number": 74,
     "trusted": true
    },
    {
     "cell_type": "code",
     "collapsed": false,
     "input": [
      "arr12, n12 = ndi.label(atlasarr==12)\n",
      "print(n12, arr12.shape)\n",
      "regions_nb_comp = [ndi.label(atlasarr==lab)[1]\n",
      "                           for lab in range(int(labels.max()))]\n",
      "print(regions_nb_comp)"
     ],
     "language": "python",
     "metadata": {},
     "outputs": [
      {
       "output_type": "stream",
       "stream": "stdout",
       "text": [
        "4 (91, 109, 91)\n",
        "[5, 1, 12, 11, 4, 3, 2, 2, 1, 5, 2, 7, 4, 6, 5, 4, 3, 6, 1, 9, 8, 12, 7, 2, 2, 6, 2, 1, 3, 1, 8, 8, 2, 8, 3, 3, 5, 5, 2, 5, 3, 2, 4, 3, 2, 2, 5, 7, 11, 1, 12, 9, 3, 3, 12, 5, 1, 7, 3, 7, 4, 2, 6, 5, 3, 5, 5, 8, 6, 16, 8, 1, 2, 5, 2, 2, 2, 3, 2, 2, 3, 3, 1, 4, 1, 4, 3, 4, 22, 1, 2, 2, 1, 1, 2, 1, 2, 1, 21, 2, 1, 1, 1, 1, 1, 1, 1, 1, 2, 5, 7, 4, 3, 4, 2, 2, 7, 6, 2, 20, 10, 1, 11, 9, 3, 8, 9, 2, 7, 4, 3, 5, 2, 1]"
       ]
      },
      {
       "output_type": "stream",
       "stream": "stdout",
       "text": [
        "\n"
       ]
      }
     ],
     "prompt_number": 75,
     "trusted": true
    },
    {
     "cell_type": "code",
     "collapsed": false,
     "input": [
      "\"\"\"\n",
      "for lab in range(-1,int(labels.max())+2):\n",
      "    lab_img = (atlasarr==lab)\n",
      "    (cmpimg, lab_ncomp) = ndi.label(lab_img)\n",
      "    print(\"label={:3d} lab_ncomp={:2d}\".format(lab,lab_ncomp), \n",
      "                  sorted([(cmpimg==ii).sum() for ii in range(1,lab_ncomp+1)],reverse=True))\n",
      "\"\"\";"
     ],
     "language": "python",
     "metadata": {},
     "outputs": [],
     "prompt_number": 76,
     "trusted": true
    },
    {
     "cell_type": "code",
     "collapsed": false,
     "input": [
      "print([(atlasarr==lab).sum() for lab in [28,29,30]])"
     ],
     "language": "python",
     "metadata": {},
     "outputs": [
      {
       "output_type": "stream",
       "stream": "stdout",
       "text": [
        "[2199, 2107, 5373]\n"
       ]
      }
     ],
     "prompt_number": 77,
     "trusted": true
    },
    {
     "cell_type": "code",
     "collapsed": false,
     "input": [
      "import json\n",
      "fbase, ext = osp.splitext(atlasfilename)\n",
      "if osp.isfile(fbase+\"_full\"+\".json\"): fjson= fbase+\"_full.json\"\n",
      "with open(fjson) as f:\n",
      "    j_labels = json.load(f)\n",
      "    \n",
      "fbase, ext = osp.splitext(cleanatlasfilename)\n",
      "cleanjsonfname = fbase+\"_full.json\""
     ],
     "language": "python",
     "metadata": {},
     "outputs": [],
     "prompt_number": 78,
     "trusted": true
    },
    {
     "cell_type": "heading",
     "level": 3,
     "metadata": {},
     "source": [
      "Do it\n"
     ]
    },
    {
     "cell_type": "code",
     "collapsed": false,
     "input": [
      "%run clean_atlas.py\n",
      "tmparr = atlasarr.copy()\n",
      "tmparr = tmparr.astype(int)\n",
      "boule1 = mor.generate_binary_structure(3,1)\n",
      "print(np.infty)"
     ],
     "language": "python",
     "metadata": {},
     "outputs": [
      {
       "output_type": "stream",
       "stream": "stdout",
       "text": [
        "reloading clean atlas at 14-02-20-02-13-08 \n",
        "\n",
        "inf\n"
       ]
      }
     ],
     "prompt_number": 124,
     "trusted": true
    },
    {
     "cell_type": "code",
     "collapsed": false,
     "input": [
      "# loop over labels in [0:135]\n",
      "def fill_all(arr, labels, boule1, bckgrnd=-1, loglevel=100, maxcompsize=np.infty):\n",
      "\n",
      "    for lab in labels:\n",
      "        lab_img = (arr==lab)\n",
      "        (cmpimg, lab_ncomp) = ndi.label(lab_img)\n",
      "        cmp_size = np.asarray([(cmpimg==c).sum() for c in range(1,lab_ncomp+1)])\n",
      "        indices = np.argsort(cmp_size)\n",
      "        nbcomp = cmp_size.shape[0]\n",
      "        sort_cmp = np.arange(1,nbcomp+1)[indices]\n",
      "        cmp2rm = [sort_cmp[ii] for ii in range(nbcomp)\n",
      "                               if cmp_size[indices[ii]] < maxcompsize]\n",
      "        print(cmp_size, \"\\n sort comp\", sort_cmp, \"cmp2rm \", cmp2rm, \"size \", cmp_size[indices], \"\\n\")\n",
      "        \n",
      "        for cmp in sort_cmp[:-1]: # cmp2rm: #\n",
      "            #print(\"cmp: {}\".format(cmp))\n",
      "            mask = (cmpimg==cmp)\n",
      "            if mask.sum() < maxcompsize:\n",
      "                #print(\"mask.sum() {}\".format(mask.sum()))\n",
      "                arr = fill_hole_mult_label(arr, mask, boule1, \n",
      "                                           exclude=bckgrnd, loglevel=loglevel);\n",
      "\n",
      "    return arr"
     ],
     "language": "python",
     "metadata": {},
     "outputs": [],
     "prompt_number": 129,
     "trusted": true
    },
    {
     "cell_type": "code",
     "collapsed": false,
     "input": [
      "tmparr = fill_all(tmparr, range(0,maxlabel+1), boule1, loglevel=40)"
     ],
     "language": "python",
     "metadata": {},
     "outputs": [
      {
       "output_type": "stream",
       "stream": "stdout",
       "text": [
        "[9688] \n",
        " sort comp [1] cmp2rm  [1] size  [9688] \n",
        "\n",
        "[1334] \n",
        " sort comp [1] cmp2rm  [1] size  [1334] \n",
        "\n",
        "[3500] \n",
        " sort comp [1] cmp2rm  [1] size  [3500] \n",
        "\n",
        "[3437] \n",
        " sort comp [1] cmp2rm  [1] size  [3437] \n",
        "\n",
        "[842]"
       ]
      },
      {
       "output_type": "stream",
       "stream": "stdout",
       "text": [
        " \n",
        " sort comp [1] cmp2rm  [1] size  [842] \n",
        "\n",
        "[940] \n",
        " sort comp [1] cmp2rm  [1] size  [940] \n",
        "\n",
        "[4864] \n",
        " sort comp [1] cmp2rm  [1] size  [4864] \n",
        "\n",
        "[3744] \n",
        " sort comp [1] cmp2rm  [1] size  [3744] \n",
        "\n",
        "[418]"
       ]
      },
      {
       "output_type": "stream",
       "stream": "stdout",
       "text": [
        " \n",
        " sort comp [1] cmp2rm  [1] size  [418] \n",
        "\n",
        "[744] \n",
        " sort comp [1] cmp2rm  [1] size  [744] \n",
        "\n",
        "[645] \n",
        " sort comp [1] cmp2rm  [1] size  [645] \n",
        "\n",
        "[1706] \n",
        " sort comp [1] cmp2rm  [1] size  [1706] \n",
        "\n",
        "[1041]"
       ]
      },
      {
       "output_type": "stream",
       "stream": "stdout",
       "text": [
        " \n",
        " sort comp [1] cmp2rm  [1] size  [1041] \n",
        "\n",
        "[622] \n",
        " sort comp [1] cmp2rm  [1] size  [622] \n",
        "\n",
        "[1667] \n",
        " sort comp [1] cmp2rm  [1] size  [1667] \n",
        "\n",
        "[868] \n",
        " sort comp [1] cmp2rm  [1] size  [868] \n",
        "\n",
        "[4546]"
       ]
      },
      {
       "output_type": "stream",
       "stream": "stdout",
       "text": [
        " \n",
        " sort comp [1] cmp2rm  [1] size  [4546] \n",
        "\n",
        "[1705] \n",
        " sort comp [1] cmp2rm  [1] size  [1705] \n",
        "\n",
        "[1224] \n",
        " sort comp [1] cmp2rm  [1] size  [1224] \n",
        "\n",
        "[1389] \n",
        " sort comp [1] cmp2rm  [1] size  [1389] \n",
        "\n",
        "[1057]"
       ]
      },
      {
       "output_type": "stream",
       "stream": "stdout",
       "text": [
        " \n",
        " sort comp [1] cmp2rm  [1] size  [1057] \n",
        "\n",
        "[6189] \n",
        " sort comp [1] cmp2rm  [1] size  [6189] \n",
        "\n",
        "[2635] \n",
        " sort comp [1] cmp2rm  [1] size  [2635] \n",
        "\n",
        "[606] \n",
        " sort comp [1] cmp2rm  [1] size  [606] \n",
        "\n",
        "[1012]"
       ]
      },
      {
       "output_type": "stream",
       "stream": "stdout",
       "text": [
        " \n",
        " sort comp [1] cmp2rm  [1] size  [1012] \n",
        "\n",
        "[1480] \n",
        " sort comp [1] cmp2rm  [1] size  [1480] \n",
        "\n",
        "[1413] \n",
        " sort comp [1] cmp2rm  [1] size  [1413] \n",
        "\n",
        "[2642] \n",
        " sort comp [1] cmp2rm  [1] size  [2642] \n",
        "\n",
        "[2197]"
       ]
      },
      {
       "output_type": "stream",
       "stream": "stdout",
       "text": [
        " \n",
        " sort comp [1] cmp2rm  [1] size  [2197] \n",
        "\n",
        "[2109] \n",
        " sort comp [1] cmp2rm  [1] size  [2109] \n",
        "\n",
        "[5386] \n",
        " sort comp [1] cmp2rm  [1] size  [5386] \n",
        "\n",
        "[1165] \n",
        " sort comp [1] cmp2rm  [1] size  [1165] \n",
        "\n",
        "[2118]"
       ]
      },
      {
       "output_type": "stream",
       "stream": "stdout",
       "text": [
        " \n",
        " sort comp [1] cmp2rm  [1] size  [2118] \n",
        "\n",
        "[835] \n",
        " sort comp [1] cmp2rm  [1] size  [835] \n",
        "\n",
        "[390] \n",
        " sort comp [1] cmp2rm  [1] size  [390] \n",
        "\n",
        "[1295] \n",
        " sort comp [1] cmp2rm  [1] size  [1295] \n",
        "\n",
        "[534]"
       ]
      },
      {
       "output_type": "stream",
       "stream": "stdout",
       "text": [
        " \n",
        " sort comp [1] cmp2rm  [1] size  [534] \n",
        "\n",
        "[1082] \n",
        " sort comp [1] cmp2rm  [1] size  [1082] \n",
        "\n",
        "[508] \n",
        " sort comp [1] cmp2rm  [1] size  [508] \n",
        "\n",
        "[681] \n",
        " sort comp [1] cmp2rm  [1] size  [681] \n",
        "\n",
        "[350]"
       ]
      },
      {
       "output_type": "stream",
       "stream": "stdout",
       "text": [
        " \n",
        " sort comp [1] cmp2rm  [1] size  [350] \n",
        "\n",
        "[949] \n",
        " sort comp [1] cmp2rm  [1] size  [949] \n",
        "\n",
        "[534] \n",
        " sort comp [1] cmp2rm  [1] size  [534] \n",
        "\n",
        "[363] \n",
        " sort comp [1] cmp2rm  [1] size  [363] \n",
        "\n",
        "[297]"
       ]
      },
      {
       "output_type": "stream",
       "stream": "stdout",
       "text": [
        " \n",
        " sort comp [1] cmp2rm  [1] size  [297] \n",
        "\n",
        "[563] \n",
        " sort comp [1] cmp2rm  [1] size  [563] \n",
        "\n",
        "[38] \n",
        " sort comp [1] cmp2rm  [1] size  [38] \n",
        "\n",
        "[4399] \n",
        " sort comp [1] cmp2rm  [1] size  [4399] \n",
        "\n",
        "[11044]"
       ]
      },
      {
       "output_type": "stream",
       "stream": "stdout",
       "text": [
        " \n",
        " sort comp [1] cmp2rm  [1] size  [11044] \n",
        "\n",
        "[1225] \n",
        " sort comp [1] cmp2rm  [1] size  [1225] \n",
        "\n",
        "[3241] \n",
        " sort comp [1] cmp2rm  [1] size  [3241] \n",
        "\n",
        "[2667] \n",
        " sort comp [1] cmp2rm  [1] size  [2667] \n",
        "\n",
        "[720]"
       ]
      },
      {
       "output_type": "stream",
       "stream": "stdout",
       "text": [
        " \n",
        " sort comp [1] cmp2rm  [1] size  [720] \n",
        "\n",
        "[706] \n",
        " sort comp [1] cmp2rm  [1] size  [706] \n",
        "\n",
        "[4319] \n",
        " sort comp [1] cmp2rm  [1] size  [4319] \n",
        "\n",
        "[3581] \n",
        " sort comp [1] cmp2rm  [1] size  [3581] \n",
        "\n",
        "[359]"
       ]
      },
      {
       "output_type": "stream",
       "stream": "stdout",
       "text": [
        " \n",
        " sort comp [1] cmp2rm  [1] size  [359] \n",
        "\n",
        "[646] \n",
        " sort comp [1] cmp2rm  [1] size  [646] \n",
        "\n",
        "[569] \n",
        " sort comp [1] cmp2rm  [1] size  [569] \n",
        "\n",
        "[1581] \n",
        " sort comp [1] cmp2rm  [1] size  [1581] \n",
        "\n",
        "[1131]"
       ]
      },
      {
       "output_type": "stream",
       "stream": "stdout",
       "text": [
        " \n",
        " sort comp [1] cmp2rm  [1] size  [1131] \n",
        "\n",
        "[472] \n",
        " sort comp [1] cmp2rm  [1] size  [472] \n",
        "\n",
        "[1548] \n",
        " sort comp [1] cmp2rm  [1] size  [1548] \n",
        "\n",
        "[944] \n",
        " sort comp [1] cmp2rm  [1] size  [944] \n",
        "\n",
        "[3572]"
       ]
      },
      {
       "output_type": "stream",
       "stream": "stdout",
       "text": [
        " \n",
        " sort comp [1] cmp2rm  [1] size  [3572] \n",
        "\n",
        "[1432] \n",
        " sort comp [1] cmp2rm  [1] size  [1432] \n",
        "\n",
        "[900] \n",
        " sort comp [1] cmp2rm  [1] size  [900] \n",
        "\n",
        "[1247] \n",
        " sort comp [1] cmp2rm  [1] size  [1247] \n",
        "\n",
        "[1461]"
       ]
      },
      {
       "output_type": "stream",
       "stream": "stdout",
       "text": [
        " \n",
        " sort comp [1] cmp2rm  [1] size  [1461] \n",
        "\n",
        "[5427] \n",
        " sort comp [1] cmp2rm  [1] size  [5427] \n",
        "\n",
        "[2431] \n",
        " sort comp [1] cmp2rm  [1] size  [2431] \n",
        "\n",
        "[555] \n",
        " sort comp [1] cmp2rm  [1] size  [555] \n",
        "\n",
        "[1780]"
       ]
      },
      {
       "output_type": "stream",
       "stream": "stdout",
       "text": [
        " \n",
        " sort comp [1] cmp2rm  [1] size  [1780] \n",
        "\n",
        "[903] \n",
        " sort comp [1] cmp2rm  [1] size  [903] \n",
        "\n",
        "[302] \n",
        " sort comp [1] cmp2rm  [1] size  [302] \n",
        "\n",
        "[1458] \n",
        " sort comp [1] cmp2rm  [1] size  [1458] \n",
        "\n",
        "[474]"
       ]
      },
      {
       "output_type": "stream",
       "stream": "stdout",
       "text": [
        " \n",
        " sort comp [1] cmp2rm  [1] size  [474] \n",
        "\n",
        "[984] \n",
        " sort comp [1] cmp2rm  [1] size  [984] \n",
        "\n",
        "[531] \n",
        " sort comp [1] cmp2rm  [1] size  [531] \n",
        "\n",
        "[610] \n",
        " sort comp [1] cmp2rm  [1] size  [610] \n",
        "\n",
        "[266]"
       ]
      },
      {
       "output_type": "stream",
       "stream": "stdout",
       "text": [
        " \n",
        " sort comp [1] cmp2rm  [1] size  [266] \n",
        "\n",
        "[774] \n",
        " sort comp [1] cmp2rm  [1] size  [774] \n",
        "\n",
        "[440] \n",
        " sort comp [1] cmp2rm  [1] size  [440] \n",
        "\n",
        "[301] \n",
        " sort comp [1] cmp2rm  [1] size  [301] \n",
        "\n",
        "[225]"
       ]
      },
      {
       "output_type": "stream",
       "stream": "stdout",
       "text": [
        " \n",
        " sort comp [1] cmp2rm  [1] size  [225] \n",
        "\n",
        "[330] \n",
        " sort comp [1] cmp2rm  [1] size  [330] \n",
        "\n",
        "[144] \n",
        " sort comp [1] cmp2rm  [1] size  [144] \n",
        "\n",
        "[4317] \n",
        " sort comp [1] cmp2rm  [1] size  [4317] \n",
        "\n",
        "[28458]"
       ]
      },
      {
       "output_type": "stream",
       "stream": "stdout",
       "text": [
        " \n",
        " sort comp [1] cmp2rm  [1] size  [28458] \n",
        "\n",
        "[1296] \n",
        " sort comp [1] cmp2rm  [1] size  [1296] \n",
        "\n",
        "[1591] \n",
        " sort comp [1] cmp2rm  [1] size  [1591] \n",
        "\n",
        "[571] \n",
        " sort comp [1] cmp2rm  [1] size  [571] \n",
        "\n",
        "[944]"
       ]
      },
      {
       "output_type": "stream",
       "stream": "stdout",
       "text": [
        " \n",
        " sort comp [1] cmp2rm  [1] size  [944] \n",
        "\n",
        "[312] \n",
        " sort comp [1] cmp2rm  [1] size  [312] \n",
        "\n",
        "[6226] \n",
        " sort comp [1] cmp2rm  [1] size  [6226] \n",
        "\n",
        "[900] \n",
        " sort comp [1] cmp2rm  [1] size  [900] \n",
        "\n",
        "[441]"
       ]
      },
      {
       "output_type": "stream",
       "stream": "stdout",
       "text": [
        " \n",
        " sort comp [1] cmp2rm  [1] size  [441] \n",
        "\n",
        "[146] \n",
        " sort comp [1] cmp2rm  [1] size  [146] \n",
        "\n",
        "[37246] \n",
        " sort comp [1] cmp2rm  [1] size  [37246] \n",
        "\n",
        "[1024] \n",
        " sort comp [1] cmp2rm  [1] size  [1024] \n",
        "\n",
        "[1402]"
       ]
      },
      {
       "output_type": "stream",
       "stream": "stdout",
       "text": [
        " \n",
        " sort comp [1] cmp2rm  [1] size  [1402] \n",
        "\n",
        "[515] \n",
        " sort comp [1] cmp2rm  [1] size  [515] \n",
        "\n",
        "[824] \n",
        " sort comp [1] cmp2rm  [1] size  [824] \n",
        "\n",
        "[266] \n",
        " sort comp [1] cmp2rm  [1] size  [266] \n",
        "\n",
        "[778]"
       ]
      },
      {
       "output_type": "stream",
       "stream": "stdout",
       "text": [
        " \n",
        " sort comp [1] cmp2rm  [1] size  [778] \n",
        "\n",
        "[477] \n",
        " sort comp [1] cmp2rm  [1] size  [477] \n",
        "\n",
        "[101] \n",
        " sort comp [1] cmp2rm  [1] size  [101] \n",
        "\n",
        "[1012] \n",
        " sort comp [1] cmp2rm  [1] size  [1012] \n",
        "\n",
        "[1043]"
       ]
      },
      {
       "output_type": "stream",
       "stream": "stdout",
       "text": [
        " \n",
        " sort comp [1] cmp2rm  [1] size  [1043] \n",
        "\n",
        "[867] \n",
        " sort comp [1] cmp2rm  [1] size  [867] \n",
        "\n",
        "[883] \n",
        " sort comp [1] cmp2rm  [1] size  [883] \n",
        "\n",
        "[2087] \n",
        " sort comp [1] cmp2rm  [1] size  [2087] \n",
        "\n",
        "[440]"
       ]
      },
      {
       "output_type": "stream",
       "stream": "stdout",
       "text": [
        " \n",
        " sort comp [1] cmp2rm  [1] size  [440] \n",
        "\n",
        "[1878] \n",
        " sort comp [1] cmp2rm  [1] size  [1878] \n",
        "\n",
        "[3482] \n",
        " sort comp [1] cmp2rm  [1] size  [3482] \n",
        "\n",
        "[1] \n",
        " sort comp [1] cmp2rm  [1] size  [1] \n",
        "\n",
        "[3493]"
       ]
      },
      {
       "output_type": "stream",
       "stream": "stdout",
       "text": [
        " \n",
        " sort comp [1] cmp2rm  [1] size  [3493] \n",
        "\n",
        "[2666] \n",
        " sort comp [1] cmp2rm  [1] size  [2666] \n",
        "\n",
        "[75] \n",
        " sort comp [1] cmp2rm  [1] size  [75] \n",
        "\n",
        "[2768] \n",
        " sort comp [1] cmp2rm  [1] size  [2768] \n",
        "\n",
        "[1139]"
       ]
      },
      {
       "output_type": "stream",
       "stream": "stdout",
       "text": [
        " \n",
        " sort comp [1] cmp2rm  [1] size  [1139] \n",
        "\n",
        "[28] \n",
        " sort comp [1] cmp2rm  [1] size  [28] \n",
        "\n",
        "[1225] \n",
        " sort comp [1] cmp2rm  [1] size  [1225] \n",
        "\n",
        "[1195] \n",
        " sort comp [1] cmp2rm  [1] size  [1195] \n",
        "\n",
        "[278]"
       ]
      },
      {
       "output_type": "stream",
       "stream": "stdout",
       "text": [
        " \n",
        " sort comp [1] cmp2rm  [1] size  [278] \n",
        "\n",
        "[1167] \n",
        " sort comp [1] cmp2rm  [1] size  [1167] \n",
        "\n",
        "[1203] \n",
        " sort comp [1] cmp2rm  [1] size  [1203] \n",
        "\n",
        "[102] \n",
        " sort comp [1] cmp2rm  [1] size  [102] \n",
        "\n",
        "[1057]"
       ]
      },
      {
       "output_type": "stream",
       "stream": "stderr",
       "text": [
        "CRITICAL:clean_atlas: nb of points in border 1 of hole size 1 array val 129\n"
       ]
      },
      {
       "output_type": "stream",
       "stream": "stderr",
       "text": [
        "CRITICAL:clean_atlas:--------  exit ----------------------- \n"
       ]
      },
      {
       "output_type": "stream",
       "stream": "stdout",
       "text": [
        " \n",
        " sort comp [1] cmp2rm  [1] size  [1057] \n",
        "\n",
        "[931   1] \n",
        " sort comp [2 1] cmp2rm  [2, 1] size  [  1 931] \n",
        "\n",
        "[151]"
       ]
      },
      {
       "output_type": "stream",
       "stream": "stdout",
       "text": [
        " \n",
        " sort comp [1] cmp2rm  [1] size  [151] \n",
        "\n",
        "[930] \n",
        " sort comp [1] cmp2rm  [1] size  [930] \n",
        "\n",
        "[258] \n",
        " sort comp [1] cmp2rm  [1] size  [258] \n",
        "\n",
        "[72] \n",
        " sort comp [1] cmp2rm  [1] size  [72] \n",
        "\n",
        "[249]"
       ]
      },
      {
       "output_type": "stream",
       "stream": "stdout",
       "text": [
        " \n",
        " sort comp [1] cmp2rm  [1] size  [249] \n",
        "\n"
       ]
      }
     ],
     "prompt_number": 130,
     "trusted": true
    },
    {
     "cell_type": "code",
     "collapsed": false,
     "input": [
      "for lab in range(-1,int(labels.max())+2):\n",
      "    lab_img = (tmparr==lab)\n",
      "    (cmpimg, lab_ncomp) = ndi.label(lab_img)\n",
      "    print(\"label={:3d} lab_ncomp={:2d}\".format(lab,lab_ncomp), \n",
      "                  sorted([(cmpimg==ii).sum() for ii in range(1,lab_ncomp+1)],reverse=True))"
     ],
     "language": "python",
     "metadata": {},
     "outputs": [
      {
       "output_type": "stream",
       "stream": "stdout",
       "text": [
        "label= -1 lab_ncomp= 4 [634310, 381, 344, 12]\n",
        "label=  0 lab_ncomp= 1 [9688]\n",
        "label=  1 lab_ncomp= 1 [1334]\n",
        "label=  2 lab_ncomp= 1 [3500]\n",
        "label=  3 lab_ncomp= 1"
       ]
      },
      {
       "output_type": "stream",
       "stream": "stdout",
       "text": [
        " [3437]\n",
        "label=  4 lab_ncomp= 1 [842]\n",
        "label=  5 lab_ncomp= 1 [940]\n",
        "label=  6 lab_ncomp= 1 [4864]\n",
        "label=  7 lab_ncomp= 1"
       ]
      },
      {
       "output_type": "stream",
       "stream": "stdout",
       "text": [
        " [3745]\n",
        "label=  8 lab_ncomp= 1 [418]\n",
        "label=  9 lab_ncomp= 1 [744]\n",
        "label= 10 lab_ncomp= 1 [645]\n",
        "label= 11 lab_ncomp= 1"
       ]
      },
      {
       "output_type": "stream",
       "stream": "stdout",
       "text": [
        " [1706]\n",
        "label= 12 lab_ncomp= 1 [1041]\n",
        "label= 13 lab_ncomp= 1 [622]\n",
        "label= 14 lab_ncomp= 1 [1667]\n",
        "label= 15 lab_ncomp= 1 [868]\n",
        "label= 16 lab_ncomp= 1"
       ]
      },
      {
       "output_type": "stream",
       "stream": "stdout",
       "text": [
        " [4546]\n",
        "label= 17 lab_ncomp= 1 [1705]\n",
        "label= 18 lab_ncomp= 1 [1224]\n",
        "label= 19 lab_ncomp= 1 [1389]\n",
        "label= 20 lab_ncomp= 1 [1057]\n",
        "label= 21 lab_ncomp= 1"
       ]
      },
      {
       "output_type": "stream",
       "stream": "stdout",
       "text": [
        " [6189]\n",
        "label= 22 lab_ncomp= 1 [2635]\n",
        "label= 23 lab_ncomp= 1 [606]\n",
        "label= 24 lab_ncomp= 1 [1012]\n",
        "label= 25 lab_ncomp= 1 [1480]\n",
        "label= 26 lab_ncomp= 1"
       ]
      },
      {
       "output_type": "stream",
       "stream": "stdout",
       "text": [
        " [1413]\n",
        "label= 27 lab_ncomp= 1 [2642]\n",
        "label= 28 lab_ncomp= 1 [2197]\n",
        "label= 29 lab_ncomp= 1 [2109]\n",
        "label= 30 lab_ncomp= 1 [5386]\n",
        "label= 31 lab_ncomp= 1"
       ]
      },
      {
       "output_type": "stream",
       "stream": "stdout",
       "text": [
        " [1165]\n",
        "label= 32 lab_ncomp= 1 [2118]\n",
        "label= 33 lab_ncomp= 1 [835]\n",
        "label= 34 lab_ncomp= 1 [390]\n",
        "label= 35 lab_ncomp= 1 [1295]\n",
        "label= 36 lab_ncomp= 1"
       ]
      },
      {
       "output_type": "stream",
       "stream": "stdout",
       "text": [
        " [534]\n",
        "label= 37 lab_ncomp= 1 [1082]\n",
        "label= 38 lab_ncomp= 1 [508]\n",
        "label= 39 lab_ncomp= 1 [681]\n",
        "label= 40 lab_ncomp= 1 [350]\n",
        "label= 41 lab_ncomp= 1"
       ]
      },
      {
       "output_type": "stream",
       "stream": "stdout",
       "text": [
        " [949]\n",
        "label= 42 lab_ncomp= 1 [534]\n",
        "label= 43 lab_ncomp= 1 [363]\n",
        "label= 44 lab_ncomp= 1 [297]\n",
        "label= 45 lab_ncomp= 1 [563]\n",
        "label= 46 lab_ncomp= 1"
       ]
      },
      {
       "output_type": "stream",
       "stream": "stdout",
       "text": [
        " [38]\n",
        "label= 47 lab_ncomp= 1 [4399]\n",
        "label= 48 lab_ncomp= 1 [11044]\n",
        "label= 49 lab_ncomp= 1 [1225]\n",
        "label= 50 lab_ncomp= 1 [3241]\n",
        "label= 51 lab_ncomp= 1"
       ]
      },
      {
       "output_type": "stream",
       "stream": "stdout",
       "text": [
        " [2667]\n",
        "label= 52 lab_ncomp= 1 [720]\n",
        "label= 53 lab_ncomp= 1 [706]\n",
        "label= 54 lab_ncomp= 1 [4319]\n",
        "label= 55 lab_ncomp= 1"
       ]
      },
      {
       "output_type": "stream",
       "stream": "stdout",
       "text": [
        " [3581]\n",
        "label= 56 lab_ncomp= 1 [359]\n",
        "label= 57 lab_ncomp= 1 [646]\n",
        "label= 58 lab_ncomp= 1 [569]\n",
        "label= 59 lab_ncomp= 1 [1581]\n",
        "label= 60 lab_ncomp= 1"
       ]
      },
      {
       "output_type": "stream",
       "stream": "stdout",
       "text": [
        " [1131]\n",
        "label= 61 lab_ncomp= 1 [472]\n",
        "label= 62 lab_ncomp= 1 [1548]\n",
        "label= 63 lab_ncomp= 1 [944]\n",
        "label= 64 lab_ncomp= 1"
       ]
      },
      {
       "output_type": "stream",
       "stream": "stdout",
       "text": [
        " [3572]\n",
        "label= 65 lab_ncomp= 1 [1432]\n",
        "label= 66 lab_ncomp= 1 [900]\n",
        "label= 67 lab_ncomp= 1 [1247]\n",
        "label= 68 lab_ncomp= 1 [1461]\n",
        "label= 69 lab_ncomp= 1"
       ]
      },
      {
       "output_type": "stream",
       "stream": "stdout",
       "text": [
        " [5427]\n",
        "label= 70 lab_ncomp= 1 [2431]\n",
        "label= 71 lab_ncomp= 1 [555]\n",
        "label= 72 lab_ncomp= 1 [1780]\n",
        "label= 73 lab_ncomp= 1 [903]"
       ]
      },
      {
       "output_type": "stream",
       "stream": "stdout",
       "text": [
        "\n",
        "label= 74 lab_ncomp= 1 [302]\n",
        "label= 75 lab_ncomp= 1 [1458]\n",
        "label= 76 lab_ncomp= 1 [474]\n",
        "label= 77 lab_ncomp= 1 [984]\n",
        "label= 78 lab_ncomp= 1"
       ]
      },
      {
       "output_type": "stream",
       "stream": "stdout",
       "text": [
        " [531]\n",
        "label= 79 lab_ncomp= 1 [610]\n",
        "label= 80 lab_ncomp= 1 [266]\n",
        "label= 81 lab_ncomp= 1 [774]\n",
        "label= 82 lab_ncomp= 1 [440]\n",
        "label= 83 lab_ncomp= 1"
       ]
      },
      {
       "output_type": "stream",
       "stream": "stdout",
       "text": [
        " [301]\n",
        "label= 84 lab_ncomp= 1 [225]\n",
        "label= 85 lab_ncomp= 1 [330]\n",
        "label= 86 lab_ncomp= 1 [144]\n",
        "label= 87 lab_ncomp= 1 [4317]\n",
        "label= 88 lab_ncomp= 1"
       ]
      },
      {
       "output_type": "stream",
       "stream": "stdout",
       "text": [
        " [28458]\n",
        "label= 89 lab_ncomp= 1 [1296]\n",
        "label= 90 lab_ncomp= 1 [1591]\n",
        "label= 91 lab_ncomp= 1 [571]\n",
        "label= 92 lab_ncomp= 1 [944]\n",
        "label= 93 lab_ncomp= 1"
       ]
      },
      {
       "output_type": "stream",
       "stream": "stdout",
       "text": [
        " [312]\n",
        "label= 94 lab_ncomp= 1 [6229]\n",
        "label= 95 lab_ncomp= 1 [900]\n",
        "label= 96 lab_ncomp= 1 [441]\n",
        "label= 97 lab_ncomp= 1 [146]\n",
        "label= 98 lab_ncomp= 1"
       ]
      },
      {
       "output_type": "stream",
       "stream": "stdout",
       "text": [
        " [37248]\n",
        "label= 99 lab_ncomp= 1 [1024]\n",
        "label=100 lab_ncomp= 1 [1402]\n",
        "label=101 lab_ncomp= 1 [515]\n",
        "label=102 lab_ncomp= 1 [824]\n",
        "label=103 lab_ncomp= 1"
       ]
      },
      {
       "output_type": "stream",
       "stream": "stdout",
       "text": [
        " [266]\n",
        "label=104 lab_ncomp= 1 [778]\n",
        "label=105 lab_ncomp= 1 [477]\n",
        "label=106 lab_ncomp= 1 [101]\n",
        "label=107 lab_ncomp= 1 [1012]\n",
        "label=108 lab_ncomp= 1"
       ]
      },
      {
       "output_type": "stream",
       "stream": "stdout",
       "text": [
        " [1043]\n",
        "label=109 lab_ncomp= 1 [867]\n",
        "label=110 lab_ncomp= 1 [886]\n",
        "label=111 lab_ncomp= 1 [2087]\n",
        "label=112 lab_ncomp= 1 [440]\n",
        "label=113 lab_ncomp= 1"
       ]
      },
      {
       "output_type": "stream",
       "stream": "stdout",
       "text": [
        " [1879]\n",
        "label=114 lab_ncomp= 1 [3482]\n",
        "label=115 lab_ncomp= 1 [1]\n",
        "label=116 lab_ncomp= 1 [3493]\n",
        "label=117 lab_ncomp= 1 [2666]\n",
        "label=118 lab_ncomp= 1"
       ]
      },
      {
       "output_type": "stream",
       "stream": "stdout",
       "text": [
        " [75]\n",
        "label=119 lab_ncomp= 1 [2768]\n",
        "label=120 lab_ncomp= 1 [1139]\n",
        "label=121 lab_ncomp= 1 [28]\n",
        "label=122 lab_ncomp= 1 [1225]\n",
        "label=123 lab_ncomp= 1"
       ]
      },
      {
       "output_type": "stream",
       "stream": "stdout",
       "text": [
        " [1195]\n",
        "label=124 lab_ncomp= 1 [278]\n",
        "label=125 lab_ncomp= 1 [1167]\n",
        "label=126 lab_ncomp= 1 [1204]\n",
        "label=127 lab_ncomp= 1 [102]\n",
        "label=128 lab_ncomp= 1"
       ]
      },
      {
       "output_type": "stream",
       "stream": "stdout",
       "text": [
        " [1057]\n",
        "label=129 lab_ncomp= 1 [931]\n",
        "label=130 lab_ncomp= 1 [151]\n",
        "label=131 lab_ncomp= 1 [935]\n",
        "label=132 lab_ncomp= 1 [258]\n",
        "label=133 lab_ncomp= 1"
       ]
      },
      {
       "output_type": "stream",
       "stream": "stdout",
       "text": [
        " [72]\n",
        "label=134 lab_ncomp= 1 [249]\n",
        "label=135 lab_ncomp= 0 []\n"
       ]
      }
     ],
     "prompt_number": 134,
     "trusted": true
    },
    {
     "cell_type": "code",
     "collapsed": false,
     "input": [
      "tmparr = fill_all(tmparr, [129], boule1, bckgrnd=None, loglevel=40)"
     ],
     "language": "python",
     "metadata": {},
     "outputs": [
      {
       "output_type": "stream",
       "stream": "stderr",
       "text": [
        "CRITICAL:clean_atlas: nb of points in border 1 of hole size 1 array val 129\n"
       ]
      },
      {
       "output_type": "stream",
       "stream": "stderr",
       "text": [
        "CRITICAL:clean_atlas: fill with labels : [-1]\n"
       ]
      },
      {
       "output_type": "stream",
       "stream": "stderr",
       "text": [
        "CRITICAL:clean_atlas:--------  exit ----------------------- \n"
       ]
      },
      {
       "output_type": "stream",
       "stream": "stdout",
       "text": [
        "[931   1] \n",
        " sort comp [2 1] cmp2rm  [2, 1] size  [  1 931] \n",
        "\n"
       ]
      }
     ],
     "prompt_number": 131,
     "trusted": true
    },
    {
     "cell_type": "code",
     "collapsed": false,
     "input": [
      "tmparr = fill_all(tmparr, [-1], boule1, bckgrnd=None, loglevel=40,  maxcompsize=12)"
     ],
     "language": "python",
     "metadata": {},
     "outputs": [
      {
       "output_type": "stream",
       "stream": "stderr",
       "text": [
        "CRITICAL:clean_atlas: nb of points in border 1 of hole size 1 array val -1\n"
       ]
      },
      {
       "output_type": "stream",
       "stream": "stderr",
       "text": [
        "CRITICAL:clean_atlas: fill with labels : [94]\n"
       ]
      },
      {
       "output_type": "stream",
       "stream": "stderr",
       "text": [
        "CRITICAL:clean_atlas:--------  exit ----------------------- \n"
       ]
      },
      {
       "output_type": "stream",
       "stream": "stderr",
       "text": [
        "CRITICAL:clean_atlas: nb of points in border 1 of hole size 1 array val -1\n"
       ]
      },
      {
       "output_type": "stream",
       "stream": "stderr",
       "text": [
        "CRITICAL:clean_atlas: fill with labels : [131]\n"
       ]
      },
      {
       "output_type": "stream",
       "stream": "stderr",
       "text": [
        "CRITICAL:clean_atlas:--------  exit ----------------------- \n"
       ]
      },
      {
       "output_type": "stream",
       "stream": "stderr",
       "text": [
        "CRITICAL:clean_atlas: nb of points in border 1 of hole size 1 array val -1\n"
       ]
      },
      {
       "output_type": "stream",
       "stream": "stderr",
       "text": [
        "CRITICAL:clean_atlas: fill with labels : [131]\n"
       ]
      },
      {
       "output_type": "stream",
       "stream": "stderr",
       "text": [
        "CRITICAL:clean_atlas:--------  exit ----------------------- \n"
       ]
      },
      {
       "output_type": "stream",
       "stream": "stderr",
       "text": [
        "CRITICAL:clean_atlas: nb of points in border 1 of hole size 1 array val -1\n"
       ]
      },
      {
       "output_type": "stream",
       "stream": "stderr",
       "text": [
        "CRITICAL:clean_atlas: fill with labels : [126]\n"
       ]
      },
      {
       "output_type": "stream",
       "stream": "stderr",
       "text": [
        "CRITICAL:clean_atlas:--------  exit ----------------------- \n"
       ]
      },
      {
       "output_type": "stream",
       "stream": "stderr",
       "text": [
        "CRITICAL:clean_atlas: nb of points in border 1 of hole size 1 array val -1\n"
       ]
      },
      {
       "output_type": "stream",
       "stream": "stderr",
       "text": [
        "CRITICAL:clean_atlas: fill with labels : [7]\n"
       ]
      },
      {
       "output_type": "stream",
       "stream": "stderr",
       "text": [
        "CRITICAL:clean_atlas:--------  exit ----------------------- \n"
       ]
      },
      {
       "output_type": "stream",
       "stream": "stderr",
       "text": [
        "CRITICAL:clean_atlas: nb of points in border 2 of hole size 2 array val -1\n"
       ]
      },
      {
       "output_type": "stream",
       "stream": "stderr",
       "text": [
        "CRITICAL:clean_atlas: fill with labels : [94, 94]\n"
       ]
      },
      {
       "output_type": "stream",
       "stream": "stderr",
       "text": [
        "CRITICAL:clean_atlas:--------  exit ----------------------- \n"
       ]
      },
      {
       "output_type": "stream",
       "stream": "stderr",
       "text": [
        "CRITICAL:clean_atlas: nb of points in border 2 of hole size 2 array val -1\n"
       ]
      },
      {
       "output_type": "stream",
       "stream": "stderr",
       "text": [
        "CRITICAL:clean_atlas: fill with labels : [98, 98]\n"
       ]
      },
      {
       "output_type": "stream",
       "stream": "stderr",
       "text": [
        "CRITICAL:clean_atlas:--------  exit ----------------------- \n"
       ]
      },
      {
       "output_type": "stream",
       "stream": "stderr",
       "text": [
        "CRITICAL:clean_atlas: nb of points in border 3 of hole size 3 array val -1\n"
       ]
      },
      {
       "output_type": "stream",
       "stream": "stderr",
       "text": [
        "CRITICAL:clean_atlas: fill with labels : [113, 131, 131]\n"
       ]
      },
      {
       "output_type": "stream",
       "stream": "stderr",
       "text": [
        "CRITICAL:clean_atlas:--------  exit ----------------------- \n"
       ]
      },
      {
       "output_type": "stream",
       "stream": "stderr",
       "text": [
        "CRITICAL:clean_atlas: nb of points in border 4 of hole size 4 array val -1\n"
       ]
      },
      {
       "output_type": "stream",
       "stream": "stderr",
       "text": [
        "CRITICAL:clean_atlas: fill with labels : [110, 110, 131, 110]\n"
       ]
      },
      {
       "output_type": "stream",
       "stream": "stderr",
       "text": [
        "CRITICAL:clean_atlas:--------  exit ----------------------- \n"
       ]
      },
      {
       "output_type": "stream",
       "stream": "stdout",
       "text": [
        "[634310    344      3      2      1      1      4      2      1     12\n",
        "    381      1      1] \n",
        " sort comp [ 5  6  9 12 13  4  8  3  7 10  2 11  1] cmp2rm  [5, 6, 9, 12, 13, 4, 8, 3, 7] size  [     1      1      1      1      1      2      2      3      4     12\n",
        "    344    381 634310] \n",
        "\n"
       ]
      }
     ],
     "prompt_number": 133,
     "trusted": true
    },
    {
     "cell_type": "code",
     "collapsed": false,
     "input": [
      "tmparr.dtype"
     ],
     "language": "python",
     "metadata": {},
     "outputs": [
      {
       "metadata": {},
       "output_type": "pyout",
       "prompt_number": 135,
       "text": [
        "dtype('int64')"
       ]
      }
     ],
     "prompt_number": 135,
     "trusted": true
    },
    {
     "cell_type": "code",
     "collapsed": false,
     "input": [
      "img = nib.Nifti1Image(tmparr, atlas.get_affine())\n",
      "nib.save(img, cleanatlasfilename)"
     ],
     "language": "python",
     "metadata": {},
     "outputs": [],
     "prompt_number": 136,
     "trusted": true
    },
    {
     "cell_type": "code",
     "collapsed": false,
     "input": [],
     "language": "python",
     "metadata": {},
     "outputs": [],
     "trusted": true
    }
   ],
   "metadata": {}
  }
 ]
}