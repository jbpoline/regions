{
 "metadata": {
  "name": ""
 },
 "nbformat": 3,
 "nbformat_minor": 0,
 "worksheets": [
  {
   "cells": [
    {
     "cell_type": "heading",
     "level": 1,
     "metadata": {},
     "source": [
      "Constructing an atlas!"
     ]
    },
    {
     "cell_type": "code",
     "collapsed": false,
     "input": [
      "%pylab inline"
     ],
     "language": "python",
     "metadata": {},
     "outputs": [
      {
       "output_type": "stream",
       "stream": "stdout",
       "text": [
        "Populating the interactive namespace from numpy and matplotlib\n"
       ]
      }
     ],
     "prompt_number": 1
    },
    {
     "cell_type": "code",
     "collapsed": false,
     "input": [
      "import nibabel as nib\n",
      "import numpy as np\n",
      "import os\n",
      "import os.path as osp\n",
      "import matplotlib.pyplot as plt"
     ],
     "language": "python",
     "metadata": {},
     "outputs": [],
     "prompt_number": 2
    },
    {
     "cell_type": "code",
     "collapsed": false,
     "input": [
      "def show_imgs(imgs, pos, titles=None, cmap=\"gray\", interp=\"nearest\"):\n",
      "    \"\"\"\n",
      "    \"\"\"\n",
      "    \n",
      "    Nimg = len(imgs)\n",
      "    \n",
      "    if (titles is None):\n",
      "        titles = ['No title']*Nimg \n",
      "    \n",
      "    if not isinstance(pos, list):\n",
      "        pos = [pos]*Nimg\n",
      "        \n",
      "    fig, ax = plt.subplots(1,Nimg)\n",
      "    \n",
      "    for ix,im in enumerate(imgs):\n",
      "        if hasattr(im, \"get_data\") and callable(getattr(im, \"get_data\")):\n",
      "            data = im.get_data()\n",
      "        else: #assume im is a 3d array\n",
      "            data = im         \n",
      "        \n",
      "        ax[ix].imshow(data[pos[ix]], cmap=cmap, interpolation=interp)\n",
      "        ax[ix].get_xaxis().set_ticks([])\n",
      "        ax[ix].get_yaxis().set_ticks([])\n",
      "        ax[ix].set_title(titles[ix])"
     ],
     "language": "python",
     "metadata": {},
     "outputs": [],
     "prompt_number": 3
    },
    {
     "cell_type": "code",
     "collapsed": false,
     "input": [
      "USER = osp.expanduser('~')\n",
      "#IMGDIR = osp.join(USER,'code','atlas','img')\n",
      "IMGDIR = osp.join(USER,'code','regions','regions','atlases')\n",
      "FSLCort = osp.join(IMGDIR,\"HarvardOxford-cort-prob-2mm.nii.gz\")\n",
      "FSLSub = osp.join(IMGDIR,\"HarvardOxford-sub-prob-2mm.nii.gz\")\n",
      "#MNI = osp.join(IMGDIR,\"MNI-prob-2mm.nii.gz\")\n",
      "fslcort = nib.load(FSLCort)\n",
      "fslsub = nib.load(FSLSub)\n",
      "#mni = nib.load(MNI)"
     ],
     "language": "python",
     "metadata": {},
     "outputs": [],
     "prompt_number": 4
    },
    {
     "cell_type": "code",
     "collapsed": false,
     "input": [
      "data = fslcort.get_data().astype(\"float\") / 100.0\n",
      "print data.dtype"
     ],
     "language": "python",
     "metadata": {},
     "outputs": [
      {
       "output_type": "stream",
       "stream": "stdout",
       "text": [
        "float64\n"
       ]
      }
     ],
     "prompt_number": 5
    },
    {
     "cell_type": "code",
     "collapsed": false,
     "input": [
      "print fslcort.get_affine()\n",
      "print data.shape\n",
      "print [(data[...,vol].min(), data[...,vol].max()) for vol in range(data.shape[3])]\n",
      "plt.imshow(data[:, :, 30,32], cmap=\"gray\")\n",
      "#print data[10:20,5,30,32]"
     ],
     "language": "python",
     "metadata": {},
     "outputs": [
      {
       "output_type": "stream",
       "stream": "stdout",
       "text": [
        "[[  -2.    0.    0.   90.]\n",
        " [   0.    2.    0. -126.]\n",
        " [   0.    0.    2.  -72.]\n",
        " [   0.    0.    0.    1.]]\n",
        "(91, 109, 91, 48)\n",
        "[(0.0, 0.94999999999999996), (0.0, 0.91000000000000003), (0.0, 0.78000000000000003), (0.0, 0.81999999999999995), (0.0, 0.68999999999999995), (0.0, 0.80000000000000004), (0.0, 0.82999999999999996), (0.0, 0.88), (0.0, 0.69999999999999996), (0.0, 0.79000000000000004), (0.0, 0.76000000000000001), (0.0, 0.87), (0.0, 0.87), (0.0, 0.73999999999999999), (0.0, 0.75), (0.0, 0.81999999999999995), (0.0, 0.84999999999999998), (0.0, 0.72999999999999998), (0.0, 0.81999999999999995), (0.0, 0.71999999999999997), (0.0, 0.83999999999999997), (0.0, 0.91000000000000003), (0.0, 0.90000000000000002), (0.0, 0.72999999999999998), (0.0, 0.95999999999999996), (0.0, 0.84999999999999998), (0.0, 0.96999999999999997), (0.0, 0.85999999999999999), (0.0, 0.96999999999999997), (0.0, 0.97999999999999998), (0.0, 0.95999999999999996), (0.0, 0.83999999999999997), (0.0, 0.94999999999999996), (0.0, 0.88), (0.0, 0.81999999999999995), (0.0, 0.87), (0.0, 0.71999999999999997), (0.0, 0.89000000000000001), (0.0, 0.88), (0.0, 0.76000000000000001), (0.0, 0.76000000000000001), (0.0, 0.83999999999999997), (0.0, 0.78000000000000003), (0.0, 0.72999999999999998), (0.0, 0.68000000000000005), (0.0, 0.68000000000000005), (0.0, 0.56000000000000005), (0.0, 0.77000000000000002)]"
       ]
      },
      {
       "output_type": "stream",
       "stream": "stdout",
       "text": [
        "\n"
       ]
      },
      {
       "metadata": {},
       "output_type": "pyout",
       "prompt_number": 8,
       "text": [
        "<matplotlib.image.AxesImage at 0x370f790>"
       ]
      },
      {
       "metadata": {},
       "output_type": "display_data",
       "png": "[encoded data removed]",
       "text": [
        "<matplotlib.figure.Figure at 0x36e4b10>"
       ]
      }
     ],
     "prompt_number": 8
    },
    {
     "cell_type": "code",
     "collapsed": false,
     "input": [
      "condition = (data <= .05) \n",
      "mask_outside = np.where(condition, 1, 0)\n",
      "# mask_outside = np.where(, 1, 0)\n",
      "\n",
      "print mask_outside.shape\n",
      "mask3d_outside = mask_outside.prod(axis=3)\n",
      "print mask3d_outside.max(), mask3d_outside.min()\n",
      "#a = [data[:,:,:,i].max() for i in range(48)]"
     ],
     "language": "python",
     "metadata": {},
     "outputs": [
      {
       "output_type": "stream",
       "stream": "stdout",
       "text": [
        "(91, 109, 91, 48)\n",
        "1 0\n"
       ]
      }
     ],
     "prompt_number": 9
    },
    {
     "cell_type": "code",
     "collapsed": false,
     "input": [
      "pos = [slice(None), slice(None), 30]\n",
      "plt.imshow(mask3d_outside[pos], cmap=\"gray\", interpolation=\"nearest\")"
     ],
     "language": "python",
     "metadata": {},
     "outputs": [
      {
       "metadata": {},
       "output_type": "pyout",
       "prompt_number": 10,
       "text": [
        "<matplotlib.image.AxesImage at 0x4046a10>"
       ]
      },
      {
       "metadata": {},
       "output_type": "display_data",
       "png": "[encoded data removed]",
       "text": [
        "<matplotlib.figure.Figure at 0x3694dd0>"
       ]
      }
     ],
     "prompt_number": 10
    },
    {
     "cell_type": "code",
     "collapsed": false,
     "input": [
      "labels = data.argmax(axis=3)\n",
      "print labels.shape\n",
      "print mask3d_outside.shape\n",
      "labels_cort = np.where(mask3d_outside==1,-1,labels)\n",
      "print labels_cort.max(), labels_cort.min()"
     ],
     "language": "python",
     "metadata": {},
     "outputs": [
      {
       "output_type": "stream",
       "stream": "stdout",
       "text": [
        "(91, 109, 91)\n",
        "(91, 109, 91)\n",
        "47 -1\n"
       ]
      }
     ],
     "prompt_number": 11
    },
    {
     "cell_type": "code",
     "collapsed": false,
     "input": [
      "x,y,z = 25,35,25\n",
      "pos = [[x, slice(None), slice(None)],\n",
      "       [slice(None), y, slice(None)],\n",
      "       [slice(None), slice(None), z]]\n",
      "\n",
      "titles = [\"sagittal\", \"coronal\", \"axial\"]\n",
      "# print [k for k in plt.cm.datad.keys() if not k.endswith('_r')]\n",
      "\n",
      "#plt.imshow(labels_cort[pos], cmap=\"flag\", interpolation=\"nearest\")\n",
      "show_imgs([labels_cort]*3, pos[::-1], cmap=\"jet\", titles=titles[::-1])\n"
     ],
     "language": "python",
     "metadata": {},
     "outputs": [
      {
       "metadata": {},
       "output_type": "display_data",
       "png": "[encoded data removed]",
       "text": [
        "<matplotlib.figure.Figure at 0x402f810>"
       ]
      }
     ],
     "prompt_number": 12
    },
    {
     "cell_type": "code",
     "collapsed": false,
     "input": [
      "data = fslsub.get_data()\n",
      "data = data.astype(\"float\") \n",
      "minmax = [(data[...,vol].min(), data[...,vol].max()) for vol in range(data.shape[3])]  \n",
      "print minmax\n",
      "\n",
      "# indices of Left and Rigth Cereb White matter and cereb cortex\n",
      "idx = [i for i in range(data.shape[3]) if i not in [0,1,11,12]]\n",
      "data = data[...,idx]\n",
      "\n",
      "#print fslsub.get_affine()\n",
      "mask_outside = np.where(data <= 0, 1, 0)\n",
      "print mask_outside.shape\n",
      "mask3d_outside = mask_outside.prod(axis=3)\n",
      "labels = data.argmax(axis=3)\n",
      "labels_sub = np.where(mask3d_outside==1,-1,labels)\n",
      "print labels_sub.min(), labels_sub.max()"
     ],
     "language": "python",
     "metadata": {},
     "outputs": [
      {
       "output_type": "stream",
       "stream": "stdout",
       "text": [
        "[(0.0, 100.0), (0.0, 98.0), (0.0, 98.0), (0.0, 100.0), (0.0, 97.0), (0.0, 100.0), (0.0, 99.0), (0.0, 100.0), (0.0, 99.0), (0.0, 98.0), (0.0, 90.0), (0.0, 100.0), (0.0, 100.0), (0.0, 100.0), (0.0, 100.0), (0.0, 99.0), (0.0, 100.0), (0.0, 100.0), (0.0, 100.0), (0.0, 100.0), (0.0, 92.0)]\n",
        "(91, 109, 91, 17)"
       ]
      },
      {
       "output_type": "stream",
       "stream": "stdout",
       "text": [
        "\n",
        "-1"
       ]
      },
      {
       "output_type": "stream",
       "stream": "stdout",
       "text": [
        " 16\n"
       ]
      }
     ],
     "prompt_number": 13
    },
    {
     "cell_type": "code",
     "collapsed": false,
     "input": [
      "x,y,z = 25,35,25\n",
      "pos = [[x, slice(None), slice(None)],\n",
      "       [slice(None), y, slice(None)],\n",
      "       [slice(None), slice(None), z]]\n",
      "\n",
      "show_imgs([labels_sub]*3, pos[::-1], cmap=\"jet\", titles=titles[::-1])\n",
      "\n",
      "#tmp = np.where(labels_sub==1 ,1, -1) # + np.where(labels_sub==10 ,1, -1)\n",
      "#show_imgs([tmp, tmp, tmp], pos[::-1], cmap=\"jet\", titles=titles[::-1])\n",
      "\n",
      "#plt.imshow(tmp[pos], cmap=\"jet\", interpolation=\"nearest\")"
     ],
     "language": "python",
     "metadata": {},
     "outputs": [
      {
       "metadata": {},
       "output_type": "display_data",
       "png": "[encoded data removed]",
       "text": [
        "<matplotlib.figure.Figure at 0x402f810>"
       ]
      }
     ],
     "prompt_number": 14
    },
    {
     "cell_type": "code",
     "collapsed": false,
     "input": [
      "import regions as reg"
     ],
     "language": "python",
     "metadata": {},
     "outputs": [],
     "prompt_number": 15
    },
    {
     "cell_type": "code",
     "collapsed": false,
     "input": [
      "reg.__version__\n"
     ],
     "language": "python",
     "metadata": {},
     "outputs": [
      {
       "metadata": {},
       "output_type": "pyout",
       "prompt_number": 16,
       "text": [
        "'0.111'"
       ]
      }
     ],
     "prompt_number": 16
    },
    {
     "cell_type": "code",
     "collapsed": false,
     "input": [
      "cort = reg.helpers.harvard_oxford_atlas('cort')"
     ],
     "language": "python",
     "metadata": {},
     "outputs": [],
     "prompt_number": 17
    },
    {
     "cell_type": "code",
     "collapsed": false,
     "input": [
      "print cort.label_map\n"
     ],
     "language": "python",
     "metadata": {},
     "outputs": [
      {
       "output_type": "stream",
       "stream": "stdout",
       "text": [
        "{0: 'Frontal Pole', 1: 'Insular Cortex', 2: 'Superior Frontal Gyrus', 3: 'Middle Frontal Gyrus', 4: 'Inferior Frontal Gyrus, pars triangularis', 5: 'Inferior Frontal Gyrus, pars opercularis', 6: 'Precentral Gyrus', 7: 'Temporal Pole', 8: 'Superior Temporal Gyrus, anterior division', 9: 'Superior Temporal Gyrus, posterior division', 10: 'Middle Temporal Gyrus, anterior division', 11: 'Middle Temporal Gyrus, posterior division', 12: 'Middle Temporal Gyrus, temporooccipital part', 13: 'Inferior Temporal Gyrus, anterior division', 14: 'Inferior Temporal Gyrus, posterior division', 15: 'Inferior Temporal Gyrus, temporooccipital part', 16: 'Postcentral Gyrus', 17: 'Superior Parietal Lobule', 18: 'Supramarginal Gyrus, anterior division', 19: 'Supramarginal Gyrus, posterior division', 20: 'Angular Gyrus', 21: 'Lateral Occipital Cortex, superior division', 22: 'Lateral Occipital Cortex, inferior division', 23: 'Intracalcarine Cortex', 24: 'Frontal Medial Cortex', 25: 'Juxtapositional Lobule Cortex (formerly Supplementary Motor Cortex)', 26: 'Subcallosal Cortex', 27: 'Paracingulate Gyrus', 28: 'Cingulate Gyrus, anterior division', 29: 'Cingulate Gyrus, posterior division', 30: 'Precuneous Cortex', 31: 'Cuneal Cortex', 32: 'Frontal Orbital Cortex', 33: 'Parahippocampal Gyrus, anterior division', 34: 'Parahippocampal Gyrus, posterior division', 35: 'Lingual Gyrus', 36: 'Temporal Fusiform Cortex, anterior division', 37: 'Temporal Fusiform Cortex, posterior division', 38: 'Temporal Occipital Fusiform Cortex', 39: 'Occipital Fusiform Gyrus', 40: 'Frontal Operculum Cortex', 41: 'Central Opercular Cortex', 42: 'Parietal Operculum Cortex', 43: 'Planum Polare', 44: \"Heschl's Gyrus (includes H1 and H2)\", 45: 'Planum Temporale', 46: 'Supracalcarine Cortex', 47: 'Occipital Pole'}\n"
       ]
      }
     ],
     "prompt_number": 18
    },
    {
     "cell_type": "code",
     "collapsed": false,
     "input": [
      "import os.path as osp\n",
      "\n",
      "files_path = osp.abspath(reg.__file__)\n",
      "_atlases = osp.join(osp.split(files_path)[0], 'atlases')\n",
      "print files_path\n"
     ],
     "language": "python",
     "metadata": {},
     "outputs": [
      {
       "output_type": "stream",
       "stream": "stdout",
       "text": [
        "/home/jb/code/regions/regions/__init__.pyc\n"
       ]
      }
     ],
     "prompt_number": 19
    },
    {
     "cell_type": "code",
     "collapsed": false,
     "input": [
      "#region_path = osp.split(files_path)[0]\n",
      "#prob_atlas = osp.join(region_path, 'prob_atlas.py')\n",
      "#print prob_atlas"
     ],
     "language": "python",
     "metadata": {},
     "outputs": [],
     "prompt_number": 20
    },
    {
     "cell_type": "code",
     "collapsed": false,
     "input": [
      "USER = osp.expanduser('~')\n",
      "IMGDIR = osp.join(USER,'code','regions','regions','atlases')\n",
      "FSLCort = osp.join(IMGDIR,\"HarvardOxford-cort-prob-2mm.nii.gz\")\n",
      "xmllabels = '%s/HarvardOxford-Cortical.xml' % IMGDIR\n",
      "fslcort = nib.load(FSLCort)\n",
      "data = fslcort.get_data().astype(\"float\") / 100.0\n",
      "affine = fslcort.get_affine()\n",
      "print data.dtype"
     ],
     "language": "python",
     "metadata": {},
     "outputs": [
      {
       "output_type": "stream",
       "stream": "stdout",
       "text": [
        "float64\n"
       ]
      }
     ],
     "prompt_number": 21
    },
    {
     "cell_type": "heading",
     "level": 2,
     "metadata": {},
     "source": [
      "Import Cortical atlas"
     ]
    },
    {
     "cell_type": "code",
     "collapsed": false,
     "input": [
      "#del C, d, a, l\n",
      "%run /home/jb/code/regions/regions/prob_atlas.py"
     ],
     "language": "python",
     "metadata": {},
     "outputs": [
      {
       "output_type": "stream",
       "stream": "stdout",
       "text": [
        "reloading ProbAtlas\n",
        "\n"
       ]
      }
     ],
     "prompt_number": 22
    },
    {
     "cell_type": "code",
     "collapsed": false,
     "input": [],
     "language": "python",
     "metadata": {},
     "outputs": [],
     "prompt_number": 22
    },
    {
     "cell_type": "code",
     "collapsed": false,
     "input": [
      "IMGDIR = osp.join(USER,'code','regions','regions','atlases')\n",
      "atlas_file = 'HarvardOxford-cort-prob-1mm.nii.gz'\n",
      "atlas_labels = 'HarvardOxford-Cortical.xml'\n",
      "\n",
      "(d, a, l) = load_atlas(atlas_file, IMGDIR, atlas_labels)"
     ],
     "language": "python",
     "metadata": {},
     "outputs": [],
     "prompt_number": 23
    },
    {
     "cell_type": "code",
     "collapsed": false,
     "input": [
      "#print l\n",
      "\n",
      "d = d/100. # make it probability"
     ],
     "language": "python",
     "metadata": {},
     "outputs": [],
     "prompt_number": 24
    },
    {
     "cell_type": "code",
     "collapsed": false,
     "input": [
      "C = ProbAtlas(d, a, l)\n",
      "#print C.labels\n",
      "print C.shape\n",
      "# print C.labels\n",
      "\n"
     ],
     "language": "python",
     "metadata": {},
     "outputs": [
      {
       "output_type": "stream",
       "stream": "stdout",
       "text": [
        "(182, 218, 182, 48)\n"
       ]
      }
     ],
     "prompt_number": 25
    },
    {
     "cell_type": "code",
     "collapsed": false,
     "input": [
      "msk = C.mask(.25)"
     ],
     "language": "python",
     "metadata": {},
     "outputs": [],
     "prompt_number": 26
    },
    {
     "cell_type": "code",
     "collapsed": false,
     "input": [
      "pos = [slice(None), slice(None), 60]\n",
      "plt.imshow(msk[pos], cmap=\"gray\", interpolation=\"nearest\")"
     ],
     "language": "python",
     "metadata": {},
     "outputs": [
      {
       "metadata": {},
       "output_type": "pyout",
       "prompt_number": 27,
       "text": [
        "<matplotlib.image.AxesImage at 0x8c8cd50>"
       ]
      },
      {
       "metadata": {},
       "output_type": "display_data",
       "png": "[encoded data removed]",
       "text": [
        "<matplotlib.figure.Figure at 0x404a910>"
       ]
      }
     ],
     "prompt_number": 27
    },
    {
     "cell_type": "code",
     "collapsed": false,
     "input": [
      "#a = np.ones((2,3,2))\n",
      "\n",
      "b = np.ones((2,3,4))\n",
      "b[0,0,:] = -1.\n",
      "print b\n",
      "print b>0\n",
      "print (b > 0).sum(axis=2)\n",
      "print (b > 0).all(axis=2)\n",
      "print (b > 0).any(axis=2)\n",
      "hasattr([1,3],'__iter__')"
     ],
     "language": "python",
     "metadata": {},
     "outputs": [
      {
       "output_type": "stream",
       "stream": "stdout",
       "text": [
        "[[[-1. -1. -1. -1.]\n",
        "  [ 1.  1.  1.  1.]\n",
        "  [ 1.  1.  1.  1.]]\n",
        "\n",
        " [[ 1.  1.  1.  1.]\n",
        "  [ 1.  1.  1.  1.]\n",
        "  [ 1.  1.  1.  1.]]]\n",
        "[[[False False False False]\n",
        "  [ True  True  True  True]\n",
        "  [ True  True  True  True]]\n",
        "\n",
        " [[ True  True  True  True]\n",
        "  [ True  True  True  True]\n",
        "  [ True  True  True  True]]]\n",
        "[[0 4 4]\n",
        " [4 4 4]]\n",
        "[[False  True  True]\n",
        " [ True  True  True]]\n",
        "[[False  True  True]\n",
        " [ True  True  True]]\n"
       ]
      },
      {
       "metadata": {},
       "output_type": "pyout",
       "prompt_number": 28,
       "text": [
        "True"
       ]
      }
     ],
     "prompt_number": 28
    },
    {
     "cell_type": "code",
     "collapsed": false,
     "input": [
      "data = d[...,24]\n",
      "print data.shape\n",
      "\n",
      "x,y,z = 91,175,45\n",
      "pos = [[x, slice(None), slice(None)],\n",
      "       [slice(None), y, slice(None)],\n",
      "       [slice(None), slice(None), z]]\n",
      "\n",
      "titles = [\"sagittal\", \"coronal\", \"axial\"]\n",
      "# print [k for k in plt.cm.datad.keys() if not k.endswith('_r')]\n",
      "\n",
      "#plt.imshow(labels_cort[pos], cmap=\"flag\", interpolation=\"nearest\")\n",
      "show_imgs([data]*3, pos[::-1], cmap=\"jet\", titles=titles[::-1])"
     ],
     "language": "python",
     "metadata": {},
     "outputs": [
      {
       "output_type": "stream",
       "stream": "stdout",
       "text": [
        "(182, 218, 182)\n"
       ]
      },
      {
       "metadata": {},
       "output_type": "display_data",
       "png": "[encoded data removed]",
       "text": [
        "<matplotlib.figure.Figure at 0x392acd0>"
       ]
      }
     ],
     "prompt_number": 29
    },
    {
     "cell_type": "heading",
     "level": 2,
     "metadata": {},
     "source": [
      "Import Sub-Cortical Atlas"
     ]
    },
    {
     "cell_type": "code",
     "collapsed": false,
     "input": [
      "IMGDIR = osp.join(USER,'code','regions','regions','atlases')\n",
      "\n",
      "atlas_file = 'HarvardOxford-sub-prob-2mm.nii.gz'\n",
      "atlas_labels = 'HarvardOxford-Subcortical.xml'\n",
      "\n",
      "(d, a, l) = load_atlas(atlas_file, IMGDIR, atlas_labels)\n"
     ],
     "language": "python",
     "metadata": {},
     "outputs": [],
     "prompt_number": 30
    },
    {
     "cell_type": "code",
     "collapsed": false,
     "input": [
      "S = ProbAtlas(d/100., a, l)\n",
      "print S.labels, S.affine"
     ],
     "language": "python",
     "metadata": {},
     "outputs": [
      {
       "output_type": "stream",
       "stream": "stdout",
       "text": [
        "['Left Cerebral White Matter', 'Left Cerebral Cortex ', 'Left Lateral Ventrical', 'Left Thalamus', 'Left Caudate', 'Left Putamen', 'Left Pallidum', 'Brain-Stem', 'Left Hippocampus', 'Left Amygdala', 'Left Accumbens', 'Right Cerebral White Matter', 'Right Cerebral Cortex ', 'Right Lateral Ventricle', 'Right Thalamus', 'Right Caudate', 'Right Putamen', 'Right Pallidum', 'Right Hippocampus', 'Right Amygdala', 'Right Accumbens'] [[  -2.    0.    0.   90.]\n",
        " [   0.    2.    0. -126.]\n",
        " [   0.    0.    2.  -72.]\n",
        " [   0.    0.    0.    1.]]\n"
       ]
      }
     ],
     "prompt_number": 31
    },
    {
     "cell_type": "heading",
     "level": 2,
     "metadata": {},
     "source": [
      "import Cerebelum atlas"
     ]
    },
    {
     "cell_type": "code",
     "collapsed": false,
     "input": [
      "ATLsubDIR = 'Cerebellum-MNIflirt-MRICroN'\n",
      "IMGDIR = osp.join(USER,'code','regions','regions','atlases',ATLsubDIR)\n",
      "\n",
      "atlas_labels = \"Cerebellum_MNIflirt.xml\"\n",
      "atlas_fname = osp.join('', \"Cerebellum-MNIflirt-prob.nii\")\n",
      "\n",
      "(d, a, l) = load_atlas(atlas_fname, IMGDIR, atlas_labels)"
     ],
     "language": "python",
     "metadata": {},
     "outputs": [],
     "prompt_number": 32
    },
    {
     "cell_type": "code",
     "collapsed": false,
     "input": [
      "d.shape"
     ],
     "language": "python",
     "metadata": {},
     "outputs": [
      {
       "metadata": {},
       "output_type": "pyout",
       "prompt_number": 33,
       "text": [
        "(91, 109, 91, 28)"
       ]
      }
     ],
     "prompt_number": 33
    },
    {
     "cell_type": "code",
     "collapsed": false,
     "input": [
      "B = ProbAtlas(d/0.256, a, l)\n",
      "#print B.labels, B.affine\n",
      "print \"\\nMax values : \", [B._data[...,idx].max() for idx in range(B.nrois)]\n",
      "print \"\\nMin values : \", [B._data[...,idx].min() for idx in range(B.nrois)]"
     ],
     "language": "python",
     "metadata": {},
     "outputs": [
      {
       "output_type": "stream",
       "stream": "stdout",
       "text": [
        "\n",
        "Max values :  [memmap(0.9960937973119144), memmap(0.9960937973119144), memmap(0.9960937973119144), memmap(0.9960937973119144), memmap(0.9960937973119144), memmap(0.9960937973119144), memmap(0.9960937973119144), memmap(0.9960937973119144), memmap(0.9140625434156391), memmap(0.9960937973119144), memmap(0.9960937973119144), memmap(0.9960937973119144), memmap(0.9960937973119144), memmap(0.9960937973119144), memmap(0.9960937973119144), memmap(0.9960937973119144), memmap(0.9960937973119144), memmap(0.9960937973119144), memmap(0.9960937973119144), memmap(0.9960937973119144), memmap(0.9960937973119144), memmap(0.9960937973119144), memmap(0.9960937973119144), memmap(0.9960937973119144), memmap(0.9960937973119144), memmap(0.9960937973119144), memmap(0.9960937973119144), memmap(0.9960937973119144)]\n",
        "\n",
        "Min values :  "
       ]
      },
      {
       "output_type": "stream",
       "stream": "stdout",
       "text": [
        "[memmap(0.0), memmap(0.0), memmap(0.0), memmap(0.0), memmap(0.0), memmap(0.0), memmap(0.0), memmap(0.0), memmap(0.0), memmap(0.0), memmap(0.0), memmap(0.0), memmap(0.0), memmap(0.0), memmap(0.0), memmap(0.0), memmap(0.0), memmap(0.0), memmap(0.0), memmap(0.0), memmap(0.0), memmap(0.0), memmap(0.0), memmap(0.0), memmap(0.0), memmap(0.0), memmap(0.0), memmap(0.0)]\n"
       ]
      }
     ],
     "prompt_number": 34
    },
    {
     "cell_type": "code",
     "collapsed": false,
     "input": [
      "#parsedtree = etree.parse(osp.join(IMGDIR,atlas_labels))\n",
      "#print parsedtree.findall('.//label')\n",
      "#fname_labels = osp.join(IMGDIR, atlas_labels)\n",
      "#import xml.etree.ElementTree as etree\n",
      "#etree.tostringlist(fname_labels)"
     ],
     "language": "python",
     "metadata": {},
     "outputs": [],
     "prompt_number": 35
    },
    {
     "cell_type": "code",
     "collapsed": false,
     "input": [
      "print d.shape\n",
      "print l"
     ],
     "language": "python",
     "metadata": {},
     "outputs": [
      {
       "output_type": "stream",
       "stream": "stdout",
       "text": [
        "(91, 109, 91, 28)\n",
        "['Left_I_IV', 'Right_I_IV', 'Left_V', 'Right_V', 'Left_VI', 'Vermis_VI', 'Right_VI', 'Left_CrusI', 'Vermis_CrusI', 'Right_CrusI', 'Left_CrusII', 'Vermis_CrusII', 'Right_CrusII', 'Left_VIIb', 'Vermis_VIIb', 'Right_VIIb', 'Left_VIIIa', 'Vermis_VIIIa', 'Right_VIIIa', 'Left_VIIIb', 'Vermis_VIIIb', 'Right_VIIIb', 'Left_IX', 'Vermis_IX', 'Right_IX', 'Left_X', 'Vermis_X', 'Right_X']\n"
       ]
      }
     ],
     "prompt_number": 36
    },
    {
     "cell_type": "code",
     "collapsed": false,
     "input": [
      "cereb = nib.load(osp.join(IMGDIR,atlas_fname))\n",
      "cereb_data = cereb.get_data()\n",
      "print cereb_data.shape\n",
      "print cereb.get_affine()"
     ],
     "language": "python",
     "metadata": {},
     "outputs": [
      {
       "output_type": "stream",
       "stream": "stdout",
       "text": [
        "(91, 109, 91, 28)\n",
        "[[  -2.    0.    0.   90.]\n",
        " [   0.    2.    0. -126.]\n",
        " [   0.    0.    2.  -72.]\n",
        " [   0.    0.    0.    1.]]\n"
       ]
      }
     ],
     "prompt_number": 37
    },
    {
     "cell_type": "code",
     "collapsed": false,
     "input": [
      "#import nipy\n",
      "#from nipy.algorithms.resample import resample_img2img \n",
      "# pb here : I dont know how to put a nearest neighbor interpolation"
     ],
     "language": "python",
     "metadata": {},
     "outputs": [],
     "prompt_number": 38
    },
    {
     "cell_type": "heading",
     "level": 3,
     "metadata": {},
     "source": [
      "Resampling"
     ]
    },
    {
     "cell_type": "code",
     "collapsed": false,
     "input": [
      "# with regions.utils\n",
      "from regions.utils import resample\n",
      "source = (B._data, B.affine)\n",
      "target = (C._data[...,0], C.affine) # give the first roi\n",
      "(re_data, re_affine)  = resample(source, target, interpolation='nearest', return_affine=True)"
     ],
     "language": "python",
     "metadata": {},
     "outputs": [],
     "prompt_number": 39
    },
    {
     "cell_type": "code",
     "collapsed": false,
     "input": [
      "print B.shape\n",
      "print C._data.shape\n",
      "print re_data.shape\n",
      "C.shape\n",
      "print C.affine\n",
      "print np.all(re_affine == C.affine)\n"
     ],
     "language": "python",
     "metadata": {},
     "outputs": [
      {
       "output_type": "stream",
       "stream": "stdout",
       "text": [
        "(91, 109, 91, 28)\n",
        "(182, 218, 182, 48)\n",
        "(182, 218, 182, 28)\n",
        "[[  -1.    0.    0.   90.]\n",
        " [   0.    1.    0. -126.]\n",
        " [   0.    0.    1.  -72.]\n",
        " [   0.    0.    0.    1.]]\n",
        "True\n"
       ]
      }
     ],
     "prompt_number": 40
    },
    {
     "cell_type": "code",
     "collapsed": false,
     "input": [
      "idxroi = 12\n",
      "x,y,z = 50,70,24\n",
      "#x,y,z = 25,35,12\n",
      "pos = [[x, slice(None), slice(None)],\n",
      "       [slice(None), y, slice(None)],\n",
      "       [slice(None), slice(None), z]]\n",
      "\n",
      "titles = [\"sagittal\", \"coronal\", \"axial\"]\n",
      "# print [k for k in plt.cm.datad.keys() if not k.endswith('_r')]\n",
      "\n",
      "#plt.imshow(labels_cort[pos], cmap=\"flag\", interpolation=\"nearest\")\n",
      "show_imgs([re_data[...,idxroi]]*3, pos[::-1], cmap=\"jet\", titles=titles[::-1])\n"
     ],
     "language": "python",
     "metadata": {},
     "outputs": [
      {
       "metadata": {},
       "output_type": "display_data",
       "png": "[encoded data removed]",
       "text": [
        "<matplotlib.figure.Figure at 0x3a4bad0>"
       ]
      }
     ],
     "prompt_number": 41
    },
    {
     "cell_type": "code",
     "collapsed": false,
     "input": [
      "idxroi = 12\n",
      "#x,y,z = 50,70,24\n",
      "x,y,z = 25,35,12\n",
      "\n",
      "\n",
      "pos = [[x, slice(None), slice(None)],\n",
      "       [slice(None), y, slice(None)],\n",
      "       [slice(None), slice(None), z]]\n",
      "\n",
      "titles = [\"sagittal\", \"coronal\", \"axial\"]\n",
      "# print [k for k in plt.cm.datad.keys() if not k.endswith('_r')]\n",
      "\n",
      "#plt.imshow(labels_cort[pos], cmap=\"flag\", interpolation=\"nearest\")\n",
      "show_imgs([B._data[...,idxroi]]*3, pos[::-1], cmap=\"jet\", titles=titles[::-1])\n"
     ],
     "language": "python",
     "metadata": {},
     "outputs": [
      {
       "metadata": {},
       "output_type": "display_data",
       "png": "[encoded data removed]",
       "text": [
        "<matplotlib.figure.Figure at 0x3a4ac10>"
       ]
      }
     ],
     "prompt_number": 42
    },
    {
     "cell_type": "code",
     "collapsed": false,
     "input": [
      "#print [B._data[...,i].max() for i in range(B.nrois)]"
     ],
     "language": "python",
     "metadata": {},
     "outputs": [],
     "prompt_number": 43
    },
    {
     "cell_type": "heading",
     "level": 3,
     "metadata": {},
     "source": [
      "Resampling with the atlas method:"
     ]
    },
    {
     "cell_type": "code",
     "collapsed": false,
     "input": [
      "%run /home/jb/code/regions/regions/prob_atlas.py\n",
      "# %debug"
     ],
     "language": "python",
     "metadata": {},
     "outputs": [
      {
       "output_type": "stream",
       "stream": "stdout",
       "text": [
        "reloading ProbAtlas\n",
        "\n"
       ]
      }
     ],
     "prompt_number": 108
    },
    {
     "cell_type": "code",
     "collapsed": false,
     "input": [
      "#source = (B._data, B.affine)\n",
      "#target = (C._data[...,0].shape, C.affine) # give the first roi shape\n",
      "#B_data_resample = B.resample(target, interpolation=\"nearest\")\n",
      "#print B_data_resample.shape, re_data.shape\n",
      "#np.all(B_data_resample == re_data)"
     ],
     "language": "python",
     "metadata": {},
     "outputs": []
    },
    {
     "cell_type": "code",
     "collapsed": false,
     "input": [
      "B.shape"
     ],
     "language": "python",
     "metadata": {},
     "outputs": [
      {
       "metadata": {},
       "output_type": "pyout",
       "prompt_number": 45,
       "text": [
        "(91, 109, 91, 28)"
       ]
      }
     ],
     "prompt_number": 45
    },
    {
     "cell_type": "code",
     "collapsed": false,
     "input": [
      "C.shape"
     ],
     "language": "python",
     "metadata": {},
     "outputs": [
      {
       "metadata": {},
       "output_type": "pyout",
       "prompt_number": 46,
       "text": [
        "(182, 218, 182, 48)"
       ]
      }
     ],
     "prompt_number": 46
    },
    {
     "cell_type": "code",
     "collapsed": false,
     "input": [
      "(dx, dy, dz, nrois) = C.shape\n",
      "rmsk = np.ones(C.shape)\n",
      "rmsk[:dx/2,:,:] = 0\n",
      "\n",
      "(d, a, l) = C.keep_mask(rmsk, \"Right_\", range(24,32), verbose=1)\n",
      "print d.shape"
     ],
     "language": "python",
     "metadata": {},
     "outputs": [
      {
       "output_type": "stream",
       "stream": "stdout",
       "text": [
        " entering keep_mask stdout\n",
        " stdout cut 0 \n"
       ]
      },
      {
       "output_type": "stream",
       "stream": "stdout",
       "text": [
        " stdout cut 1 \n"
       ]
      },
      {
       "output_type": "stream",
       "stream": "stdout",
       "text": [
        " stdout cut 2 \n"
       ]
      },
      {
       "output_type": "stream",
       "stream": "stdout",
       "text": [
        " stdout cut 3 \n"
       ]
      },
      {
       "output_type": "stream",
       "stream": "stdout",
       "text": [
        " stdout cut 4 \n"
       ]
      },
      {
       "output_type": "stream",
       "stream": "stdout",
       "text": [
        " stdout cut 5 \n"
       ]
      },
      {
       "output_type": "stream",
       "stream": "stdout",
       "text": [
        " stdout cut 6 \n"
       ]
      },
      {
       "output_type": "stream",
       "stream": "stdout",
       "text": [
        " stdout cut 7 \n"
       ]
      },
      {
       "output_type": "stream",
       "stream": "stdout",
       "text": [
        " stdout cut 8 \n"
       ]
      },
      {
       "output_type": "stream",
       "stream": "stdout",
       "text": [
        " stdout cut 9 \n"
       ]
      },
      {
       "output_type": "stream",
       "stream": "stdout",
       "text": [
        " stdout cut 10 \n"
       ]
      },
      {
       "output_type": "stream",
       "stream": "stdout",
       "text": [
        " stdout cut 11 \n"
       ]
      },
      {
       "output_type": "stream",
       "stream": "stdout",
       "text": [
        " stdout cut 12 \n"
       ]
      },
      {
       "output_type": "stream",
       "stream": "stdout",
       "text": [
        " stdout cut 13 \n"
       ]
      },
      {
       "output_type": "stream",
       "stream": "stdout",
       "text": [
        " stdout cut 14 \n"
       ]
      },
      {
       "output_type": "stream",
       "stream": "stdout",
       "text": [
        " stdout cut 15 \n"
       ]
      },
      {
       "output_type": "stream",
       "stream": "stdout",
       "text": [
        " stdout cut 16 \n"
       ]
      },
      {
       "output_type": "stream",
       "stream": "stdout",
       "text": [
        " stdout cut 17 \n"
       ]
      },
      {
       "output_type": "stream",
       "stream": "stdout",
       "text": [
        " stdout cut 18 \n"
       ]
      },
      {
       "output_type": "stream",
       "stream": "stdout",
       "text": [
        " stdout cut 19 \n"
       ]
      },
      {
       "output_type": "stream",
       "stream": "stdout",
       "text": [
        " stdout cut 20 \n"
       ]
      },
      {
       "output_type": "stream",
       "stream": "stdout",
       "text": [
        " stdout cut 21 \n"
       ]
      },
      {
       "output_type": "stream",
       "stream": "stdout",
       "text": [
        " stdout cut 22 \n"
       ]
      },
      {
       "output_type": "stream",
       "stream": "stdout",
       "text": [
        " stdout cut 23 \n"
       ]
      },
      {
       "output_type": "stream",
       "stream": "stdout",
       "text": [
        " stdout do not cut 24 \n"
       ]
      },
      {
       "output_type": "stream",
       "stream": "stdout",
       "text": [
        " stdout do not cut 25 \n"
       ]
      },
      {
       "output_type": "stream",
       "stream": "stdout",
       "text": [
        " stdout do not cut 26 \n"
       ]
      },
      {
       "output_type": "stream",
       "stream": "stdout",
       "text": [
        " stdout do not cut 27 \n"
       ]
      },
      {
       "output_type": "stream",
       "stream": "stdout",
       "text": [
        " stdout do not cut 28 \n"
       ]
      },
      {
       "output_type": "stream",
       "stream": "stdout",
       "text": [
        " stdout do not cut 29 \n"
       ]
      },
      {
       "output_type": "stream",
       "stream": "stdout",
       "text": [
        " stdout do not cut 30 \n"
       ]
      },
      {
       "output_type": "stream",
       "stream": "stdout",
       "text": [
        " stdout do not cut 31 \n"
       ]
      },
      {
       "output_type": "stream",
       "stream": "stdout",
       "text": [
        " stdout cut 32 \n"
       ]
      },
      {
       "output_type": "stream",
       "stream": "stdout",
       "text": [
        " stdout cut 33 \n"
       ]
      },
      {
       "output_type": "stream",
       "stream": "stdout",
       "text": [
        " stdout cut 34 \n"
       ]
      },
      {
       "output_type": "stream",
       "stream": "stdout",
       "text": [
        " stdout cut 35 \n"
       ]
      },
      {
       "output_type": "stream",
       "stream": "stdout",
       "text": [
        " stdout cut 36 \n"
       ]
      },
      {
       "output_type": "stream",
       "stream": "stdout",
       "text": [
        " stdout cut 37 \n"
       ]
      },
      {
       "output_type": "stream",
       "stream": "stdout",
       "text": [
        " stdout cut 38 \n"
       ]
      },
      {
       "output_type": "stream",
       "stream": "stdout",
       "text": [
        " stdout cut 39 \n"
       ]
      },
      {
       "output_type": "stream",
       "stream": "stdout",
       "text": [
        " stdout cut 40 \n"
       ]
      },
      {
       "output_type": "stream",
       "stream": "stdout",
       "text": [
        " stdout cut 41 \n"
       ]
      },
      {
       "output_type": "stream",
       "stream": "stdout",
       "text": [
        " stdout cut 42 \n"
       ]
      },
      {
       "output_type": "stream",
       "stream": "stdout",
       "text": [
        " stdout cut 43 \n"
       ]
      },
      {
       "output_type": "stream",
       "stream": "stdout",
       "text": [
        " stdout cut 44 \n"
       ]
      },
      {
       "output_type": "stream",
       "stream": "stdout",
       "text": [
        " stdout cut 45 \n"
       ]
      },
      {
       "output_type": "stream",
       "stream": "stdout",
       "text": [
        " stdout cut 46 \n"
       ]
      },
      {
       "output_type": "stream",
       "stream": "stdout",
       "text": [
        " stdout cut 47 \n"
       ]
      },
      {
       "output_type": "stream",
       "stream": "stdout",
       "text": [
        "(182, 218, 182, 48)\n"
       ]
      }
     ],
     "prompt_number": 47
    },
    {
     "cell_type": "code",
     "collapsed": false,
     "input": [
      "print \"\\nMax values : \", [d[...,idx].max() for idx in range(C.nrois)]\n",
      "#print \"\\nMin values : \", [d[...,idx].min() for idx in range(C.nrois)]"
     ],
     "language": "python",
     "metadata": {},
     "outputs": []
    },
    {
     "cell_type": "code",
     "collapsed": false,
     "input": [
      "d.shape\n",
      "print \"\\nMax values : \", [d[:91,:,:,idx].max() for idx in range(C.nrois)]"
     ],
     "language": "python",
     "metadata": {},
     "outputs": []
    },
    {
     "cell_type": "code",
     "collapsed": false,
     "input": [
      "plt.imshow(C._data[70,:,:,:].sum(axis=-1), cmap=\"gray\")"
     ],
     "language": "python",
     "metadata": {},
     "outputs": []
    },
    {
     "cell_type": "code",
     "collapsed": false,
     "input": [
      "print l"
     ],
     "language": "python",
     "metadata": {},
     "outputs": []
    },
    {
     "cell_type": "code",
     "collapsed": false,
     "input": [
      "l.index('Frontal Medial Cortex')"
     ],
     "language": "python",
     "metadata": {},
     "outputs": []
    },
    {
     "cell_type": "code",
     "collapsed": false,
     "input": [
      "np.unravel_index(np.argmax(d[:,:,:,32]), d.shape[:-1])"
     ],
     "language": "python",
     "metadata": {},
     "outputs": []
    },
    {
     "cell_type": "code",
     "collapsed": false,
     "input": [
      "np.unravel_index(5924558, d.shape[:-1]"
     ],
     "language": "python",
     "metadata": {},
     "outputs": []
    },
    {
     "cell_type": "code",
     "collapsed": false,
     "input": [
      "def make_data():\n",
      "    d = np.arange(4*4*3*3).reshape((4,4,3,3)) + 1.\n",
      "    d = d/d.max() # d values between 0 and 1.\n",
      "\n",
      "    # make the last \"slice\" zero:\n",
      "    d[:,:,2,:] = 0\n",
      "    a = np.eye(4)\n",
      "    # l = [('1','r1'),('2','r2'),('3','r3')]\n",
      "    l = ['r1','r2','r3']\n",
      "    return (d, a, l) "
     ],
     "language": "python",
     "metadata": {},
     "outputs": [],
     "prompt_number": 109
    },
    {
     "cell_type": "code",
     "collapsed": false,
     "input": [
      "T = ProbAtlas(*make_data())"
     ],
     "language": "python",
     "metadata": {},
     "outputs": [],
     "prompt_number": 110
    },
    {
     "cell_type": "code",
     "collapsed": false,
     "input": [
      "T.indexof(T.labels)"
     ],
     "language": "python",
     "metadata": {},
     "outputs": [
      {
       "metadata": {},
       "output_type": "pyout",
       "prompt_number": 112,
       "text": [
        "[0, 1, 2]"
       ]
      }
     ],
     "prompt_number": 112
    },
    {
     "cell_type": "code",
     "collapsed": false,
     "input": [],
     "language": "python",
     "metadata": {},
     "outputs": []
    }
   ],
   "metadata": {}
  }
 ]
}