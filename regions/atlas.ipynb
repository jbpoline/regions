{
 "metadata": {
  "name": ""
 },
 "nbformat": 3,
 "nbformat_minor": 0,
 "worksheets": [
  {
   "cells": [
    {
     "cell_type": "heading",
     "level": 1,
     "metadata": {},
     "source": [
      "Constructing an atlas!"
     ]
    },
    {
     "cell_type": "code",
     "collapsed": false,
     "input": [
      "%pylab inline"
     ],
     "language": "python",
     "metadata": {},
     "outputs": [
      {
       "output_type": "stream",
       "stream": "stdout",
       "text": [
        "Populating the interactive namespace from numpy and matplotlib\n"
       ]
      },
      {
       "output_type": "stream",
       "stream": "stderr",
       "text": [
        "WARNING: pylab import has clobbered these variables: ['source']\n",
        "`%pylab --no-import-all` prevents importing * from pylab and numpy\n"
       ]
      }
     ],
     "prompt_number": 54
    },
    {
     "cell_type": "code",
     "collapsed": false,
     "input": [
      "import nibabel as nib\n",
      "import numpy as np\n",
      "import os\n",
      "import os.path as osp\n",
      "import matplotlib.pyplot as plt"
     ],
     "language": "python",
     "metadata": {},
     "outputs": [],
     "prompt_number": 55
    },
    {
     "cell_type": "code",
     "collapsed": false,
     "input": [
      "def show_imgs(imgs, pos, titles=None, cmap=\"gray\", interp=\"nearest\"):\n",
      "    \"\"\"\n",
      "    \"\"\"\n",
      "    \n",
      "    Nimg = len(imgs)\n",
      "    \n",
      "    if (titles is None):\n",
      "        titles = ['No title']*Nimg \n",
      "    \n",
      "    if not isinstance(pos, list):\n",
      "        pos = [pos]*Nimg\n",
      "        \n",
      "    fig, ax = plt.subplots(1,Nimg)\n",
      "    \n",
      "    for ix,im in enumerate(imgs):\n",
      "        if hasattr(im, \"get_data\") and callable(getattr(im, \"get_data\")):\n",
      "            data = im.get_data()\n",
      "        else: #assume im is a 3d array\n",
      "            data = im         \n",
      "        \n",
      "        ax[ix].imshow(data[pos[ix]], cmap=cmap, interpolation=interp)\n",
      "        ax[ix].get_xaxis().set_ticks([])\n",
      "        ax[ix].get_yaxis().set_ticks([])\n",
      "        ax[ix].set_title(titles[ix])"
     ],
     "language": "python",
     "metadata": {},
     "outputs": [],
     "prompt_number": 56
    },
    {
     "cell_type": "code",
     "collapsed": false,
     "input": [
      "USER = osp.expanduser('~')\n",
      "#IMGDIR = osp.join(USER,'code','atlas','img')\n",
      "IMGDIR = osp.join(USER,'code','regions','regions','atlases')\n",
      "FSLCort = osp.join(IMGDIR,\"HarvardOxford-cort-prob-2mm.nii.gz\")\n",
      "FSLSub = osp.join(IMGDIR,\"HarvardOxford-sub-prob-2mm.nii.gz\")\n",
      "#MNI = osp.join(IMGDIR,\"MNI-prob-2mm.nii.gz\")\n",
      "fslcort = nib.load(FSLCort)\n",
      "fslsub = nib.load(FSLSub)\n",
      "#mni = nib.load(MNI)"
     ],
     "language": "python",
     "metadata": {},
     "outputs": [],
     "prompt_number": 57
    },
    {
     "cell_type": "code",
     "collapsed": false,
     "input": [
      "data = fslcort.get_data().astype(\"float\") / 100.0\n",
      "print data.dtype"
     ],
     "language": "python",
     "metadata": {},
     "outputs": [
      {
       "output_type": "stream",
       "stream": "stdout",
       "text": [
        "float64\n"
       ]
      }
     ],
     "prompt_number": 58
    },
    {
     "cell_type": "code",
     "collapsed": false,
     "input": [
      "print fslcort.get_affine()\n",
      "print data.shape\n",
      "minmax = [(data[...,vol].min(), data[...,vol].max()) for vol in range(data.shape[3])]  \n",
      "print minmax\n",
      "plt.imshow(data[:, :, 30,32], cmap=\"gray\")\n",
      "#print data[10:20,5,30,32]"
     ],
     "language": "python",
     "metadata": {},
     "outputs": [
      {
       "output_type": "stream",
       "stream": "stdout",
       "text": [
        "[[  -2.    0.    0.   90.]\n",
        " [   0.    2.    0. -126.]\n",
        " [   0.    0.    2.  -72.]\n",
        " [   0.    0.    0.    1.]]\n",
        "(91, 109, 91, 48)\n",
        "[(0.0, 0.94999999999999996), (0.0, 0.91000000000000003), (0.0, 0.78000000000000003), (0.0, 0.81999999999999995), (0.0, 0.68999999999999995), (0.0, 0.80000000000000004), (0.0, 0.82999999999999996), (0.0, 0.88), (0.0, 0.69999999999999996), (0.0, 0.79000000000000004), (0.0, 0.76000000000000001), (0.0, 0.87), (0.0, 0.87), (0.0, 0.73999999999999999), (0.0, 0.75), (0.0, 0.81999999999999995), (0.0, 0.84999999999999998), (0.0, 0.72999999999999998), (0.0, 0.81999999999999995), (0.0, 0.71999999999999997), (0.0, 0.83999999999999997), (0.0, 0.91000000000000003), (0.0, 0.90000000000000002), (0.0, 0.72999999999999998), (0.0, 0.95999999999999996), (0.0, 0.84999999999999998), (0.0, 0.96999999999999997), (0.0, 0.85999999999999999), (0.0, 0.96999999999999997), (0.0, 0.97999999999999998), (0.0, 0.95999999999999996), (0.0, 0.83999999999999997), (0.0, 0.94999999999999996), (0.0, 0.88), (0.0, 0.81999999999999995), (0.0, 0.87), (0.0, 0.71999999999999997), (0.0, 0.89000000000000001), (0.0, 0.88), (0.0, 0.76000000000000001), (0.0, 0.76000000000000001), (0.0, 0.83999999999999997), (0.0, 0.78000000000000003), (0.0, 0.72999999999999998), (0.0, 0.68000000000000005), (0.0, 0.68000000000000005), (0.0, 0.56000000000000005), (0.0, 0.77000000000000002)]"
       ]
      },
      {
       "output_type": "stream",
       "stream": "stdout",
       "text": [
        "\n"
       ]
      },
      {
       "metadata": {},
       "output_type": "pyout",
       "prompt_number": 59,
       "text": [
        "<matplotlib.image.AxesImage at 0x4782590>"
       ]
      },
      {
       "metadata": {},
       "output_type": "display_data",
       "png": "[encoded data removed]",
       "text": [
        "<matplotlib.figure.Figure at 0x3d9e4d0>"
       ]
      }
     ],
     "prompt_number": 59
    },
    {
     "cell_type": "code",
     "collapsed": false,
     "input": [
      "condition = (data <= .05) \n",
      "mask_outside = np.where(condition, 1, 0)\n",
      "# mask_outside = np.where(, 1, 0)\n",
      "\n",
      "print mask_outside.shape\n",
      "mask3d_outside = mask_outside.prod(axis=3)\n",
      "print mask3d_outside.max(), mask3d_outside.min()\n",
      "#a = [data[:,:,:,i].max() for i in range(48)]"
     ],
     "language": "python",
     "metadata": {},
     "outputs": [
      {
       "output_type": "stream",
       "stream": "stdout",
       "text": [
        "(91, 109, 91, 48)\n",
        "1 0\n"
       ]
      }
     ],
     "prompt_number": 60
    },
    {
     "cell_type": "code",
     "collapsed": false,
     "input": [
      "pos = [slice(None), slice(None), 30]\n",
      "plt.imshow(mask3d_outside[pos], cmap=\"gray\", interpolation=\"nearest\")"
     ],
     "language": "python",
     "metadata": {},
     "outputs": [
      {
       "metadata": {},
       "output_type": "pyout",
       "prompt_number": 61,
       "text": [
        "<matplotlib.image.AxesImage at 0x5190390>"
       ]
      },
      {
       "metadata": {},
       "output_type": "display_data",
       "png": "[encoded data removed]",
       "text": [
        "<matplotlib.figure.Figure at 0x3d9e490>"
       ]
      }
     ],
     "prompt_number": 61
    },
    {
     "cell_type": "code",
     "collapsed": false,
     "input": [
      "labels = data.argmax(axis=3)\n",
      "print labels.shape\n",
      "print mask3d_outside.shape\n",
      "labels_cort = np.where(mask3d_outside==1,-1,labels)\n",
      "print labels_cort.max(), labels_cort.min()"
     ],
     "language": "python",
     "metadata": {},
     "outputs": [
      {
       "output_type": "stream",
       "stream": "stdout",
       "text": [
        "(91, 109, 91)\n",
        "(91, 109, 91)\n",
        "47 -1\n"
       ]
      }
     ],
     "prompt_number": 62
    },
    {
     "cell_type": "code",
     "collapsed": false,
     "input": [
      "x,y,z = 25,35,25\n",
      "pos = [[x, slice(None), slice(None)],\n",
      "       [slice(None), y, slice(None)],\n",
      "       [slice(None), slice(None), z]]\n",
      "\n",
      "titles = [\"sagittal\", \"coronal\", \"axial\"]\n",
      "# print [k for k in plt.cm.datad.keys() if not k.endswith('_r')]\n",
      "\n",
      "#plt.imshow(labels_cort[pos], cmap=\"flag\", interpolation=\"nearest\")\n",
      "show_imgs([labels_cort]*3, pos[::-1], cmap=\"jet\", titles=titles[::-1])\n"
     ],
     "language": "python",
     "metadata": {},
     "outputs": [
      {
       "metadata": {},
       "output_type": "display_data",
       "png": "[encoded data removed]",
       "text": [
        "<matplotlib.figure.Figure at 0x516d910>"
       ]
      }
     ],
     "prompt_number": 63
    },
    {
     "cell_type": "code",
     "collapsed": false,
     "input": [
      "data = fslsub.get_data()\n",
      "data = data.astype(\"float\") \n",
      "minmax = [(data[...,vol].min(), data[...,vol].max()) for vol in range(data.shape[3])]  \n",
      "print minmax\n",
      "\n",
      "# indices of Left and Rigth Cereb White matter and cereb cortex\n",
      "idx = [i for i in range(data.shape[3]) if i not in [0,1,11,12]]\n",
      "data = data[...,idx]\n",
      "\n",
      "#print fslsub.get_affine()\n",
      "mask_outside = np.where(data <= 0, 1, 0)\n",
      "print mask_outside.shape\n",
      "mask3d_outside = mask_outside.prod(axis=3)\n",
      "labels = data.argmax(axis=3)\n",
      "labels_sub = np.where(mask3d_outside==1,-1,labels)\n",
      "print labels_sub.min(), labels_sub.max()"
     ],
     "language": "python",
     "metadata": {},
     "outputs": [
      {
       "output_type": "stream",
       "stream": "stdout",
       "text": [
        "[(0.0, 100.0), (0.0, 98.0), (0.0, 98.0), (0.0, 100.0), (0.0, 97.0), (0.0, 100.0), (0.0, 99.0), (0.0, 100.0), (0.0, 99.0), (0.0, 98.0), (0.0, 90.0), (0.0, 100.0), (0.0, 100.0), (0.0, 100.0), (0.0, 100.0), (0.0, 99.0), (0.0, 100.0), (0.0, 100.0), (0.0, 100.0), (0.0, 100.0), (0.0, 92.0)]\n",
        "(91, 109, 91, 17)"
       ]
      },
      {
       "output_type": "stream",
       "stream": "stdout",
       "text": [
        "\n",
        "-1"
       ]
      },
      {
       "output_type": "stream",
       "stream": "stdout",
       "text": [
        " 16\n"
       ]
      }
     ],
     "prompt_number": 64
    },
    {
     "cell_type": "code",
     "collapsed": false,
     "input": [
      "x,y,z = 25,35,25\n",
      "pos = [[x, slice(None), slice(None)],\n",
      "       [slice(None), y, slice(None)],\n",
      "       [slice(None), slice(None), z]]\n",
      "\n",
      "show_imgs([labels_sub]*3, pos[::-1], cmap=\"jet\", titles=titles[::-1])\n",
      "\n",
      "#tmp = np.where(labels_sub==1 ,1, -1) # + np.where(labels_sub==10 ,1, -1)\n",
      "#show_imgs([tmp, tmp, tmp], pos[::-1], cmap=\"jet\", titles=titles[::-1])\n",
      "\n",
      "#plt.imshow(tmp[pos], cmap=\"jet\", interpolation=\"nearest\")"
     ],
     "language": "python",
     "metadata": {},
     "outputs": [
      {
       "metadata": {},
       "output_type": "display_data",
       "png": "[encoded data removed]",
       "text": [
        "<matplotlib.figure.Figure at 0x3da2610>"
       ]
      }
     ],
     "prompt_number": 65
    },
    {
     "cell_type": "code",
     "collapsed": false,
     "input": [
      "import regions as reg"
     ],
     "language": "python",
     "metadata": {},
     "outputs": [],
     "prompt_number": 66
    },
    {
     "cell_type": "code",
     "collapsed": false,
     "input": [
      "reg.__version__\n"
     ],
     "language": "python",
     "metadata": {},
     "outputs": [
      {
       "metadata": {},
       "output_type": "pyout",
       "prompt_number": 67,
       "text": [
        "'0.111'"
       ]
      }
     ],
     "prompt_number": 67
    },
    {
     "cell_type": "code",
     "collapsed": false,
     "input": [
      "cort = reg.helpers.harvard_oxford_atlas('cort')"
     ],
     "language": "python",
     "metadata": {},
     "outputs": [],
     "prompt_number": 68
    },
    {
     "cell_type": "code",
     "collapsed": false,
     "input": [
      "print cort.label_map\n"
     ],
     "language": "python",
     "metadata": {},
     "outputs": [
      {
       "output_type": "stream",
       "stream": "stdout",
       "text": [
        "{0: 'Frontal Pole', 1: 'Insular Cortex', 2: 'Superior Frontal Gyrus', 3: 'Middle Frontal Gyrus', 4: 'Inferior Frontal Gyrus, pars triangularis', 5: 'Inferior Frontal Gyrus, pars opercularis', 6: 'Precentral Gyrus', 7: 'Temporal Pole', 8: 'Superior Temporal Gyrus, anterior division', 9: 'Superior Temporal Gyrus, posterior division', 10: 'Middle Temporal Gyrus, anterior division', 11: 'Middle Temporal Gyrus, posterior division', 12: 'Middle Temporal Gyrus, temporooccipital part', 13: 'Inferior Temporal Gyrus, anterior division', 14: 'Inferior Temporal Gyrus, posterior division', 15: 'Inferior Temporal Gyrus, temporooccipital part', 16: 'Postcentral Gyrus', 17: 'Superior Parietal Lobule', 18: 'Supramarginal Gyrus, anterior division', 19: 'Supramarginal Gyrus, posterior division', 20: 'Angular Gyrus', 21: 'Lateral Occipital Cortex, superior division', 22: 'Lateral Occipital Cortex, inferior division', 23: 'Intracalcarine Cortex', 24: 'Frontal Medial Cortex', 25: 'Juxtapositional Lobule Cortex (formerly Supplementary Motor Cortex)', 26: 'Subcallosal Cortex', 27: 'Paracingulate Gyrus', 28: 'Cingulate Gyrus, anterior division', 29: 'Cingulate Gyrus, posterior division', 30: 'Precuneous Cortex', 31: 'Cuneal Cortex', 32: 'Frontal Orbital Cortex', 33: 'Parahippocampal Gyrus, anterior division', 34: 'Parahippocampal Gyrus, posterior division', 35: 'Lingual Gyrus', 36: 'Temporal Fusiform Cortex, anterior division', 37: 'Temporal Fusiform Cortex, posterior division', 38: 'Temporal Occipital Fusiform Cortex', 39: 'Occipital Fusiform Gyrus', 40: 'Frontal Operculum Cortex', 41: 'Central Opercular Cortex', 42: 'Parietal Operculum Cortex', 43: 'Planum Polare', 44: \"Heschl's Gyrus (includes H1 and H2)\", 45: 'Planum Temporale', 46: 'Supracalcarine Cortex', 47: 'Occipital Pole'}\n"
       ]
      }
     ],
     "prompt_number": 69
    },
    {
     "cell_type": "code",
     "collapsed": false,
     "input": [
      "import os.path as osp\n",
      "\n",
      "files_path = osp.abspath(reg.__file__)\n",
      "_atlases = osp.join(osp.split(files_path)[0], 'atlases')\n",
      "print files_path\n"
     ],
     "language": "python",
     "metadata": {},
     "outputs": [
      {
       "output_type": "stream",
       "stream": "stdout",
       "text": [
        "/home/jb/code/regions/regions/__init__.pyc\n"
       ]
      }
     ],
     "prompt_number": 70
    },
    {
     "cell_type": "code",
     "collapsed": false,
     "input": [
      "#region_path = osp.split(files_path)[0]\n",
      "#prob_atlas = osp.join(region_path, 'prob_atlas.py')\n",
      "#print prob_atlas"
     ],
     "language": "python",
     "metadata": {},
     "outputs": [],
     "prompt_number": 71
    },
    {
     "cell_type": "code",
     "collapsed": false,
     "input": [
      "USER = osp.expanduser('~')\n",
      "IMGDIR = osp.join(USER,'code','regions','regions','atlases')\n",
      "FSLCort = osp.join(IMGDIR,\"HarvardOxford-cort-prob-2mm.nii.gz\")\n",
      "xmllabels = '%s/HarvardOxford-Cortical.xml' % IMGDIR\n",
      "fslcort = nib.load(FSLCort)\n",
      "data = fslcort.get_data().astype(\"float\") / 100.0\n",
      "affine = fslcort.get_affine()\n",
      "print data.dtype"
     ],
     "language": "python",
     "metadata": {},
     "outputs": [
      {
       "output_type": "stream",
       "stream": "stdout",
       "text": [
        "float64\n"
       ]
      }
     ],
     "prompt_number": 72
    },
    {
     "cell_type": "heading",
     "level": 2,
     "metadata": {},
     "source": [
      "Import Cortical atlas"
     ]
    },
    {
     "cell_type": "code",
     "collapsed": false,
     "input": [
      "%run /home/jb/code/regions/regions/prob_atlas.py"
     ],
     "language": "python",
     "metadata": {},
     "outputs": [],
     "prompt_number": 97
    },
    {
     "cell_type": "code",
     "collapsed": false,
     "input": [
      "IMGDIR = osp.join(USER,'code','regions','regions','atlases')\n",
      "atlas_file = 'HarvardOxford-cort-prob-1mm.nii.gz'\n",
      "atlas_labels = 'HarvardOxford-Cortical.xml'\n",
      "\n",
      "(d, a, l) = load_atlas(atlas_file, IMGDIR, atlas_labels)"
     ],
     "language": "python",
     "metadata": {},
     "outputs": [
      {
       "output_type": "stream",
       "stream": "stdout",
       "text": [
        "48 rois \n",
        "\n"
       ]
      }
     ],
     "prompt_number": 124
    },
    {
     "cell_type": "code",
     "collapsed": false,
     "input": [
      "C = ProbAtlas(d, a, l)\n",
      "#print C.labels, C.affine\n",
      "C.labels\n",
      "r24 = C.rois[24]"
     ],
     "language": "python",
     "metadata": {},
     "outputs": [],
     "prompt_number": 156
    },
    {
     "cell_type": "code",
     "collapsed": false,
     "input": [
      "r24[0]"
     ],
     "language": "python",
     "metadata": {},
     "outputs": [
      {
       "metadata": {},
       "output_type": "pyout",
       "prompt_number": 157,
       "text": [
        "('24', 'Frontal Medial Cortex')"
       ]
      }
     ],
     "prompt_number": 157
    },
    {
     "cell_type": "code",
     "collapsed": false,
     "input": [
      "d.shape"
     ],
     "language": "python",
     "metadata": {},
     "outputs": [
      {
       "metadata": {},
       "output_type": "pyout",
       "prompt_number": 100,
       "text": [
        "(182, 218, 182, 48)"
       ]
      }
     ],
     "prompt_number": 100
    },
    {
     "cell_type": "code",
     "collapsed": false,
     "input": [
      "data = d[...,24]\n",
      "print data.shape\n",
      "\n",
      "x,y,z = 91,175,45\n",
      "pos = [[x, slice(None), slice(None)],\n",
      "       [slice(None), y, slice(None)],\n",
      "       [slice(None), slice(None), z]]\n",
      "\n",
      "titles = [\"sagittal\", \"coronal\", \"axial\"]\n",
      "# print [k for k in plt.cm.datad.keys() if not k.endswith('_r')]\n",
      "\n",
      "#plt.imshow(labels_cort[pos], cmap=\"flag\", interpolation=\"nearest\")\n",
      "show_imgs([data]*3, pos[::-1], cmap=\"jet\", titles=titles[::-1])"
     ],
     "language": "python",
     "metadata": {},
     "outputs": [
      {
       "output_type": "stream",
       "stream": "stdout",
       "text": [
        "(182, 218, 182)\n"
       ]
      },
      {
       "metadata": {},
       "output_type": "display_data",
       "png": "[encoded data removed]",
       "text": [
        "<matplotlib.figure.Figure at 0x9ce4ad0>"
       ]
      }
     ],
     "prompt_number": 154
    },
    {
     "cell_type": "heading",
     "level": 2,
     "metadata": {},
     "source": [
      "Import Sub-Cortical Atlas"
     ]
    },
    {
     "cell_type": "code",
     "collapsed": false,
     "input": [
      "IMGDIR = osp.join(USER,'code','regions','regions','atlases')\n",
      "\n",
      "atlas_file = 'HarvardOxford-sub-prob-2mm.nii.gz'\n",
      "atlas_labels = 'HarvardOxford-Subcortical.xml'\n",
      "\n",
      "(d, a, l) = load_atlas(atlas_file, IMGDIR, atlas_labels)\n"
     ],
     "language": "python",
     "metadata": {},
     "outputs": [
      {
       "output_type": "stream",
       "stream": "stdout",
       "text": [
        "21 rois \n",
        "\n"
       ]
      }
     ],
     "prompt_number": 120
    },
    {
     "cell_type": "code",
     "collapsed": false,
     "input": [
      "S = ProbAtlas(d, a, l)\n",
      "print S.labels, S.affine"
     ],
     "language": "python",
     "metadata": {},
     "outputs": [
      {
       "output_type": "stream",
       "stream": "stdout",
       "text": [
        "[('0', 'Left Cerebral White Matter'), ('1', 'Left Cerebral Cortex '), ('2', 'Left Lateral Ventrical'), ('3', 'Left Thalamus'), ('4', 'Left Caudate'), ('5', 'Left Putamen'), ('6', 'Left Pallidum'), ('7', 'Brain-Stem'), ('8', 'Left Hippocampus'), ('9', 'Left Amygdala'), ('10', 'Left Accumbens'), ('11', 'Right Cerebral White Matter'), ('12', 'Right Cerebral Cortex '), ('13', 'Right Lateral Ventricle'), ('14', 'Right Thalamus'), ('15', 'Right Caudate'), ('16', 'Right Putamen'), ('17', 'Right Pallidum'), ('18', 'Right Hippocampus'), ('19', 'Right Amygdala'), ('20', 'Right Accumbens')] [[  -2.    0.    0.   90.]\n",
        " [   0.    2.    0. -126.]\n",
        " [   0.    0.    2.  -72.]\n",
        " [   0.    0.    0.    1.]]\n"
       ]
      }
     ],
     "prompt_number": 122
    },
    {
     "cell_type": "heading",
     "level": 2,
     "metadata": {},
     "source": [
      "import Cerebelum atlas"
     ]
    },
    {
     "cell_type": "code",
     "collapsed": false,
     "input": [
      "ATLsubDIR = 'Cerebellum-MNIflirt-MRICroN'\n",
      "IMGDIR = osp.join(USER,'code','regions','regions','atlases',ATLsubDIR)\n",
      "\n",
      "atlas_labels = \"Cerebellum_MNIflirt.xml\"\n",
      "atlas_fname = osp.join('', \"Cerebellum-MNIflirt-prob.nii\")\n",
      "\n",
      "(d, a, l) = load_atlas(atlas_fname, IMGDIR, atlas_labels)"
     ],
     "language": "python",
     "metadata": {},
     "outputs": [
      {
       "output_type": "stream",
       "stream": "stdout",
       "text": [
        "28 rois \n",
        "\n"
       ]
      }
     ],
     "prompt_number": 103
    },
    {
     "cell_type": "code",
     "collapsed": false,
     "input": [
      "d.shape\n",
      "import numpy.testing as npt\n",
      "npt.assert_equal(np.asarray(d.shape), np.asarray(d.shape)+1\n",
      "                , \"fail\")"
     ],
     "language": "python",
     "metadata": {},
     "outputs": [
      {
       "ename": "AssertionError",
       "evalue": "\nArrays are not equal\nfail\n(mismatch 100.0%)\n x: array([182, 218, 182,  48])\n y: array([183, 219, 183,  49])",
       "output_type": "pyerr",
       "traceback": [
        "\u001b[1;31m---------------------------------------------------------------------------\u001b[0m\n\u001b[1;31mAssertionError\u001b[0m                            Traceback (most recent call last)",
        "\u001b[1;32m<ipython-input-163-6de6378a10e0>\u001b[0m in \u001b[0;36m<module>\u001b[1;34m()\u001b[0m\n\u001b[0;32m      2\u001b[0m \u001b[1;32mimport\u001b[0m \u001b[0mnumpy\u001b[0m\u001b[1;33m.\u001b[0m\u001b[0mtesting\u001b[0m \u001b[1;32mas\u001b[0m \u001b[0mnpt\u001b[0m\u001b[1;33m\u001b[0m\u001b[0m\n\u001b[0;32m      3\u001b[0m npt.assert_equal(np.asarray(d.shape), np.asarray(d.shape)+1\n\u001b[1;32m----> 4\u001b[1;33m                 , \"fail\")\n\u001b[0m",
        "\u001b[1;32m/home/jb/.local/lib/python2.7/site-packages/numpy/testing/utils.pyc\u001b[0m in \u001b[0;36massert_equal\u001b[1;34m(actual, desired, err_msg, verbose)\u001b[0m\n\u001b[0;32m    255\u001b[0m     \u001b[1;32mfrom\u001b[0m \u001b[0mnumpy\u001b[0m\u001b[1;33m.\u001b[0m\u001b[0mlib\u001b[0m \u001b[1;32mimport\u001b[0m \u001b[0miscomplexobj\u001b[0m\u001b[1;33m,\u001b[0m \u001b[0mreal\u001b[0m\u001b[1;33m,\u001b[0m \u001b[0mimag\u001b[0m\u001b[1;33m\u001b[0m\u001b[0m\n\u001b[0;32m    256\u001b[0m     \u001b[1;32mif\u001b[0m \u001b[0misinstance\u001b[0m\u001b[1;33m(\u001b[0m\u001b[0mactual\u001b[0m\u001b[1;33m,\u001b[0m \u001b[0mndarray\u001b[0m\u001b[1;33m)\u001b[0m \u001b[1;32mor\u001b[0m \u001b[0misinstance\u001b[0m\u001b[1;33m(\u001b[0m\u001b[0mdesired\u001b[0m\u001b[1;33m,\u001b[0m \u001b[0mndarray\u001b[0m\u001b[1;33m)\u001b[0m\u001b[1;33m:\u001b[0m\u001b[1;33m\u001b[0m\u001b[0m\n\u001b[1;32m--> 257\u001b[1;33m         \u001b[1;32mreturn\u001b[0m \u001b[0massert_array_equal\u001b[0m\u001b[1;33m(\u001b[0m\u001b[0mactual\u001b[0m\u001b[1;33m,\u001b[0m \u001b[0mdesired\u001b[0m\u001b[1;33m,\u001b[0m \u001b[0merr_msg\u001b[0m\u001b[1;33m,\u001b[0m \u001b[0mverbose\u001b[0m\u001b[1;33m)\u001b[0m\u001b[1;33m\u001b[0m\u001b[0m\n\u001b[0m\u001b[0;32m    258\u001b[0m     \u001b[0mmsg\u001b[0m \u001b[1;33m=\u001b[0m \u001b[0mbuild_err_msg\u001b[0m\u001b[1;33m(\u001b[0m\u001b[1;33m[\u001b[0m\u001b[0mactual\u001b[0m\u001b[1;33m,\u001b[0m \u001b[0mdesired\u001b[0m\u001b[1;33m]\u001b[0m\u001b[1;33m,\u001b[0m \u001b[0merr_msg\u001b[0m\u001b[1;33m,\u001b[0m \u001b[0mverbose\u001b[0m\u001b[1;33m=\u001b[0m\u001b[0mverbose\u001b[0m\u001b[1;33m)\u001b[0m\u001b[1;33m\u001b[0m\u001b[0m\n\u001b[0;32m    259\u001b[0m \u001b[1;33m\u001b[0m\u001b[0m\n",
        "\u001b[1;32m/home/jb/.local/lib/python2.7/site-packages/numpy/testing/utils.pyc\u001b[0m in \u001b[0;36massert_array_equal\u001b[1;34m(x, y, err_msg, verbose)\u001b[0m\n\u001b[0;32m    717\u001b[0m     \"\"\"\n\u001b[0;32m    718\u001b[0m     assert_array_compare(operator.__eq__, x, y, err_msg=err_msg,\n\u001b[1;32m--> 719\u001b[1;33m                          verbose=verbose, header='Arrays are not equal')\n\u001b[0m\u001b[0;32m    720\u001b[0m \u001b[1;33m\u001b[0m\u001b[0m\n\u001b[0;32m    721\u001b[0m \u001b[1;32mdef\u001b[0m \u001b[0massert_array_almost_equal\u001b[0m\u001b[1;33m(\u001b[0m\u001b[0mx\u001b[0m\u001b[1;33m,\u001b[0m \u001b[0my\u001b[0m\u001b[1;33m,\u001b[0m \u001b[0mdecimal\u001b[0m\u001b[1;33m=\u001b[0m\u001b[1;36m6\u001b[0m\u001b[1;33m,\u001b[0m \u001b[0merr_msg\u001b[0m\u001b[1;33m=\u001b[0m\u001b[1;34m''\u001b[0m\u001b[1;33m,\u001b[0m \u001b[0mverbose\u001b[0m\u001b[1;33m=\u001b[0m\u001b[0mTrue\u001b[0m\u001b[1;33m)\u001b[0m\u001b[1;33m:\u001b[0m\u001b[1;33m\u001b[0m\u001b[0m\n",
        "\u001b[1;32m/home/jb/.local/lib/python2.7/site-packages/numpy/testing/utils.pyc\u001b[0m in \u001b[0;36massert_array_compare\u001b[1;34m(comparison, x, y, err_msg, verbose, header)\u001b[0m\n\u001b[0;32m    643\u001b[0m                                 names=('x', 'y'))\n\u001b[0;32m    644\u001b[0m             \u001b[1;32mif\u001b[0m \u001b[1;32mnot\u001b[0m \u001b[0mcond\u001b[0m \u001b[1;33m:\u001b[0m\u001b[1;33m\u001b[0m\u001b[0m\n\u001b[1;32m--> 645\u001b[1;33m                 \u001b[1;32mraise\u001b[0m \u001b[0mAssertionError\u001b[0m\u001b[1;33m(\u001b[0m\u001b[0mmsg\u001b[0m\u001b[1;33m)\u001b[0m\u001b[1;33m\u001b[0m\u001b[0m\n\u001b[0m\u001b[0;32m    646\u001b[0m     \u001b[1;32mexcept\u001b[0m \u001b[0mValueError\u001b[0m\u001b[1;33m,\u001b[0m \u001b[0me\u001b[0m\u001b[1;33m:\u001b[0m\u001b[1;33m\u001b[0m\u001b[0m\n\u001b[0;32m    647\u001b[0m         \u001b[1;32mimport\u001b[0m \u001b[0mtraceback\u001b[0m\u001b[1;33m\u001b[0m\u001b[0m\n",
        "\u001b[1;31mAssertionError\u001b[0m: \nArrays are not equal\nfail\n(mismatch 100.0%)\n x: array([182, 218, 182,  48])\n y: array([183, 219, 183,  49])"
       ]
      }
     ],
     "prompt_number": 163
    },
    {
     "cell_type": "code",
     "collapsed": false,
     "input": [
      "B = ProbAtlas(d, a, l)\n",
      "#print B.labels, B.affine\n"
     ],
     "language": "python",
     "metadata": {},
     "outputs": [],
     "prompt_number": 104
    },
    {
     "cell_type": "code",
     "collapsed": false,
     "input": [
      "#parsedtree = etree.parse(osp.join(IMGDIR,atlas_labels))\n",
      "#print parsedtree.findall('.//label')\n",
      "#fname_labels = osp.join(IMGDIR, atlas_labels)\n",
      "#import xml.etree.ElementTree as etree\n",
      "#etree.tostringlist(fname_labels)"
     ],
     "language": "python",
     "metadata": {},
     "outputs": [],
     "prompt_number": 105
    },
    {
     "cell_type": "code",
     "collapsed": false,
     "input": [
      "print d.shape\n",
      "print l"
     ],
     "language": "python",
     "metadata": {},
     "outputs": [
      {
       "output_type": "stream",
       "stream": "stdout",
       "text": [
        "(91, 109, 91, 28)\n",
        "[('0', 'Left_I_IV'), ('1', 'Right_I_IV'), ('2', 'Left_V'), ('3', 'Right_V'), ('4', 'Left_VI'), ('5', 'Vermis_VI'), ('6', 'Right_VI'), ('7', 'Left_CrusI'), ('8', 'Vermis_CrusI'), ('9', 'Right_CrusI'), ('10', 'Left_CrusII'), ('11', 'Vermis_CrusII'), ('12', 'Right_CrusII'), ('13', 'Left_VIIb'), ('14', 'Vermis_VIIb'), ('15', 'Right_VIIb'), ('16', 'Left_VIIIa'), ('17', 'Vermis_VIIIa'), ('18', 'Right_VIIIa'), ('19', 'Left_VIIIb'), ('20', 'Vermis_VIIIb'), ('21', 'Right_VIIIb'), ('22', 'Left_IX'), ('23', 'Vermis_IX'), ('24', 'Right_IX'), ('25', 'Left_X'), ('26', 'Vermis_X'), ('27', 'Right_X')]\n"
       ]
      }
     ],
     "prompt_number": 106
    },
    {
     "cell_type": "code",
     "collapsed": false,
     "input": [
      "cereb = nib.load(osp.join(IMGDIR,atlas_fname))\n",
      "cereb_data = cereb.get_data()\n",
      "print cereb_data.shape\n",
      "print cereb.get_affine()"
     ],
     "language": "python",
     "metadata": {},
     "outputs": [
      {
       "output_type": "stream",
       "stream": "stdout",
       "text": [
        "(91, 109, 91, 28)\n",
        "[[  -2.    0.    0.   90.]\n",
        " [   0.    2.    0. -126.]\n",
        " [   0.    0.    2.  -72.]\n",
        " [   0.    0.    0.    1.]]\n"
       ]
      }
     ],
     "prompt_number": 83
    },
    {
     "cell_type": "code",
     "collapsed": false,
     "input": [
      "#import nipy\n",
      "#from nipy.algorithms.resample import resample_img2img \n",
      "# pb here : I dont know how to put a nearest neighbor interpolation"
     ],
     "language": "python",
     "metadata": {},
     "outputs": [],
     "prompt_number": 84
    },
    {
     "cell_type": "heading",
     "level": 3,
     "metadata": {},
     "source": [
      "Resampling"
     ]
    },
    {
     "cell_type": "code",
     "collapsed": false,
     "input": [
      "# with regions.utils\n",
      "from regions.utils import resample\n",
      "source = (B._data, B.affine)\n",
      "target = (C._data[...,0], C.affine) # give the first roi\n",
      "(re_data, re_affine)  = resample(source, target, interpolation='nearest', return_affine=True)"
     ],
     "language": "python",
     "metadata": {},
     "outputs": [],
     "prompt_number": 107
    },
    {
     "cell_type": "code",
     "collapsed": false,
     "input": [
      "print B.shape\n",
      "print C._data.shape\n",
      "print re_data.shape\n",
      "idxroi = 12\n",
      "C.shape\n",
      "print C.affine\n",
      "print np.all(re_affine == C.affine)\n"
     ],
     "language": "python",
     "metadata": {},
     "outputs": [
      {
       "output_type": "stream",
       "stream": "stdout",
       "text": [
        "(91, 109, 91, 28)\n",
        "(182, 218, 182, 48)\n",
        "(182, 218, 182, 28)\n",
        "[[  -1.    0.    0.   90.]\n",
        " [   0.    1.    0. -126.]\n",
        " [   0.    0.    1.  -72.]\n",
        " [   0.    0.    0.    1.]]\n",
        "True\n"
       ]
      }
     ],
     "prompt_number": 108
    },
    {
     "cell_type": "code",
     "collapsed": false,
     "input": [
      "x,y,z = 50,70,24\n",
      "#x,y,z = 25,35,12\n",
      "pos = [[x, slice(None), slice(None)],\n",
      "       [slice(None), y, slice(None)],\n",
      "       [slice(None), slice(None), z]]\n",
      "\n",
      "titles = [\"sagittal\", \"coronal\", \"axial\"]\n",
      "# print [k for k in plt.cm.datad.keys() if not k.endswith('_r')]\n",
      "\n",
      "#plt.imshow(labels_cort[pos], cmap=\"flag\", interpolation=\"nearest\")\n",
      "show_imgs([re_data[...,idxroi]]*3, pos[::-1], cmap=\"jet\", titles=titles[::-1])\n"
     ],
     "language": "python",
     "metadata": {},
     "outputs": [
      {
       "metadata": {},
       "output_type": "display_data",
       "png": "[encoded data removed]",
       "text": [
        "<matplotlib.figure.Figure at 0x5193490>"
       ]
      }
     ],
     "prompt_number": 109
    },
    {
     "cell_type": "code",
     "collapsed": false,
     "input": [
      "#x,y,z = 50,70,24\n",
      "x,y,z = 25,35,12\n",
      "\n",
      "\n",
      "pos = [[x, slice(None), slice(None)],\n",
      "       [slice(None), y, slice(None)],\n",
      "       [slice(None), slice(None), z]]\n",
      "\n",
      "titles = [\"sagittal\", \"coronal\", \"axial\"]\n",
      "# print [k for k in plt.cm.datad.keys() if not k.endswith('_r')]\n",
      "\n",
      "#plt.imshow(labels_cort[pos], cmap=\"flag\", interpolation=\"nearest\")\n",
      "show_imgs([B._data[...,idxroi]]*3, pos[::-1], cmap=\"jet\", titles=titles[::-1])\n"
     ],
     "language": "python",
     "metadata": {},
     "outputs": [
      {
       "metadata": {},
       "output_type": "display_data",
       "png": "[encoded data removed]",
       "text": [
        "<matplotlib.figure.Figure at 0xb3a5950>"
       ]
      }
     ],
     "prompt_number": 110
    },
    {
     "cell_type": "code",
     "collapsed": false,
     "input": [
      "#print [B._data[...,i].max() for i in range(B.nrois)]"
     ],
     "language": "python",
     "metadata": {},
     "outputs": [],
     "prompt_number": 112
    },
    {
     "cell_type": "heading",
     "level": 3,
     "metadata": {},
     "source": [
      "Resampling with the atlas method:"
     ]
    },
    {
     "cell_type": "code",
     "collapsed": false,
     "input": [
      "%run /home/jb/code/regions/regions/prob_atlas.py\n",
      "# %debug"
     ],
     "language": "python",
     "metadata": {},
     "outputs": [],
     "prompt_number": 114
    },
    {
     "cell_type": "code",
     "collapsed": false,
     "input": [
      "source = (B._data, B.affine)\n",
      "target = (C._data[...,0].shape, C.affine) # give the first roi\n",
      "B_data_resample = B.resample(target, interpolation=\"nearest\")"
     ],
     "language": "python",
     "metadata": {},
     "outputs": [],
     "prompt_number": 113
    },
    {
     "cell_type": "code",
     "collapsed": false,
     "input": [
      "print B_data_resample.shape, re_data.shape"
     ],
     "language": "python",
     "metadata": {},
     "outputs": [
      {
       "output_type": "stream",
       "stream": "stdout",
       "text": [
        "(182, 218, 182, 28) (182, 218, 182, 28)\n"
       ]
      }
     ],
     "prompt_number": 115
    },
    {
     "cell_type": "code",
     "collapsed": false,
     "input": [
      "np.all(B_data_resample == re_data)"
     ],
     "language": "python",
     "metadata": {},
     "outputs": [
      {
       "metadata": {},
       "output_type": "pyout",
       "prompt_number": 116,
       "text": [
        "True"
       ]
      }
     ],
     "prompt_number": 116
    }
   ],
   "metadata": {}
  }
 ]
}