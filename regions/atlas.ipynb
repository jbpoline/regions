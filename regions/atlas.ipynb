{
 "metadata": {
  "name": ""
 },
 "nbformat": 3,
 "nbformat_minor": 0,
 "worksheets": [
  {
   "cells": [
    {
     "cell_type": "heading",
     "level": 1,
     "metadata": {},
     "source": [
      "Constructing an atlas!"
     ]
    },
    {
     "cell_type": "code",
     "collapsed": false,
     "input": [
      "%pylab inline"
     ],
     "language": "python",
     "metadata": {},
     "outputs": []
    },
    {
     "cell_type": "code",
     "collapsed": false,
     "input": [
      "import nibabel as nib\n",
      "import numpy as np\n",
      "import os\n",
      "import os.path as osp\n",
      "import matplotlib.pyplot as plt"
     ],
     "language": "python",
     "metadata": {},
     "outputs": []
    },
    {
     "cell_type": "code",
     "collapsed": false,
     "input": [
      "def show_imgs(imgs, pos, titles=None, cmap=\"gray\", interp=\"nearest\"):\n",
      "    \"\"\"\n",
      "    \"\"\"\n",
      "    \n",
      "    Nimg = len(imgs)\n",
      "    \n",
      "    if (titles is None):\n",
      "        titles = ['No title']*Nimg \n",
      "    \n",
      "    if not isinstance(pos, list):\n",
      "        pos = [pos]*Nimg\n",
      "        \n",
      "    fig, ax = plt.subplots(1,Nimg)\n",
      "    \n",
      "    for ix,im in enumerate(imgs):\n",
      "        if hasattr(im, \"get_data\") and callable(getattr(im, \"get_data\")):\n",
      "            data = im.get_data()\n",
      "        else: #assume im is a 3d array\n",
      "            data = im         \n",
      "        \n",
      "        ax[ix].imshow(data[pos[ix]], cmap=cmap, interpolation=interp)\n",
      "        ax[ix].get_xaxis().set_ticks([])\n",
      "        ax[ix].get_yaxis().set_ticks([])\n",
      "        ax[ix].set_title(titles[ix])"
     ],
     "language": "python",
     "metadata": {},
     "outputs": []
    },
    {
     "cell_type": "code",
     "collapsed": false,
     "input": [
      "USER = osp.expanduser('~')\n",
      "#IMGDIR = osp.join(USER,'code','atlas','img')\n",
      "IMGDIR = osp.join(USER,'code','regions','regions','atlases')\n",
      "FSLCort = osp.join(IMGDIR,\"HarvardOxford-cort-prob-2mm.nii.gz\")\n",
      "FSLSub = osp.join(IMGDIR,\"HarvardOxford-sub-prob-2mm.nii.gz\")\n",
      "#MNI = osp.join(IMGDIR,\"MNI-prob-2mm.nii.gz\")\n",
      "fslcort = nib.load(FSLCort)\n",
      "fslsub = nib.load(FSLSub)\n",
      "#mni = nib.load(MNI)"
     ],
     "language": "python",
     "metadata": {},
     "outputs": []
    },
    {
     "cell_type": "code",
     "collapsed": false,
     "input": [
      "data = fslcort.get_data().astype(\"float\") / 100.0\n",
      "print data.dtype"
     ],
     "language": "python",
     "metadata": {},
     "outputs": []
    },
    {
     "cell_type": "code",
     "collapsed": false,
     "input": [
      "print fslcort.get_affine()\n",
      "print data.shape\n",
      "print [(data[...,vol].min(), data[...,vol].max()) for vol in range(data.shape[3])]\n",
      "plt.imshow(data[:, :, 30,32], cmap=\"gray\")\n",
      "#print data[10:20,5,30,32]"
     ],
     "language": "python",
     "metadata": {},
     "outputs": []
    },
    {
     "cell_type": "code",
     "collapsed": false,
     "input": [
      "condition = (data <= .05) \n",
      "mask_outside = np.where(condition, 1, 0)\n",
      "# mask_outside = np.where(, 1, 0)\n",
      "\n",
      "print mask_outside.shape\n",
      "mask3d_outside = mask_outside.prod(axis=3)\n",
      "print mask3d_outside.max(), mask3d_outside.min()\n",
      "#a = [data[:,:,:,i].max() for i in range(48)]"
     ],
     "language": "python",
     "metadata": {},
     "outputs": []
    },
    {
     "cell_type": "code",
     "collapsed": false,
     "input": [
      "pos = [slice(None), slice(None), 30]\n",
      "plt.imshow(mask3d_outside[pos], cmap=\"gray\", interpolation=\"nearest\")"
     ],
     "language": "python",
     "metadata": {},
     "outputs": []
    },
    {
     "cell_type": "code",
     "collapsed": false,
     "input": [
      "labels = data.argmax(axis=3)\n",
      "print labels.shape\n",
      "print mask3d_outside.shape\n",
      "labels_cort = np.where(mask3d_outside==1,-1,labels)\n",
      "print labels_cort.max(), labels_cort.min()"
     ],
     "language": "python",
     "metadata": {},
     "outputs": []
    },
    {
     "cell_type": "code",
     "collapsed": false,
     "input": [
      "x,y,z = 25,35,25\n",
      "pos = [[x, slice(None), slice(None)],\n",
      "       [slice(None), y, slice(None)],\n",
      "       [slice(None), slice(None), z]]\n",
      "\n",
      "titles = [\"sagittal\", \"coronal\", \"axial\"]\n",
      "# print [k for k in plt.cm.datad.keys() if not k.endswith('_r')]\n",
      "\n",
      "#plt.imshow(labels_cort[pos], cmap=\"flag\", interpolation=\"nearest\")\n",
      "show_imgs([labels_cort]*3, pos[::-1], cmap=\"jet\", titles=titles[::-1])\n"
     ],
     "language": "python",
     "metadata": {},
     "outputs": []
    },
    {
     "cell_type": "code",
     "collapsed": false,
     "input": [
      "data = fslsub.get_data()\n",
      "data = data.astype(\"float\") \n",
      "minmax = [(data[...,vol].min(), data[...,vol].max()) for vol in range(data.shape[3])]  \n",
      "print minmax\n",
      "\n",
      "# indices of Left and Rigth Cereb White matter and cereb cortex\n",
      "idx = [i for i in range(data.shape[3]) if i not in [0,1,11,12]]\n",
      "data = data[...,idx]\n",
      "\n",
      "#print fslsub.get_affine()\n",
      "mask_outside = np.where(data <= 0, 1, 0)\n",
      "print mask_outside.shape\n",
      "mask3d_outside = mask_outside.prod(axis=3)\n",
      "labels = data.argmax(axis=3)\n",
      "labels_sub = np.where(mask3d_outside==1,-1,labels)\n",
      "print labels_sub.min(), labels_sub.max()"
     ],
     "language": "python",
     "metadata": {},
     "outputs": []
    },
    {
     "cell_type": "code",
     "collapsed": false,
     "input": [
      "x,y,z = 25,35,25\n",
      "pos = [[x, slice(None), slice(None)],\n",
      "       [slice(None), y, slice(None)],\n",
      "       [slice(None), slice(None), z]]\n",
      "\n",
      "show_imgs([labels_sub]*3, pos[::-1], cmap=\"jet\", titles=titles[::-1])\n",
      "\n",
      "#tmp = np.where(labels_sub==1 ,1, -1) # + np.where(labels_sub==10 ,1, -1)\n",
      "#show_imgs([tmp, tmp, tmp], pos[::-1], cmap=\"jet\", titles=titles[::-1])\n",
      "\n",
      "#plt.imshow(tmp[pos], cmap=\"jet\", interpolation=\"nearest\")"
     ],
     "language": "python",
     "metadata": {},
     "outputs": []
    },
    {
     "cell_type": "code",
     "collapsed": false,
     "input": [
      "import regions as reg"
     ],
     "language": "python",
     "metadata": {},
     "outputs": []
    },
    {
     "cell_type": "code",
     "collapsed": false,
     "input": [
      "reg.__version__\n"
     ],
     "language": "python",
     "metadata": {},
     "outputs": []
    },
    {
     "cell_type": "code",
     "collapsed": false,
     "input": [
      "cort = reg.helpers.harvard_oxford_atlas('cort')"
     ],
     "language": "python",
     "metadata": {},
     "outputs": []
    },
    {
     "cell_type": "code",
     "collapsed": false,
     "input": [
      "print cort.label_map\n"
     ],
     "language": "python",
     "metadata": {},
     "outputs": []
    },
    {
     "cell_type": "code",
     "collapsed": false,
     "input": [
      "import os.path as osp\n",
      "\n",
      "files_path = osp.abspath(reg.__file__)\n",
      "_atlases = osp.join(osp.split(files_path)[0], 'atlases')\n",
      "print files_path\n"
     ],
     "language": "python",
     "metadata": {},
     "outputs": []
    },
    {
     "cell_type": "code",
     "collapsed": false,
     "input": [
      "#region_path = osp.split(files_path)[0]\n",
      "#prob_atlas = osp.join(region_path, 'prob_atlas.py')\n",
      "#print prob_atlas"
     ],
     "language": "python",
     "metadata": {},
     "outputs": []
    },
    {
     "cell_type": "code",
     "collapsed": false,
     "input": [
      "USER = osp.expanduser('~')\n",
      "IMGDIR = osp.join(USER,'code','regions','regions','atlases')\n",
      "FSLCort = osp.join(IMGDIR,\"HarvardOxford-cort-prob-2mm.nii.gz\")\n",
      "xmllabels = '%s/HarvardOxford-Cortical.xml' % IMGDIR\n",
      "fslcort = nib.load(FSLCort)\n",
      "data = fslcort.get_data().astype(\"float\") / 100.0\n",
      "affine = fslcort.get_affine()\n",
      "print data.dtype"
     ],
     "language": "python",
     "metadata": {},
     "outputs": []
    },
    {
     "cell_type": "heading",
     "level": 2,
     "metadata": {},
     "source": [
      "Import Cortical atlas"
     ]
    },
    {
     "cell_type": "code",
     "collapsed": false,
     "input": [
      "#del C, d, a, l\n",
      "%run /home/jb/code/regions/regions/prob_atlas.py"
     ],
     "language": "python",
     "metadata": {},
     "outputs": []
    },
    {
     "cell_type": "heading",
     "level": 3,
     "metadata": {},
     "source": [
      "import cortical 1mm"
     ]
    },
    {
     "cell_type": "code",
     "collapsed": false,
     "input": [
      "# load 1mm data\n",
      "IMGDIR = osp.join(USER,'code','regions','regions','atlases')\n",
      "atlas_file = 'HarvardOxford-cort-prob-1mm.nii.gz'\n",
      "atlas_labels = 'HarvardOxford-Cortical.xml'\n",
      "\n",
      "(d, a, l) = load_atlas(atlas_file, IMGDIR, atlas_labels)\n",
      "d = d/100. # make it probability\n",
      "\n",
      "C = ProbAtlas(d, a, l)\n",
      "print C.shape"
     ],
     "language": "python",
     "metadata": {},
     "outputs": []
    },
    {
     "cell_type": "code",
     "collapsed": false,
     "input": [
      "pos = [slice(None), slice(None), 60]\n",
      "plt.imshow(C.mask(.25)[pos], cmap=\"gray\", interpolation=\"nearest\")"
     ],
     "language": "python",
     "metadata": {},
     "outputs": []
    },
    {
     "cell_type": "code",
     "collapsed": false,
     "input": [
      "print d[...,24].shape\n",
      "\n",
      "x,y,z = 91,175,45\n",
      "pos = [[x, slice(None), slice(None)],\n",
      "       [slice(None), y, slice(None)],\n",
      "       [slice(None), slice(None), z]]\n",
      "\n",
      "titles = [\"sagittal\", \"coronal\", \"axial\"]\n",
      "# print [k for k in plt.cm.datad.keys() if not k.endswith('_r')]\n",
      "\n",
      "#plt.imshow(labels_cort[pos], cmap=\"flag\", interpolation=\"nearest\")\n",
      "show_imgs([d[...,24]]*3, pos[::-1], cmap=\"jet\", titles=titles[::-1])"
     ],
     "language": "python",
     "metadata": {},
     "outputs": []
    },
    {
     "cell_type": "heading",
     "level": 3,
     "metadata": {},
     "source": [
      "Cut the cortical atlas in right left components"
     ]
    },
    {
     "cell_type": "code",
     "collapsed": false,
     "input": [
      "print C.affine"
     ],
     "language": "python",
     "metadata": {},
     "outputs": []
    },
    {
     "cell_type": "code",
     "collapsed": false,
     "input": [
      "# the right part of the brain in real space is the 91:\n",
      "mask = np.zeros_like(C._data[...,0])\n",
      "xyz = [100, 109, 91, 1]\n",
      "print \"on the left: \",  C.affine.dot(xyz)\n",
      "xyz = [50, 109, 91, 1]\n",
      "print \"on the right: \", C.affine.dot(xyz)\n",
      "mask[:data.shape[0]/2,:,:] = 1"
     ],
     "language": "python",
     "metadata": {},
     "outputs": []
    },
    {
     "cell_type": "code",
     "collapsed": false,
     "input": [
      "(r_d, r_a, r_l) = C.keep_mask(mask, 'Right_', do_not_cut=range(24,32), cut_value=0., verbose=1)"
     ],
     "language": "python",
     "metadata": {},
     "outputs": []
    },
    {
     "cell_type": "code",
     "collapsed": false,
     "input": [
      "C = ProbAtlas(r_d, r_a, r_l)"
     ],
     "language": "python",
     "metadata": {},
     "outputs": []
    },
    {
     "cell_type": "heading",
     "level": 3,
     "metadata": {},
     "source": [
      "Resample to 2 mm with continuous sampling:"
     ]
    },
    {
     "cell_type": "code",
     "collapsed": false,
     "input": [
      "# get 2mm affine\n",
      "FSLCort2mm = osp.join(IMGDIR,\"HarvardOxford-cort-prob-2mm.nii.gz\")\n",
      "fslcort2mm = nib.load(FSLCort2mm)\n",
      "aff2mm = fslcort2mm.get_affine()\n",
      "print aff2mm\n",
      "shape2mm = fslcort2mm.get_data().shape[:-1]"
     ],
     "language": "python",
     "metadata": {},
     "outputs": []
    },
    {
     "cell_type": "code",
     "collapsed": false,
     "input": [
      "data2mm = C.resample((shape2mm, aff2mm), interpolation='continuous')\n",
      "\n",
      "Cr = ProbAtlas(data2mm, aff2mm, r_l)"
     ],
     "language": "python",
     "metadata": {},
     "outputs": []
    },
    {
     "cell_type": "heading",
     "level": 3,
     "metadata": {},
     "source": [
      "Do this again for the left side:"
     ]
    },
    {
     "cell_type": "code",
     "collapsed": false,
     "input": [
      "# load 1mm data\n",
      "IMGDIR = osp.join(USER,'code','regions','regions','atlases')\n",
      "atlas_file = 'HarvardOxford-cort-prob-1mm.nii.gz'\n",
      "atlas_labels = 'HarvardOxford-Cortical.xml'\n",
      "\n",
      "(d, a, l) = load_atlas(atlas_file, IMGDIR, atlas_labels)\n",
      "d = d/100. # make it probability\n",
      "\n",
      "C = ProbAtlas(d, a, l)\n",
      "\n",
      "# the left part of the brain in real space is the 91:\n",
      "mask = np.zeros_like(d[...,0])\n",
      "mask[C.shape[0]/2:,:,:] = 1.\n",
      "mask.shape"
     ],
     "language": "python",
     "metadata": {},
     "outputs": []
    },
    {
     "cell_type": "code",
     "collapsed": false,
     "input": [
      "(l_d, l_a, l_l) = C.keep_mask(mask, 'Left_', do_not_cut=range(24,32), cut_value=0., verbose=1)"
     ],
     "language": "python",
     "metadata": {},
     "outputs": []
    },
    {
     "cell_type": "code",
     "collapsed": false,
     "input": [
      "C = ProbAtlas(l_d, l_a, l_l)\n",
      "data2mm = C.resample((shape2mm, aff2mm), interpolation='continuous')"
     ],
     "language": "python",
     "metadata": {},
     "outputs": []
    },
    {
     "cell_type": "code",
     "collapsed": false,
     "input": [
      "Cl = ProbAtlas(data2mm, aff2mm, l_l)"
     ],
     "language": "python",
     "metadata": {},
     "outputs": []
    },
    {
     "cell_type": "code",
     "collapsed": false,
     "input": [
      "Cr.rm_rois(range(24,32))\n"
     ],
     "language": "python",
     "metadata": {},
     "outputs": []
    },
    {
     "cell_type": "code",
     "collapsed": false,
     "input": [
      "Cr.nrois"
     ],
     "language": "python",
     "metadata": {},
     "outputs": []
    },
    {
     "cell_type": "code",
     "collapsed": false,
     "input": [
      "Cl.append(Cr)"
     ],
     "language": "python",
     "metadata": {},
     "outputs": []
    },
    {
     "cell_type": "heading",
     "level": 2,
     "metadata": {},
     "source": [
      "Import Sub-Cortical Atlas"
     ]
    },
    {
     "cell_type": "code",
     "collapsed": false,
     "input": [
      "IMGDIR = osp.join(USER,'code','regions','regions','atlases')\n",
      "\n",
      "atlas_file = 'HarvardOxford-sub-prob-2mm.nii.gz'\n",
      "atlas_labels = 'HarvardOxford-Subcortical.xml'\n",
      "\n",
      "(d, a, l) = load_atlas(atlas_file, IMGDIR, atlas_labels)\n"
     ],
     "language": "python",
     "metadata": {},
     "outputs": []
    },
    {
     "cell_type": "code",
     "collapsed": false,
     "input": [
      "S = ProbAtlas(d/100., a, l)\n",
      "print S.labels, S.affine"
     ],
     "language": "python",
     "metadata": {},
     "outputs": []
    },
    {
     "cell_type": "heading",
     "level": 2,
     "metadata": {},
     "source": [
      "import Cerebelum atlas"
     ]
    },
    {
     "cell_type": "code",
     "collapsed": false,
     "input": [
      "ATLsubDIR = 'Cerebellum-MNIflirt-MRICroN'\n",
      "IMGDIR = osp.join(USER,'code','regions','regions','atlases',ATLsubDIR)\n",
      "\n",
      "atlas_labels = \"Cerebellum_MNIflirt.xml\"\n",
      "atlas_fname = osp.join('', \"Cerebellum-MNIflirt-prob.nii\")\n",
      "\n",
      "(d, a, l) = load_atlas(atlas_fname, IMGDIR, atlas_labels)"
     ],
     "language": "python",
     "metadata": {},
     "outputs": []
    },
    {
     "cell_type": "code",
     "collapsed": false,
     "input": [
      "d.shape"
     ],
     "language": "python",
     "metadata": {},
     "outputs": []
    },
    {
     "cell_type": "code",
     "collapsed": false,
     "input": [
      "B = ProbAtlas(d/0.256, a, l)\n",
      "#print B.labels, B.affine\n",
      "print \"\\nMax values : \", [B._data[...,idx].max() for idx in range(B.nrois)]\n",
      "print \"\\nMin values : \", [B._data[...,idx].min() for idx in range(B.nrois)]"
     ],
     "language": "python",
     "metadata": {},
     "outputs": []
    },
    {
     "cell_type": "code",
     "collapsed": false,
     "input": [
      "#parsedtree = etree.parse(osp.join(IMGDIR,atlas_labels))\n",
      "#print parsedtree.findall('.//label')\n",
      "#fname_labels = osp.join(IMGDIR, atlas_labels)\n",
      "#import xml.etree.ElementTree as etree\n",
      "#etree.tostringlist(fname_labels)"
     ],
     "language": "python",
     "metadata": {},
     "outputs": []
    },
    {
     "cell_type": "code",
     "collapsed": false,
     "input": [
      "# checking\n",
      "cereb = nib.load(osp.join(IMGDIR,atlas_fname))\n",
      "cereb_data = cereb.get_data()\n",
      "print cereb_data.shape\n",
      "print cereb.get_affine()"
     ],
     "language": "python",
     "metadata": {},
     "outputs": []
    },
    {
     "cell_type": "code",
     "collapsed": false,
     "input": [
      "#import nipy\n",
      "#from nipy.algorithms.resample import resample_img2img \n",
      "# pb here : I dont know how to put a nearest neighbor interpolation"
     ],
     "language": "python",
     "metadata": {},
     "outputs": []
    },
    {
     "cell_type": "heading",
     "level": 3,
     "metadata": {},
     "source": [
      "Resampling"
     ]
    },
    {
     "cell_type": "code",
     "collapsed": false,
     "input": [
      "# with regions.utils\n",
      "from regions.utils import resample\n",
      "source = (B._data, B.affine)\n",
      "target = (C._data[...,0], C.affine) # give the first roi\n",
      "(re_data, re_affine)  = resample(source, target, interpolation='nearest', return_affine=True)"
     ],
     "language": "python",
     "metadata": {},
     "outputs": []
    },
    {
     "cell_type": "code",
     "collapsed": false,
     "input": [
      "print B.shape\n",
      "print C._data.shape\n",
      "print re_data.shape\n",
      "C.shape\n",
      "print C.affine\n",
      "print np.all(re_affine == C.affine)\n"
     ],
     "language": "python",
     "metadata": {},
     "outputs": []
    },
    {
     "cell_type": "code",
     "collapsed": false,
     "input": [
      "idxroi = 12\n",
      "x,y,z = 50,70,24\n",
      "#x,y,z = 25,35,12\n",
      "pos = [[x, slice(None), slice(None)],\n",
      "       [slice(None), y, slice(None)],\n",
      "       [slice(None), slice(None), z]]\n",
      "\n",
      "titles = [\"sagittal\", \"coronal\", \"axial\"]\n",
      "# print [k for k in plt.cm.datad.keys() if not k.endswith('_r')]\n",
      "\n",
      "#plt.imshow(labels_cort[pos], cmap=\"flag\", interpolation=\"nearest\")\n",
      "show_imgs([re_data[...,idxroi]]*3, pos[::-1], cmap=\"jet\", titles=titles[::-1])\n"
     ],
     "language": "python",
     "metadata": {},
     "outputs": []
    },
    {
     "cell_type": "code",
     "collapsed": false,
     "input": [
      "idxroi = 12\n",
      "#x,y,z = 50,70,24\n",
      "x,y,z = 25,35,12\n",
      "\n",
      "\n",
      "pos = [[x, slice(None), slice(None)],\n",
      "       [slice(None), y, slice(None)],\n",
      "       [slice(None), slice(None), z]]\n",
      "\n",
      "titles = [\"sagittal\", \"coronal\", \"axial\"]\n",
      "# print [k for k in plt.cm.datad.keys() if not k.endswith('_r')]\n",
      "\n",
      "#plt.imshow(labels_cort[pos], cmap=\"flag\", interpolation=\"nearest\")\n",
      "show_imgs([B._data[...,idxroi]]*3, pos[::-1], cmap=\"jet\", titles=titles[::-1])\n"
     ],
     "language": "python",
     "metadata": {},
     "outputs": []
    },
    {
     "cell_type": "code",
     "collapsed": false,
     "input": [
      "#print [B._data[...,i].max() for i in range(B.nrois)]"
     ],
     "language": "python",
     "metadata": {},
     "outputs": []
    },
    {
     "cell_type": "heading",
     "level": 3,
     "metadata": {},
     "source": [
      "Resampling with the atlas method:"
     ]
    },
    {
     "cell_type": "code",
     "collapsed": false,
     "input": [
      "%run /home/jb/code/regions/regions/prob_atlas.py\n",
      "# %debug"
     ],
     "language": "python",
     "metadata": {},
     "outputs": []
    },
    {
     "cell_type": "code",
     "collapsed": false,
     "input": [
      "#source = (B._data, B.affine)\n",
      "#target = (C._data[...,0].shape, C.affine) # give the first roi shape\n",
      "#B_data_resample = B.resample(target, interpolation=\"nearest\")\n",
      "#print B_data_resample.shape, re_data.shape\n",
      "#np.all(B_data_resample == re_data)"
     ],
     "language": "python",
     "metadata": {},
     "outputs": []
    },
    {
     "cell_type": "code",
     "collapsed": false,
     "input": [
      "B.shape"
     ],
     "language": "python",
     "metadata": {},
     "outputs": []
    },
    {
     "cell_type": "code",
     "collapsed": false,
     "input": [
      "C.shape"
     ],
     "language": "python",
     "metadata": {},
     "outputs": []
    },
    {
     "cell_type": "code",
     "collapsed": false,
     "input": [
      "(dx, dy, dz, nrois) = C.shape\n",
      "rmsk = np.ones(C.shape)\n",
      "rmsk[:dx/2,:,:] = 0\n",
      "\n",
      "(d, a, l) = C.keep_mask(rmsk, \"Right_\", range(24,32), verbose=1)\n",
      "print d.shape"
     ],
     "language": "python",
     "metadata": {},
     "outputs": []
    },
    {
     "cell_type": "code",
     "collapsed": false,
     "input": [
      "print \"\\nMax values : \", [d[...,idx].max() for idx in range(C.nrois)]\n",
      "#print \"\\nMin values : \", [d[...,idx].min() for idx in range(C.nrois)]"
     ],
     "language": "python",
     "metadata": {},
     "outputs": []
    },
    {
     "cell_type": "code",
     "collapsed": false,
     "input": [
      "d.shape\n",
      "print \"\\nMax values : \", [d[:91,:,:,idx].max() for idx in range(C.nrois)]"
     ],
     "language": "python",
     "metadata": {},
     "outputs": []
    },
    {
     "cell_type": "code",
     "collapsed": false,
     "input": [
      "plt.imshow(C._data[70,:,:,:].sum(axis=-1), cmap=\"gray\")"
     ],
     "language": "python",
     "metadata": {},
     "outputs": []
    },
    {
     "cell_type": "code",
     "collapsed": false,
     "input": [
      "print l"
     ],
     "language": "python",
     "metadata": {},
     "outputs": []
    },
    {
     "cell_type": "code",
     "collapsed": false,
     "input": [
      "l.index('Frontal Medial Cortex')"
     ],
     "language": "python",
     "metadata": {},
     "outputs": []
    },
    {
     "cell_type": "code",
     "collapsed": false,
     "input": [
      "np.unravel_index(np.argmax(d[:,:,:,32]), d.shape[:-1])"
     ],
     "language": "python",
     "metadata": {},
     "outputs": []
    },
    {
     "cell_type": "code",
     "collapsed": false,
     "input": [
      "np.unravel_index(5924558, d.shape[:-1]"
     ],
     "language": "python",
     "metadata": {},
     "outputs": []
    },
    {
     "cell_type": "code",
     "collapsed": false,
     "input": [
      "def make_data():\n",
      "    d = np.arange(4*4*3*3).reshape((4,4,3,3)) + 1.\n",
      "    d = d/d.max() # d values between 0 and 1.\n",
      "\n",
      "    # make the last \"slice\" zero:\n",
      "    d[:,:,2,:] = 0\n",
      "    a = np.eye(4)\n",
      "    # l = [('1','r1'),('2','r2'),('3','r3')]\n",
      "    l = ['r1','r2','r3']\n",
      "    return (d, a, l) "
     ],
     "language": "python",
     "metadata": {},
     "outputs": []
    },
    {
     "cell_type": "code",
     "collapsed": false,
     "input": [
      "T = ProbAtlas(*make_data())"
     ],
     "language": "python",
     "metadata": {},
     "outputs": []
    },
    {
     "cell_type": "code",
     "collapsed": false,
     "input": [
      "T.indexof(T.labels)"
     ],
     "language": "python",
     "metadata": {},
     "outputs": []
    },
    {
     "cell_type": "code",
     "collapsed": false,
     "input": [],
     "language": "python",
     "metadata": {},
     "outputs": []
    }
   ],
   "metadata": {}
  }
 ]
}