{
 "metadata": {
  "name": "",
  "signature": "sha256:30a6914a300bb322064643a15124e617f30c62d41429c714730cd36f046689bc"
 },
 "nbformat": 3,
 "nbformat_minor": 0,
 "worksheets": [
  {
   "cells": [
    {
     "cell_type": "heading",
     "level": 1,
     "metadata": {},
     "source": [
      "Computing the covariance between regions of the atlas"
     ]
    },
    {
     "cell_type": "code",
     "collapsed": false,
     "input": [
      "import os\n",
      "import os.path as osp\n",
      "import sys\n",
      "import numpy as np\n",
      "import scipy.linalg as lin\n",
      "import nibabel as nib\n",
      "import nipy\n",
      "import nilearn as nil\n",
      "import sklearn as skl\n",
      "from glob import glob\n",
      "import json\n",
      "from __future__ import print_function"
     ],
     "language": "python",
     "metadata": {},
     "outputs": [],
     "prompt_number": 1,
     "trusted": true
    },
    {
     "cell_type": "code",
     "collapsed": false,
     "input": [
      "HOME = osp.expanduser('~')\n",
      "DATADIR = osp.join(HOME,'data','adhd200','NeuroIMAGE')\n",
      "filenames = glob(osp.join(DATADIR,'*','sfnwmr*'))\n",
      "\n",
      "ATLASDIR = osp.join(HOME,'code','regions','regions','atlases','jba','v02')"
     ],
     "language": "python",
     "metadata": {},
     "outputs": [],
     "prompt_number": 2,
     "trusted": true
    },
    {
     "cell_type": "code",
     "collapsed": false,
     "input": [
      "filenames;\n",
      "#atlas = nib.load(atlasfilename)\n",
      "#print(atlas.get_affine(), atlas.shape)\n",
      "#fimg = nib.load(filenames[0])\n",
      "#print(fimg.get_affine(), fimg.shape)"
     ],
     "language": "python",
     "metadata": {},
     "outputs": [
      {
       "metadata": {},
       "output_type": "pyout",
       "prompt_number": 3,
       "text": [
        "['/home/jb/data/adhd200/NeuroIMAGE/2352986/sfnwmrda2352986_session_1_rest_1.nii.gz',\n",
        " '/home/jb/data/adhd200/NeuroIMAGE/8991934/sfnwmrda8991934_session_1_rest_1.nii.gz',\n",
        " '/home/jb/data/adhd200/NeuroIMAGE/1411495/sfnwmrda1411495_session_1_rest_1.nii.gz',\n",
        " '/home/jb/data/adhd200/NeuroIMAGE/3048588/sfnwmrda3048588_session_1_rest_1.nii.gz',\n",
        " '/home/jb/data/adhd200/NeuroIMAGE/1208586/sfnwmrda1208586_session_1_rest_1.nii.gz',\n",
        " '/home/jb/data/adhd200/NeuroIMAGE/3858891/sfnwmrda3858891_session_1_rest_1.nii.gz',\n",
        " '/home/jb/data/adhd200/NeuroIMAGE/1017176/sfnwmrda1017176_session_1_rest_1.nii.gz',\n",
        " '/home/jb/data/adhd200/NeuroIMAGE/5045355/sfnwmrda5045355_session_1_rest_1.nii.gz',\n",
        " '/home/jb/data/adhd200/NeuroIMAGE/8409791/sfnwmrda8409791_session_1_rest_1.nii.gz',\n",
        " '/home/jb/data/adhd200/NeuroIMAGE/1125505/sfnwmrda1125505_session_1_rest_1.nii.gz',\n",
        " '/home/jb/data/adhd200/NeuroIMAGE/4239636/sfnwmrda4239636_session_1_rest_1.nii.gz',\n",
        " '/home/jb/data/adhd200/NeuroIMAGE/3007585/sfnwmrda3007585_session_1_rest_1.nii.gz',\n",
        " '/home/jb/data/adhd200/NeuroIMAGE/1585708/sfnwmrda1585708_session_1_rest_1.nii.gz',\n",
        " '/home/jb/data/adhd200/NeuroIMAGE/7446626/sfnwmrda7446626_session_1_rest_1.nii.gz',\n",
        " '/home/jb/data/adhd200/NeuroIMAGE/2671604/sfnwmrda2671604_session_1_rest_1.nii.gz',\n",
        " '/home/jb/data/adhd200/NeuroIMAGE/1312097/sfnwmrda1312097_session_1_rest_1.nii.gz',\n",
        " '/home/jb/data/adhd200/NeuroIMAGE/3566449/sfnwmrda3566449_session_1_rest_1.nii.gz',\n",
        " '/home/jb/data/adhd200/NeuroIMAGE/2074737/sfnwmrda2074737_session_1_rest_1.nii.gz',\n",
        " '/home/jb/data/adhd200/NeuroIMAGE/3959823/sfnwmrda3959823_session_1_rest_1.nii.gz',\n",
        " '/home/jb/data/adhd200/NeuroIMAGE/7504392/sfnwmrda7504392_session_1_rest_1.nii.gz',\n",
        " '/home/jb/data/adhd200/NeuroIMAGE/9956994/sfnwmrda9956994_session_1_rest_1.nii.gz',\n",
        " '/home/jb/data/adhd200/NeuroIMAGE/3190461/sfnwmrda3190461_session_1_rest_1.nii.gz',\n",
        " '/home/jb/data/adhd200/NeuroIMAGE/3980079/sfnwmrda3980079_session_1_rest_1.nii.gz',\n",
        " '/home/jb/data/adhd200/NeuroIMAGE/3304956/sfnwmrda3304956_session_1_rest_1.nii.gz',\n",
        " '/home/jb/data/adhd200/NeuroIMAGE/1538046/sfnwmrda1538046_session_1_rest_1.nii.gz',\n",
        " '/home/jb/data/adhd200/NeuroIMAGE/2574674/sfnwmrda2574674_session_1_rest_1.nii.gz',\n",
        " '/home/jb/data/adhd200/NeuroIMAGE/3322144/sfnwmrda3322144_session_1_rest_1.nii.gz',\n",
        " '/home/jb/data/adhd200/NeuroIMAGE/2029723/sfnwmrda2029723_session_1_rest_1.nii.gz',\n",
        " '/home/jb/data/adhd200/NeuroIMAGE/1438162/sfnwmrda1438162_session_1_rest_1.nii.gz',\n",
        " '/home/jb/data/adhd200/NeuroIMAGE/3515506/sfnwmrda3515506_session_1_rest_1.nii.gz',\n",
        " '/home/jb/data/adhd200/NeuroIMAGE/2961243/sfnwmrda2961243_session_1_rest_1.nii.gz',\n",
        " '/home/jb/data/adhd200/NeuroIMAGE/3108222/sfnwmrda3108222_session_1_rest_1.nii.gz',\n",
        " '/home/jb/data/adhd200/NeuroIMAGE/2756846/sfnwmrda2756846_session_1_rest_1.nii.gz',\n",
        " '/home/jb/data/adhd200/NeuroIMAGE/8387093/sfnwmrda8387093_session_1_rest_1.nii.gz',\n",
        " '/home/jb/data/adhd200/NeuroIMAGE/3941358/sfnwmrda3941358_session_1_rest_1.nii.gz',\n",
        " '/home/jb/data/adhd200/NeuroIMAGE/6115230/sfnwmrda6115230_session_1_rest_1.nii.gz',\n",
        " '/home/jb/data/adhd200/NeuroIMAGE/4020830/sfnwmrda4020830_session_1_rest_1.nii.gz',\n",
        " '/home/jb/data/adhd200/NeuroIMAGE/4919979/sfnwmrda4919979_session_1_rest_1.nii.gz',\n",
        " '/home/jb/data/adhd200/NeuroIMAGE/3888614/sfnwmrda3888614_session_1_rest_1.nii.gz',\n",
        " '/home/jb/data/adhd200/NeuroIMAGE/4134561/sfnwmrda4134561_session_1_rest_1.nii.gz',\n",
        " '/home/jb/data/adhd200/NeuroIMAGE/7339173/sfnwmrda7339173_session_1_rest_1.nii.gz',\n",
        " '/home/jb/data/adhd200/NeuroIMAGE/3449233/sfnwmrda3449233_session_1_rest_1.nii.gz',\n",
        " '/home/jb/data/adhd200/NeuroIMAGE/2876903/sfnwmrda2876903_session_1_rest_1.nii.gz',\n",
        " '/home/jb/data/adhd200/NeuroIMAGE/4285031/sfnwmrda4285031_session_1_rest_1.nii.gz',\n",
        " '/home/jb/data/adhd200/NeuroIMAGE/1588809/sfnwmrda1588809_session_1_rest_1.nii.gz',\n",
        " '/home/jb/data/adhd200/NeuroIMAGE/3808273/sfnwmrda3808273_session_1_rest_1.nii.gz',\n",
        " '/home/jb/data/adhd200/NeuroIMAGE/3082137/sfnwmrda3082137_session_1_rest_1.nii.gz',\n",
        " '/home/jb/data/adhd200/NeuroIMAGE/2419464/sfnwmrda2419464_session_1_rest_1.nii.gz']"
       ]
      }
     ],
     "prompt_number": 3,
     "trusted": true
    },
    {
     "cell_type": "code",
     "collapsed": false,
     "input": [
      "# assume both in MNI space - resample \n",
      "from nipy.algorithms.resample import resample_img2img, resample\n",
      "import nipy.core.api as capi # vox2mni\n",
      "from nipy.core.image import image\n",
      "from nipy.core.reference import coordinate_map as cmap\n",
      "from nipy.core.reference.coordinate_system import CoordSysMaker"
     ],
     "language": "python",
     "metadata": {},
     "outputs": [],
     "prompt_number": 4,
     "trusted": true
    },
    {
     "cell_type": "code",
     "collapsed": false,
     "input": [
      "def xyz_affine(big_aff,xyz=[0,1,2], debug=0):\n",
      "    \"\"\"\n",
      "    take a big affine, \n",
      "    and returns the affine constructed with the indices xyz\n",
      "    future : extend to make it return bigger affine than big_aff\n",
      "    \"\"\"\n",
      "    \n",
      "    tmp = big_aff[xyz,:][:,xyz]\n",
      "    trans = big_aff[xyz,-1].reshape((tmp.shape[0],1))\n",
      "    last_row = np.zeros((1,tmp.shape[1]+1))\n",
      "    last_row[0,-1] = 1.\n",
      "    tmp = np.hstack((tmp,trans))\n",
      "    tmp =  np.vstack((tmp, last_row))\n",
      "    if debug: print('\\nold affine:\\n',big_aff, '\\nnew affine:\\n', tmp)\n",
      "\n",
      "    return tmp\n",
      "\n",
      "\n",
      "def resamp(nipy_img, onto_aff, onto_shape, order=3, cval=-1, w2wmap=None, debug=0):\n",
      "    \"\"\"\n",
      "    \"\"\"\n",
      "    arraycoo = 'ijklmnopq'[:len(onto_shape)]\n",
      "    spacecoo = 'xyztrsuvw'[:len(onto_shape)] \n",
      "    if debug: print('\\narraycoo: ', arraycoo,  \n",
      "                     '\\nspacecoo: ', spacecoo, '\\nonto_aff\\n', onto_aff)\n",
      "    \n",
      "    dmaker = CoordSysMaker(arraycoo, 'generic-array')\n",
      "    rmaker = CoordSysMaker(spacecoo, 'generic-scanner')\n",
      "    cm_maker = cmap.CoordMapMaker(dmaker, rmaker)\n",
      "    cmap_out = cm_maker.make_affine(onto_aff)\n",
      "    if debug: print('cmap_out:\\n',cmap_out)\n",
      "    \n",
      "    if w2wmap == None: w2wmap = np.eye(onto_aff.shape[0])\n",
      "    if debug: print('w2wmap:\\n',w2wmap)\n",
      "        \n",
      "    return resample(nipy_img, cmap_out, w2wmap, onto_shape, order=order, cval=cval)\n",
      "    \n",
      "def ioflab(l,labels):\n",
      "    return [ii for (ii,lab) in enumerate(labels) if (l in lab[0])]"
     ],
     "language": "python",
     "metadata": {},
     "outputs": [],
     "prompt_number": 5,
     "trusted": true
    },
    {
     "cell_type": "code",
     "collapsed": false,
     "input": [
      "atlasfilename = osp.join(ATLASDIR, 'jba_0135_c.nii')\n",
      "labelsfilename = osp.join(ATLASDIR, 'jba_0135.labels.npy')\n",
      "\n",
      "atlas = nib.load(atlasfilename)\n",
      "datlas = np.asarray(atlas.get_data())\n",
      "alllbi = np.unique(datlas)\n",
      "labels = np.load(labelsfilename)\n",
      "\n",
      "print(alllbi)\n",
      "for idx in alllbi:\n",
      "    ll = ioflab(idx,labels)\n",
      "    size = (datlas==idx).sum()\n",
      "    if ll != []:\n",
      "        name = labels[ll[0]][1][1]\n",
      "    else:\n",
      "        name = 'no label'\n",
      "    print(idx, size, name)\n"
     ],
     "language": "python",
     "metadata": {},
     "outputs": [
      {
       "output_type": "stream",
       "stream": "stdout",
       "text": [
        "[-116. -100.  -99.  -90.  -89.   -1.    0.    1.    2.    3.    4.    5.\n",
        "    6.    7.    8.    9.   10.   11.   12.   13.   14.   15.   16.   17.\n",
        "   18.   19.   20.   21.   22.   23.   24.   25.   26.   27.   28.   29.\n",
        "   30.   31.   32.   33.   34.   35.   36.   37.   38.   39.   40.   41.\n",
        "   42.   43.   44.   45.   46.   47.   48.   49.   50.   51.   52.   53.\n",
        "   54.   55.   56.   57.   58.   59.   60.   61.   62.   63.   64.   65.\n",
        "   66.   67.   68.   69.   70.   71.   72.   73.   74.   75.   76.   77.\n",
        "   78.   79.   80.   81.   82.   83.   84.   85.   86.   87.   90.   91.\n",
        "   92.   93.   94.   95.   96.   97.  100.  101.  102.  103.  104.  105.\n",
        "  106.  107.  108.  109.  110.  111.  112.  113.  114.  116.  117.  118.\n",
        "  119.  120.  121.  122.  123.  124.  125.  126.  127.  128.  129.  130.\n",
        "  131.  132.  133.  134.]\n",
        "-116.0 1 no label\n",
        "-100.0 1024 no label\n",
        "-99.0 37248 no label\n",
        "-90.0 1296 no label\n",
        "-89.0 28458 no label\n",
        "-1.0 635047 no label\n",
        "0.0 9688 Left_Frontal Pole\n",
        "1.0 1334 Left_Insular Cortex\n",
        "2.0 3500 Left_Superior Frontal Gyrus\n",
        "3.0 3437 Left_Middle Frontal Gyrus\n",
        "4.0 842 Left_Inferior Frontal Gyrus, pars triangularis\n",
        "5.0 940 Left_Inferior Frontal Gyrus, pars opercularis\n",
        "6.0 4864 Left_Precentral Gyrus\n",
        "7.0 3745 Left_Temporal Pole\n",
        "8.0 418 Left_Superior Temporal Gyrus, anterior division\n",
        "9.0 744 Left_Superior Temporal Gyrus, posterior division\n",
        "10.0 645 Left_Middle Temporal Gyrus, anterior division\n",
        "11.0"
       ]
      },
      {
       "output_type": "stream",
       "stream": "stdout",
       "text": [
        " 1706 Left_Middle Temporal Gyrus, posterior division\n",
        "12.0 1041 Left_Middle Temporal Gyrus, temporooccipital part\n",
        "13.0 622 Left_Inferior Temporal Gyrus, anterior division\n",
        "14.0 1667 Left_Inferior Temporal Gyrus, posterior division\n",
        "15.0 868 Left_Inferior Temporal Gyrus, temporooccipital part\n",
        "16.0 4546 Left_Postcentral Gyrus\n",
        "17.0 1705 Left_Superior Parietal Lobule\n",
        "18.0 1224 Left_Supramarginal Gyrus, anterior division\n",
        "19.0 1389 Left_Supramarginal Gyrus, posterior division\n",
        "20.0 1057 Left_Angular Gyrus\n",
        "21.0 6189 Left_Lateral Occipital Cortex, superior division\n",
        "22.0 2635 Left_Lateral Occipital Cortex, inferior division\n",
        "23.0 606 Left_Intracalcarine Cortex\n",
        "24.0 1012 Frontal Medial Cortex\n",
        "25.0 1480 Juxtapositional Lobule Cortex (formerly Supplementary Motor Cortex)\n",
        "26.0 1413 Subcallosal Cortex\n",
        "27.0 2642 Paracingulate Gyrus\n",
        "28.0 2197 Cingulate Gyrus, anterior division\n",
        "29.0"
       ]
      },
      {
       "output_type": "stream",
       "stream": "stdout",
       "text": [
        " 2109 Cingulate Gyrus, posterior division\n",
        "30.0 5386 Precuneous Cortex\n",
        "31.0 1165 Cuneal Cortex\n",
        "32.0 2118 Left_Frontal Orbital Cortex\n",
        "33.0 835 Left_Parahippocampal Gyrus, anterior division\n",
        "34.0 390 Left_Parahippocampal Gyrus, posterior division\n",
        "35.0 1295 Left_Lingual Gyrus\n",
        "36.0 534 Left_Temporal Fusiform Cortex, anterior division\n",
        "37.0 1082 Left_Temporal Fusiform Cortex, posterior division\n",
        "38.0 508 Left_Temporal Occipital Fusiform Cortex\n",
        "39.0 681 Left_Occipital Fusiform Gyrus\n",
        "40.0 350 Left_Frontal Operculum Cortex\n",
        "41.0 949 Left_Central Opercular Cortex\n",
        "42.0 534 Left_Parietal Operculum Cortex\n",
        "43.0 363 Left_Planum Polare\n",
        "44.0 297 Left_Heschl's Gyrus (includes H1 and H2)\n",
        "45.0 563 Left_Planum Temporale\n",
        "46.0 38 Left_Supracalcarine Cortex\n",
        "47.0"
       ]
      },
      {
       "output_type": "stream",
       "stream": "stdout",
       "text": [
        " 4399 Left_Occipital Pole\n",
        "48.0 11044 Right_Frontal Pole\n",
        "49.0 1225 Right_Insular Cortex\n",
        "50.0 3241 Right_Superior Frontal Gyrus\n",
        "51.0 2667 Right_Middle Frontal Gyrus\n",
        "52.0 720 Right_Inferior Frontal Gyrus, pars triangularis\n",
        "53.0 706 Right_Inferior Frontal Gyrus, pars opercularis\n",
        "54.0 4319 Right_Precentral Gyrus\n",
        "55.0 3581 Right_Temporal Pole\n",
        "56.0 359 Right_Superior Temporal Gyrus, anterior division\n",
        "57.0 646 Right_Superior Temporal Gyrus, posterior division\n",
        "58.0 569 Right_Middle Temporal Gyrus, anterior division\n",
        "59.0 1581 Right_Middle Temporal Gyrus, posterior division\n",
        "60.0 1131 Right_Middle Temporal Gyrus, temporooccipital part\n",
        "61.0 472 Right_Inferior Temporal Gyrus, anterior division\n",
        "62.0 1548 Right_Inferior Temporal Gyrus, posterior division\n",
        "63.0 944 Right_Inferior Temporal Gyrus, temporooccipital part\n",
        "64.0 3572 Right_Postcentral Gyrus\n",
        "65.0"
       ]
      },
      {
       "output_type": "stream",
       "stream": "stdout",
       "text": [
        " 1432 Right_Superior Parietal Lobule\n",
        "66.0 900 Right_Supramarginal Gyrus, anterior division\n",
        "67.0 1247 Right_Supramarginal Gyrus, posterior division\n",
        "68.0 1461 Right_Angular Gyrus\n",
        "69.0 5427 Right_Lateral Occipital Cortex, superior division\n",
        "70.0 2431 Right_Lateral Occipital Cortex, inferior division\n",
        "71.0 555 Right_Intracalcarine Cortex\n",
        "72.0 1780 Right_Frontal Orbital Cortex\n",
        "73.0 903 Right_Parahippocampal Gyrus, anterior division\n",
        "74.0 302 Right_Parahippocampal Gyrus, posterior division\n",
        "75.0 1458 Right_Lingual Gyrus\n",
        "76.0 474 Right_Temporal Fusiform Cortex, anterior division\n",
        "77.0 984 Right_Temporal Fusiform Cortex, posterior division\n",
        "78.0 531 Right_Temporal Occipital Fusiform Cortex\n",
        "79.0 610 Right_Occipital Fusiform Gyrus\n",
        "80.0 266 Right_Frontal Operculum Cortex\n",
        "81.0 774 Right_Central Opercular Cortex\n",
        "82.0"
       ]
      },
      {
       "output_type": "stream",
       "stream": "stdout",
       "text": [
        " 440 Right_Parietal Operculum Cortex\n",
        "83.0 301 Right_Planum Polare\n",
        "84.0 225 Right_Heschl's Gyrus (includes H1 and H2)\n",
        "85.0 330 Right_Planum Temporale\n",
        "86.0 144 Right_Supracalcarine Cortex\n",
        "87.0 4317 Right_Occipital Pole\n",
        "90.0 1591 Left Thalamus\n",
        "91.0 571 Left Caudate\n",
        "92.0 944 Left Putamen\n",
        "93.0 312 Left Pallidum\n",
        "94.0 6229 Brain-Stem\n",
        "95.0 900 Left Hippocampus\n",
        "96.0 441 Left Amygdala\n",
        "97.0 146 Left Accumbens\n",
        "100.0 1402 Right Thalamus\n",
        "101.0 515 Right Caudate\n",
        "102.0 824 Right Putamen\n",
        "103.0"
       ]
      },
      {
       "output_type": "stream",
       "stream": "stdout",
       "text": [
        " 266 Right Pallidum\n",
        "104.0 778 Right Hippocampus\n",
        "105.0 477 Right Amygdala\n",
        "106.0 101 Right Accumbens\n",
        "107.0 1012 Left_I_IV\n",
        "108.0 1043 Right_I_IV\n",
        "109.0 867 Left_V\n",
        "110.0 886 Right_V\n",
        "111.0 2087 Left_VI\n",
        "112.0 440 Vermis_VI\n",
        "113.0 1879 Right_VI\n",
        "114.0 3482 Left_CrusI\n",
        "116.0 3493 Right_CrusI\n",
        "117.0 2666 Left_CrusII\n",
        "118.0 75 Vermis_CrusII\n",
        "119.0 2768 Right_CrusII\n",
        "120.0 1139 Left_VIIb\n",
        "121.0 28 Vermis_VIIb\n",
        "122.0"
       ]
      },
      {
       "output_type": "stream",
       "stream": "stdout",
       "text": [
        " 1225 Right_VIIb\n",
        "123.0 1195 Left_VIIIa\n",
        "124.0 278 Vermis_VIIIa\n",
        "125.0 1167 Right_VIIIa\n",
        "126.0 1204 Left_VIIIb\n",
        "127.0 102 Vermis_VIIIb\n",
        "128.0 1057 Right_VIIIb\n",
        "129.0 931 Left_IX\n",
        "130.0 151 Vermis_IX\n",
        "131.0 935 Right_IX\n",
        "132.0 258 Left_X\n",
        "133.0 72 Vermis_X\n",
        "134.0 249 Right_X\n"
       ]
      }
     ],
     "prompt_number": 6,
     "trusted": true
    },
    {
     "cell_type": "code",
     "collapsed": false,
     "input": [
      "fimg = nipy.load_image(filenames[0])\n",
      "atlas = nipy.load_image(atlasfilename)\n",
      "print(fimg.shape, atlas.shape)\n",
      "atlas.affine\n",
      "fimg.affine"
     ],
     "language": "python",
     "metadata": {},
     "outputs": [
      {
       "output_type": "stream",
       "stream": "stdout",
       "text": [
        "(49, 58, 47, 257) (91, 109, 91)\n"
       ]
      },
      {
       "metadata": {},
       "output_type": "pyout",
       "prompt_number": 7,
       "text": [
        "array([[  -4.        ,   -0.        ,   -0.        ,    0.        ,   96.        ],\n",
        "       [  -0.        ,    4.        ,   -0.        ,    0.        , -132.        ],\n",
        "       [   0.        ,    0.        ,    4.        ,    0.        ,  -70.        ],\n",
        "       [   0.        ,    0.        ,    0.        ,    1.96000004,    0.        ],\n",
        "       [   0.        ,    0.        ,    0.        ,    0.        ,    1.        ]])"
       ]
      }
     ],
     "prompt_number": 7,
     "trusted": true
    },
    {
     "cell_type": "heading",
     "level": 3,
     "metadata": {},
     "source": [
      "Resample the atlas on the image space"
     ]
    },
    {
     "cell_type": "code",
     "collapsed": false,
     "input": [
      "keep_coord = [0,1,2]\n",
      "aff = xyz_affine(fimg.affine, xyz=keep_coord, debug=0)\n",
      "out_shape = tuple([fimg.shape[ii] for ii in keep_coord])\n",
      "\n",
      "ratlas = resamp(atlas, aff, out_shape, order=0, debug=0, cval=-1.)"
     ],
     "language": "python",
     "metadata": {},
     "outputs": [],
     "prompt_number": 8,
     "trusted": true
    },
    {
     "cell_type": "code",
     "collapsed": false,
     "input": [
      "dimg = fimg.get_data()\n",
      "datlas = ratlas.get_data()\n",
      "alllab = np.unique(datlas)\n",
      "print(alllab,'\\n',datlas.shape)"
     ],
     "language": "python",
     "metadata": {},
     "outputs": [
      {
       "output_type": "stream",
       "stream": "stdout",
       "text": [
        "[-100.  -99.  -90.  -89.   -1.    0.    1.    2.    3.    4.    5.    6.\n",
        "    7.    8.    9.   10.   11.   12.   13.   14.   15.   16.   17.   18.\n",
        "   19.   20.   21.   22.   23.   24.   25.   26.   27.   28.   29.   30.\n",
        "   31.   32.   33.   34.   35.   36.   37.   38.   39.   40.   41.   42.\n",
        "   43.   44.   45.   46.   47.   48.   49.   50.   51.   52.   53.   54.\n",
        "   55.   56.   57.   58.   59.   60.   61.   62.   63.   64.   65.   66.\n",
        "   67.   68.   69.   70.   71.   72.   73.   74.   75.   76.   77.   78.\n",
        "   79.   80.   81.   82.   83.   84.   85.   86.   87.   90.   91.   92.\n",
        "   93.   94.   95.   96.   97.  100.  101.  102.  103.  104.  105.  106.\n",
        "  107.  108.  109.  110.  111.  112.  113.  114.  116.  117.  118.  119.\n",
        "  120.  121.  122.  123.  124.  125.  126.  127.  128.  129.  130.  131.\n",
        "  132.  133.  134.] \n",
        " (49, 58, 47)\n"
       ]
      }
     ],
     "prompt_number": 9,
     "trusted": true
    },
    {
     "cell_type": "code",
     "collapsed": false,
     "input": [
      "import pylab as plt\n",
      "%pylab inline --no-import-all\n",
      "import scipy.ndimage as ndi"
     ],
     "language": "python",
     "metadata": {},
     "outputs": [
      {
       "output_type": "stream",
       "stream": "stdout",
       "text": [
        "Populating the interactive namespace from numpy and matplotlib\n"
       ]
      },
      {
       "output_type": "stream",
       "stream": "stderr",
       "text": [
        "WARNING: pylab import has clobbered these variables: ['plt']\n",
        "`%pylab --no-import-all` prevents importing * from pylab and numpy\n"
       ]
      }
     ],
     "prompt_number": 10,
     "trusted": true
    },
    {
     "cell_type": "code",
     "collapsed": false,
     "input": [
      "plt.imshow(dimg[:,:,1,:].mean(axis=-1),interpolation=\"nearest\")"
     ],
     "language": "python",
     "metadata": {},
     "outputs": [
      {
       "metadata": {},
       "output_type": "pyout",
       "prompt_number": 11,
       "text": [
        "<matplotlib.image.AxesImage at 0x4896a90>"
       ]
      },
      {
       "metadata": {},
       "output_type": "display_data",
       "png": "[encoded data removed]",
       "text": [
        "<matplotlib.figure.Figure at 0x4873290>"
       ]
      }
     ],
     "prompt_number": 11,
     "trusted": true
    },
    {
     "cell_type": "code",
     "collapsed": false,
     "input": [
      "sizes = [((datlas == lab).sum(),lab) for lab in alllab]\n",
      "print(sizes)\n",
      "print(np.asarray(sizes).sum())"
     ],
     "language": "python",
     "metadata": {},
     "outputs": [
      {
       "output_type": "stream",
       "stream": "stdout",
       "text": [
        "[(129, -100.0), (4680, -99.0), (165, -90.0), (3535, -89.0), (100153, -1.0), (1196, 0.0), (168, 1.0), (416, 2.0), (431, 3.0), (100, 4.0), (117, 5.0), (598, 6.0), (464, 7.0), (52, 8.0), (89, 9.0), (76, 10.0), (215, 11.0), (130, 12.0), (83, 13.0), (214, 14.0), (101, 15.0), (568, 16.0), (209, 17.0), (159, 18.0), (168, 19.0), (140, 20.0), (774, 21.0), (334, 22.0), (70, 23.0), (132, 24.0), (176, 25.0), (184, 26.0), (321, 27.0), (286, 28.0), (267, 29.0), (670, 30.0), (155, 31.0), (266, 32.0), (97, 33.0), (51, 34.0), (154, 35.0), (68, 36.0), (142, 37.0), (67, 38.0), (83, 39.0), (44, 40.0), (115, 41.0), (67, 42.0), (45, 43.0), (42, 44.0), (70, 45.0), (5, 46.0), (536, 47.0), (1408, 48.0), (150, 49.0), (413, 50.0), (320, 51.0), (87, 52.0), (89, 53.0), (556, 54.0), (444, 55.0), (47, 56.0), (85, 57.0), (69, 58.0), (196, 59.0), (141, 60.0), (63, 61.0), (194, 62.0), (124, 63.0), (434, 64.0), (181, 65.0), (108, 66.0), (167, 67.0), (183, 68.0), (672, 69.0), (307, 70.0), (72, 71.0), (215, 72.0), (109, 73.0), (39, 74.0), (186, 75.0), (61, 76.0), (109, 77.0), (66, 78.0), (76, 79.0), (33, 80.0), (95, 81.0), (59, 82.0), (37, 83.0), (25, 84.0), (36, 85.0), (21, 86.0), (566, 87.0), (212, 90.0), (67, 91.0), (119, 92.0), (41, 93.0), (776, 94.0), (111, 95.0), (55, 96.0), (21, 97.0), (167, 100.0), (59, 101.0), (103, 102.0), (35, 103.0), (91, 104.0), (61, 105.0), (13, 106.0), (137, 107.0), (126, 108.0), (106, 109.0), (106, 110.0), (263, 111.0), (54, 112.0), (236, 113.0), (438, 114.0), (432, 116.0), (340, 117.0), (11, 118.0), (340, 119.0), (130, 120.0), (4, 121.0), (150, 122.0), (150, 123.0), (39, 124.0), (148, 125.0), (144, 126.0), (11, 127.0), (126, 128.0), (122, 129.0), (18, 130.0), (121, 131.0), (32, 132.0), (9, 133.0), (30, 134.0)]\n",
        "141751.0\n"
       ]
      }
     ],
     "prompt_number": 12,
     "trusted": true
    },
    {
     "cell_type": "code",
     "collapsed": false,
     "input": [
      "for idx in alllab:\n",
      "    ll = ioflab(idx,labels)\n",
      "    size = ((datlas==idx).sum(), (np.asarray(atlas.get_data())==idx).sum()) \n",
      "    if ll != []:\n",
      "        name = labels[ll[0]][1][1]\n",
      "    else:\n",
      "        name = 'no label'\n",
      "    print(idx, size, name)\n"
     ],
     "language": "python",
     "metadata": {},
     "outputs": [
      {
       "output_type": "stream",
       "stream": "stdout",
       "text": [
        "-100.0 (129, 1024) no label\n",
        "-99.0 (4680, 37248) no label\n",
        "-90.0 (165, 1296) no label\n",
        "-89.0 (3535, 28458) no label\n",
        "-1.0 (100153, 635047) no label\n",
        "0.0 (1196, 9688) Left_Frontal Pole\n",
        "1.0 (168, 1334) Left_Insular Cortex\n",
        "2.0 (416, 3500) Left_Superior Frontal Gyrus\n",
        "3.0 (431, 3437) Left_Middle Frontal Gyrus\n",
        "4.0 (100, 842) Left_Inferior Frontal Gyrus, pars triangularis\n",
        "5.0 (117, 940) Left_Inferior Frontal Gyrus, pars opercularis\n",
        "6.0 (598, 4864) Left_Precentral Gyrus\n",
        "7.0 (464, 3745) Left_Temporal Pole\n",
        "8.0 (52, 418) Left_Superior Temporal Gyrus, anterior division\n",
        "9.0 (89, 744) Left_Superior Temporal Gyrus, posterior division\n",
        "10.0 (76, 645) Left_Middle Temporal Gyrus, anterior division\n",
        "11.0"
       ]
      },
      {
       "output_type": "stream",
       "stream": "stdout",
       "text": [
        " (215, 1706) Left_Middle Temporal Gyrus, posterior division\n",
        "12.0 (130, 1041) Left_Middle Temporal Gyrus, temporooccipital part\n",
        "13.0 (83, 622) Left_Inferior Temporal Gyrus, anterior division\n",
        "14.0 (214, 1667) Left_Inferior Temporal Gyrus, posterior division\n",
        "15.0 (101, 868) Left_Inferior Temporal Gyrus, temporooccipital part\n",
        "16.0 (568, 4546) Left_Postcentral Gyrus\n",
        "17.0 (209, 1705) Left_Superior Parietal Lobule\n",
        "18.0 (159, 1224) Left_Supramarginal Gyrus, anterior division\n",
        "19.0 (168, 1389) Left_Supramarginal Gyrus, posterior division\n",
        "20.0 (140, 1057) Left_Angular Gyrus\n",
        "21.0 (774, 6189) Left_Lateral Occipital Cortex, superior division\n",
        "22.0 (334, 2635) Left_Lateral Occipital Cortex, inferior division\n",
        "23.0 (70, 606) Left_Intracalcarine Cortex\n",
        "24.0 (132, 1012) Frontal Medial Cortex\n",
        "25.0 (176, 1480) Juxtapositional Lobule Cortex (formerly Supplementary Motor Cortex)\n",
        "26.0 (184, 1413) Subcallosal Cortex\n",
        "27.0"
       ]
      },
      {
       "output_type": "stream",
       "stream": "stdout",
       "text": [
        " (321, 2642) Paracingulate Gyrus\n",
        "28.0 (286, 2197) Cingulate Gyrus, anterior division\n",
        "29.0 (267, 2109) Cingulate Gyrus, posterior division\n",
        "30.0 (670, 5386) Precuneous Cortex\n",
        "31.0 (155, 1165) Cuneal Cortex\n",
        "32.0 (266, 2118) Left_Frontal Orbital Cortex\n",
        "33.0 (97, 835) Left_Parahippocampal Gyrus, anterior division\n",
        "34.0 (51, 390) Left_Parahippocampal Gyrus, posterior division\n",
        "35.0 (154, 1295) Left_Lingual Gyrus\n",
        "36.0 (68, 534) Left_Temporal Fusiform Cortex, anterior division\n",
        "37.0 (142, 1082) Left_Temporal Fusiform Cortex, posterior division\n",
        "38.0 (67, 508) Left_Temporal Occipital Fusiform Cortex\n",
        "39.0 (83, 681) Left_Occipital Fusiform Gyrus\n",
        "40.0 (44, 350) Left_Frontal Operculum Cortex\n",
        "41.0 (115, 949) Left_Central Opercular Cortex\n",
        "42.0 (67, 534) Left_Parietal Operculum Cortex\n",
        "43.0"
       ]
      },
      {
       "output_type": "stream",
       "stream": "stdout",
       "text": [
        " (45, 363) Left_Planum Polare\n",
        "44.0 (42, 297) Left_Heschl's Gyrus (includes H1 and H2)\n",
        "45.0 (70, 563) Left_Planum Temporale\n",
        "46.0 (5, 38) Left_Supracalcarine Cortex\n",
        "47.0 (536, 4399) Left_Occipital Pole\n",
        "48.0 (1408, 11044) Right_Frontal Pole\n",
        "49.0 (150, 1225) Right_Insular Cortex\n",
        "50.0 (413, 3241) Right_Superior Frontal Gyrus\n",
        "51.0 (320, 2667) Right_Middle Frontal Gyrus\n",
        "52.0 (87, 720) Right_Inferior Frontal Gyrus, pars triangularis\n",
        "53.0 (89, 706) Right_Inferior Frontal Gyrus, pars opercularis\n",
        "54.0 (556, 4319) Right_Precentral Gyrus\n",
        "55.0 (444, 3581) Right_Temporal Pole\n",
        "56.0 (47, 359) Right_Superior Temporal Gyrus, anterior division\n",
        "57.0 (85, 646) Right_Superior Temporal Gyrus, posterior division\n",
        "58.0 (69, 569) Right_Middle Temporal Gyrus, anterior division\n",
        "59.0"
       ]
      },
      {
       "output_type": "stream",
       "stream": "stdout",
       "text": [
        " (196, 1581) Right_Middle Temporal Gyrus, posterior division\n",
        "60.0 (141, 1131) Right_Middle Temporal Gyrus, temporooccipital part\n",
        "61.0 (63, 472) Right_Inferior Temporal Gyrus, anterior division\n",
        "62.0 (194, 1548) Right_Inferior Temporal Gyrus, posterior division\n",
        "63.0 (124, 944) Right_Inferior Temporal Gyrus, temporooccipital part\n",
        "64.0 (434, 3572) Right_Postcentral Gyrus\n",
        "65.0 (181, 1432) Right_Superior Parietal Lobule\n",
        "66.0 (108, 900) Right_Supramarginal Gyrus, anterior division\n",
        "67.0 (167, 1247) Right_Supramarginal Gyrus, posterior division\n",
        "68.0 (183, 1461) Right_Angular Gyrus\n",
        "69.0 (672, 5427) Right_Lateral Occipital Cortex, superior division\n",
        "70.0 (307, 2431) Right_Lateral Occipital Cortex, inferior division\n",
        "71.0 (72, 555) Right_Intracalcarine Cortex\n",
        "72.0 (215, 1780) Right_Frontal Orbital Cortex\n",
        "73.0 (109, 903) Right_Parahippocampal Gyrus, anterior division\n",
        "74.0 (39, 302) Right_Parahippocampal Gyrus, posterior division\n",
        "75.0"
       ]
      },
      {
       "output_type": "stream",
       "stream": "stdout",
       "text": [
        " (186, 1458) Right_Lingual Gyrus\n",
        "76.0 (61, 474) Right_Temporal Fusiform Cortex, anterior division\n",
        "77.0 (109, 984) Right_Temporal Fusiform Cortex, posterior division\n",
        "78.0 (66, 531) Right_Temporal Occipital Fusiform Cortex\n",
        "79.0 (76, 610) Right_Occipital Fusiform Gyrus\n",
        "80.0 (33, 266) Right_Frontal Operculum Cortex\n",
        "81.0 (95, 774) Right_Central Opercular Cortex\n",
        "82.0 (59, 440) Right_Parietal Operculum Cortex\n",
        "83.0 (37, 301) Right_Planum Polare\n",
        "84.0 (25, 225) Right_Heschl's Gyrus (includes H1 and H2)\n",
        "85.0 (36, 330) Right_Planum Temporale\n",
        "86.0 (21, 144) Right_Supracalcarine Cortex\n",
        "87.0 (566, 4317) Right_Occipital Pole\n",
        "90.0 (212, 1591) Left Thalamus\n",
        "91.0 (67, 571) Left Caudate\n",
        "92.0 (119, 944) Left Putamen\n",
        "93.0"
       ]
      },
      {
       "output_type": "stream",
       "stream": "stdout",
       "text": [
        " (41, 312) Left Pallidum\n",
        "94.0 (776, 6229) Brain-Stem\n",
        "95.0 (111, 900) Left Hippocampus\n",
        "96.0 (55, 441) Left Amygdala\n",
        "97.0 (21, 146) Left Accumbens\n",
        "100.0 (167, 1402) Right Thalamus\n",
        "101.0 (59, 515) Right Caudate\n",
        "102.0 (103, 824) Right Putamen\n",
        "103.0 (35, 266) Right Pallidum\n",
        "104.0 (91, 778) Right Hippocampus\n",
        "105.0 (61, 477) Right Amygdala\n",
        "106.0 (13, 101) Right Accumbens\n",
        "107.0 (137, 1012) Left_I_IV\n",
        "108.0 (126, 1043) Right_I_IV\n",
        "109.0 (106, 867) Left_V\n",
        "110.0"
       ]
      },
      {
       "output_type": "stream",
       "stream": "stdout",
       "text": [
        " (106, 886) Right_V\n",
        "111.0 (263, 2087) Left_VI\n",
        "112.0 (54, 440) Vermis_VI\n",
        "113.0 (236, 1879) Right_VI\n",
        "114.0 (438, 3482) Left_CrusI\n",
        "116.0 (432, 3493) Right_CrusI\n",
        "117.0 (340, 2666) Left_CrusII\n",
        "118.0 (11, 75) Vermis_CrusII\n",
        "119.0 (340, 2768) Right_CrusII\n",
        "120.0 (130, 1139) Left_VIIb\n",
        "121.0 (4, 28) Vermis_VIIb\n",
        "122.0 (150, 1225) Right_VIIb\n",
        "123.0 (150, 1195) Left_VIIIa\n",
        "124.0 (39, 278) Vermis_VIIIa\n",
        "125.0 (148, 1167) Right_VIIIa\n",
        "126.0 (144, 1204) Left_VIIIb\n",
        "127.0"
       ]
      },
      {
       "output_type": "stream",
       "stream": "stdout",
       "text": [
        " (11, 102) Vermis_VIIIb\n",
        "128.0 (126, 1057) Right_VIIIb\n",
        "129.0 (122, 931) Left_IX\n",
        "130.0 (18, 151) Vermis_IX\n",
        "131.0 (121, 935) Right_IX\n",
        "132.0 (32, 258) Left_X\n",
        "133.0 (9, 72) Vermis_X\n",
        "134.0 (30, 249) Right_X\n"
       ]
      }
     ],
     "prompt_number": 13,
     "trusted": true
    },
    {
     "cell_type": "heading",
     "level": 2,
     "metadata": {},
     "source": [
      "Getting a summary of the data"
     ]
    },
    {
     "cell_type": "code",
     "collapsed": false,
     "input": [
      "datlas = datlas.reshape(np.prod(datlas.shape))\n",
      "dimg = fimg.get_data().reshape((np.prod(datlas.shape),-1))\n",
      "print(dimg.shape, datlas.shape)\n",
      "\n",
      "poslab = [l for l in alllab if l>=0]\n",
      "d = np.zeros((len(poslab), dimg.shape[1]))\n",
      "\n",
      "nroi = len(poslab)\n",
      "check = []\n",
      "summaries = np.zeros((nroi,fimg.shape[-1]))\n",
      "\n",
      "for ii,lab in enumerate(poslab):\n",
      "    arrlab = dimg[datlas==lab]\n",
      "    check.append((ii, lab, arrlab.shape))\n",
      "    summaries[ii] = arrlab.mean(axis=0)\n",
      "                                \n",
      "    #d[ii,:] = arrlab.mean(axis=0)"
     ],
     "language": "python",
     "metadata": {},
     "outputs": [
      {
       "output_type": "stream",
       "stream": "stdout",
       "text": [
        "(133574, 257) (133574,)\n"
       ]
      }
     ],
     "prompt_number": 14,
     "trusted": true
    },
    {
     "cell_type": "code",
     "collapsed": true,
     "input": [
      "plt.plot(summaries[1])"
     ],
     "language": "python",
     "metadata": {},
     "outputs": [
      {
       "metadata": {},
       "output_type": "pyout",
       "prompt_number": 15,
       "text": [
        "[<matplotlib.lines.Line2D at 0x49e6f90>]"
       ]
      },
      {
       "metadata": {},
       "output_type": "display_data",
       "png": "[encoded data removed]",
       "text": [
        "<matplotlib.figure.Figure at 0x48a5090>"
       ]
      }
     ],
     "prompt_number": 15,
     "trusted": true
    },
    {
     "cell_type": "code",
     "collapsed": true,
     "input": [
      "#plt.imshow(summaries.dot(summaries.T),interpolation=\"nearest\")\n",
      "plt.imshow(np.cov(summaries), interpolation=\"nearest\")"
     ],
     "language": "python",
     "metadata": {},
     "outputs": [
      {
       "metadata": {},
       "output_type": "pyout",
       "prompt_number": 16,
       "text": [
        "<matplotlib.image.AxesImage at 0x4cad8d0>"
       ]
      },
      {
       "metadata": {},
       "output_type": "display_data",
       "png": "[encoded data removed]",
       "text": [
        "<matplotlib.figure.Figure at 0x4725f50>"
       ]
      }
     ],
     "prompt_number": 16,
     "trusted": true
    },
    {
     "cell_type": "code",
     "collapsed": false,
     "input": [
      "summaries.shape"
     ],
     "language": "python",
     "metadata": {},
     "outputs": [
      {
       "metadata": {},
       "output_type": "pyout",
       "prompt_number": 17,
       "text": [
        "(130, 257)"
       ]
      }
     ],
     "prompt_number": 17,
     "trusted": true
    },
    {
     "cell_type": "code",
     "collapsed": false,
     "input": [
      "if not '/home/jb/code/utils' in sys.path:\n",
      "    sys.path.append(osp.join(HOME,'code','utils'))\n",
      "osp.join(HOME,'code','utils','stats.py')\n",
      "# %run /home/jb/code/utils/stats.py\n",
      "#print(sys.path)"
     ],
     "language": "python",
     "metadata": {},
     "outputs": [
      {
       "metadata": {},
       "output_type": "pyout",
       "prompt_number": 18,
       "text": [
        "'/home/jb/code/utils/stats.py'"
       ]
      }
     ],
     "prompt_number": 18,
     "trusted": true
    },
    {
     "cell_type": "code",
     "collapsed": false,
     "input": [
      "print(arrlab.shape)"
     ],
     "language": "python",
     "metadata": {},
     "outputs": [
      {
       "output_type": "stream",
       "stream": "stdout",
       "text": [
        "(30, 257)\n"
       ]
      }
     ],
     "prompt_number": 19,
     "trusted": true
    },
    {
     "cell_type": "code",
     "collapsed": false,
     "input": [
      "import stats as stts"
     ],
     "language": "python",
     "metadata": {},
     "outputs": [],
     "prompt_number": 20,
     "trusted": true
    },
    {
     "cell_type": "code",
     "collapsed": false,
     "input": [
      "(C,cf) = stts.ledoit_wolf(arrlab, return_factor=True)"
     ],
     "language": "python",
     "metadata": {},
     "outputs": [],
     "prompt_number": 21,
     "trusted": true
    },
    {
     "cell_type": "code",
     "collapsed": false,
     "input": [
      "plt.imshow(C, interpolation=\"nearest\")"
     ],
     "language": "python",
     "metadata": {},
     "outputs": [
      {
       "metadata": {},
       "output_type": "pyout",
       "prompt_number": 22,
       "text": [
        "<matplotlib.image.AxesImage at 0x4ed8550>"
       ]
      },
      {
       "metadata": {},
       "output_type": "display_data",
       "png": "[encoded data removed]",
       "text": [
        "<matplotlib.figure.Figure at 0x49f4410>"
       ]
      }
     ],
     "prompt_number": 22,
     "trusted": true
    },
    {
     "cell_type": "code",
     "collapsed": false,
     "input": [
      "cf"
     ],
     "language": "python",
     "metadata": {},
     "outputs": [
      {
       "metadata": {},
       "output_type": "pyout",
       "prompt_number": 23,
       "text": [
        "0.02999507793748727"
       ]
      }
     ],
     "prompt_number": 23,
     "trusted": true
    },
    {
     "cell_type": "code",
     "collapsed": false,
     "input": [
      "(C,cf) = stts.ledoit_wolf(arrlab[:,:], return_factor=True)\n",
      "plt.imshow(C, interpolation=\"nearest\")\n",
      "print(cf)\n",
      "plt.imshow(lin.pinv(C), interpolation=\"nearest\")\n"
     ],
     "language": "python",
     "metadata": {},
     "outputs": [
      {
       "output_type": "stream",
       "stream": "stdout",
       "text": [
        "0.0299950779375\n"
       ]
      },
      {
       "metadata": {},
       "output_type": "pyout",
       "prompt_number": 24,
       "text": [
        "<matplotlib.image.AxesImage at 0x52d4990>"
       ]
      },
      {
       "metadata": {},
       "output_type": "display_data",
       "png": "[encoded data removed]",
       "text": [
        "<matplotlib.figure.Figure at 0x4ccce90>"
       ]
      }
     ],
     "prompt_number": 24,
     "trusted": true
    },
    {
     "cell_type": "code",
     "collapsed": false,
     "input": [
      "arrlab.T.mean(axis=0)"
     ],
     "language": "python",
     "metadata": {},
     "outputs": [
      {
       "metadata": {},
       "output_type": "pyout",
       "prompt_number": 25,
       "text": [
        "array([ 0.00343167,  0.01240539,  0.00803389,  0.0070881 ,  0.01434157,\n",
        "        0.00619942, -0.00038141,  0.0124526 , -0.0105788 , -0.03711022,\n",
        "        0.0146302 ,  0.0107938 , -0.00336419, -0.01003231,  0.01552108,\n",
        "        0.00034267,  0.00669362,  0.01004091,  0.01991338,  0.01971108,\n",
        "       -0.00381134,  0.02543828,  0.02374556, -0.00606526, -0.00516023,\n",
        "       -0.00846742,  0.01015655,  0.00754461,  0.01025188,  0.00721838], dtype=float32)"
       ]
      }
     ],
     "prompt_number": 25,
     "trusted": true
    },
    {
     "cell_type": "code",
     "collapsed": false,
     "input": [
      "# investigate if we remove the mean of the Y before computing regularisation\n",
      "\n",
      "arr = (arrlab.T - arrlab.T.mean(axis=0)).T\n",
      "(Cm,cf) = stts.ledoit_wolf(arr[:,:], return_factor=True)\n",
      "arr = arrlab\n",
      "(C,cf) = stts.ledoit_wolf(arr[:,:], return_factor=True)\n",
      "\n",
      "print((C-Cm).min(), (C-Cm).max())\n",
      "\n",
      "#plt.imshow(C-Cm, interpolation=\"nearest\")\n",
      "#print(cf)\n",
      "#plt.imshow(lin.pinv(C), interpolation=\"nearest\")"
     ],
     "language": "python",
     "metadata": {},
     "outputs": [
      {
       "output_type": "stream",
       "stream": "stdout",
       "text": [
        "-0.000915106385946 0.00139259734654\n"
       ]
      }
     ],
     "prompt_number": 26,
     "trusted": true
    },
    {
     "cell_type": "heading",
     "level": 3,
     "metadata": {},
     "source": [
      "Investigate the computation of the log likelihood"
     ]
    },
    {
     "cell_type": "code",
     "collapsed": false,
     "input": [
      "# check that log likelihood decrease when it should\n",
      "#%run /home/jb/code/utils/stats.py\n",
      "#stts = reload('stats')\n",
      "p,n = (5,30)\n",
      "signoise = 2.0\n",
      "\n",
      "Y1 = signoise*np.random.randn(p,n)\n",
      "addmoy = np.arange(p).reshape(p,1).dot(np.ones((1,n)))\n",
      "Y1 = Y1 + addmoy\n",
      "\n",
      "# compute the likelihood : we suppose we have only the mean of the parcel \n",
      "# and all y are drown from (m,s2) m:mean and s2:var scalar \n",
      "\n",
      "def parcel_model_params(Y):\n",
      "    n,N = Y.shape\n",
      "    # mean of the parcel : an (1,N) vector\n",
      "    m = Y.mean(axis=0)\n",
      "    # variance of the voxels : assumes n x var(m), n the number of features (voxels)\n",
      "    # on which the mean has been computed\n",
      "    s2 = n*np.var(m)\n",
      "    P = (1./s2)*np.eye(n)\n",
      "    return m, s2, P\n",
      "\n",
      "def loglikelihood(Y):\n",
      "    Ytmp = Y.copy()\n",
      "    m, s2, P = parcel_model_params(Ytmp)\n",
      "    # remove mean\n",
      "    Ytmp = Ytmp - m.reshape(1,Y.shape[1])\n",
      "    return stts.log_likelihood(Ytmp, P)\n",
      "\n",
      "def loglikelihood_(Y):\n",
      "    Ytmp = Y.copy()\n",
      "    m, s2, P = parcel_model_params(Ytmp)\n",
      "    # remove mean\n",
      "    Ytmp = Ytmp - m.reshape(1,Y.shape[1])\n",
      "    return stts.loglkhd(Ytmp, P)\n",
      "\n",
      "\n",
      "lbt = []\n",
      "ljb = []\n",
      "for coef in [0., .5, 1.]: \n",
      "    bt = loglikelihood(Y1 - coef*addmoy)\n",
      "    jb = loglikelihood_(Y1 - coef*addmoy)\n",
      "    lbt.append(bt)\n",
      "    ljb.append(jb)\n",
      "\n",
      "lbt = np.asarray(lbt)\n",
      "ljb = np.asarray(ljb)\n",
      "\n",
      "print(lbt)\n",
      "print(ljb)\n",
      "\n",
      "print(lbt[1:] - lbt[:-1])\n",
      "print(ljb[1:] - ljb[:-1])"
     ],
     "language": "python",
     "metadata": {},
     "outputs": [
      {
       "output_type": "stream",
       "stream": "stdout",
       "text": [
        "[-5.56209111 -4.06623006 -3.33079722]\n",
        "[-53.66513793 -52.16927688 -51.43384404]\n",
        "[ 1.49586105  0.73543284]\n",
        "[ 1.49586105  0.73543284]\n"
       ]
      }
     ],
     "prompt_number": 28,
     "trusted": true
    },
    {
     "cell_type": "code",
     "collapsed": false,
     "input": [
      "np.pi\n"
     ],
     "language": "python",
     "metadata": {},
     "outputs": [
      {
       "metadata": {},
       "output_type": "pyout",
       "prompt_number": 57,
       "text": [
        "3.141592653589793"
       ]
      }
     ],
     "prompt_number": 57,
     "trusted": true
    },
    {
     "cell_type": "code",
     "collapsed": false,
     "input": [],
     "language": "python",
     "metadata": {},
     "outputs": [],
     "trusted": true
    },
    {
     "cell_type": "code",
     "collapsed": false,
     "input": [],
     "language": "python",
     "metadata": {},
     "outputs": [],
     "trusted": true
    },
    {
     "cell_type": "code",
     "collapsed": false,
     "input": [],
     "language": "python",
     "metadata": {},
     "outputs": [],
     "trusted": true
    },
    {
     "cell_type": "code",
     "collapsed": false,
     "input": [],
     "language": "python",
     "metadata": {},
     "outputs": [],
     "trusted": true
    },
    {
     "cell_type": "heading",
     "level": 3,
     "metadata": {},
     "source": [
      "Scraps"
     ]
    },
    {
     "cell_type": "code",
     "collapsed": false,
     "input": [
      "np.cov?\n"
     ],
     "language": "python",
     "metadata": {},
     "outputs": [],
     "trusted": true
    },
    {
     "cell_type": "code",
     "collapsed": false,
     "input": [
      "x = [-2.1, -1,  4.3]; y = [3,  1.1,  0.12];\n",
      "Y = np.vstack((x,y))\n",
      "print(np.cov(Y))\n",
      "\n",
      "print(Y.dot(Y.T))"
     ],
     "language": "python",
     "metadata": {},
     "outputs": [],
     "trusted": true
    },
    {
     "cell_type": "code",
     "collapsed": false,
     "input": [
      "# resample the atlas on to the space of the image \n",
      "#-----------------------------------------------------\n",
      "\n",
      "CSC = osp.join(HOME,'code','regions','regions','CSC2mm.nii')\n",
      "tmpnii = osp.join(HOME,'code','regions','regions','tmp.nii')\n",
      "\n",
      "tmpimg = nib.load(CSC)\n",
      "tmpimg = nib.Nifti1Image(np.asarray(tmpimg.get_data()), tmpimg.get_affine())\n",
      "tmpimg.to_filename(tmpnii)\n",
      "\n",
      "\n",
      "fimg = nipy.load_image(filenames[0])\n",
      "atlasfilename = osp.join(ATLASDIR, 'jba_0135.nii')\n",
      "#atlas = nipy.load_image(atlasfilename)\n",
      "atlas = nipy.load_image(tmpnii)\n",
      "\n",
      "keep_coord = [0,1,2]\n",
      "aff = xyz_affine(fimg.affine, xyz=keep_coord, debug=0)\n",
      "out_shape = tuple([fimg.shape[ii] for ii in keep_coord])\n",
      "\n",
      "ratlas = resamp(atlas, aff, out_shape, order=0, debug=0)"
     ],
     "language": "python",
     "metadata": {},
     "outputs": [],
     "trusted": true
    },
    {
     "cell_type": "code",
     "collapsed": false,
     "input": [
      "#next step : where are those F.. zeros ?"
     ],
     "language": "python",
     "metadata": {},
     "outputs": [],
     "trusted": true
    },
    {
     "cell_type": "code",
     "collapsed": false,
     "input": [
      "tmpimg = nib.Nifti1Image((ratlas.get_data()==0).astype(float), ratlas.affine)\n",
      "tmpimg.to_filename(tmpnii)\n"
     ],
     "language": "python",
     "metadata": {},
     "outputs": [],
     "trusted": true
    },
    {
     "cell_type": "code",
     "collapsed": false,
     "input": [
      "tmpimg = nib.load(tmpnii)\n",
      "data = tmpimg.get_data()\n",
      "plt.imshow(data[:,:,20],interpolation=\"nearest\")"
     ],
     "language": "python",
     "metadata": {},
     "outputs": [],
     "trusted": true
    },
    {
     "cell_type": "code",
     "collapsed": false,
     "input": [],
     "language": "python",
     "metadata": {},
     "outputs": [],
     "trusted": true
    },
    {
     "cell_type": "code",
     "collapsed": false,
     "input": [
      "# resample the atlas on to the space of the image \n",
      "\n",
      "dmaker = CoordSysMaker('ijk', 'generic-array')\n",
      "rmaker = CoordSysMaker('xyz', 'generic-scanner')\n",
      "cm_maker = cmap.CoordMapMaker(dmaker, rmaker)\n",
      "\n",
      "aff = np.hstack((fimg.affine[:3,:3], fimg.affine[:3,[4]]))\n",
      "\n",
      "aff = np.vstack((aff, np.asarray([0,0,0,1])))\n",
      "print(aff)\n",
      "\n",
      "cmap_out = cm_maker.make_affine(aff)\n",
      "#print(cmap_out)\n",
      "out_shape = fimg.shape[:3]\n",
      "print(out_shape)\n",
      "ratlas = resample(atlas, cmap_out, np.eye(4), out_shape, order=0, cval=-1)"
     ],
     "language": "python",
     "metadata": {},
     "outputs": [],
     "trusted": true
    }
   ],
   "metadata": {}
  }
 ]
}