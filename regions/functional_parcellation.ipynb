{
 "metadata": {
  "name": ""
 },
 "nbformat": 3,
 "nbformat_minor": 0,
 "worksheets": [
  {
   "cells": [
    {
     "cell_type": "code",
     "collapsed": false,
     "input": [
      "%pylab inline --no-import-all"
     ],
     "language": "python",
     "metadata": {},
     "outputs": [
      {
       "output_type": "stream",
       "stream": "stdout",
       "text": [
        "Populating the interactive namespace from numpy and matplotlib\n"
       ]
      }
     ],
     "prompt_number": 2
    },
    {
     "cell_type": "heading",
     "level": 3,
     "metadata": {},
     "source": [
      "Get Data and Anatomical Atlas"
     ]
    },
    {
     "cell_type": "code",
     "collapsed": false,
     "input": [
      "import os\n",
      "import os.path as osp\n",
      "import sys\n",
      "import numpy as np\n",
      "import nibabel as nib\n",
      "import nipy\n",
      "import nilearn as nil\n",
      "import sklearn as skl\n",
      "from glob import glob"
     ],
     "language": "python",
     "metadata": {},
     "outputs": [],
     "prompt_number": 3
    },
    {
     "cell_type": "code",
     "collapsed": false,
     "input": [
      "HOME = osp.expanduser('~')\n",
      "DATADIR = osp.join(HOME,'data','adhd200','NeuroIMAGE')\n",
      "filenames = glob(osp.join(DATADIR,'*','sfnwmr*'))\n",
      "#filenames"
     ],
     "language": "python",
     "metadata": {},
     "outputs": [],
     "prompt_number": 4
    },
    {
     "cell_type": "code",
     "collapsed": false,
     "input": [
      "ATLASDIR = osp.join(HOME,'code','regions','regions')\n",
      "atlasfilename = osp.join(ATLASDIR, 'CSC2mm.nii')\n",
      "atlas = nib.load(atlasfilename)"
     ],
     "language": "python",
     "metadata": {},
     "outputs": [],
     "prompt_number": 5
    },
    {
     "cell_type": "heading",
     "level": 3,
     "metadata": {},
     "source": [
      "Example with one roi"
     ]
    },
    {
     "cell_type": "code",
     "collapsed": false,
     "input": [
      "print atlas.shape\n",
      "atlasd = np.asarray(atlas.get_data())\n",
      "nvox = (atlasd >= 0).sum()\n",
      "\n",
      "# - NROI : approximate number of desired ROI\n",
      "NROI = 250\n",
      "avgroisize = nvox * 1. / NROI \n",
      "print nvox, avgroisize, np.prod(atlasd.shape)"
     ],
     "language": "python",
     "metadata": {},
     "outputs": [
      {
       "output_type": "stream",
       "stream": "stdout",
       "text": [
        "(91, 109, 91)\n",
        "267567 1070.268 902629\n"
       ]
      }
     ],
     "prompt_number": 6
    },
    {
     "cell_type": "code",
     "collapsed": false,
     "input": [
      "roiidx = 50\n",
      "mask = (atlasd == roiidx)\n",
      "nvoxroi = mask.sum()\n",
      "\n",
      "def iround(x):\n",
      "    \"\"\"iround(number) -> integer\n",
      "    Round a number to the nearest integer.\"\"\"\n",
      "    y = round(x) - .5\n",
      "    return int(y) + (y > 0)"
     ],
     "language": "python",
     "metadata": {},
     "outputs": [],
     "prompt_number": 7
    },
    {
     "cell_type": "code",
     "collapsed": false,
     "input": [
      "nclust = iround(nvoxroi / avgroisize)\n",
      "print nclust"
     ],
     "language": "python",
     "metadata": {},
     "outputs": [
      {
       "output_type": "stream",
       "stream": "stdout",
       "text": [
        "3\n"
       ]
      }
     ],
     "prompt_number": 8
    },
    {
     "cell_type": "heading",
     "level": 3,
     "metadata": {},
     "source": [
      "Interpolate the fmri to the atlas resolution"
     ]
    },
    {
     "cell_type": "code",
     "collapsed": false,
     "input": [
      "from nipy.algorithms.resample import resample_img2img, resample\n",
      "import nipy.core.api as capi # vox2mni\n",
      "from nipy.core.image import image\n",
      "from nipy.core.reference import coordinate_map as cmap\n",
      "#from nilearn._utils import niimg_conversions as niiconv"
     ],
     "language": "python",
     "metadata": {},
     "outputs": [],
     "prompt_number": 28
    },
    {
     "cell_type": "code",
     "collapsed": false,
     "input": [
      "atlas = nib.load(atlasfilename)\n",
      "tmp = nib.load(filenames[0])\n",
      "timedim = tmp.shape[-1]\n",
      "del tmp\n",
      "\n",
      "cmap_out = vox2mni(atlas.get_affine(), 1.0)\n",
      "out_shape = atlas.shape + (timedim,)\n"
     ],
     "language": "python",
     "metadata": {},
     "outputs": [],
     "prompt_number": 29
    },
    {
     "cell_type": "code",
     "collapsed": false,
     "input": [
      "for f in filenames:\n",
      "    print f\n",
      "    img_in = nipy.load_image(f)\n",
      "    img_out = resample(img_in, cmap_out, np.eye(5), out_shape, order=1)\n",
      "    filename_out = osp.join(osp.dirname(f), 'i'+osp.basename(f))\n",
      "    _ = nipy.save_image(img_out, filename_out)\n"
     ],
     "language": "python",
     "metadata": {},
     "outputs": [
      {
       "output_type": "stream",
       "stream": "stdout",
       "text": [
        "/home/jb/data/adhd200/NeuroIMAGE/2352986/sfnwmrda2352986_session_1_rest_1.nii.gz\n",
        "/home/jb/data/adhd200/NeuroIMAGE/8991934/sfnwmrda8991934_session_1_rest_1.nii.gz"
       ]
      },
      {
       "output_type": "stream",
       "stream": "stdout",
       "text": [
        "\n",
        "/home/jb/data/adhd200/NeuroIMAGE/1411495/sfnwmrda1411495_session_1_rest_1.nii.gz"
       ]
      },
      {
       "output_type": "stream",
       "stream": "stdout",
       "text": [
        "\n",
        "/home/jb/data/adhd200/NeuroIMAGE/3048588/sfnwmrda3048588_session_1_rest_1.nii.gz"
       ]
      },
      {
       "output_type": "stream",
       "stream": "stdout",
       "text": [
        "\n",
        "/home/jb/data/adhd200/NeuroIMAGE/1208586/sfnwmrda1208586_session_1_rest_1.nii.gz"
       ]
      },
      {
       "output_type": "stream",
       "stream": "stdout",
       "text": [
        "\n",
        "/home/jb/data/adhd200/NeuroIMAGE/3858891/sfnwmrda3858891_session_1_rest_1.nii.gz"
       ]
      },
      {
       "output_type": "stream",
       "stream": "stdout",
       "text": [
        "\n",
        "/home/jb/data/adhd200/NeuroIMAGE/1017176/sfnwmrda1017176_session_1_rest_1.nii.gz"
       ]
      },
      {
       "output_type": "stream",
       "stream": "stdout",
       "text": [
        "\n",
        "/home/jb/data/adhd200/NeuroIMAGE/5045355/sfnwmrda5045355_session_1_rest_1.nii.gz"
       ]
      },
      {
       "output_type": "stream",
       "stream": "stdout",
       "text": [
        "\n",
        "/home/jb/data/adhd200/NeuroIMAGE/8409791/sfnwmrda8409791_session_1_rest_1.nii.gz"
       ]
      },
      {
       "output_type": "stream",
       "stream": "stdout",
       "text": [
        "\n",
        "/home/jb/data/adhd200/NeuroIMAGE/1125505/sfnwmrda1125505_session_1_rest_1.nii.gz"
       ]
      },
      {
       "output_type": "stream",
       "stream": "stdout",
       "text": [
        "\n",
        "/home/jb/data/adhd200/NeuroIMAGE/4239636/sfnwmrda4239636_session_1_rest_1.nii.gz"
       ]
      },
      {
       "output_type": "stream",
       "stream": "stdout",
       "text": [
        "\n",
        "/home/jb/data/adhd200/NeuroIMAGE/3007585/sfnwmrda3007585_session_1_rest_1.nii.gz"
       ]
      },
      {
       "output_type": "stream",
       "stream": "stdout",
       "text": [
        "\n",
        "/home/jb/data/adhd200/NeuroIMAGE/1585708/sfnwmrda1585708_session_1_rest_1.nii.gz"
       ]
      },
      {
       "output_type": "stream",
       "stream": "stdout",
       "text": [
        "\n",
        "/home/jb/data/adhd200/NeuroIMAGE/7446626/sfnwmrda7446626_session_1_rest_1.nii.gz"
       ]
      },
      {
       "output_type": "stream",
       "stream": "stdout",
       "text": [
        "\n",
        "/home/jb/data/adhd200/NeuroIMAGE/2671604/sfnwmrda2671604_session_1_rest_1.nii.gz"
       ]
      },
      {
       "output_type": "stream",
       "stream": "stdout",
       "text": [
        "\n",
        "/home/jb/data/adhd200/NeuroIMAGE/1312097/sfnwmrda1312097_session_1_rest_1.nii.gz"
       ]
      },
      {
       "output_type": "stream",
       "stream": "stdout",
       "text": [
        "\n",
        "/home/jb/data/adhd200/NeuroIMAGE/3566449/sfnwmrda3566449_session_1_rest_1.nii.gz"
       ]
      },
      {
       "output_type": "stream",
       "stream": "stdout",
       "text": [
        "\n",
        "/home/jb/data/adhd200/NeuroIMAGE/2074737/sfnwmrda2074737_session_1_rest_1.nii.gz"
       ]
      },
      {
       "output_type": "stream",
       "stream": "stdout",
       "text": [
        "\n",
        "/home/jb/data/adhd200/NeuroIMAGE/3959823/sfnwmrda3959823_session_1_rest_1.nii.gz"
       ]
      },
      {
       "output_type": "stream",
       "stream": "stdout",
       "text": [
        "\n",
        "/home/jb/data/adhd200/NeuroIMAGE/7504392/sfnwmrda7504392_session_1_rest_1.nii.gz"
       ]
      },
      {
       "output_type": "stream",
       "stream": "stdout",
       "text": [
        "\n",
        "/home/jb/data/adhd200/NeuroIMAGE/9956994/sfnwmrda9956994_session_1_rest_1.nii.gz"
       ]
      },
      {
       "output_type": "stream",
       "stream": "stdout",
       "text": [
        "\n",
        "/home/jb/data/adhd200/NeuroIMAGE/3190461/sfnwmrda3190461_session_1_rest_1.nii.gz"
       ]
      },
      {
       "output_type": "stream",
       "stream": "stdout",
       "text": [
        "\n",
        "/home/jb/data/adhd200/NeuroIMAGE/3980079/sfnwmrda3980079_session_1_rest_1.nii.gz"
       ]
      },
      {
       "output_type": "stream",
       "stream": "stdout",
       "text": [
        "\n",
        "/home/jb/data/adhd200/NeuroIMAGE/3304956/sfnwmrda3304956_session_1_rest_1.nii.gz"
       ]
      },
      {
       "output_type": "stream",
       "stream": "stdout",
       "text": [
        "\n",
        "/home/jb/data/adhd200/NeuroIMAGE/1538046/sfnwmrda1538046_session_1_rest_1.nii.gz"
       ]
      },
      {
       "output_type": "stream",
       "stream": "stdout",
       "text": [
        "\n",
        "/home/jb/data/adhd200/NeuroIMAGE/2574674/sfnwmrda2574674_session_1_rest_1.nii.gz"
       ]
      },
      {
       "output_type": "stream",
       "stream": "stdout",
       "text": [
        "\n",
        "/home/jb/data/adhd200/NeuroIMAGE/3322144/sfnwmrda3322144_session_1_rest_1.nii.gz"
       ]
      },
      {
       "output_type": "stream",
       "stream": "stdout",
       "text": [
        "\n",
        "/home/jb/data/adhd200/NeuroIMAGE/2029723/sfnwmrda2029723_session_1_rest_1.nii.gz"
       ]
      },
      {
       "output_type": "stream",
       "stream": "stdout",
       "text": [
        "\n",
        "/home/jb/data/adhd200/NeuroIMAGE/1438162/sfnwmrda1438162_session_1_rest_1.nii.gz"
       ]
      },
      {
       "output_type": "stream",
       "stream": "stdout",
       "text": [
        "\n",
        "/home/jb/data/adhd200/NeuroIMAGE/3515506/sfnwmrda3515506_session_1_rest_1.nii.gz"
       ]
      },
      {
       "output_type": "stream",
       "stream": "stdout",
       "text": [
        "\n",
        "/home/jb/data/adhd200/NeuroIMAGE/2961243/sfnwmrda2961243_session_1_rest_1.nii.gz"
       ]
      },
      {
       "output_type": "stream",
       "stream": "stdout",
       "text": [
        "\n",
        "/home/jb/data/adhd200/NeuroIMAGE/3108222/sfnwmrda3108222_session_1_rest_1.nii.gz"
       ]
      },
      {
       "output_type": "stream",
       "stream": "stdout",
       "text": [
        "\n",
        "/home/jb/data/adhd200/NeuroIMAGE/2756846/sfnwmrda2756846_session_1_rest_1.nii.gz"
       ]
      },
      {
       "output_type": "stream",
       "stream": "stdout",
       "text": [
        "\n",
        "/home/jb/data/adhd200/NeuroIMAGE/8387093/sfnwmrda8387093_session_1_rest_1.nii.gz"
       ]
      },
      {
       "output_type": "stream",
       "stream": "stdout",
       "text": [
        "\n",
        "/home/jb/data/adhd200/NeuroIMAGE/3941358/sfnwmrda3941358_session_1_rest_1.nii.gz"
       ]
      },
      {
       "output_type": "stream",
       "stream": "stdout",
       "text": [
        "\n",
        "/home/jb/data/adhd200/NeuroIMAGE/6115230/sfnwmrda6115230_session_1_rest_1.nii.gz"
       ]
      },
      {
       "output_type": "stream",
       "stream": "stdout",
       "text": [
        "\n",
        "/home/jb/data/adhd200/NeuroIMAGE/4020830/sfnwmrda4020830_session_1_rest_1.nii.gz"
       ]
      },
      {
       "output_type": "stream",
       "stream": "stdout",
       "text": [
        "\n",
        "/home/jb/data/adhd200/NeuroIMAGE/4919979/sfnwmrda4919979_session_1_rest_1.nii.gz"
       ]
      },
      {
       "output_type": "stream",
       "stream": "stdout",
       "text": [
        "\n",
        "/home/jb/data/adhd200/NeuroIMAGE/3888614/sfnwmrda3888614_session_1_rest_1.nii.gz"
       ]
      },
      {
       "output_type": "stream",
       "stream": "stdout",
       "text": [
        "\n",
        "/home/jb/data/adhd200/NeuroIMAGE/4134561/sfnwmrda4134561_session_1_rest_1.nii.gz"
       ]
      },
      {
       "output_type": "stream",
       "stream": "stdout",
       "text": [
        "\n",
        "/home/jb/data/adhd200/NeuroIMAGE/7339173/sfnwmrda7339173_session_1_rest_1.nii.gz"
       ]
      },
      {
       "output_type": "stream",
       "stream": "stdout",
       "text": [
        "\n",
        "/home/jb/data/adhd200/NeuroIMAGE/3449233/sfnwmrda3449233_session_1_rest_1.nii.gz"
       ]
      },
      {
       "output_type": "stream",
       "stream": "stdout",
       "text": [
        "\n",
        "/home/jb/data/adhd200/NeuroIMAGE/2876903/sfnwmrda2876903_session_1_rest_1.nii.gz"
       ]
      },
      {
       "output_type": "stream",
       "stream": "stdout",
       "text": [
        "\n",
        "/home/jb/data/adhd200/NeuroIMAGE/4285031/sfnwmrda4285031_session_1_rest_1.nii.gz"
       ]
      },
      {
       "output_type": "stream",
       "stream": "stdout",
       "text": [
        "\n",
        "/home/jb/data/adhd200/NeuroIMAGE/1588809/sfnwmrda1588809_session_1_rest_1.nii.gz"
       ]
      },
      {
       "output_type": "stream",
       "stream": "stdout",
       "text": [
        "\n",
        "/home/jb/data/adhd200/NeuroIMAGE/3808273/sfnwmrda3808273_session_1_rest_1.nii.gz"
       ]
      },
      {
       "output_type": "stream",
       "stream": "stdout",
       "text": [
        "\n",
        "/home/jb/data/adhd200/NeuroIMAGE/3082137/sfnwmrda3082137_session_1_rest_1.nii.gz"
       ]
      },
      {
       "output_type": "stream",
       "stream": "stdout",
       "text": [
        "\n",
        "/home/jb/data/adhd200/NeuroIMAGE/2419464/sfnwmrda2419464_session_1_rest_1.nii.gz"
       ]
      },
      {
       "output_type": "stream",
       "stream": "stdout",
       "text": [
        "\n"
       ]
      }
     ],
     "prompt_number": 30
    },
    {
     "cell_type": "code",
     "collapsed": false,
     "input": [],
     "language": "python",
     "metadata": {},
     "outputs": []
    },
    {
     "cell_type": "code",
     "collapsed": false,
     "input": [
      "#imglist = []\n",
      "#timedim = img0.get_data().shape[-1]\n",
      "#sourceaff = img0.get_affine()\n",
      "#cmap_source = cmap.AffineTransform('ijk', 'xyz', sourceaff)\n",
      "\n",
      "#for tidx in range(timedim):\n",
      "#    tmpimg = image.Image(img0.get_data()[...,tidx], cmap_source)\n",
      "#    print img0.get_data()[...,tidx].mean()\n",
      "#    imglist.append(tmpimg)\n",
      "    \n",
      "#print [l._data.mean() for l in imglist]"
     ],
     "language": "python",
     "metadata": {},
     "outputs": []
    },
    {
     "cell_type": "code",
     "collapsed": false,
     "input": [
      "#outimglist = []\n",
      "#cmap_target = cmap.AffineTransform('ijk', 'xyz', atlas.get_affine())\n",
      "#atlasimg = image.Image(atlas.get_data(), cmap_target)\n",
      "#timedim = 10\n",
      "#for tidx in range(timedim):\n",
      "#    outimg = resample_img2img(imglist[tidx], atlasimg, order=0)\n",
      "#    print imglist[tidx]._data.mean(), outimg._data.mean() \n",
      "#    outimglist.append(outimg)\n",
      "    \n",
      "#resampl_data = np.zeros(atlas.shape + (timedim,))\n",
      "#for tidx in range(timedim):\n",
      "#    resampl_data[...,tidx] = outimglist[tidx]._data\n"
     ],
     "language": "python",
     "metadata": {},
     "outputs": []
    },
    {
     "cell_type": "code",
     "collapsed": false,
     "input": [],
     "language": "python",
     "metadata": {},
     "outputs": []
    }
   ],
   "metadata": {}
  }
 ]
}