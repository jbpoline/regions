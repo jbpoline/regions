{
 "metadata": {
  "name": "",
  "signature": "sha256:9789f7f59edc48c9e6c34d16cac7ff7cf91c4fbaff5cb14407c9bd9a76720ace"
 },
 "nbformat": 3,
 "nbformat_minor": 0,
 "worksheets": [
  {
   "cells": [
    {
     "cell_type": "code",
     "collapsed": false,
     "input": [
      "%pylab inline --no-import-all"
     ],
     "language": "python",
     "metadata": {},
     "outputs": [
      {
       "output_type": "stream",
       "stream": "stdout",
       "text": [
        "Populating the interactive namespace from numpy and matplotlib\n"
       ]
      }
     ],
     "prompt_number": 141,
     "trusted": true
    },
    {
     "cell_type": "heading",
     "level": 3,
     "metadata": {},
     "source": [
      "Get Data and Anatomical Atlas"
     ]
    },
    {
     "cell_type": "code",
     "collapsed": false,
     "input": [
      "import os\n",
      "import os.path as osp\n",
      "import sys\n",
      "import numpy as np\n",
      "import nibabel as nib\n",
      "import nipy\n",
      "import nilearn as nil\n",
      "import sklearn as skl\n",
      "from glob import glob"
     ],
     "language": "python",
     "metadata": {},
     "outputs": [],
     "prompt_number": 142,
     "trusted": true
    },
    {
     "cell_type": "code",
     "collapsed": false,
     "input": [
      "HOME = osp.expanduser('~')\n",
      "DATADIR = osp.join(HOME,'data','adhd200','NeuroIMAGE')\n",
      "filenames = glob(osp.join(DATADIR,'*','sfnwmr*'))\n",
      "#filenames"
     ],
     "language": "python",
     "metadata": {},
     "outputs": [],
     "prompt_number": 143,
     "trusted": true
    },
    {
     "cell_type": "code",
     "collapsed": false,
     "input": [
      "ATLASDIR = osp.join(HOME,'code','regions','regions')\n",
      "atlasfilename = osp.join(ATLASDIR, 'CSC2mm.nii')\n",
      "atlas = nib.load(atlasfilename)"
     ],
     "language": "python",
     "metadata": {},
     "outputs": [],
     "prompt_number": 144,
     "trusted": true
    },
    {
     "cell_type": "heading",
     "level": 3,
     "metadata": {},
     "source": [
      "Example with one roi"
     ]
    },
    {
     "cell_type": "code",
     "collapsed": false,
     "input": [
      "print atlas.shape\n",
      "atlasd = np.asarray(atlas.get_data())\n",
      "nvox = (atlasd >= 0).sum()\n",
      "\n",
      "# - NROI : approximate number of desired ROI\n",
      "NROI = 250\n",
      "avgroisize = nvox * 1. / NROI \n",
      "print nvox, avgroisize, np.prod(atlasd.shape)"
     ],
     "language": "python",
     "metadata": {},
     "outputs": [
      {
       "output_type": "stream",
       "stream": "stdout",
       "text": [
        "(91, 109, 91)\n",
        "267567 1070.268 902629\n"
       ]
      }
     ],
     "prompt_number": 145,
     "trusted": true
    },
    {
     "cell_type": "code",
     "collapsed": false,
     "input": [
      "roiidx = 50\n",
      "mask = (atlasd == roiidx)\n",
      "nvoxroi = mask.sum()\n",
      "\n",
      "def iround(x):\n",
      "    \"\"\"iround(number) -> integer\n",
      "    Round a number to the nearest integer.\"\"\"\n",
      "    y = round(x) - .5\n",
      "    return int(y) + (y > 0)"
     ],
     "language": "python",
     "metadata": {},
     "outputs": [],
     "prompt_number": 146,
     "trusted": true
    },
    {
     "cell_type": "code",
     "collapsed": false,
     "input": [
      "nclust = iround(nvoxroi / avgroisize)\n",
      "print nclust"
     ],
     "language": "python",
     "metadata": {},
     "outputs": [
      {
       "output_type": "stream",
       "stream": "stdout",
       "text": [
        "3\n"
       ]
      }
     ],
     "prompt_number": 147,
     "trusted": true
    },
    {
     "cell_type": "heading",
     "level": 3,
     "metadata": {},
     "source": [
      "Interpolate the fmri to the atlas resolution"
     ]
    },
    {
     "cell_type": "code",
     "collapsed": false,
     "input": [
      "from nipy.algorithms.resample import resample_img2img, resample\n",
      "import nipy.core.api as capi # vox2mni\n",
      "from nipy.core.image import image\n",
      "from nipy.core.reference import coordinate_map as cmap\n",
      "from nilearn._utils import niimg_conversions as niiconv\n"
     ],
     "language": "python",
     "metadata": {},
     "outputs": [],
     "prompt_number": 148,
     "trusted": true
    },
    {
     "cell_type": "code",
     "collapsed": false,
     "input": [
      "atlas = nib.load(atlasfilename)\n",
      "tmp = nib.load(filenames[0])\n",
      "timedim = tmp.shape[-1]\n",
      "del tmp\n",
      "\n",
      "cmap_out = capi.vox2mni(atlas.get_affine(), 1.0)\n",
      "out_shape = atlas.shape + (timedim,)\n"
     ],
     "language": "python",
     "metadata": {},
     "outputs": [],
     "prompt_number": 149,
     "trusted": true
    },
    {
     "cell_type": "code",
     "collapsed": false,
     "input": [
      "Done = True\n",
      "if not Done:\n",
      "    for f in filenames:\n",
      "        print f\n",
      "        img_in = nipy.load_image(f)\n",
      "        img_out = resample(img_in, cmap_out, np.eye(5), out_shape, order=1)\n",
      "        filename_out = osp.join(osp.dirname(f), 'i'+osp.basename(f))\n",
      "        _ = nipy.save_image(img_out, filename_out)\n"
     ],
     "language": "python",
     "metadata": {},
     "outputs": [],
     "prompt_number": 150,
     "trusted": true
    },
    {
     "cell_type": "heading",
     "level": 3,
     "metadata": {},
     "source": [
      "Create a smaller dimension feature space for the Ward"
     ]
    },
    {
     "cell_type": "code",
     "collapsed": false,
     "input": [
      "ifilenames = glob(osp.join(DATADIR,'*','isfnwmr*'))"
     ],
     "language": "python",
     "metadata": {},
     "outputs": [],
     "prompt_number": 151,
     "trusted": true
    },
    {
     "cell_type": "code",
     "collapsed": false,
     "input": [
      "from sklearn.decomposition import PCA\n",
      "from sklearn.externals.joblib import Memory"
     ],
     "language": "python",
     "metadata": {},
     "outputs": [],
     "prompt_number": 152,
     "trusted": true
    },
    {
     "cell_type": "code",
     "collapsed": false,
     "input": [
      "import json\n",
      "fbase, ext = osp.splitext(atlasfilename)\n",
      "if osp.isfile(fbase+\"_full\"+\".json\"): fjson= fbase+\"_full.json\"\n",
      "with open(fjson) as f:\n",
      "    j_labels = json.load(f)\n",
      "#print j_labels"
     ],
     "language": "python",
     "metadata": {},
     "outputs": [],
     "prompt_number": 153,
     "trusted": true
    },
    {
     "cell_type": "code",
     "collapsed": false,
     "input": [
      "print atlasfilename, fjson"
     ],
     "language": "python",
     "metadata": {},
     "outputs": [
      {
       "output_type": "stream",
       "stream": "stdout",
       "text": [
        "/home/jb/code/regions/regions/CSC2mm.nii /home/jb/code/regions/regions/CSC2mm_full.json\n"
       ]
      }
     ],
     "prompt_number": 154,
     "trusted": true
    },
    {
     "cell_type": "code",
     "collapsed": false,
     "input": [
      "%run parcellation.py"
     ],
     "language": "python",
     "metadata": {},
     "outputs": [
      {
       "output_type": "stream",
       "stream": "stdout",
       "text": [
        "reloading parcellation at 14-02-11-20-34-13 \n",
        "\n"
       ]
      }
     ],
     "prompt_number": 155,
     "trusted": true
    },
    {
     "cell_type": "code",
     "collapsed": false,
     "input": [
      "img_in = nipy.load_image(ifilenames[0])\n",
      "print type(img_in)\n",
      "print img_in.affine\n",
      "img_out = nipy_to_nibabel(img_in)\n",
      "print type(img_out)\n",
      "print img_out.get_affine()\n",
      "#niiconv.check_niimg(img_in)\n",
      "#tmp = niiconv.concat_niimgs("
     ],
     "language": "python",
     "metadata": {},
     "outputs": [
      {
       "output_type": "stream",
       "stream": "stdout",
       "text": [
        "<class 'nipy.core.image.image.Image'>\n",
        "[[  -2.    0.    0.    0.   90.]\n",
        " [   0.    2.    0.    0. -126.]\n",
        " [   0.    0.    2.    0.  -72.]\n",
        " [   0.    0.    0.    1.    0.]\n",
        " [   0.    0.    0.    0.    1.]]\n",
        "<class 'nibabel.nifti1.Nifti1Image'>\n",
        "[[  -2.    0.    0.   90.]\n",
        " [   0.    2.    0. -126.]\n",
        " [   0.    0.    2.  -72.]\n",
        " [   0.    0.    0.    1.]]\n"
       ]
      }
     ],
     "prompt_number": 156,
     "trusted": true
    },
    {
     "cell_type": "heading",
     "level": 3,
     "metadata": {},
     "source": [
      "Reduce dimension and standardize time series"
     ]
    },
    {
     "cell_type": "code",
     "collapsed": false,
     "input": [
      "ifilenames = glob(osp.join(DATADIR,'*','isfnwmr*'))\n",
      "files2process = ifilenames\n",
      "\n",
      "cast_to = 'float32'\n",
      "tiny = np.finfo(cast_to).eps * 1000\n",
      "\n",
      "atlas = nib.load(atlasfilename)\n",
      "atlas_mask = atlas.get_data() != -1\n",
      "nvoxmask = atlas_mask.sum()\n",
      "nsubj = len(files2process)\n",
      "ncomp = 10 # arbitrary\n",
      "print nvoxmask\n",
      "\n",
      "features_filename = osp.join(DATADIR,'features.npy')\n",
      "if osp.isfile(features_filename):\n",
      "    Done = True\n",
      "else:\n",
      "    Done = False\n",
      "\n",
      "if not Done:\n",
      "    features = np.zeros((nvoxmask, ncomp*nsubj))\n",
      "\n",
      "    for idx, sub in enumerate(files2process):\n",
      "        # load image\n",
      "        img = nib.load(sub)\n",
      "        \n",
      "        # get signals in mask\n",
      "        tsignals = img.get_data()[atlas_mask]\n",
      "        print osp.basename(sub), \"\\t\", tsignals.shape\n",
      "        \n",
      "        # reduce to 10 components\n",
      "        pca = PCA(n_components=ncomp)\n",
      "        pca.fit(tsignals)\n",
      "        tsignals_pca = pca.transform(tsignals)\n",
      "        print tsignals_pca.shape\n",
      "        \n",
      "        # Standardizing pca-ed time courses (cf Bernard's code)\n",
      "        tc_std = np.std(tsignals_pca, axis=1)\n",
      "        ind = tc_std > tiny\n",
      "        \n",
      "        if ind.sum() != tc_std.shape[0]:\n",
      "            print '\\n *********** \\n ind.sum() != tc_std.shape[0]:', ind.sum(), tc_std.shape[0], '\\n'\n",
      "            print tsignals_pca[~ind,:].mean(axis=1)\n",
      "        \n",
      "        tsignals_pca[ind, :] = tsignals_pca[ind, :] - tsignals_pca[ind, :].mean(axis=1)[:, np.newaxis]\n",
      "        tsignals_pca[ind, :] = tsignals_pca[ind, :] / tsignals_pca[ind, :].std(axis=1)[:, np.newaxis]\n",
      "    \n",
      "        # append to previous data\n",
      "        features[:, idx*ncomp + np.arange(ncomp)] = tsignals_pca\n",
      "    \n",
      "    np.save(features_filename, features)\n",
      "else:\n",
      "    features = np.load(features_filename)"
     ],
     "language": "python",
     "metadata": {},
     "outputs": [
      {
       "output_type": "stream",
       "stream": "stdout",
       "text": [
        "267567\n"
       ]
      }
     ],
     "prompt_number": 157,
     "trusted": true
    },
    {
     "cell_type": "code",
     "collapsed": false,
     "input": [
      "a = features[500:501:8,60:320]\n",
      "p = plt.plot(a.T)"
     ],
     "language": "python",
     "metadata": {},
     "outputs": [
      {
       "metadata": {},
       "output_type": "display_data",
       "png": "[encoded data removed]",
       "text": [
        "<matplotlib.figure.Figure at 0x5447190>"
       ]
      }
     ],
     "prompt_number": 158,
     "trusted": true
    },
    {
     "cell_type": "code",
     "collapsed": false,
     "input": [
      "from sklearn.feature_extraction.image import grid_to_graph\n",
      "from sklearn.cluster import WardAgglomeration\n",
      "from sklearn.externals.joblib import Memory"
     ],
     "language": "python",
     "metadata": {},
     "outputs": [],
     "prompt_number": 159,
     "trusted": true
    },
    {
     "cell_type": "code",
     "collapsed": false,
     "input": [
      "atlasd = np.asarray(atlas.get_data())\n",
      "n_rois = len(np.unique(atlasd)) - 1 # remove background"
     ],
     "language": "python",
     "metadata": {},
     "outputs": [],
     "prompt_number": 160,
     "trusted": true
    },
    {
     "cell_type": "code",
     "collapsed": false,
     "input": [
      "mem = Memory(cachedir='.', verbose=1)\n",
      "\n",
      "# atlas_mask = atlas.get_data() != -1\n",
      "nvox = atlas_mask.sum()\n",
      "NROI = 2000 # approximate desired number of ROI\n",
      "avgclustsize = nvox * 1. / NROI\n",
      "\n",
      "\n",
      "template = np.zeros_like(atlasd)\n",
      "template.fill(-1.)\n",
      "dim = atlasd.shape\n",
      "n_clust = np.zeros(n_rois, dtype=int) #number of cluster per ROI\n",
      "\n",
      "curr_label = 0\n",
      "newlabels = []\n",
      "roi_indexes = range(n_rois)"
     ],
     "language": "python",
     "metadata": {},
     "outputs": [],
     "prompt_number": 161,
     "trusted": true
    },
    {
     "cell_type": "code",
     "collapsed": false,
     "input": [
      "print n_rois, nvox, avgclustsize"
     ],
     "language": "python",
     "metadata": {},
     "outputs": [
      {
       "output_type": "stream",
       "stream": "stdout",
       "text": [
        "135 267567 133.7835\n"
       ]
      }
     ],
     "prompt_number": 162,
     "trusted": true
    },
    {
     "cell_type": "code",
     "collapsed": false,
     "input": [
      "for ridx in roi_indexes:\n",
      "    \n",
      "    curr_label = template.max() \n",
      "    # first should be -1, \n",
      "    # print \"current label is %d \" % curr_label\n",
      "    \n",
      "    # get the mask of the roi\n",
      "    roi_mask = (atlasd == ridx)\n",
      "    nvoxroi = roi_mask.sum()\n",
      "    print \" working on roi %d with %d voxels \" %(ridx, nvoxroi)\n",
      "    \n",
      "    # how many cluster in this ROI?\n",
      "    nclust = iround(nvoxroi / avgclustsize)\n",
      "    n_clust[ridx] = nclust\n",
      "\n",
      "    if (nclust == 1) or (nclust == 0):\n",
      "        curr_label += 1\n",
      "        template[roi_mask] = curr_label\n",
      "        newlabels.append((np.asarray([curr_label]), j_labels[ridx])) #\n",
      "        continue\n",
      " \n",
      "    # this gets the indices of the roi voxels in the atlas_mask array\n",
      "    atlas_mask_idx = np.where(atlas_mask.ravel())[0]\n",
      "    roi_mask_idx = np.where(roi_mask.ravel())[0]\n",
      "    ts_indexes_for_roi = np.in1d(atlas_mask_idx, roi_mask_idx).nonzero()[0]\n",
      "    \n",
      "    print atlas_mask_idx.shape, roi_mask_idx.shape, ts_indexes_for_roi.shape\n",
      "    \n",
      "    # Define connectivity based on brain mask\n",
      "    A = grid_to_graph(n_x=dim[0], n_y=dim[1], n_z=dim[2], mask=roi_mask)\n",
      "    ward = WardAgglomeration(n_clusters=nclust, connectivity=A.tolil(), memory=mem)\n",
      "    \n",
      "    # give to ward.fit the time series of the ROI\n",
      "    print features[ts_indexes_for_roi,:].shape\n",
      "    ward.fit(features[ts_indexes_for_roi,:].T)\n",
      "    \n",
      "    # this assumes that ward.labels start at 0\n",
      "    template[roi_mask] = ward.labels_ + curr_label + 1 \n",
      "    newlabels.append((np.arange(curr_label,curr_label+nclust)+1, j_labels[ridx]))\n",
      "    print \"wtf \", curr_label, nclust\n",
      "    "
     ],
     "language": "python",
     "metadata": {},
     "outputs": [
      {
       "output_type": "stream",
       "stream": "stdout",
       "text": [
        " working on roi 0 with 9686 voxels \n",
        "(267567,)"
       ]
      },
      {
       "output_type": "stream",
       "stream": "stdout",
       "text": [
        " (9686,) (9686,)\n",
        "(9686, 480)"
       ]
      },
      {
       "output_type": "stream",
       "stream": "stdout",
       "text": [
        "\n",
        "________________________________________________________________________________\n",
        "[Memory] Calling sklearn.cluster.hierarchical.ward_tree...\n",
        "ward_tree(array([[-2.071169, ...,  0.706384],\n",
        "       ..., \n",
        "       [ 1.842637, ..., -0.60817 ]]), \n",
        "<9686x9686 sparse matrix of type '<type 'numpy.int64'>'\n",
        "\twith 62082 stored elements in LInked List format>, copy=True, n_components=None, n_clusters=72)"
       ]
      },
      {
       "output_type": "stream",
       "stream": "stdout",
       "text": [
        "\n",
        "________________________________________________________ward_tree - 2.9s, 0.0min"
       ]
      },
      {
       "output_type": "stream",
       "stream": "stdout",
       "text": [
        "\n",
        "wtf  -1.0 72\n",
        " working on roi 1 with 1334 voxels \n",
        "(267567,)"
       ]
      },
      {
       "output_type": "stream",
       "stream": "stdout",
       "text": [
        " (1334,) (1334,)\n",
        "(1334, 480)"
       ]
      },
      {
       "output_type": "stream",
       "stream": "stdout",
       "text": [
        "\n",
        "________________________________________________________________________________\n",
        "[Memory] Calling sklearn.cluster.hierarchical.ward_tree...\n",
        "ward_tree(array([[ 0.012123, ...,  0.054848],\n",
        "       ..., \n",
        "       [-0.096311, ..., -0.137295]]), \n",
        "<1334x1334 sparse matrix of type '<type 'numpy.int64'>'\n",
        "\twith 7870 stored elements in LInked List format>, copy=True, n_components=None, n_clusters=10)"
       ]
      },
      {
       "output_type": "stream",
       "stream": "stdout",
       "text": [
        "\n",
        "________________________________________________________ward_tree - 0.3s, 0.0min"
       ]
      },
      {
       "output_type": "stream",
       "stream": "stdout",
       "text": [
        "\n",
        "wtf  71.0 10\n",
        " working on roi 2 with 3505 voxels \n",
        "(267567,)"
       ]
      },
      {
       "output_type": "stream",
       "stream": "stdout",
       "text": [
        " (3505,) (3505,)\n",
        "(3505, 480)"
       ]
      },
      {
       "output_type": "stream",
       "stream": "stdout",
       "text": [
        "\n",
        "________________________________________________________________________________\n",
        "[Memory] Calling sklearn.cluster.hierarchical.ward_tree...\n",
        "ward_tree(array([[-1.687384, ...,  0.051831],\n",
        "       ..., \n",
        "       [-0.812868, ..., -1.233804]]), \n",
        "<3505x3505 sparse matrix of type '<type 'numpy.int64'>'\n",
        "\twith 21619 stored elements in LInked List format>, copy=True, n_components=None, n_clusters=26)"
       ]
      },
      {
       "output_type": "stream",
       "stream": "stdout",
       "text": [
        "\n",
        "________________________________________________________ward_tree - 1.1s, 0.0min"
       ]
      },
      {
       "output_type": "stream",
       "stream": "stdout",
       "text": [
        "\n",
        "wtf  81.0 26\n",
        " working on roi 3 with 3445 voxels \n",
        "(267567,)"
       ]
      },
      {
       "output_type": "stream",
       "stream": "stdout",
       "text": [
        " (3445,) (3445,)\n",
        "(3445, 480)"
       ]
      },
      {
       "output_type": "stream",
       "stream": "stdout",
       "text": [
        "\n",
        "________________________________________________________________________________\n",
        "[Memory] Calling sklearn.cluster.hierarchical.ward_tree...\n",
        "ward_tree(array([[ 1.514093, ..., -0.04314 ],\n",
        "       ..., \n",
        "       [ 0.026579, ..., -0.164982]]), \n",
        "<3445x3445 sparse matrix of type '<type 'numpy.int64'>'\n",
        "\twith 21405 stored elements in LInked List format>, copy=True, n_components=None, n_clusters=26)"
       ]
      },
      {
       "output_type": "stream",
       "stream": "stdout",
       "text": [
        "\n",
        "________________________________________________________ward_tree - 1.0s, 0.0min"
       ]
      },
      {
       "output_type": "stream",
       "stream": "stdout",
       "text": [
        "\n",
        "wtf  107.0 26\n",
        " working on roi 4 with 843 voxels \n",
        "(267567,)"
       ]
      },
      {
       "output_type": "stream",
       "stream": "stdout",
       "text": [
        " (843,) (843,)\n",
        "(843, 480)"
       ]
      },
      {
       "output_type": "stream",
       "stream": "stdout",
       "text": [
        "\n",
        "________________________________________________________________________________\n",
        "[Memory] Calling sklearn.cluster.hierarchical.ward_tree...\n",
        "ward_tree(array([[-0.849345, ..., -0.154995],\n",
        "       ..., \n",
        "       [-0.623224, ..., -0.62013 ]]), \n",
        "<843x843 sparse matrix of type '<type 'numpy.int64'>'\n",
        "\twith 4953 stored elements in LInked List format>, copy=True, n_components=None, n_clusters=6)"
       ]
      },
      {
       "output_type": "stream",
       "stream": "stdout",
       "text": [
        "\n",
        "________________________________________________________ward_tree - 0.2s, 0.0min"
       ]
      },
      {
       "output_type": "stream",
       "stream": "stdout",
       "text": [
        "\n",
        "wtf  133.0 6\n",
        " working on roi 5 with 941 voxels \n",
        "(267567,)"
       ]
      },
      {
       "output_type": "stream",
       "stream": "stdout",
       "text": [
        " (941,) (941,)\n",
        "(941, 480)"
       ]
      },
      {
       "output_type": "stream",
       "stream": "stdout",
       "text": [
        "\n",
        "________________________________________________________________________________\n",
        "[Memory] Calling sklearn.cluster.hierarchical.ward_tree...\n",
        "ward_tree(array([[ 1.042017, ..., -1.438251],\n",
        "       ..., \n",
        "       [-0.536507, ..., -0.337378]]), \n",
        "<941x941 sparse matrix of type '<type 'numpy.int64'>'\n",
        "\twith 5611 stored elements in LInked List format>, copy=True, n_components=None, n_clusters=7)"
       ]
      },
      {
       "output_type": "stream",
       "stream": "stdout",
       "text": [
        "\n",
        "________________________________________________________ward_tree - 0.2s, 0.0min"
       ]
      },
      {
       "output_type": "stream",
       "stream": "stdout",
       "text": [
        "\n",
        "wtf  139.0 7\n",
        " working on roi 6 with 4849 voxels \n",
        "(267567,)"
       ]
      },
      {
       "output_type": "stream",
       "stream": "stdout",
       "text": [
        " (4849,) (4849,)\n",
        "(4849, 480)"
       ]
      },
      {
       "output_type": "stream",
       "stream": "stdout",
       "text": [
        "\n",
        "________________________________________________________________________________\n",
        "[Memory] Calling sklearn.cluster.hierarchical.ward_tree...\n",
        "ward_tree(array([[-1.749302, ..., -0.242267],\n",
        "       ..., \n",
        "       [-2.122062, ..., -1.08654 ]]), \n",
        "<4849x4849 sparse matrix of type '<type 'numpy.int64'>'\n",
        "\twith 29503 stored elements in LInked List format>, copy=True, n_components=None, n_clusters=36)"
       ]
      },
      {
       "output_type": "stream",
       "stream": "stdout",
       "text": [
        "\n",
        "________________________________________________________ward_tree - 1.2s, 0.0min"
       ]
      },
      {
       "output_type": "stream",
       "stream": "stdout",
       "text": [
        "\n",
        "wtf  146.0 36\n",
        " working on roi 7 with 3737 voxels \n",
        "(267567,)"
       ]
      },
      {
       "output_type": "stream",
       "stream": "stdout",
       "text": [
        " (3737,) (3737,)\n",
        "(3737, 480)"
       ]
      },
      {
       "output_type": "stream",
       "stream": "stdout",
       "text": [
        "\n",
        "________________________________________________________________________________\n",
        "[Memory] Calling sklearn.cluster.hierarchical.ward_tree...\n",
        "ward_tree(array([[-0.990006, ...,  1.827742],\n",
        "       ..., \n",
        "       [ 1.455634, ...,  0.158986]]), \n",
        "<3737x3737 sparse matrix of type '<type 'numpy.int64'>'\n",
        "\twith 23735 stored elements in LInked List format>, copy=True, n_components=None, n_clusters=28)"
       ]
      },
      {
       "output_type": "stream",
       "stream": "stdout",
       "text": [
        "\n",
        "________________________________________________________ward_tree - 0.9s, 0.0min"
       ]
      },
      {
       "output_type": "stream",
       "stream": "stdout",
       "text": [
        "\n",
        "wtf  182.0 28\n",
        " working on roi 8 with 410 voxels \n",
        "(267567,)"
       ]
      },
      {
       "output_type": "stream",
       "stream": "stdout",
       "text": [
        " (410,) (410,)\n",
        "(410, 480)"
       ]
      },
      {
       "output_type": "stream",
       "stream": "stdout",
       "text": [
        "\n",
        "________________________________________________________________________________\n",
        "[Memory] Calling sklearn.cluster.hierarchical.ward_tree...\n",
        "ward_tree(array([[-0.611139, ...,  0.037255],\n",
        "       ..., \n",
        "       [-1.916271, ...,  0.578385]]), \n",
        "<410x410 sparse matrix of type '<type 'numpy.int64'>'\n",
        "\twith 2308 stored elements in LInked List format>, copy=True, n_components=None, n_clusters=3)"
       ]
      },
      {
       "output_type": "stream",
       "stream": "stdout",
       "text": [
        "\n",
        "________________________________________________________ward_tree - 0.1s, 0.0min\n",
        "wtf "
       ]
      },
      {
       "output_type": "stream",
       "stream": "stdout",
       "text": [
        " 210.0 3\n",
        " working on roi 9 with 747 voxels \n",
        "(267567,) (747,) (747,)\n",
        "(747, 480)"
       ]
      },
      {
       "output_type": "stream",
       "stream": "stdout",
       "text": [
        "\n",
        "________________________________________________________________________________\n",
        "[Memory] Calling sklearn.cluster.hierarchical.ward_tree...\n",
        "ward_tree(array([[ 0.321677, ..., -0.976202],\n",
        "       ..., \n",
        "       [-0.838563, ...,  1.691911]]), \n",
        "<747x747 sparse matrix of type '<type 'numpy.int64'>'\n",
        "\twith 4191 stored elements in LInked List format>, copy=True, n_components=None, n_clusters=6)"
       ]
      },
      {
       "output_type": "stream",
       "stream": "stdout",
       "text": [
        "\n",
        "________________________________________________________ward_tree - 0.2s, 0.0min"
       ]
      },
      {
       "output_type": "stream",
       "stream": "stdout",
       "text": [
        "\n",
        "wtf  213.0 6\n",
        " working on roi 10 with 642 voxels \n",
        "(267567,)"
       ]
      },
      {
       "output_type": "stream",
       "stream": "stdout",
       "text": [
        " (642,) (642,)\n",
        "(642, 480)"
       ]
      },
      {
       "output_type": "stream",
       "stream": "stdout",
       "text": [
        "\n",
        "________________________________________________________________________________\n",
        "[Memory] Calling sklearn.cluster.hierarchical.ward_tree...\n",
        "ward_tree(array([[ 0.21683 , ..., -1.513359],\n",
        "       ..., \n",
        "       [ 2.549684, ...,  1.126989]]), \n",
        "<642x642 sparse matrix of type '<type 'numpy.int64'>'\n",
        "\twith 3738 stored elements in LInked List format>, copy=True, n_components=None, n_clusters=5)"
       ]
      },
      {
       "output_type": "stream",
       "stream": "stdout",
       "text": [
        "\n",
        "________________________________________________________ward_tree - 0.1s, 0.0min"
       ]
      },
      {
       "output_type": "stream",
       "stream": "stdout",
       "text": [
        "\n",
        "wtf  219.0 5\n",
        " working on roi 11 with 1712 voxels \n",
        "(267567,)"
       ]
      },
      {
       "output_type": "stream",
       "stream": "stdout",
       "text": [
        " (1712,) (1712,)\n",
        "(1712, 480)"
       ]
      },
      {
       "output_type": "stream",
       "stream": "stdout",
       "text": [
        "\n",
        "________________________________________________________________________________\n",
        "[Memory] Calling sklearn.cluster.hierarchical.ward_tree...\n",
        "ward_tree(array([[ 0.505145, ..., -0.804387],\n",
        "       ..., \n",
        "       [-1.187314, ...,  1.050731]]), \n",
        "<1712x1712 sparse matrix of type '<type 'numpy.int64'>'\n",
        "\twith 10486 stored elements in LInked List format>, copy=True, n_components=None, n_clusters=13)"
       ]
      },
      {
       "output_type": "stream",
       "stream": "stdout",
       "text": [
        "\n",
        "________________________________________________________ward_tree - 0.4s, 0.0min"
       ]
      },
      {
       "output_type": "stream",
       "stream": "stdout",
       "text": [
        "\n",
        "wtf  224.0 13\n",
        " working on roi 12 with 1043 voxels \n",
        "(267567,)"
       ]
      },
      {
       "output_type": "stream",
       "stream": "stdout",
       "text": [
        " (1043,) (1043,)\n",
        "(1043, 480)"
       ]
      },
      {
       "output_type": "stream",
       "stream": "stdout",
       "text": [
        "\n",
        "________________________________________________________________________________\n",
        "[Memory] Calling sklearn.cluster.hierarchical.ward_tree...\n",
        "ward_tree(array([[-0.881686, ...,  1.055999],\n",
        "       ..., \n",
        "       [-0.374809, ..., -0.078516]]), \n",
        "<1043x1043 sparse matrix of type '<type 'numpy.int64'>'\n",
        "\twith 6247 stored elements in LInked List format>, copy=True, n_components=None, n_clusters=8)"
       ]
      },
      {
       "output_type": "stream",
       "stream": "stdout",
       "text": [
        "\n",
        "________________________________________________________ward_tree - 0.2s, 0.0min"
       ]
      },
      {
       "output_type": "stream",
       "stream": "stdout",
       "text": [
        "\n",
        "wtf  237.0 8\n",
        " working on roi 13 with 602 voxels \n",
        "(267567,)"
       ]
      },
      {
       "output_type": "stream",
       "stream": "stdout",
       "text": [
        " (602,) (602,)\n",
        "(602, 480)"
       ]
      },
      {
       "output_type": "stream",
       "stream": "stdout",
       "text": [
        "\n",
        "________________________________________________________________________________\n",
        "[Memory] Calling sklearn.cluster.hierarchical.ward_tree...\n",
        "ward_tree(array([[-0.013503, ...,  0.003789],\n",
        "       ..., \n",
        "       [ 1.341171, ...,  1.658238]]), \n",
        "<602x602 sparse matrix of type '<type 'numpy.int64'>'\n",
        "\twith 3410 stored elements in LInked List format>, copy=True, n_components=None, n_clusters=4)"
       ]
      },
      {
       "output_type": "stream",
       "stream": "stdout",
       "text": [
        "\n",
        "________________________________________________________ward_tree - 0.1s, 0.0min"
       ]
      },
      {
       "output_type": "stream",
       "stream": "stdout",
       "text": [
        "\n",
        "wtf  245.0 4\n",
        " working on roi 14 with 1687 voxels \n",
        "(267567,)"
       ]
      },
      {
       "output_type": "stream",
       "stream": "stdout",
       "text": [
        " (1687,) (1687,)\n",
        "(1687, 480)"
       ]
      },
      {
       "output_type": "stream",
       "stream": "stdout",
       "text": [
        "\n",
        "________________________________________________________________________________\n",
        "[Memory] Calling sklearn.cluster.hierarchical.ward_tree...\n",
        "ward_tree(array([[ 1.30293 , ...,  0.559387],\n",
        "       ..., \n",
        "       [ 1.907826, ...,  0.54917 ]]), \n",
        "<1687x1687 sparse matrix of type '<type 'numpy.int64'>'\n",
        "\twith 10169 stored elements in LInked List format>, copy=True, n_components=None, n_clusters=13)"
       ]
      },
      {
       "output_type": "stream",
       "stream": "stdout",
       "text": [
        "\n",
        "________________________________________________________ward_tree - 0.4s, 0.0min"
       ]
      },
      {
       "output_type": "stream",
       "stream": "stdout",
       "text": [
        "\n",
        "wtf  249.0 13\n",
        " working on roi 15 with 866 voxels \n",
        "(267567,)"
       ]
      },
      {
       "output_type": "stream",
       "stream": "stdout",
       "text": [
        " (866,) (866,)\n",
        "(866, 480)"
       ]
      },
      {
       "output_type": "stream",
       "stream": "stdout",
       "text": [
        "\n",
        "________________________________________________________________________________\n",
        "[Memory] Calling sklearn.cluster.hierarchical.ward_tree...\n",
        "ward_tree(array([[-0.734916, ...,  0.220052],\n",
        "       ..., \n",
        "       [ 1.841969, ..., -1.033872]]), \n",
        "<866x866 sparse matrix of type '<type 'numpy.int64'>'\n",
        "\twith 5184 stored elements in LInked List format>, copy=True, n_components=None, n_clusters=6)"
       ]
      },
      {
       "output_type": "stream",
       "stream": "stdout",
       "text": [
        "\n",
        "________________________________________________________ward_tree - 0.2s, 0.0min"
       ]
      },
      {
       "output_type": "stream",
       "stream": "stdout",
       "text": [
        "\n",
        "wtf  262.0 6\n",
        " working on roi 16 with 4547 voxels \n",
        "(267567,)"
       ]
      },
      {
       "output_type": "stream",
       "stream": "stdout",
       "text": [
        " (4547,) (4547,)\n",
        "(4547, 480)"
       ]
      },
      {
       "output_type": "stream",
       "stream": "stdout",
       "text": [
        "\n",
        "________________________________________________________________________________\n",
        "[Memory] Calling sklearn.cluster.hierarchical.ward_tree...\n",
        "ward_tree(array([[-0.951024, ...,  0.36169 ],\n",
        "       ..., \n",
        "       [-1.45821 , ..., -0.727569]]), \n",
        "<4547x4547 sparse matrix of type '<type 'numpy.int64'>'\n",
        "\twith 28125 stored elements in LInked List format>, copy=True, n_components=None, n_clusters=34)"
       ]
      },
      {
       "output_type": "stream",
       "stream": "stdout",
       "text": [
        "\n",
        "________________________________________________________ward_tree - 1.1s, 0.0min"
       ]
      },
      {
       "output_type": "stream",
       "stream": "stdout",
       "text": [
        "\n",
        "wtf  268.0 34\n",
        " working on roi 17 with 1705 voxels \n",
        "(267567,)"
       ]
      },
      {
       "output_type": "stream",
       "stream": "stdout",
       "text": [
        " (1705,) (1705,)\n",
        "(1705, 480)"
       ]
      },
      {
       "output_type": "stream",
       "stream": "stdout",
       "text": [
        "\n",
        "________________________________________________________________________________\n",
        "[Memory] Calling sklearn.cluster.hierarchical.ward_tree...\n",
        "ward_tree(array([[-0.616651, ...,  0.48467 ],\n",
        "       ..., \n",
        "       [ 0.356343, ...,  0.266931]]), \n",
        "<1705x1705 sparse matrix of type '<type 'numpy.int64'>'\n",
        "\twith 10321 stored elements in LInked List format>, copy=True, n_components=None, n_clusters=13)"
       ]
      },
      {
       "output_type": "stream",
       "stream": "stdout",
       "text": [
        "\n",
        "________________________________________________________ward_tree - 0.4s, 0.0min"
       ]
      },
      {
       "output_type": "stream",
       "stream": "stdout",
       "text": [
        "\n",
        "wtf  302.0 13\n",
        " working on roi 18 with 1221 voxels \n",
        "(267567,)"
       ]
      },
      {
       "output_type": "stream",
       "stream": "stdout",
       "text": [
        " (1221,) (1221,)\n",
        "(1221, 480)"
       ]
      },
      {
       "output_type": "stream",
       "stream": "stdout",
       "text": [
        "\n",
        "________________________________________________________________________________\n",
        "[Memory] Calling sklearn.cluster.hierarchical.ward_tree...\n",
        "ward_tree(array([[ 0.535279, ..., -0.908951],\n",
        "       ..., \n",
        "       [-2.292717, ..., -1.401519]]), \n",
        "<1221x1221 sparse matrix of type '<type 'numpy.int64'>'\n",
        "\twith 7389 stored elements in LInked List format>, copy=True, n_components=None, n_clusters=9)"
       ]
      },
      {
       "output_type": "stream",
       "stream": "stdout",
       "text": [
        "\n",
        "________________________________________________________ward_tree - 0.3s, 0.0min"
       ]
      },
      {
       "output_type": "stream",
       "stream": "stdout",
       "text": [
        "\n",
        "wtf  315.0 9\n",
        " working on roi 19 with 1380 voxels \n",
        "(267567,)"
       ]
      },
      {
       "output_type": "stream",
       "stream": "stdout",
       "text": [
        " (1380,) (1380,)\n",
        "(1380, 480)"
       ]
      },
      {
       "output_type": "stream",
       "stream": "stdout",
       "text": [
        "\n",
        "________________________________________________________________________________\n",
        "[Memory] Calling sklearn.cluster.hierarchical.ward_tree...\n",
        "ward_tree(array([[-0.551178, ..., -1.506857],\n",
        "       ..., \n",
        "       [-2.031616, ...,  1.132358]]), \n",
        "<1380x1380 sparse matrix of type '<type 'numpy.int64'>'\n",
        "\twith 8162 stored elements in LInked List format>, copy=True, n_components=None, n_clusters=10)"
       ]
      },
      {
       "output_type": "stream",
       "stream": "stdout",
       "text": [
        "\n",
        "________________________________________________________ward_tree - 0.4s, 0.0min"
       ]
      },
      {
       "output_type": "stream",
       "stream": "stdout",
       "text": [
        "\n",
        "wtf  324.0 10\n",
        " working on roi 20 with 1053 voxels \n",
        "(267567,)"
       ]
      },
      {
       "output_type": "stream",
       "stream": "stdout",
       "text": [
        " (1053,) (1053,)\n",
        "(1053, 480)"
       ]
      },
      {
       "output_type": "stream",
       "stream": "stdout",
       "text": [
        "\n",
        "________________________________________________________________________________\n",
        "[Memory] Calling sklearn.cluster.hierarchical.ward_tree...\n",
        "ward_tree(array([[ 1.804494, ..., -1.79675 ],\n",
        "       ..., \n",
        "       [ 0.371215, ..., -0.15431 ]]), \n",
        "<1053x1053 sparse matrix of type '<type 'numpy.int64'>'\n",
        "\twith 6087 stored elements in LInked List format>, copy=True, n_components=None, n_clusters=8)"
       ]
      },
      {
       "output_type": "stream",
       "stream": "stdout",
       "text": [
        "\n",
        "________________________________________________________ward_tree - 0.3s, 0.0min"
       ]
      },
      {
       "output_type": "stream",
       "stream": "stdout",
       "text": [
        "\n",
        "wtf  334.0 8\n",
        " working on roi 21 with 6188 voxels \n",
        "(267567,)"
       ]
      },
      {
       "output_type": "stream",
       "stream": "stdout",
       "text": [
        " (6188,) (6188,)\n",
        "(6188, 480)"
       ]
      },
      {
       "output_type": "stream",
       "stream": "stdout",
       "text": [
        "\n",
        "________________________________________________________________________________\n",
        "[Memory] Calling sklearn.cluster.hierarchical.ward_tree...\n",
        "ward_tree(array([[-1.031417, ...,  0.205048],\n",
        "       ..., \n",
        "       [-0.484861, ..., -0.670819]]), \n",
        "<6188x6188 sparse matrix of type '<type 'numpy.int64'>'\n",
        "\twith 39264 stored elements in LInked List format>, copy=True, n_components=None, n_clusters=46)"
       ]
      },
      {
       "output_type": "stream",
       "stream": "stdout",
       "text": [
        "\n",
        "________________________________________________________ward_tree - 2.1s, 0.0min"
       ]
      },
      {
       "output_type": "stream",
       "stream": "stdout",
       "text": [
        "\n",
        "wtf  342.0 46\n",
        " working on roi 22 with 2637 voxels \n",
        "(267567,)"
       ]
      },
      {
       "output_type": "stream",
       "stream": "stdout",
       "text": [
        " (2637,) (2637,)\n",
        "(2637, 480)"
       ]
      },
      {
       "output_type": "stream",
       "stream": "stdout",
       "text": [
        "\n",
        "________________________________________________________________________________\n",
        "[Memory] Calling sklearn.cluster.hierarchical.ward_tree...\n",
        "ward_tree(array([[-1.01718 , ...,  1.514881],\n",
        "       ..., \n",
        "       [ 0.19768 , ..., -0.609409]]), \n",
        "<2637x2637 sparse matrix of type '<type 'numpy.int64'>'\n",
        "\twith 16495 stored elements in LInked List format>, copy=True, n_components=None, n_clusters=20)"
       ]
      },
      {
       "output_type": "stream",
       "stream": "stdout",
       "text": [
        "\n",
        "________________________________________________________ward_tree - 0.7s, 0.0min"
       ]
      },
      {
       "output_type": "stream",
       "stream": "stdout",
       "text": [
        "\n",
        "wtf  388.0 20\n",
        " working on roi 23 with 585 voxels \n",
        "(267567,)"
       ]
      },
      {
       "output_type": "stream",
       "stream": "stdout",
       "text": [
        " (585,) (585,)\n",
        "(585, 480)"
       ]
      },
      {
       "output_type": "stream",
       "stream": "stdout",
       "text": [
        "\n",
        "________________________________________________________________________________\n",
        "[Memory] Calling sklearn.cluster.hierarchical.ward_tree...\n",
        "ward_tree(array([[-0.957132, ...,  0.263135],\n",
        "       ..., \n",
        "       [-1.746389, ...,  0.544353]]), \n",
        "<585x585 sparse matrix of type '<type 'numpy.int64'>'\n",
        "\twith 3439 stored elements in LInked List format>, copy=True, n_components=None, n_clusters=4)"
       ]
      },
      {
       "output_type": "stream",
       "stream": "stdout",
       "text": [
        "\n",
        "________________________________________________________ward_tree - 0.1s, 0.0min"
       ]
      },
      {
       "output_type": "stream",
       "stream": "stdout",
       "text": [
        "\n",
        "wtf  408.0 4\n",
        " working on roi 24 with 1013 voxels \n",
        "(267567,)"
       ]
      },
      {
       "output_type": "stream",
       "stream": "stdout",
       "text": [
        " (1013,) (1013,)\n",
        "(1013, 480)"
       ]
      },
      {
       "output_type": "stream",
       "stream": "stdout",
       "text": [
        "\n",
        "________________________________________________________________________________\n",
        "[Memory] Calling sklearn.cluster.hierarchical.ward_tree...\n",
        "ward_tree(array([[-0.229172, ...,  1.931032],\n",
        "       ..., \n",
        "       [ 0.297421, ...,  0.402785]]), \n",
        "<1013x1013 sparse matrix of type '<type 'numpy.int64'>'\n",
        "\twith 6033 stored elements in LInked List format>, copy=True, n_components=None, n_clusters=8)"
       ]
      },
      {
       "output_type": "stream",
       "stream": "stdout",
       "text": [
        "\n",
        "________________________________________________________ward_tree - 0.2s, 0.0min"
       ]
      },
      {
       "output_type": "stream",
       "stream": "stdout",
       "text": [
        "\n",
        "wtf  412.0 8\n",
        " working on roi 25 with 1486 voxels \n",
        "(267567,)"
       ]
      },
      {
       "output_type": "stream",
       "stream": "stdout",
       "text": [
        " (1486,) (1486,)\n",
        "(1486, 480)"
       ]
      },
      {
       "output_type": "stream",
       "stream": "stdout",
       "text": [
        "\n",
        "________________________________________________________________________________\n",
        "[Memory] Calling sklearn.cluster.hierarchical.ward_tree...\n",
        "ward_tree(array([[-1.317849, ...,  0.201401],\n",
        "       ..., \n",
        "       [-0.953983, ..., -0.100121]]), \n",
        "<1486x1486 sparse matrix of type '<type 'numpy.int64'>'\n",
        "\twith 9082 stored elements in LInked List format>, copy=True, n_components=None, n_clusters=11)"
       ]
      },
      {
       "output_type": "stream",
       "stream": "stdout",
       "text": [
        "\n",
        "________________________________________________________ward_tree - 0.4s, 0.0min"
       ]
      },
      {
       "output_type": "stream",
       "stream": "stdout",
       "text": [
        "\n",
        "wtf  420.0 11\n",
        " working on roi 26 with 1413 voxels \n",
        "(267567,)"
       ]
      },
      {
       "output_type": "stream",
       "stream": "stdout",
       "text": [
        " (1413,) (1413,)\n",
        "(1413, 480)"
       ]
      },
      {
       "output_type": "stream",
       "stream": "stdout",
       "text": [
        "\n",
        "________________________________________________________________________________\n",
        "[Memory] Calling sklearn.cluster.hierarchical.ward_tree...\n",
        "ward_tree(array([[-1.645687, ..., -1.63293 ],\n",
        "       ..., \n",
        "       [ 1.172127, ...,  1.381552]]), \n",
        "<1413x1413 sparse matrix of type '<type 'numpy.int64'>'\n",
        "\twith 8637 stored elements in LInked List format>, copy=True, n_components=None, n_clusters=11)"
       ]
      },
      {
       "output_type": "stream",
       "stream": "stdout",
       "text": [
        "\n",
        "________________________________________________________ward_tree - 0.4s, 0.0min"
       ]
      },
      {
       "output_type": "stream",
       "stream": "stdout",
       "text": [
        "\n",
        "wtf  431.0 11\n",
        " working on roi 27 with 2639 voxels \n",
        "(267567,)"
       ]
      },
      {
       "output_type": "stream",
       "stream": "stdout",
       "text": [
        " (2639,) (2639,)\n",
        "(2639, 480)"
       ]
      },
      {
       "output_type": "stream",
       "stream": "stdout",
       "text": [
        "\n",
        "________________________________________________________________________________\n",
        "[Memory] Calling sklearn.cluster.hierarchical.ward_tree...\n",
        "ward_tree(array([[-1.005262, ...,  0.534326],\n",
        "       ..., \n",
        "       [ 1.331493, ..., -0.268365]]), \n",
        "<2639x2639 sparse matrix of type '<type 'numpy.int64'>'\n",
        "\twith 16133 stored elements in LInked List format>, copy=True, n_components=None, n_clusters=20)"
       ]
      },
      {
       "output_type": "stream",
       "stream": "stdout",
       "text": [
        "\n",
        "________________________________________________________ward_tree - 0.6s, 0.0min"
       ]
      },
      {
       "output_type": "stream",
       "stream": "stdout",
       "text": [
        "\n",
        "wtf  442.0 20\n",
        " working on roi 28 with 2199 voxels \n",
        "(267567,)"
       ]
      },
      {
       "output_type": "stream",
       "stream": "stdout",
       "text": [
        " (2199,) (2199,)\n",
        "(2199, 480)"
       ]
      },
      {
       "output_type": "stream",
       "stream": "stdout",
       "text": [
        "\n",
        "________________________________________________________________________________\n",
        "[Memory] Calling sklearn.cluster.hierarchical.ward_tree...\n",
        "ward_tree(array([[-0.279138, ...,  0.469814],\n",
        "       ..., \n",
        "       [ 1.087781, ..., -0.996792]]), \n",
        "<2199x2199 sparse matrix of type '<type 'numpy.int64'>'\n",
        "\twith 13359 stored elements in LInked List format>, copy=True, n_components=None, n_clusters=16)"
       ]
      },
      {
       "output_type": "stream",
       "stream": "stdout",
       "text": [
        "\n",
        "________________________________________________________ward_tree - 0.5s, 0.0min"
       ]
      },
      {
       "output_type": "stream",
       "stream": "stdout",
       "text": [
        "\n",
        "wtf  462.0 16\n",
        " working on roi 29 with 2107 voxels \n",
        "(267567,)"
       ]
      },
      {
       "output_type": "stream",
       "stream": "stdout",
       "text": [
        " (2107,) (2107,)\n",
        "(2107, 480)"
       ]
      },
      {
       "output_type": "stream",
       "stream": "stdout",
       "text": [
        "\n",
        "________________________________________________________________________________\n",
        "[Memory] Calling sklearn.cluster.hierarchical.ward_tree...\n",
        "ward_tree(array([[-0.398834, ...,  0.473263],\n",
        "       ..., \n",
        "       [-0.527878, ..., -0.003224]]), \n",
        "<2107x2107 sparse matrix of type '<type 'numpy.int64'>'\n",
        "\twith 12717 stored elements in LInked List format>, copy=True, n_components=None, n_clusters=16)"
       ]
      },
      {
       "output_type": "stream",
       "stream": "stdout",
       "text": [
        "\n",
        "________________________________________________________ward_tree - 0.4s, 0.0min"
       ]
      },
      {
       "output_type": "stream",
       "stream": "stdout",
       "text": [
        "\n",
        "wtf  478.0 16\n",
        " working on roi 30 with 5373 voxels \n",
        "(267567,)"
       ]
      },
      {
       "output_type": "stream",
       "stream": "stdout",
       "text": [
        " (5373,) (5373,)\n",
        "(5373, 480)"
       ]
      },
      {
       "output_type": "stream",
       "stream": "stdout",
       "text": [
        "\n",
        "________________________________________________________________________________\n",
        "[Memory] Calling sklearn.cluster.hierarchical.ward_tree...\n",
        "ward_tree(array([[-0.987244, ..., -0.568936],\n",
        "       ..., \n",
        "       [-1.034354, ...,  0.450014]]), \n",
        "<5373x5373 sparse matrix of type '<type 'numpy.int64'>'\n",
        "\twith 33731 stored elements in LInked List format>, copy=True, n_components=None, n_clusters=40)"
       ]
      },
      {
       "output_type": "stream",
       "stream": "stdout",
       "text": [
        "\n",
        "________________________________________________________ward_tree - 1.6s, 0.0min"
       ]
      },
      {
       "output_type": "stream",
       "stream": "stdout",
       "text": [
        "\n",
        "wtf  494.0 40\n",
        " working on roi 31 with 1158 voxels \n",
        "(267567,)"
       ]
      },
      {
       "output_type": "stream",
       "stream": "stdout",
       "text": [
        " (1158,) (1158,)\n",
        "(1158, 480)"
       ]
      },
      {
       "output_type": "stream",
       "stream": "stdout",
       "text": [
        "\n",
        "________________________________________________________________________________\n",
        "[Memory] Calling sklearn.cluster.hierarchical.ward_tree...\n",
        "ward_tree(array([[-0.756368, ...,  0.699313],\n",
        "       ..., \n",
        "       [-0.521661, ..., -0.34887 ]]), \n",
        "<1158x1158 sparse matrix of type '<type 'numpy.int64'>'\n",
        "\twith 6652 stored elements in LInked List format>, copy=True, n_components=None, n_clusters=9)"
       ]
      },
      {
       "output_type": "stream",
       "stream": "stdout",
       "text": [
        "\n",
        "________________________________________________________ward_tree - 0.3s, 0.0min"
       ]
      },
      {
       "output_type": "stream",
       "stream": "stdout",
       "text": [
        "\n",
        "wtf  534.0 9\n",
        " working on roi 32 with 2112 voxels \n",
        "(267567,)"
       ]
      },
      {
       "output_type": "stream",
       "stream": "stdout",
       "text": [
        " (2112,) (2112,)\n",
        "(2112, 480)"
       ]
      },
      {
       "output_type": "stream",
       "stream": "stdout",
       "text": [
        "\n",
        "________________________________________________________________________________\n",
        "[Memory] Calling sklearn.cluster.hierarchical.ward_tree...\n",
        "ward_tree(array([[ 0.542554, ...,  0.069301],\n",
        "       ..., \n",
        "       [ 2.118478, ..., -0.351114]]), \n",
        "<2112x2112 sparse matrix of type '<type 'numpy.int64'>'\n",
        "\twith 12754 stored elements in LInked List format>, copy=True, n_components=None, n_clusters=16)"
       ]
      },
      {
       "output_type": "stream",
       "stream": "stdout",
       "text": [
        "\n",
        "________________________________________________________ward_tree - 0.5s, 0.0min"
       ]
      },
      {
       "output_type": "stream",
       "stream": "stdout",
       "text": [
        "\n",
        "wtf  543.0 16\n",
        " working on roi 33 with 834 voxels \n",
        "(267567,)"
       ]
      },
      {
       "output_type": "stream",
       "stream": "stdout",
       "text": [
        " (834,) (834,)\n",
        "(834, 480)"
       ]
      },
      {
       "output_type": "stream",
       "stream": "stdout",
       "text": [
        "\n",
        "________________________________________________________________________________\n",
        "[Memory] Calling sklearn.cluster.hierarchical.ward_tree...\n",
        "ward_tree(array([[ 2.469235, ...,  1.227835],\n",
        "       ..., \n",
        "       [ 2.480319, ..., -0.509876]]), \n",
        "<834x834 sparse matrix of type '<type 'numpy.int64'>'\n",
        "\twith 4824 stored elements in LInked List format>, copy=True, n_components=None, n_clusters=6)"
       ]
      },
      {
       "output_type": "stream",
       "stream": "stdout",
       "text": [
        "\n",
        "________________________________________________________ward_tree - 0.2s, 0.0min"
       ]
      },
      {
       "output_type": "stream",
       "stream": "stdout",
       "text": [
        "\n",
        "wtf  559.0 6\n",
        " working on roi 34 with 397 voxels \n",
        "(267567,)"
       ]
      },
      {
       "output_type": "stream",
       "stream": "stdout",
       "text": [
        " (397,) (397,)\n",
        "(397, 480)"
       ]
      },
      {
       "output_type": "stream",
       "stream": "stdout",
       "text": [
        "\n",
        "________________________________________________________________________________\n",
        "[Memory] Calling sklearn.cluster.hierarchical.ward_tree...\n",
        "ward_tree(array([[ 1.25697 , ...,  0.282114],\n",
        "       ..., \n",
        "       [ 0.802189, ..., -0.229252]]), \n",
        "<397x397 sparse matrix of type '<type 'numpy.int64'>'\n",
        "\twith 2109 stored elements in LInked List format>, copy=True, n_components=None, n_clusters=3)"
       ]
      },
      {
       "output_type": "stream",
       "stream": "stdout",
       "text": [
        "\n",
        "________________________________________________________ward_tree - 0.1s, 0.0min"
       ]
      },
      {
       "output_type": "stream",
       "stream": "stdout",
       "text": [
        "\n",
        "wtf  565.0 3\n",
        " working on roi 35 with 1289 voxels \n",
        "(267567,)"
       ]
      },
      {
       "output_type": "stream",
       "stream": "stdout",
       "text": [
        " (1289,) (1289,)\n",
        "(1289, 480)"
       ]
      },
      {
       "output_type": "stream",
       "stream": "stdout",
       "text": [
        "\n",
        "________________________________________________________________________________\n",
        "[Memory] Calling sklearn.cluster.hierarchical.ward_tree...\n",
        "ward_tree(array([[ 0.376453, ...,  0.303422],\n",
        "       ..., \n",
        "       [ 1.135885, ...,  0.799813]]), \n",
        "<1289x1289 sparse matrix of type '<type 'numpy.int64'>'\n",
        "\twith 7659 stored elements in LInked List format>, copy=True, n_components=None, n_clusters=10)"
       ]
      },
      {
       "output_type": "stream",
       "stream": "stdout",
       "text": [
        "\n",
        "________________________________________________________ward_tree - 0.3s, 0.0min"
       ]
      },
      {
       "output_type": "stream",
       "stream": "stdout",
       "text": [
        "\n",
        "wtf  568.0 10\n",
        " working on roi 36 with 527 voxels \n",
        "(267567,)"
       ]
      },
      {
       "output_type": "stream",
       "stream": "stdout",
       "text": [
        " (527,) (527,)\n",
        "(527, 480)"
       ]
      },
      {
       "output_type": "stream",
       "stream": "stdout",
       "text": [
        "\n",
        "________________________________________________________________________________\n",
        "[Memory] Calling sklearn.cluster.hierarchical.ward_tree...\n",
        "ward_tree(array([[-0.270275, ...,  0.353133],\n",
        "       ..., \n",
        "       [ 0.936416, ..., -1.481428]]), \n",
        "<527x527 sparse matrix of type '<type 'numpy.int64'>'\n",
        "\twith 2967 stored elements in LInked List format>, copy=True, n_components=None, n_clusters=4)"
       ]
      },
      {
       "output_type": "stream",
       "stream": "stdout",
       "text": [
        "\n",
        "________________________________________________________ward_tree - 0.1s, 0.0min"
       ]
      },
      {
       "output_type": "stream",
       "stream": "stdout",
       "text": [
        "\n",
        "wtf  578.0 4\n",
        " working on roi 37 with 1091 voxels \n",
        "(267567,)"
       ]
      },
      {
       "output_type": "stream",
       "stream": "stdout",
       "text": [
        " (1091,) (1091,)\n",
        "(1091, 480)"
       ]
      },
      {
       "output_type": "stream",
       "stream": "stdout",
       "text": [
        "\n",
        "________________________________________________________________________________\n",
        "[Memory] Calling sklearn.cluster.hierarchical.ward_tree...\n",
        "ward_tree(array([[-0.303898, ...,  0.650298],\n",
        "       ..., \n",
        "       [-0.889127, ..., -0.526119]]), \n",
        "<1091x1091 sparse matrix of type '<type 'numpy.int64'>'\n",
        "\twith 6407 stored elements in LInked List format>, copy=True, n_components=None, n_clusters=8)"
       ]
      },
      {
       "output_type": "stream",
       "stream": "stdout",
       "text": [
        "\n",
        "________________________________________________________ward_tree - 0.3s, 0.0min"
       ]
      },
      {
       "output_type": "stream",
       "stream": "stdout",
       "text": [
        "\n",
        "wtf  582.0 8\n",
        " working on roi 38 with 508 voxels \n",
        "(267567,)"
       ]
      },
      {
       "output_type": "stream",
       "stream": "stdout",
       "text": [
        " (508,) (508,)\n",
        "(508, 480)"
       ]
      },
      {
       "output_type": "stream",
       "stream": "stdout",
       "text": [
        "\n",
        "________________________________________________________________________________\n",
        "[Memory] Calling sklearn.cluster.hierarchical.ward_tree...\n",
        "ward_tree(array([[-0.55632 , ...,  0.517198],\n",
        "       ..., \n",
        "       [-1.849514, ..., -0.939043]]), \n",
        "<508x508 sparse matrix of type '<type 'numpy.int64'>'\n",
        "\twith 2888 stored elements in LInked List format>, copy=True, n_components=None, n_clusters=4)"
       ]
      },
      {
       "output_type": "stream",
       "stream": "stdout",
       "text": [
        "\n",
        "________________________________________________________ward_tree - 0.1s, 0.0min"
       ]
      },
      {
       "output_type": "stream",
       "stream": "stdout",
       "text": [
        "\n",
        "wtf  590.0 4\n",
        " working on roi 39 with 687 voxels \n",
        "(267567,)"
       ]
      },
      {
       "output_type": "stream",
       "stream": "stdout",
       "text": [
        " (687,) (687,)\n",
        "(687, 480)"
       ]
      },
      {
       "output_type": "stream",
       "stream": "stdout",
       "text": [
        "\n",
        "________________________________________________________________________________\n",
        "[Memory] Calling sklearn.cluster.hierarchical.ward_tree...\n",
        "ward_tree(array([[ 0.468232, ...,  0.584337],\n",
        "       ..., \n",
        "       [ 0.358378, ..., -0.034132]]), \n",
        "<687x687 sparse matrix of type '<type 'numpy.int64'>'\n",
        "\twith 3967 stored elements in LInked List format>, copy=True, n_components=None, n_clusters=5)"
       ]
      },
      {
       "output_type": "stream",
       "stream": "stdout",
       "text": [
        "\n",
        "________________________________________________________ward_tree - 0.2s, 0.0min"
       ]
      },
      {
       "output_type": "stream",
       "stream": "stdout",
       "text": [
        "\n",
        "wtf  594.0 5\n",
        " working on roi 40 with 352 voxels \n",
        "(267567,)"
       ]
      },
      {
       "output_type": "stream",
       "stream": "stdout",
       "text": [
        " (352,) (352,)\n",
        "(352, 480)"
       ]
      },
      {
       "output_type": "stream",
       "stream": "stdout",
       "text": [
        "\n",
        "________________________________________________________________________________\n",
        "[Memory] Calling sklearn.cluster.hierarchical.ward_tree...\n",
        "ward_tree(array([[-1.604336, ..., -1.585831],\n",
        "       ..., \n",
        "       [ 0.008578, ..., -0.583619]]), \n",
        "<352x352 sparse matrix of type '<type 'numpy.int64'>'\n",
        "\twith 1950 stored elements in LInked List format>, copy=True, n_components=None, n_clusters=3)"
       ]
      },
      {
       "output_type": "stream",
       "stream": "stdout",
       "text": [
        "\n",
        "________________________________________________________ward_tree - 0.1s, 0.0min\n",
        "wtf "
       ]
      },
      {
       "output_type": "stream",
       "stream": "stdout",
       "text": [
        " 599.0 3\n",
        " working on roi 41 with 951 voxels \n",
        "(267567,)"
       ]
      },
      {
       "output_type": "stream",
       "stream": "stdout",
       "text": [
        " (951,) (951,)\n",
        "(951, 480)"
       ]
      },
      {
       "output_type": "stream",
       "stream": "stdout",
       "text": [
        "\n",
        "________________________________________________________________________________\n",
        "[Memory] Calling sklearn.cluster.hierarchical.ward_tree...\n",
        "ward_tree(array([[-1.611541, ..., -0.22782 ],\n",
        "       ..., \n",
        "       [-1.536757, ...,  0.159698]]), \n",
        "<951x951 sparse matrix of type '<type 'numpy.int64'>'\n",
        "\twith 5563 stored elements in LInked List format>, copy=True, n_components=None, n_clusters=7)"
       ]
      },
      {
       "output_type": "stream",
       "stream": "stdout",
       "text": [
        "\n",
        "________________________________________________________ward_tree - 0.2s, 0.0min"
       ]
      },
      {
       "output_type": "stream",
       "stream": "stdout",
       "text": [
        "\n",
        "wtf  602.0 7\n",
        " working on roi 42 with 537 voxels \n",
        "(267567,)"
       ]
      },
      {
       "output_type": "stream",
       "stream": "stdout",
       "text": [
        " (537,) (537,)\n",
        "(537, 480)"
       ]
      },
      {
       "output_type": "stream",
       "stream": "stdout",
       "text": [
        "\n",
        "________________________________________________________________________________\n",
        "[Memory] Calling sklearn.cluster.hierarchical.ward_tree...\n",
        "ward_tree(array([[-1.662082, ...,  0.486984],\n",
        "       ..., \n",
        "       [-1.293312, ...,  0.866101]]), \n",
        "<537x537 sparse matrix of type '<type 'numpy.int64'>'\n",
        "\twith 3123 stored elements in LInked List format>, copy=True, n_components=None, n_clusters=4)"
       ]
      },
      {
       "output_type": "stream",
       "stream": "stdout",
       "text": [
        "\n",
        "________________________________________________________ward_tree - 0.1s, 0.0min"
       ]
      },
      {
       "output_type": "stream",
       "stream": "stdout",
       "text": [
        "\n",
        "wtf  609.0 4\n",
        " working on roi 43 with 364 voxels \n",
        "(267567,)"
       ]
      },
      {
       "output_type": "stream",
       "stream": "stdout",
       "text": [
        " (364,) (364,)\n",
        "(364, 480)"
       ]
      },
      {
       "output_type": "stream",
       "stream": "stdout",
       "text": [
        "\n",
        "________________________________________________________________________________\n",
        "[Memory] Calling sklearn.cluster.hierarchical.ward_tree...\n",
        "ward_tree(array([[-1.597249, ...,  0.771735],\n",
        "       ..., \n",
        "       [-0.600062, ...,  1.598421]]), \n",
        "<364x364 sparse matrix of type '<type 'numpy.int64'>'\n",
        "\twith 1924 stored elements in LInked List format>, copy=True, n_components=None, n_clusters=3)"
       ]
      },
      {
       "output_type": "stream",
       "stream": "stdout",
       "text": [
        "\n",
        "________________________________________________________ward_tree - 0.1s, 0.0min"
       ]
      },
      {
       "output_type": "stream",
       "stream": "stdout",
       "text": [
        "\n",
        "wtf  613.0 3\n",
        " working on roi 44 with 297 voxels \n",
        "(267567,)"
       ]
      },
      {
       "output_type": "stream",
       "stream": "stdout",
       "text": [
        " (297,) (297,)\n",
        "(297, 480)"
       ]
      },
      {
       "output_type": "stream",
       "stream": "stdout",
       "text": [
        "\n",
        "________________________________________________________________________________\n",
        "[Memory] Calling sklearn.cluster.hierarchical.ward_tree...\n",
        "ward_tree(array([[-1.432249, ...,  0.995136],\n",
        "       ..., \n",
        "       [-1.067224, ...,  0.666586]]), \n",
        "<297x297 sparse matrix of type '<type 'numpy.int64'>'\n",
        "\twith 1623 stored elements in LInked List format>, copy=True, n_components=None, n_clusters=2)"
       ]
      },
      {
       "output_type": "stream",
       "stream": "stdout",
       "text": [
        "\n",
        "________________________________________________________ward_tree - 0.1s, 0.0min\n",
        "wtf  616.0 2\n",
        " working on roi 45 with 564 voxels "
       ]
      },
      {
       "output_type": "stream",
       "stream": "stdout",
       "text": [
        "\n",
        "(267567,) (564,) (564,)\n",
        "(564, 480)"
       ]
      },
      {
       "output_type": "stream",
       "stream": "stdout",
       "text": [
        "\n",
        "________________________________________________________________________________\n",
        "[Memory] Calling sklearn.cluster.hierarchical.ward_tree...\n",
        "ward_tree(array([[-1.670083, ...,  0.68732 ],\n",
        "       ..., \n",
        "       [-1.954991, ...,  1.133696]]), \n",
        "<564x564 sparse matrix of type '<type 'numpy.int64'>'\n",
        "\twith 3120 stored elements in LInked List format>, copy=True, n_components=None, n_clusters=4)"
       ]
      },
      {
       "output_type": "stream",
       "stream": "stdout",
       "text": [
        "\n",
        "________________________________________________________ward_tree - 0.1s, 0.0min"
       ]
      },
      {
       "output_type": "stream",
       "stream": "stdout",
       "text": [
        "\n",
        "wtf  618.0 4\n",
        " working on roi 46 with 75 voxels \n",
        " working on roi 47 with 4386 voxels \n",
        "(267567,)"
       ]
      },
      {
       "output_type": "stream",
       "stream": "stdout",
       "text": [
        " (4386,) (4386,)\n",
        "(4386, 480)"
       ]
      },
      {
       "output_type": "stream",
       "stream": "stdout",
       "text": [
        "\n",
        "________________________________________________________________________________\n",
        "[Memory] Calling sklearn.cluster.hierarchical.ward_tree...\n",
        "ward_tree(array([[-2.115418, ...,  0.933983],\n",
        "       ..., \n",
        "       [ 0.525383, ...,  0.984193]]), \n",
        "<4386x4386 sparse matrix of type '<type 'numpy.int64'>'\n",
        "\twith 27848 stored elements in LInked List format>, copy=True, n_components=None, n_clusters=33)"
       ]
      },
      {
       "output_type": "stream",
       "stream": "stdout",
       "text": [
        "\n",
        "________________________________________________________ward_tree - 1.3s, 0.0min"
       ]
      },
      {
       "output_type": "stream",
       "stream": "stdout",
       "text": [
        "\n",
        "wtf  623.0 33\n",
        " working on roi 48 with 11042 voxels \n",
        "(267567,)"
       ]
      },
      {
       "output_type": "stream",
       "stream": "stdout",
       "text": [
        " (11042,) (11042,)\n",
        "(11042, 480)"
       ]
      },
      {
       "output_type": "stream",
       "stream": "stdout",
       "text": [
        "\n",
        "________________________________________________________________________________\n",
        "[Memory] Calling sklearn.cluster.hierarchical.ward_tree...\n",
        "ward_tree(array([[ 2.408797, ..., -0.293365],\n",
        "       ..., \n",
        "       [ 1.349591, ..., -0.202108]]), \n",
        "<11042x11042 sparse matrix of type '<type 'numpy.int64'>'\n",
        "\twith 70902 stored elements in LInked List format>, copy=True, n_components=None, n_clusters=83)"
       ]
      },
      {
       "output_type": "stream",
       "stream": "stdout",
       "text": [
        "\n",
        "________________________________________________________ward_tree - 3.8s, 0.1min"
       ]
      },
      {
       "output_type": "stream",
       "stream": "stdout",
       "text": [
        "\n",
        "wtf  656.0 83\n",
        " working on roi 49 with 1225 voxels \n",
        "(267567,)"
       ]
      },
      {
       "output_type": "stream",
       "stream": "stdout",
       "text": [
        " (1225,) (1225,)\n",
        "(1225, 480)"
       ]
      },
      {
       "output_type": "stream",
       "stream": "stdout",
       "text": [
        "\n",
        "________________________________________________________________________________\n",
        "[Memory] Calling sklearn.cluster.hierarchical.ward_tree...\n",
        "ward_tree(array([[-1.437891, ..., -0.043483],\n",
        "       ..., \n",
        "       [ 0.818135, ..., -0.948602]]), \n",
        "<1225x1225 sparse matrix of type '<type 'numpy.int64'>'\n",
        "\twith 7193 stored elements in LInked List format>, copy=True, n_components=None, n_clusters=9)"
       ]
      },
      {
       "output_type": "stream",
       "stream": "stdout",
       "text": [
        "\n",
        "________________________________________________________ward_tree - 0.3s, 0.0min"
       ]
      },
      {
       "output_type": "stream",
       "stream": "stdout",
       "text": [
        "\n",
        "wtf  739.0 9\n",
        " working on roi 50 with 3252 voxels \n",
        "(267567,)"
       ]
      },
      {
       "output_type": "stream",
       "stream": "stdout",
       "text": [
        " (3252,) (3252,)\n",
        "(3252, 480)"
       ]
      },
      {
       "output_type": "stream",
       "stream": "stdout",
       "text": [
        "\n",
        "________________________________________________________________________________\n",
        "[Memory] Calling sklearn.cluster.hierarchical.ward_tree...\n",
        "ward_tree(array([[ 1.531387, ..., -1.551267],\n",
        "       ..., \n",
        "       [ 1.219899, ...,  0.354658]]), \n",
        "<3252x3252 sparse matrix of type '<type 'numpy.int64'>'\n",
        "\twith 19956 stored elements in LInked List format>, copy=True, n_components=None, n_clusters=24)"
       ]
      },
      {
       "output_type": "stream",
       "stream": "stdout",
       "text": [
        "\n",
        "________________________________________________________ward_tree - 1.0s, 0.0min"
       ]
      },
      {
       "output_type": "stream",
       "stream": "stdout",
       "text": [
        "\n",
        "wtf  748.0 24\n",
        " working on roi 51 with 2656 voxels \n",
        "(267567,)"
       ]
      },
      {
       "output_type": "stream",
       "stream": "stdout",
       "text": [
        " (2656,) (2656,)\n",
        "(2656, 480)"
       ]
      },
      {
       "output_type": "stream",
       "stream": "stdout",
       "text": [
        "\n",
        "________________________________________________________________________________\n",
        "[Memory] Calling sklearn.cluster.hierarchical.ward_tree...\n",
        "ward_tree(array([[ 1.072781, ..., -0.028346],\n",
        "       ..., \n",
        "       [ 1.859021, ...,  0.565721]]), \n",
        "<2656x2656 sparse matrix of type '<type 'numpy.int64'>'\n",
        "\twith 16072 stored elements in LInked List format>, copy=True, n_components=None, n_clusters=20)"
       ]
      },
      {
       "output_type": "stream",
       "stream": "stdout",
       "text": [
        "\n",
        "________________________________________________________ward_tree - 0.8s, 0.0min"
       ]
      },
      {
       "output_type": "stream",
       "stream": "stdout",
       "text": [
        "\n",
        "wtf  772.0 20\n",
        " working on roi 52 with 722 voxels \n",
        "(267567,)"
       ]
      },
      {
       "output_type": "stream",
       "stream": "stdout",
       "text": [
        " (722,) (722,)\n",
        "(722, 480)"
       ]
      },
      {
       "output_type": "stream",
       "stream": "stdout",
       "text": [
        "\n",
        "________________________________________________________________________________\n",
        "[Memory] Calling sklearn.cluster.hierarchical.ward_tree...\n",
        "ward_tree(array([[ 1.68211 , ..., -1.212978],\n",
        "       ..., \n",
        "       [-0.838355, ...,  0.249905]]), \n",
        "<722x722 sparse matrix of type '<type 'numpy.int64'>'\n",
        "\twith 4162 stored elements in LInked List format>, copy=True, n_components=None, n_clusters=5)"
       ]
      },
      {
       "output_type": "stream",
       "stream": "stdout",
       "text": [
        "\n",
        "________________________________________________________ward_tree - 0.2s, 0.0min"
       ]
      },
      {
       "output_type": "stream",
       "stream": "stdout",
       "text": [
        "\n",
        "wtf  792.0 5\n",
        " working on roi 53 with 708 voxels \n",
        "(267567,)"
       ]
      },
      {
       "output_type": "stream",
       "stream": "stdout",
       "text": [
        " (708,) (708,)\n",
        "(708, 480)"
       ]
      },
      {
       "output_type": "stream",
       "stream": "stdout",
       "text": [
        "\n",
        "________________________________________________________________________________\n",
        "[Memory] Calling sklearn.cluster.hierarchical.ward_tree...\n",
        "ward_tree(array([[ 1.159782, ..., -0.330326],\n",
        "       ..., \n",
        "       [-0.445247, ..., -0.947906]]), \n",
        "<708x708 sparse matrix of type '<type 'numpy.int64'>'\n",
        "\twith 4066 stored elements in LInked List format>, copy=True, n_components=None, n_clusters=5)"
       ]
      },
      {
       "output_type": "stream",
       "stream": "stdout",
       "text": [
        "\n",
        "________________________________________________________ward_tree - 0.2s, 0.0min"
       ]
      },
      {
       "output_type": "stream",
       "stream": "stdout",
       "text": [
        "\n",
        "wtf  797.0 5\n",
        " working on roi 54 with 4326 voxels \n",
        "(267567,)"
       ]
      },
      {
       "output_type": "stream",
       "stream": "stdout",
       "text": [
        " (4326,) (4326,)\n",
        "(4326, 480)"
       ]
      },
      {
       "output_type": "stream",
       "stream": "stdout",
       "text": [
        "\n",
        "________________________________________________________________________________\n",
        "[Memory] Calling sklearn.cluster.hierarchical.ward_tree...\n",
        "ward_tree(array([[-1.828671, ..., -0.73128 ],\n",
        "       ..., \n",
        "       [ 1.937635, ...,  0.27475 ]]), \n",
        "<4326x4326 sparse matrix of type '<type 'numpy.int64'>'\n",
        "\twith 25642 stored elements in LInked List format>, copy=True, n_components=None, n_clusters=32)"
       ]
      },
      {
       "output_type": "stream",
       "stream": "stdout",
       "text": [
        "\n",
        "________________________________________________________ward_tree - 1.4s, 0.0min"
       ]
      },
      {
       "output_type": "stream",
       "stream": "stdout",
       "text": [
        "\n",
        "wtf  802.0 32\n",
        " working on roi 55 with 3583 voxels \n",
        "(267567,)"
       ]
      },
      {
       "output_type": "stream",
       "stream": "stdout",
       "text": [
        " (3583,) (3583,)\n",
        "(3583, 480)"
       ]
      },
      {
       "output_type": "stream",
       "stream": "stdout",
       "text": [
        "\n",
        "________________________________________________________________________________\n",
        "[Memory] Calling sklearn.cluster.hierarchical.ward_tree...\n",
        "ward_tree(array([[-1.146724, ..., -0.060984],\n",
        "       ..., \n",
        "       [-0.338685, ...,  1.204904]]), \n",
        "<3583x3583 sparse matrix of type '<type 'numpy.int64'>'\n",
        "\twith 22501 stored elements in LInked List format>, copy=True, n_components=None, n_clusters=27)"
       ]
      },
      {
       "output_type": "stream",
       "stream": "stdout",
       "text": [
        "\n",
        "________________________________________________________ward_tree - 0.9s, 0.0min"
       ]
      },
      {
       "output_type": "stream",
       "stream": "stdout",
       "text": [
        "\n",
        "wtf  834.0 27\n",
        " working on roi 56 with 356 voxels \n",
        "(267567,)"
       ]
      },
      {
       "output_type": "stream",
       "stream": "stdout",
       "text": [
        " (356,) (356,)\n",
        "(356, 480)"
       ]
      },
      {
       "output_type": "stream",
       "stream": "stdout",
       "text": [
        "\n",
        "________________________________________________________________________________\n",
        "[Memory] Calling sklearn.cluster.hierarchical.ward_tree...\n",
        "ward_tree(array([[-1.391169, ..., -0.146541],\n",
        "       ..., \n",
        "       [ 1.884962, ..., -0.998201]]), \n",
        "<356x356 sparse matrix of type '<type 'numpy.int64'>'\n",
        "\twith 1956 stored elements in LInked List format>, copy=True, n_components=None, n_clusters=3)"
       ]
      },
      {
       "output_type": "stream",
       "stream": "stdout",
       "text": [
        "\n",
        "________________________________________________________ward_tree - 0.1s, 0.0min\n",
        "wtf  861.0 3\n",
        " working on roi 57 with 665 voxels "
       ]
      },
      {
       "output_type": "stream",
       "stream": "stdout",
       "text": [
        "\n",
        "(267567,) (665,) (665,)\n",
        "(665, 480)"
       ]
      },
      {
       "output_type": "stream",
       "stream": "stdout",
       "text": [
        "\n",
        "________________________________________________________________________________\n",
        "[Memory] Calling sklearn.cluster.hierarchical.ward_tree...\n",
        "ward_tree(array([[ 0.845205, ...,  0.17814 ],\n",
        "       ..., \n",
        "       [-0.903084, ..., -1.442359]]), \n",
        "<665x665 sparse matrix of type '<type 'numpy.int64'>'\n",
        "\twith 3549 stored elements in LInked List format>, copy=True, n_components=None, n_clusters=5)"
       ]
      },
      {
       "output_type": "stream",
       "stream": "stdout",
       "text": [
        "\n",
        "________________________________________________________ward_tree - 0.2s, 0.0min"
       ]
      },
      {
       "output_type": "stream",
       "stream": "stdout",
       "text": [
        "\n",
        "wtf  864.0 5\n",
        " working on roi 58 with 570 voxels \n",
        "(267567,)"
       ]
      },
      {
       "output_type": "stream",
       "stream": "stdout",
       "text": [
        " (570,) (570,)\n",
        "(570, 480)"
       ]
      },
      {
       "output_type": "stream",
       "stream": "stdout",
       "text": [
        "\n",
        "________________________________________________________________________________\n",
        "[Memory] Calling sklearn.cluster.hierarchical.ward_tree...\n",
        "ward_tree(array([[ 2.348134, ..., -0.754715],\n",
        "       ..., \n",
        "       [ 2.071215, ...,  1.13847 ]]), \n",
        "<570x570 sparse matrix of type '<type 'numpy.int64'>'\n",
        "\twith 3276 stored elements in LInked List format>, copy=True, n_components=None, n_clusters=4)"
       ]
      },
      {
       "output_type": "stream",
       "stream": "stdout",
       "text": [
        "\n",
        "________________________________________________________ward_tree - 0.1s, 0.0min"
       ]
      },
      {
       "output_type": "stream",
       "stream": "stdout",
       "text": [
        "\n",
        "wtf  869.0 4\n",
        " working on roi 59 with 1606 voxels \n",
        "(267567,)"
       ]
      },
      {
       "output_type": "stream",
       "stream": "stdout",
       "text": [
        " (1606,) (1606,)\n",
        "(1606, 480)"
       ]
      },
      {
       "output_type": "stream",
       "stream": "stdout",
       "text": [
        "\n",
        "________________________________________________________________________________\n",
        "[Memory] Calling sklearn.cluster.hierarchical.ward_tree...\n",
        "ward_tree(array([[ 1.363647, ..., -0.29836 ],\n",
        "       ..., \n",
        "       [-0.712082, ..., -0.775081]]), \n",
        "<1606x1606 sparse matrix of type '<type 'numpy.int64'>'\n",
        "\twith 9530 stored elements in LInked List format>, copy=True, n_components=None, n_clusters=12)"
       ]
      },
      {
       "output_type": "stream",
       "stream": "stdout",
       "text": [
        "\n",
        "________________________________________________________ward_tree - 0.4s, 0.0min"
       ]
      },
      {
       "output_type": "stream",
       "stream": "stdout",
       "text": [
        "\n",
        "wtf  873.0 12\n",
        " working on roi 60 with 1128 voxels \n",
        "(267567,)"
       ]
      },
      {
       "output_type": "stream",
       "stream": "stdout",
       "text": [
        " (1128,) (1128,)\n",
        "(1128, 480)"
       ]
      },
      {
       "output_type": "stream",
       "stream": "stdout",
       "text": [
        "\n",
        "________________________________________________________________________________\n",
        "[Memory] Calling sklearn.cluster.hierarchical.ward_tree...\n",
        "ward_tree(array([[ 1.79397 , ..., -0.523578],\n",
        "       ..., \n",
        "       [ 0.870605, ..., -1.264648]]), \n",
        "<1128x1128 sparse matrix of type '<type 'numpy.int64'>'\n",
        "\twith 6766 stored elements in LInked List format>, copy=True, n_components=None, n_clusters=8)"
       ]
      },
      {
       "output_type": "stream",
       "stream": "stdout",
       "text": [
        "\n",
        "________________________________________________________ward_tree - 0.3s, 0.0min"
       ]
      },
      {
       "output_type": "stream",
       "stream": "stdout",
       "text": [
        "\n",
        "wtf  885.0 8\n",
        " working on roi 61 with 468 voxels \n",
        "(267567,)"
       ]
      },
      {
       "output_type": "stream",
       "stream": "stdout",
       "text": [
        " (468,) (468,)\n",
        "(468, 480)"
       ]
      },
      {
       "output_type": "stream",
       "stream": "stdout",
       "text": [
        "\n",
        "________________________________________________________________________________\n",
        "[Memory] Calling sklearn.cluster.hierarchical.ward_tree...\n",
        "ward_tree(array([[ 1.144337, ..., -0.070521],\n",
        "       ..., \n",
        "       [ 0.260666, ...,  0.505139]]), \n",
        "<468x468 sparse matrix of type '<type 'numpy.int64'>'\n",
        "\twith 2714 stored elements in LInked List format>, copy=True, n_components=None, n_clusters=3)"
       ]
      },
      {
       "output_type": "stream",
       "stream": "stdout",
       "text": [
        "\n",
        "________________________________________________________ward_tree - 0.1s, 0.0min"
       ]
      },
      {
       "output_type": "stream",
       "stream": "stdout",
       "text": [
        "\n",
        "wtf  893.0 3\n",
        " working on roi 62 with 1505 voxels \n",
        "(267567,)"
       ]
      },
      {
       "output_type": "stream",
       "stream": "stdout",
       "text": [
        " (1505,) (1505,)\n",
        "(1505, 480)"
       ]
      },
      {
       "output_type": "stream",
       "stream": "stdout",
       "text": [
        "\n",
        "________________________________________________________________________________\n",
        "[Memory] Calling sklearn.cluster.hierarchical.ward_tree...\n",
        "ward_tree(array([[ 0.972952, ...,  0.227939],\n",
        "       ..., \n",
        "       [-1.989255, ...,  1.204024]]), \n",
        "<1505x1505 sparse matrix of type '<type 'numpy.int64'>'\n",
        "\twith 8859 stored elements in LInked List format>, copy=True, n_components=None, n_clusters=11)"
       ]
      },
      {
       "output_type": "stream",
       "stream": "stdout",
       "text": [
        "\n",
        "________________________________________________________ward_tree - 0.4s, 0.0min"
       ]
      },
      {
       "output_type": "stream",
       "stream": "stdout",
       "text": [
        "\n",
        "wtf  896.0 11\n",
        " working on roi 63 with 968 voxels \n",
        "(267567,)"
       ]
      },
      {
       "output_type": "stream",
       "stream": "stdout",
       "text": [
        " (968,) (968,)\n",
        "(968, 480)"
       ]
      },
      {
       "output_type": "stream",
       "stream": "stdout",
       "text": [
        "\n",
        "________________________________________________________________________________\n",
        "[Memory] Calling sklearn.cluster.hierarchical.ward_tree...\n",
        "ward_tree(array([[-1.605547, ..., -0.687341],\n",
        "       ..., \n",
        "       [ 1.89871 , ..., -0.376882]]), \n",
        "<968x968 sparse matrix of type '<type 'numpy.int64'>'\n",
        "\twith 5626 stored elements in LInked List format>, copy=True, n_components=None, n_clusters=7)"
       ]
      },
      {
       "output_type": "stream",
       "stream": "stdout",
       "text": [
        "\n",
        "________________________________________________________ward_tree - 0.2s, 0.0min"
       ]
      },
      {
       "output_type": "stream",
       "stream": "stdout",
       "text": [
        "\n",
        "wtf  907.0 7\n",
        " working on roi 64 with 3549 voxels \n",
        "(267567,)"
       ]
      },
      {
       "output_type": "stream",
       "stream": "stdout",
       "text": [
        " (3549,) (3549,)\n",
        "(3549, 480)"
       ]
      },
      {
       "output_type": "stream",
       "stream": "stdout",
       "text": [
        "\n",
        "________________________________________________________________________________\n",
        "[Memory] Calling sklearn.cluster.hierarchical.ward_tree...\n",
        "ward_tree(array([[-1.683727, ...,  0.527176],\n",
        "       ..., \n",
        "       [-1.820652, ..., -0.140204]]), \n",
        "<3549x3549 sparse matrix of type '<type 'numpy.int64'>'\n",
        "\twith 21271 stored elements in LInked List format>, copy=True, n_components=None, n_clusters=27)"
       ]
      },
      {
       "output_type": "stream",
       "stream": "stdout",
       "text": [
        "\n",
        "________________________________________________________ward_tree - 0.8s, 0.0min"
       ]
      },
      {
       "output_type": "stream",
       "stream": "stdout",
       "text": [
        "\n",
        "wtf  914.0 27\n",
        " working on roi 65 with 1442 voxels \n",
        "(267567,)"
       ]
      },
      {
       "output_type": "stream",
       "stream": "stdout",
       "text": [
        " (1442,) (1442,)\n",
        "(1442, 480)"
       ]
      },
      {
       "output_type": "stream",
       "stream": "stdout",
       "text": [
        "\n",
        "________________________________________________________________________________\n",
        "[Memory] Calling sklearn.cluster.hierarchical.ward_tree...\n",
        "ward_tree(array([[ 1.355929, ..., -1.422465],\n",
        "       ..., \n",
        "       [-0.964322, ...,  0.391428]]), \n",
        "<1442x1442 sparse matrix of type '<type 'numpy.int64'>'\n",
        "\twith 8640 stored elements in LInked List format>, copy=True, n_components=None, n_clusters=11)"
       ]
      },
      {
       "output_type": "stream",
       "stream": "stdout",
       "text": [
        "\n",
        "________________________________________________________ward_tree - 0.4s, 0.0min"
       ]
      },
      {
       "output_type": "stream",
       "stream": "stdout",
       "text": [
        "\n",
        "wtf  941.0 11\n",
        " working on roi 66 with 887 voxels \n",
        "(267567,)"
       ]
      },
      {
       "output_type": "stream",
       "stream": "stdout",
       "text": [
        " (887,) (887,)\n",
        "(887, 480)"
       ]
      },
      {
       "output_type": "stream",
       "stream": "stdout",
       "text": [
        "\n",
        "________________________________________________________________________________\n",
        "[Memory] Calling sklearn.cluster.hierarchical.ward_tree...\n",
        "ward_tree(array([[-0.976574, ..., -0.104038],\n",
        "       ..., \n",
        "       [-0.934256, ...,  1.076812]]), \n",
        "<887x887 sparse matrix of type '<type 'numpy.int64'>'\n",
        "\twith 5231 stored elements in LInked List format>, copy=True, n_components=None, n_clusters=7)"
       ]
      },
      {
       "output_type": "stream",
       "stream": "stdout",
       "text": [
        "\n",
        "________________________________________________________ward_tree - 0.2s, 0.0min"
       ]
      },
      {
       "output_type": "stream",
       "stream": "stdout",
       "text": [
        "\n",
        "wtf  952.0 7\n",
        " working on roi 67 with 1245 voxels \n",
        "(267567,)"
       ]
      },
      {
       "output_type": "stream",
       "stream": "stdout",
       "text": [
        " (1245,) (1245,)\n",
        "(1245, 480)"
       ]
      },
      {
       "output_type": "stream",
       "stream": "stdout",
       "text": [
        "\n",
        "________________________________________________________________________________\n",
        "[Memory] Calling sklearn.cluster.hierarchical.ward_tree...\n",
        "ward_tree(array([[-0.19649 , ..., -0.341948],\n",
        "       ..., \n",
        "       [-1.047168, ...,  1.388964]]), \n",
        "<1245x1245 sparse matrix of type '<type 'numpy.int64'>'\n",
        "\twith 7213 stored elements in LInked List format>, copy=True, n_components=None, n_clusters=9)"
       ]
      },
      {
       "output_type": "stream",
       "stream": "stdout",
       "text": [
        "\n",
        "________________________________________________________ward_tree - 0.3s, 0.0min"
       ]
      },
      {
       "output_type": "stream",
       "stream": "stdout",
       "text": [
        "\n",
        "wtf  959.0 9\n",
        " working on roi 68 with 1458 voxels \n",
        "(267567,)"
       ]
      },
      {
       "output_type": "stream",
       "stream": "stdout",
       "text": [
        " (1458,) (1458,)\n",
        "(1458, 480)"
       ]
      },
      {
       "output_type": "stream",
       "stream": "stdout",
       "text": [
        "\n",
        "________________________________________________________________________________\n",
        "[Memory] Calling sklearn.cluster.hierarchical.ward_tree...\n",
        "ward_tree(array([[-0.235146, ...,  0.198266],\n",
        "       ..., \n",
        "       [ 1.531394, ..., -0.810591]]), \n",
        "<1458x1458 sparse matrix of type '<type 'numpy.int64'>'\n",
        "\twith 8776 stored elements in LInked List format>, copy=True, n_components=None, n_clusters=11)"
       ]
      },
      {
       "output_type": "stream",
       "stream": "stdout",
       "text": [
        "\n",
        "________________________________________________________ward_tree - 0.4s, 0.0min"
       ]
      },
      {
       "output_type": "stream",
       "stream": "stdout",
       "text": [
        "\n",
        "wtf  968.0 11\n",
        " working on roi 69 with 5452 voxels \n",
        "(267567,)"
       ]
      },
      {
       "output_type": "stream",
       "stream": "stdout",
       "text": [
        " (5452,) (5452,)\n",
        "(5452, 480)"
       ]
      },
      {
       "output_type": "stream",
       "stream": "stdout",
       "text": [
        "\n",
        "________________________________________________________________________________\n",
        "[Memory] Calling sklearn.cluster.hierarchical.ward_tree...\n",
        "ward_tree(array([[-0.662087, ...,  0.149818],\n",
        "       ..., \n",
        "       [-0.98767 , ..., -0.328749]]), \n",
        "<5452x5452 sparse matrix of type '<type 'numpy.int64'>'\n",
        "\twith 34388 stored elements in LInked List format>, copy=True, n_components=None, n_clusters=41)"
       ]
      },
      {
       "output_type": "stream",
       "stream": "stdout",
       "text": [
        "\n",
        "________________________________________________________ward_tree - 1.9s, 0.0min"
       ]
      },
      {
       "output_type": "stream",
       "stream": "stdout",
       "text": [
        "\n",
        "wtf  979.0 41\n",
        " working on roi 70 with 2441 voxels \n",
        "(267567,)"
       ]
      },
      {
       "output_type": "stream",
       "stream": "stdout",
       "text": [
        " (2441,) (2441,)\n",
        "(2441, 480)"
       ]
      },
      {
       "output_type": "stream",
       "stream": "stdout",
       "text": [
        "\n",
        "________________________________________________________________________________\n",
        "[Memory] Calling sklearn.cluster.hierarchical.ward_tree...\n",
        "ward_tree(array([[-1.762024, ...,  0.924226],\n",
        "       ..., \n",
        "       [-0.499146, ...,  0.66048 ]]), \n",
        "<2441x2441 sparse matrix of type '<type 'numpy.int64'>'\n",
        "\twith 15053 stored elements in LInked List format>, copy=True, n_components=None, n_clusters=18)"
       ]
      },
      {
       "output_type": "stream",
       "stream": "stdout",
       "text": [
        "\n",
        "________________________________________________________ward_tree - 0.7s, 0.0min"
       ]
      },
      {
       "output_type": "stream",
       "stream": "stdout",
       "text": [
        "\n",
        "wtf  1020.0 18\n",
        " working on roi 71 with 552 voxels \n",
        "(267567,)"
       ]
      },
      {
       "output_type": "stream",
       "stream": "stdout",
       "text": [
        " (552,) (552,)\n",
        "(552, 480)"
       ]
      },
      {
       "output_type": "stream",
       "stream": "stdout",
       "text": [
        "\n",
        "________________________________________________________________________________\n",
        "[Memory] Calling sklearn.cluster.hierarchical.ward_tree...\n",
        "ward_tree(array([[-0.80872 , ..., -1.283306],\n",
        "       ..., \n",
        "       [-0.461537, ...,  0.676019]]), \n",
        "<552x552 sparse matrix of type '<type 'numpy.int64'>'\n",
        "\twith 3224 stored elements in LInked List format>, copy=True, n_components=None, n_clusters=4)"
       ]
      },
      {
       "output_type": "stream",
       "stream": "stdout",
       "text": [
        "\n",
        "________________________________________________________ward_tree - 0.1s, 0.0min"
       ]
      },
      {
       "output_type": "stream",
       "stream": "stdout",
       "text": [
        "\n",
        "wtf  1038.0 4\n",
        " working on roi 72 with 1780 voxels \n",
        "(267567,)"
       ]
      },
      {
       "output_type": "stream",
       "stream": "stdout",
       "text": [
        " (1780,) (1780,)\n",
        "(1780, 480)"
       ]
      },
      {
       "output_type": "stream",
       "stream": "stdout",
       "text": [
        "\n",
        "________________________________________________________________________________\n",
        "[Memory] Calling sklearn.cluster.hierarchical.ward_tree...\n",
        "ward_tree(array([[ 0.667203, ...,  0.507941],\n",
        "       ..., \n",
        "       [ 0.80427 , ..., -0.457604]]), \n",
        "<1780x1780 sparse matrix of type '<type 'numpy.int64'>'\n",
        "\twith 10756 stored elements in LInked List format>, copy=True, n_components=None, n_clusters=13)"
       ]
      },
      {
       "output_type": "stream",
       "stream": "stdout",
       "text": [
        "\n",
        "________________________________________________________ward_tree - 0.4s, 0.0min"
       ]
      },
      {
       "output_type": "stream",
       "stream": "stdout",
       "text": [
        "\n",
        "wtf  1042.0 13\n",
        " working on roi 73 with 904 voxels \n",
        "(267567,)"
       ]
      },
      {
       "output_type": "stream",
       "stream": "stdout",
       "text": [
        " (904,) (904,)\n",
        "(904, 480)"
       ]
      },
      {
       "output_type": "stream",
       "stream": "stdout",
       "text": [
        "\n",
        "________________________________________________________________________________\n",
        "[Memory] Calling sklearn.cluster.hierarchical.ward_tree...\n",
        "ward_tree(array([[-0.572359, ...,  0.837474],\n",
        "       ..., \n",
        "       [ 1.418952, ...,  0.62059 ]]), \n",
        "<904x904 sparse matrix of type '<type 'numpy.int64'>'\n",
        "\twith 5384 stored elements in LInked List format>, copy=True, n_components=None, n_clusters=7)"
       ]
      },
      {
       "output_type": "stream",
       "stream": "stdout",
       "text": [
        "\n",
        "________________________________________________________ward_tree - 0.2s, 0.0min"
       ]
      },
      {
       "output_type": "stream",
       "stream": "stdout",
       "text": [
        "\n",
        "wtf  1055.0 7\n",
        " working on roi 74 with 300 voxels \n",
        "(267567,)"
       ]
      },
      {
       "output_type": "stream",
       "stream": "stdout",
       "text": [
        " (300,) (300,)\n",
        "(300, 480)"
       ]
      },
      {
       "output_type": "stream",
       "stream": "stdout",
       "text": [
        "\n",
        "________________________________________________________________________________\n",
        "[Memory] Calling sklearn.cluster.hierarchical.ward_tree...\n",
        "ward_tree(array([[-0.405672, ...,  0.383192],\n",
        "       ..., \n",
        "       [-0.347353, ...,  0.506837]]), \n",
        "<300x300 sparse matrix of type '<type 'numpy.int64'>'\n",
        "\twith 1586 stored elements in LInked List format>, copy=True, n_components=None, n_clusters=2)"
       ]
      },
      {
       "output_type": "stream",
       "stream": "stdout",
       "text": [
        "\n",
        "________________________________________________________ward_tree - 0.1s, 0.0min\n",
        "wtf  1062.0 2\n",
        " working on roi 75 with 1454 voxels "
       ]
      },
      {
       "output_type": "stream",
       "stream": "stdout",
       "text": [
        "\n",
        "(267567,) (1454,) (1454,)\n",
        "(1454, 480)"
       ]
      },
      {
       "output_type": "stream",
       "stream": "stdout",
       "text": [
        "\n",
        "________________________________________________________________________________\n",
        "[Memory] Calling sklearn.cluster.hierarchical.ward_tree...\n",
        "ward_tree(array([[-0.084665, ...,  1.450224],\n",
        "       ..., \n",
        "       [ 1.598512, ..., -0.477089]]), \n",
        "<1454x1454 sparse matrix of type '<type 'numpy.int64'>'\n",
        "\twith 8498 stored elements in LInked List format>, copy=True, n_components=None, n_clusters=11)"
       ]
      },
      {
       "output_type": "stream",
       "stream": "stdout",
       "text": [
        "\n",
        "________________________________________________________ward_tree - 0.4s, 0.0min"
       ]
      },
      {
       "output_type": "stream",
       "stream": "stdout",
       "text": [
        "\n",
        "wtf  1064.0 11\n",
        " working on roi 76 with 468 voxels \n",
        "(267567,)"
       ]
      },
      {
       "output_type": "stream",
       "stream": "stdout",
       "text": [
        " (468,) (468,)\n",
        "(468, 480)"
       ]
      },
      {
       "output_type": "stream",
       "stream": "stdout",
       "text": [
        "\n",
        "________________________________________________________________________________\n",
        "[Memory] Calling sklearn.cluster.hierarchical.ward_tree...\n",
        "ward_tree(array([[ 0.544572, ..., -1.384192],\n",
        "       ..., \n",
        "       [-0.136212, ...,  1.291533]]), \n",
        "<468x468 sparse matrix of type '<type 'numpy.int64'>'\n",
        "\twith 2684 stored elements in LInked List format>, copy=True, n_components=None, n_clusters=3)"
       ]
      },
      {
       "output_type": "stream",
       "stream": "stdout",
       "text": [
        "\n",
        "________________________________________________________ward_tree - 0.1s, 0.0min"
       ]
      },
      {
       "output_type": "stream",
       "stream": "stdout",
       "text": [
        "\n",
        "wtf  1075.0 3\n",
        " working on roi 77 with 976 voxels \n",
        "(267567,)"
       ]
      },
      {
       "output_type": "stream",
       "stream": "stdout",
       "text": [
        " (976,) (976,)\n",
        "(976, 480)"
       ]
      },
      {
       "output_type": "stream",
       "stream": "stdout",
       "text": [
        "\n",
        "________________________________________________________________________________\n",
        "[Memory] Calling sklearn.cluster.hierarchical.ward_tree...\n",
        "ward_tree(array([[ 2.61913 , ...,  0.924828],\n",
        "       ..., \n",
        "       [ 0.709417, ...,  1.384859]]), \n",
        "<976x976 sparse matrix of type '<type 'numpy.int64'>'\n",
        "\twith 5580 stored elements in LInked List format>, copy=True, n_components=None, n_clusters=7)"
       ]
      },
      {
       "output_type": "stream",
       "stream": "stdout",
       "text": [
        "\n",
        "________________________________________________________ward_tree - 0.2s, 0.0min"
       ]
      },
      {
       "output_type": "stream",
       "stream": "stdout",
       "text": [
        "\n",
        "wtf  1078.0 7\n",
        " working on roi 78 with 533 voxels \n",
        "(267567,)"
       ]
      },
      {
       "output_type": "stream",
       "stream": "stdout",
       "text": [
        " (533,) (533,)\n",
        "(533, 480)"
       ]
      },
      {
       "output_type": "stream",
       "stream": "stdout",
       "text": [
        "\n",
        "________________________________________________________________________________\n",
        "[Memory] Calling sklearn.cluster.hierarchical.ward_tree...\n",
        "ward_tree(array([[-0.34295 , ...,  1.299273],\n",
        "       ..., \n",
        "       [-1.262604, ..., -1.786393]]), \n",
        "<533x533 sparse matrix of type '<type 'numpy.int64'>'\n",
        "\twith 2997 stored elements in LInked List format>, copy=True, n_components=None, n_clusters=4)"
       ]
      },
      {
       "output_type": "stream",
       "stream": "stdout",
       "text": [
        "\n",
        "________________________________________________________ward_tree - 0.1s, 0.0min"
       ]
      },
      {
       "output_type": "stream",
       "stream": "stdout",
       "text": [
        "\n",
        "wtf  1085.0 4\n",
        " working on roi 79 with 610 voxels \n",
        "(267567,)"
       ]
      },
      {
       "output_type": "stream",
       "stream": "stdout",
       "text": [
        " (610,) (610,)\n",
        "(610, 480)"
       ]
      },
      {
       "output_type": "stream",
       "stream": "stdout",
       "text": [
        "\n",
        "________________________________________________________________________________\n",
        "[Memory] Calling sklearn.cluster.hierarchical.ward_tree...\n",
        "ward_tree(array([[-0.753344, ...,  0.118388],\n",
        "       ..., \n",
        "       [-0.536409, ...,  1.659818]]), \n",
        "<610x610 sparse matrix of type '<type 'numpy.int64'>'\n",
        "\twith 3522 stored elements in LInked List format>, copy=True, n_components=None, n_clusters=5)"
       ]
      },
      {
       "output_type": "stream",
       "stream": "stdout",
       "text": [
        "\n",
        "________________________________________________________ward_tree - 0.1s, 0.0min"
       ]
      },
      {
       "output_type": "stream",
       "stream": "stdout",
       "text": [
        "\n",
        "wtf  1089.0 5\n",
        " working on roi 80 with 270 voxels \n",
        "(267567,)"
       ]
      },
      {
       "output_type": "stream",
       "stream": "stdout",
       "text": [
        " (270,) (270,)\n",
        "(270, 480)"
       ]
      },
      {
       "output_type": "stream",
       "stream": "stdout",
       "text": [
        "\n",
        "________________________________________________________________________________\n",
        "[Memory] Calling sklearn.cluster.hierarchical.ward_tree...\n",
        "ward_tree(array([[ 1.17875 , ...,  0.242596],\n",
        "       ..., \n",
        "       [-1.195965, ...,  0.961199]]), \n",
        "<270x270 sparse matrix of type '<type 'numpy.int64'>'\n",
        "\twith 1456 stored elements in LInked List format>, copy=True, n_components=None, n_clusters=2)"
       ]
      },
      {
       "output_type": "stream",
       "stream": "stdout",
       "text": [
        "\n",
        "________________________________________________________ward_tree - 0.1s, 0.0min\n",
        "wtf  1094.0 2\n",
        " working on roi 81 with 778 voxels "
       ]
      },
      {
       "output_type": "stream",
       "stream": "stdout",
       "text": [
        "\n",
        "(267567,) (778,) (778,)\n",
        "(778, 480)"
       ]
      },
      {
       "output_type": "stream",
       "stream": "stdout",
       "text": [
        "\n",
        "________________________________________________________________________________\n",
        "[Memory] Calling sklearn.cluster.hierarchical.ward_tree...\n",
        "ward_tree(array([[-1.670157, ...,  0.921574],\n",
        "       ..., \n",
        "       [-2.095202, ...,  0.807523]]), \n",
        "<778x778 sparse matrix of type '<type 'numpy.int64'>'\n",
        "\twith 4426 stored elements in LInked List format>, copy=True, n_components=None, n_clusters=6)"
       ]
      },
      {
       "output_type": "stream",
       "stream": "stdout",
       "text": [
        "\n",
        "________________________________________________________ward_tree - 0.2s, 0.0min"
       ]
      },
      {
       "output_type": "stream",
       "stream": "stdout",
       "text": [
        "\n",
        "wtf  1096.0 6\n",
        " working on roi 82 with 440 voxels \n",
        "(267567,)"
       ]
      },
      {
       "output_type": "stream",
       "stream": "stdout",
       "text": [
        " (440,) (440,)\n",
        "(440, 480)"
       ]
      },
      {
       "output_type": "stream",
       "stream": "stdout",
       "text": [
        "\n",
        "________________________________________________________________________________\n",
        "[Memory] Calling sklearn.cluster.hierarchical.ward_tree...\n",
        "ward_tree(array([[-1.491624, ..., -0.126049],\n",
        "       ..., \n",
        "       [-1.798252, ..., -0.315647]]), \n",
        "<440x440 sparse matrix of type '<type 'numpy.int64'>'\n",
        "\twith 2518 stored elements in LInked List format>, copy=True, n_components=None, n_clusters=3)"
       ]
      },
      {
       "output_type": "stream",
       "stream": "stdout",
       "text": [
        "\n",
        "________________________________________________________ward_tree - 0.1s, 0.0min"
       ]
      },
      {
       "output_type": "stream",
       "stream": "stdout",
       "text": [
        "\n",
        "wtf  1102.0 3\n",
        " working on roi 83 with 304 voxels \n",
        "(267567,)"
       ]
      },
      {
       "output_type": "stream",
       "stream": "stdout",
       "text": [
        " (304,) (304,)\n",
        "(304, 480)"
       ]
      },
      {
       "output_type": "stream",
       "stream": "stdout",
       "text": [
        "\n",
        "________________________________________________________________________________\n",
        "[Memory] Calling sklearn.cluster.hierarchical.ward_tree...\n",
        "ward_tree(array([[-1.427372, ..., -0.812704],\n",
        "       ..., \n",
        "       [-1.687215, ...,  0.507723]]), \n",
        "<304x304 sparse matrix of type '<type 'numpy.int64'>'\n",
        "\twith 1558 stored elements in LInked List format>, copy=True, n_components=None, n_clusters=2)"
       ]
      },
      {
       "output_type": "stream",
       "stream": "stdout",
       "text": [
        "\n",
        "________________________________________________________ward_tree - 0.1s, 0.0min\n",
        "wtf  1105.0 2\n",
        " working on roi 84 with 225 voxels "
       ]
      },
      {
       "output_type": "stream",
       "stream": "stdout",
       "text": [
        "\n",
        "(267567,)"
       ]
      },
      {
       "output_type": "stream",
       "stream": "stdout",
       "text": [
        " (225,) (225,)\n",
        "(225, 480)"
       ]
      },
      {
       "output_type": "stream",
       "stream": "stdout",
       "text": [
        "\n",
        "________________________________________________________________________________\n",
        "[Memory] Calling sklearn.cluster.hierarchical.ward_tree...\n",
        "ward_tree(array([[-1.656927, ..., -1.008187],\n",
        "       ..., \n",
        "       [-1.274711, ..., -0.396992]]), \n",
        "<225x225 sparse matrix of type '<type 'numpy.int64'>'\n",
        "\twith 1149 stored elements in LInked List format>, copy=True, n_components=None, n_clusters=2)\n",
        "________________________________________________________ward_tree - 0.0s, 0.0min"
       ]
      },
      {
       "output_type": "stream",
       "stream": "stdout",
       "text": [
        "\n",
        "wtf  1107.0 2\n",
        " working on roi 85 with 333 voxels \n",
        "(267567,)"
       ]
      },
      {
       "output_type": "stream",
       "stream": "stdout",
       "text": [
        " (333,) (333,)\n",
        "(333, 480)"
       ]
      },
      {
       "output_type": "stream",
       "stream": "stdout",
       "text": [
        "\n",
        "________________________________________________________________________________\n",
        "[Memory] Calling sklearn.cluster.hierarchical.ward_tree...\n",
        "ward_tree(array([[-1.886827, ...,  0.030259],\n",
        "       ..., \n",
        "       [-1.997912, ..., -0.180005]]), \n",
        "<333x333 sparse matrix of type '<type 'numpy.int64'>'\n",
        "\twith 1727 stored elements in LInked List format>, copy=True, n_components=None, n_clusters=2)"
       ]
      },
      {
       "output_type": "stream",
       "stream": "stdout",
       "text": [
        "\n",
        "________________________________________________________ward_tree - 0.1s, 0.0min\n",
        "wtf "
       ]
      },
      {
       "output_type": "stream",
       "stream": "stdout",
       "text": [
        " 1109.0 2\n",
        " working on roi 86 with 167 voxels \n",
        " working on roi 87 with 4290 voxels \n",
        "(267567,)"
       ]
      },
      {
       "output_type": "stream",
       "stream": "stdout",
       "text": [
        " (4290,) (4290,)\n",
        "(4290, 480)"
       ]
      },
      {
       "output_type": "stream",
       "stream": "stdout",
       "text": [
        "\n",
        "________________________________________________________________________________\n",
        "[Memory] Calling sklearn.cluster.hierarchical.ward_tree...\n",
        "ward_tree(array([[-1.080086, ..., -0.56824 ],\n",
        "       ..., \n",
        "       [-0.866929, ..., -0.164162]]), \n",
        "<4290x4290 sparse matrix of type '<type 'numpy.int64'>'\n",
        "\twith 27012 stored elements in LInked List format>, copy=True, n_components=None, n_clusters=32)"
       ]
      },
      {
       "output_type": "stream",
       "stream": "stdout",
       "text": [
        "\n",
        "________________________________________________________ward_tree - 1.1s, 0.0min"
       ]
      },
      {
       "output_type": "stream",
       "stream": "stdout",
       "text": [
        "\n",
        "wtf  1112.0 32\n",
        " working on roi 88 with 28465 voxels \n",
        "(267567,)"
       ]
      },
      {
       "output_type": "stream",
       "stream": "stdout",
       "text": [
        " (28465,) (28465,)\n",
        "(28465, 480)"
       ]
      },
      {
       "output_type": "stream",
       "stream": "stdout",
       "text": [
        "\n",
        "________________________________________________________________________________\n",
        "[Memory] Calling sklearn.cluster.hierarchical.ward_tree...\n",
        "ward_tree(array([[ 0.769253, ...,  0.413966],\n",
        "       ..., \n",
        "       [-1.142011, ...,  0.846891]]), \n",
        "<28465x28465 sparse matrix of type '<type 'numpy.int64'>'\n",
        "\twith 179703 stored elements in LInked List format>, copy=True, n_components=None, n_clusters=213)"
       ]
      },
      {
       "output_type": "stream",
       "stream": "stdout",
       "text": [
        "\n",
        "_______________________________________________________ward_tree - 12.3s, 0.2min"
       ]
      },
      {
       "output_type": "stream",
       "stream": "stdout",
       "text": [
        "\n",
        "wtf  1144.0 213\n",
        " working on roi 89 with 1294 voxels \n",
        "(267567,)"
       ]
      },
      {
       "output_type": "stream",
       "stream": "stdout",
       "text": [
        " (1294,) (1294,)\n",
        "(1294, 480)"
       ]
      },
      {
       "output_type": "stream",
       "stream": "stdout",
       "text": [
        "\n",
        "________________________________________________________________________________\n",
        "[Memory] Calling sklearn.cluster.hierarchical.ward_tree...\n",
        "ward_tree(array([[ 0.855333, ..., -0.398826],\n",
        "       ..., \n",
        "       [ 1.219836, ...,  1.345565]]), \n",
        "<1294x1294 sparse matrix of type '<type 'numpy.int64'>'\n",
        "\twith 7340 stored elements in LInked List format>, copy=True, n_components=None, n_clusters=10)"
       ]
      },
      {
       "output_type": "stream",
       "stream": "stdout",
       "text": [
        "\n",
        "________________________________________________________ward_tree - 0.3s, 0.0min"
       ]
      },
      {
       "output_type": "stream",
       "stream": "stdout",
       "text": [
        "\n",
        "wtf  1357.0 10\n",
        " working on roi 90 with 1591 voxels \n",
        "(267567,)"
       ]
      },
      {
       "output_type": "stream",
       "stream": "stdout",
       "text": [
        " (1591,) (1591,)\n",
        "(1591, 480)"
       ]
      },
      {
       "output_type": "stream",
       "stream": "stdout",
       "text": [
        "\n",
        "________________________________________________________________________________\n",
        "[Memory] Calling sklearn.cluster.hierarchical.ward_tree...\n",
        "ward_tree(array([[-0.382059, ...,  0.208731],\n",
        "       ..., \n",
        "       [-0.703348, ...,  0.495345]]), \n",
        "<1591x1591 sparse matrix of type '<type 'numpy.int64'>'\n",
        "\twith 10013 stored elements in LInked List format>, copy=True, n_components=None, n_clusters=12)"
       ]
      },
      {
       "output_type": "stream",
       "stream": "stdout",
       "text": [
        "\n",
        "________________________________________________________ward_tree - 0.4s, 0.0min"
       ]
      },
      {
       "output_type": "stream",
       "stream": "stdout",
       "text": [
        "\n",
        "wtf  1367.0 12\n",
        " working on roi 91 with 572 voxels \n",
        "(267567,)"
       ]
      },
      {
       "output_type": "stream",
       "stream": "stdout",
       "text": [
        " (572,) (572,)\n",
        "(572, 480)"
       ]
      },
      {
       "output_type": "stream",
       "stream": "stdout",
       "text": [
        "\n",
        "________________________________________________________________________________\n",
        "[Memory] Calling sklearn.cluster.hierarchical.ward_tree...\n",
        "ward_tree(array([[ 1.450858, ..., -0.060273],\n",
        "       ..., \n",
        "       [-0.189075, ..., -0.18574 ]]), \n",
        "<572x572 sparse matrix of type '<type 'numpy.int64'>'\n",
        "\twith 3246 stored elements in LInked List format>, copy=True, n_components=None, n_clusters=4)"
       ]
      },
      {
       "output_type": "stream",
       "stream": "stdout",
       "text": [
        "\n",
        "________________________________________________________ward_tree - 0.1s, 0.0min"
       ]
      },
      {
       "output_type": "stream",
       "stream": "stdout",
       "text": [
        "\n",
        "wtf  1379.0 4\n",
        " working on roi 92 with 944 voxels \n",
        "(267567,)"
       ]
      },
      {
       "output_type": "stream",
       "stream": "stdout",
       "text": [
        " (944,) (944,)\n",
        "(944, 480)"
       ]
      },
      {
       "output_type": "stream",
       "stream": "stdout",
       "text": [
        "\n",
        "________________________________________________________________________________\n",
        "[Memory] Calling sklearn.cluster.hierarchical.ward_tree...\n",
        "ward_tree(array([[-1.954409, ..., -0.205593],\n",
        "       ..., \n",
        "       [-0.229401, ...,  1.073538]]), \n",
        "<944x944 sparse matrix of type '<type 'numpy.int64'>'\n",
        "\twith 5670 stored elements in LInked List format>, copy=True, n_components=None, n_clusters=7)"
       ]
      },
      {
       "output_type": "stream",
       "stream": "stdout",
       "text": [
        "\n",
        "________________________________________________________ward_tree - 0.2s, 0.0min"
       ]
      },
      {
       "output_type": "stream",
       "stream": "stdout",
       "text": [
        "\n",
        "wtf  1383.0 7\n",
        " working on roi 93 with 312 voxels \n",
        "(267567,)"
       ]
      },
      {
       "output_type": "stream",
       "stream": "stdout",
       "text": [
        " (312,) (312,)\n",
        "(312, 480)"
       ]
      },
      {
       "output_type": "stream",
       "stream": "stdout",
       "text": [
        "\n",
        "________________________________________________________________________________\n",
        "[Memory] Calling sklearn.cluster.hierarchical.ward_tree...\n",
        "ward_tree(array([[-1.596219, ...,  0.843552],\n",
        "       ..., \n",
        "       [ 0.746317, ..., -0.595683]]), \n",
        "<312x312 sparse matrix of type '<type 'numpy.int64'>'\n",
        "\twith 1792 stored elements in LInked List format>, copy=True, n_components=None, n_clusters=2)"
       ]
      },
      {
       "output_type": "stream",
       "stream": "stdout",
       "text": [
        "\n",
        "________________________________________________________ward_tree - 0.1s, 0.0min\n",
        "wtf  1390.0 2\n",
        " working on roi 94 with 6223 voxels \n",
        "(267567,)"
       ]
      },
      {
       "output_type": "stream",
       "stream": "stdout",
       "text": [
        " (6223,) (6223,)\n",
        "(6223, 480)"
       ]
      },
      {
       "output_type": "stream",
       "stream": "stdout",
       "text": [
        "\n",
        "________________________________________________________________________________\n",
        "[Memory] Calling sklearn.cluster.hierarchical.ward_tree...\n",
        "ward_tree(array([[-1.289522, ...,  0.909694],\n",
        "       ..., \n",
        "       [ 1.111157, ..., -0.187072]]), \n",
        "<6223x6223 sparse matrix of type '<type 'numpy.int64'>'\n",
        "\twith 40367 stored elements in LInked List format>, copy=True, n_components=None, n_clusters=47)"
       ]
      },
      {
       "output_type": "stream",
       "stream": "stdout",
       "text": [
        "\n",
        "________________________________________________________ward_tree - 1.6s, 0.0min"
       ]
      },
      {
       "output_type": "stream",
       "stream": "stdout",
       "text": [
        "\n",
        "wtf  1392.0 47\n",
        " working on roi 95 with 898 voxels \n",
        "(267567,)"
       ]
      },
      {
       "output_type": "stream",
       "stream": "stdout",
       "text": [
        " (898,) (898,)\n",
        "(898, 480)"
       ]
      },
      {
       "output_type": "stream",
       "stream": "stdout",
       "text": [
        "\n",
        "________________________________________________________________________________\n",
        "[Memory] Calling sklearn.cluster.hierarchical.ward_tree...\n",
        "ward_tree(array([[-0.532488, ...,  0.325583],\n",
        "       ..., \n",
        "       [ 0.141149, ...,  0.815748]]), \n",
        "<898x898 sparse matrix of type '<type 'numpy.int64'>'\n",
        "\twith 5218 stored elements in LInked List format>, copy=True, n_components=None, n_clusters=7)"
       ]
      },
      {
       "output_type": "stream",
       "stream": "stdout",
       "text": [
        "\n",
        "________________________________________________________ward_tree - 0.2s, 0.0min"
       ]
      },
      {
       "output_type": "stream",
       "stream": "stdout",
       "text": [
        "\n",
        "wtf  1439.0 7\n",
        " working on roi 96 with 441 voxels \n",
        "(267567,)"
       ]
      },
      {
       "output_type": "stream",
       "stream": "stdout",
       "text": [
        " (441,) (441,)\n",
        "(441, 480)"
       ]
      },
      {
       "output_type": "stream",
       "stream": "stdout",
       "text": [
        "\n",
        "________________________________________________________________________________\n",
        "[Memory] Calling sklearn.cluster.hierarchical.ward_tree...\n",
        "ward_tree(array([[ 0.225319, ...,  0.911794],\n",
        "       ..., \n",
        "       [-0.58165 , ..., -0.949874]]), \n",
        "<441x441 sparse matrix of type '<type 'numpy.int64'>'\n",
        "\twith 2565 stored elements in LInked List format>, copy=True, n_components=None, n_clusters=3)"
       ]
      },
      {
       "output_type": "stream",
       "stream": "stdout",
       "text": [
        "\n",
        "________________________________________________________ward_tree - 0.1s, 0.0min"
       ]
      },
      {
       "output_type": "stream",
       "stream": "stdout",
       "text": [
        "\n",
        "wtf  1446.0 3\n",
        " working on roi 97 with 146 voxels \n",
        " working on roi 98 with 37239 voxels \n",
        "(267567,)"
       ]
      },
      {
       "output_type": "stream",
       "stream": "stdout",
       "text": [
        " (37239,) (37239,)\n",
        "(37239, 480)"
       ]
      },
      {
       "output_type": "stream",
       "stream": "stdout",
       "text": [
        "\n",
        "________________________________________________________________________________\n",
        "[Memory] Calling sklearn.cluster.hierarchical.ward_tree...\n",
        "ward_tree(array([[-0.885504, ...,  0.609626],\n",
        "       ..., \n",
        "       [ 1.312741, ..., -0.262677]]), \n",
        "<37239x37239 sparse matrix of type '<type 'numpy.int64'>'\n",
        "\twith 237649 stored elements in LInked List format>, copy=True, n_components=None, n_clusters=278)"
       ]
      },
      {
       "output_type": "stream",
       "stream": "stdout",
       "text": [
        "\n",
        "_______________________________________________________ward_tree - 15.9s, 0.3min"
       ]
      },
      {
       "output_type": "stream",
       "stream": "stdout",
       "text": [
        "\n",
        "wtf  1450.0 278\n",
        " working on roi 99 with 1025 voxels \n",
        "(267567,)"
       ]
      },
      {
       "output_type": "stream",
       "stream": "stdout",
       "text": [
        " (1025,) (1025,)\n",
        "(1025, 480)"
       ]
      },
      {
       "output_type": "stream",
       "stream": "stdout",
       "text": [
        "\n",
        "________________________________________________________________________________\n",
        "[Memory] Calling sklearn.cluster.hierarchical.ward_tree...\n",
        "ward_tree(array([[-1.890156, ...,  0.336784],\n",
        "       ..., \n",
        "       [ 0.416185, ..., -0.576781]]), \n",
        "<1025x1025 sparse matrix of type '<type 'numpy.int64'>'\n",
        "\twith 5713 stored elements in LInked List format>, copy=True, n_components=None, n_clusters=8)"
       ]
      },
      {
       "output_type": "stream",
       "stream": "stdout",
       "text": [
        "\n",
        "________________________________________________________ward_tree - 0.2s, 0.0min"
       ]
      },
      {
       "output_type": "stream",
       "stream": "stdout",
       "text": [
        "\n",
        "wtf  1728.0 8\n",
        " working on roi 100 with 1402 voxels \n",
        "(267567,)"
       ]
      },
      {
       "output_type": "stream",
       "stream": "stdout",
       "text": [
        " (1402,) (1402,)\n",
        "(1402, 480)"
       ]
      },
      {
       "output_type": "stream",
       "stream": "stdout",
       "text": [
        "\n",
        "________________________________________________________________________________\n",
        "[Memory] Calling sklearn.cluster.hierarchical.ward_tree...\n",
        "ward_tree(array([[ 1.621267, ..., -0.399542],\n",
        "       ..., \n",
        "       [-0.863352, ...,  0.254003]]), \n",
        "<1402x1402 sparse matrix of type '<type 'numpy.int64'>'\n",
        "\twith 8780 stored elements in LInked List format>, copy=True, n_components=None, n_clusters=10)"
       ]
      },
      {
       "output_type": "stream",
       "stream": "stdout",
       "text": [
        "\n",
        "________________________________________________________ward_tree - 0.3s, 0.0min"
       ]
      },
      {
       "output_type": "stream",
       "stream": "stdout",
       "text": [
        "\n",
        "wtf  1736.0 10\n",
        " working on roi 101 with 515 voxels \n",
        "(267567,)"
       ]
      },
      {
       "output_type": "stream",
       "stream": "stdout",
       "text": [
        " (515,) (515,)\n",
        "(515, 480)"
       ]
      },
      {
       "output_type": "stream",
       "stream": "stdout",
       "text": [
        "\n",
        "________________________________________________________________________________\n",
        "[Memory] Calling sklearn.cluster.hierarchical.ward_tree...\n",
        "ward_tree(array([[-0.223614, ..., -0.737806],\n",
        "       ..., \n",
        "       [ 2.470183, ..., -0.85485 ]]), \n",
        "<515x515 sparse matrix of type '<type 'numpy.int64'>'\n",
        "\twith 2897 stored elements in LInked List format>, copy=True, n_components=None, n_clusters=4)"
       ]
      },
      {
       "output_type": "stream",
       "stream": "stdout",
       "text": [
        "\n",
        "________________________________________________________ward_tree - 0.1s, 0.0min"
       ]
      },
      {
       "output_type": "stream",
       "stream": "stdout",
       "text": [
        "\n",
        "wtf  1746.0 4\n",
        " working on roi 102 with 824 voxels \n",
        "(267567,)"
       ]
      },
      {
       "output_type": "stream",
       "stream": "stdout",
       "text": [
        " (824,) (824,)\n",
        "(824, 480)"
       ]
      },
      {
       "output_type": "stream",
       "stream": "stdout",
       "text": [
        "\n",
        "________________________________________________________________________________\n",
        "[Memory] Calling sklearn.cluster.hierarchical.ward_tree...\n",
        "ward_tree(array([[-0.616687, ...,  1.501885],\n",
        "       ..., \n",
        "       [ 1.570922, ...,  0.1798  ]]), \n",
        "<824x824 sparse matrix of type '<type 'numpy.int64'>'\n",
        "\twith 4904 stored elements in LInked List format>, copy=True, n_components=None, n_clusters=6)"
       ]
      },
      {
       "output_type": "stream",
       "stream": "stdout",
       "text": [
        "\n",
        "________________________________________________________ward_tree - 0.2s, 0.0min"
       ]
      },
      {
       "output_type": "stream",
       "stream": "stdout",
       "text": [
        "\n",
        "wtf  1750.0 6\n",
        " working on roi 103 with 266 voxels \n",
        "(267567,)"
       ]
      },
      {
       "output_type": "stream",
       "stream": "stdout",
       "text": [
        " (266,) (266,)\n",
        "(266, 480)"
       ]
      },
      {
       "output_type": "stream",
       "stream": "stdout",
       "text": [
        "\n",
        "________________________________________________________________________________\n",
        "[Memory] Calling sklearn.cluster.hierarchical.ward_tree...\n",
        "ward_tree(array([[-0.096312, ...,  1.408626],\n",
        "       ..., \n",
        "       [ 1.286193, ...,  0.3972  ]]), \n",
        "<266x266 sparse matrix of type '<type 'numpy.int64'>'\n",
        "\twith 1500 stored elements in LInked List format>, copy=True, n_components=None, n_clusters=2)\n",
        "________________________________________________________ward_tree - 0.1s, 0.0min"
       ]
      },
      {
       "output_type": "stream",
       "stream": "stdout",
       "text": [
        "\n",
        "wtf  1756.0 2\n",
        " working on roi 104 with 778 voxels \n",
        "(267567,)"
       ]
      },
      {
       "output_type": "stream",
       "stream": "stdout",
       "text": [
        " (778,) (778,)\n",
        "(778, 480)"
       ]
      },
      {
       "output_type": "stream",
       "stream": "stdout",
       "text": [
        "\n",
        "________________________________________________________________________________\n",
        "[Memory] Calling sklearn.cluster.hierarchical.ward_tree...\n",
        "ward_tree(array([[ 1.027576, ..., -1.543123],\n",
        "       ..., \n",
        "       [ 0.485699, ...,  0.255956]]), \n",
        "<778x778 sparse matrix of type '<type 'numpy.int64'>'\n",
        "\twith 4464 stored elements in LInked List format>, copy=True, n_components=None, n_clusters=6)"
       ]
      },
      {
       "output_type": "stream",
       "stream": "stdout",
       "text": [
        "\n",
        "________________________________________________________ward_tree - 0.2s, 0.0min"
       ]
      },
      {
       "output_type": "stream",
       "stream": "stdout",
       "text": [
        "\n",
        "wtf  1758.0 6\n",
        " working on roi 105 with 477 voxels \n",
        "(267567,)"
       ]
      },
      {
       "output_type": "stream",
       "stream": "stdout",
       "text": [
        " (477,) (477,)\n",
        "(477, 480)"
       ]
      },
      {
       "output_type": "stream",
       "stream": "stdout",
       "text": [
        "\n",
        "________________________________________________________________________________\n",
        "[Memory] Calling sklearn.cluster.hierarchical.ward_tree...\n",
        "ward_tree(array([[-1.71856 , ...,  1.081352],\n",
        "       ..., \n",
        "       [ 0.939781, ...,  0.495166]]), \n",
        "<477x477 sparse matrix of type '<type 'numpy.int64'>'\n",
        "\twith 2775 stored elements in LInked List format>, copy=True, n_components=None, n_clusters=4)"
       ]
      },
      {
       "output_type": "stream",
       "stream": "stdout",
       "text": [
        "\n",
        "________________________________________________________ward_tree - 0.1s, 0.0min"
       ]
      },
      {
       "output_type": "stream",
       "stream": "stdout",
       "text": [
        "\n",
        "wtf  1764.0 4\n",
        " working on roi 106 with 101 voxels \n",
        " working on roi 107 with 1007 voxels \n",
        "(267567,)"
       ]
      },
      {
       "output_type": "stream",
       "stream": "stdout",
       "text": [
        " (1007,) (1007,)\n",
        "(1007, 480)"
       ]
      },
      {
       "output_type": "stream",
       "stream": "stdout",
       "text": [
        "\n",
        "________________________________________________________________________________\n",
        "[Memory] Calling sklearn.cluster.hierarchical.ward_tree...\n",
        "ward_tree(array([[ 1.175141, ..., -1.120018],\n",
        "       ..., \n",
        "       [-0.559368, ...,  0.514824]]), \n",
        "<1007x1007 sparse matrix of type '<type 'numpy.int64'>'\n",
        "\twith 5985 stored elements in LInked List format>, copy=True, n_components=None, n_clusters=8)"
       ]
      },
      {
       "output_type": "stream",
       "stream": "stdout",
       "text": [
        "\n",
        "________________________________________________________ward_tree - 0.2s, 0.0min"
       ]
      },
      {
       "output_type": "stream",
       "stream": "stdout",
       "text": [
        "\n",
        "wtf  1769.0 8\n",
        " working on roi 108 with 1039 voxels \n",
        "(267567,)"
       ]
      },
      {
       "output_type": "stream",
       "stream": "stdout",
       "text": [
        " (1039,) (1039,)\n",
        "(1039, 480)"
       ]
      },
      {
       "output_type": "stream",
       "stream": "stdout",
       "text": [
        "\n",
        "________________________________________________________________________________\n",
        "[Memory] Calling sklearn.cluster.hierarchical.ward_tree...\n",
        "ward_tree(array([[ 0.913612, ...,  1.252437],\n",
        "       ..., \n",
        "       [ 1.588502, ..., -0.200869]]), \n",
        "<1039x1039 sparse matrix of type '<type 'numpy.int64'>'\n",
        "\twith 6155 stored elements in LInked List format>, copy=True, n_components=None, n_clusters=8)"
       ]
      },
      {
       "output_type": "stream",
       "stream": "stdout",
       "text": [
        "\n",
        "________________________________________________________ward_tree - 0.2s, 0.0min"
       ]
      },
      {
       "output_type": "stream",
       "stream": "stdout",
       "text": [
        "\n",
        "wtf  1777.0 8\n",
        " working on roi 109 with 870 voxels \n",
        "(267567,)"
       ]
      },
      {
       "output_type": "stream",
       "stream": "stdout",
       "text": [
        " (870,) (870,)\n",
        "(870, 480)"
       ]
      },
      {
       "output_type": "stream",
       "stream": "stdout",
       "text": [
        "\n",
        "________________________________________________________________________________\n",
        "[Memory] Calling sklearn.cluster.hierarchical.ward_tree...\n",
        "ward_tree(array([[ 1.344414, ..., -1.163212],\n",
        "       ..., \n",
        "       [-0.388963, ...,  0.477547]]), \n",
        "<870x870 sparse matrix of type '<type 'numpy.int64'>'\n",
        "\twith 4962 stored elements in LInked List format>, copy=True, n_components=None, n_clusters=7)"
       ]
      },
      {
       "output_type": "stream",
       "stream": "stdout",
       "text": [
        "\n",
        "________________________________________________________ward_tree - 0.2s, 0.0min"
       ]
      },
      {
       "output_type": "stream",
       "stream": "stdout",
       "text": [
        "\n",
        "wtf  1785.0 7\n",
        " working on roi 110 with 894 voxels \n",
        "(267567,)"
       ]
      },
      {
       "output_type": "stream",
       "stream": "stdout",
       "text": [
        " (894,) (894,)\n",
        "(894, 480)"
       ]
      },
      {
       "output_type": "stream",
       "stream": "stdout",
       "text": [
        "\n",
        "________________________________________________________________________________\n",
        "[Memory] Calling sklearn.cluster.hierarchical.ward_tree...\n",
        "ward_tree(array([[ 0.258866, ..., -0.392264],\n",
        "       ..., \n",
        "       [ 0.424355, ..., -0.585194]]), \n",
        "<894x894 sparse matrix of type '<type 'numpy.int64'>'\n",
        "\twith 5054 stored elements in LInked List format>, copy=True, n_components=None, n_clusters=7)"
       ]
      },
      {
       "output_type": "stream",
       "stream": "stdout",
       "text": [
        "\n",
        "________________________________________________________ward_tree - 0.2s, 0.0min"
       ]
      },
      {
       "output_type": "stream",
       "stream": "stdout",
       "text": [
        "\n",
        "wtf  1792.0 7\n",
        " working on roi 111 with 2101 voxels \n",
        "(267567,)"
       ]
      },
      {
       "output_type": "stream",
       "stream": "stdout",
       "text": [
        " (2101,) (2101,)\n",
        "(2101, 480)"
       ]
      },
      {
       "output_type": "stream",
       "stream": "stdout",
       "text": [
        "\n",
        "________________________________________________________________________________\n",
        "[Memory] Calling sklearn.cluster.hierarchical.ward_tree...\n",
        "ward_tree(array([[ 0.348218, ..., -0.133018],\n",
        "       ..., \n",
        "       [ 0.637937, ...,  0.362625]]), \n",
        "<2101x2101 sparse matrix of type '<type 'numpy.int64'>'\n",
        "\twith 12821 stored elements in LInked List format>, copy=True, n_components=None, n_clusters=16)"
       ]
      },
      {
       "output_type": "stream",
       "stream": "stdout",
       "text": [
        "\n",
        "________________________________________________________ward_tree - 0.5s, 0.0min"
       ]
      },
      {
       "output_type": "stream",
       "stream": "stdout",
       "text": [
        "\n",
        "wtf  1799.0 16\n",
        " working on roi 112 with 441 voxels \n",
        "(267567,)"
       ]
      },
      {
       "output_type": "stream",
       "stream": "stdout",
       "text": [
        " (441,) (441,)\n",
        "(441, 480)"
       ]
      },
      {
       "output_type": "stream",
       "stream": "stdout",
       "text": [
        "\n",
        "________________________________________________________________________________\n",
        "[Memory] Calling sklearn.cluster.hierarchical.ward_tree...\n",
        "ward_tree(array([[ 1.320734, ..., -0.158503],\n",
        "       ..., \n",
        "       [ 0.949711, ..., -0.420622]]), \n",
        "<441x441 sparse matrix of type '<type 'numpy.int64'>'\n",
        "\twith 2543 stored elements in LInked List format>, copy=True, n_components=None, n_clusters=3)"
       ]
      },
      {
       "output_type": "stream",
       "stream": "stdout",
       "text": [
        "\n",
        "________________________________________________________ward_tree - 0.1s, 0.0min"
       ]
      },
      {
       "output_type": "stream",
       "stream": "stdout",
       "text": [
        "\n",
        "wtf  1815.0 3\n",
        " working on roi 113 with 1874 voxels \n",
        "(267567,)"
       ]
      },
      {
       "output_type": "stream",
       "stream": "stdout",
       "text": [
        " (1874,) (1874,)\n",
        "(1874, 480)"
       ]
      },
      {
       "output_type": "stream",
       "stream": "stdout",
       "text": [
        "\n",
        "________________________________________________________________________________\n",
        "[Memory] Calling sklearn.cluster.hierarchical.ward_tree...\n",
        "ward_tree(array([[ 0.403204, ...,  0.351047],\n",
        "       ..., \n",
        "       [ 1.390956, ...,  0.132825]]), \n",
        "<1874x1874 sparse matrix of type '<type 'numpy.int64'>'\n",
        "\twith 11440 stored elements in LInked List format>, copy=True, n_components=None, n_clusters=14)"
       ]
      },
      {
       "output_type": "stream",
       "stream": "stdout",
       "text": [
        "\n",
        "________________________________________________________ward_tree - 0.4s, 0.0min"
       ]
      },
      {
       "output_type": "stream",
       "stream": "stdout",
       "text": [
        "\n",
        "wtf  1818.0 14\n",
        " working on roi 114 with 3478 voxels \n",
        "(267567,)"
       ]
      },
      {
       "output_type": "stream",
       "stream": "stdout",
       "text": [
        " (3478,) (3478,)\n",
        "(3478, 480)"
       ]
      },
      {
       "output_type": "stream",
       "stream": "stdout",
       "text": [
        "\n",
        "________________________________________________________________________________\n",
        "[Memory] Calling sklearn.cluster.hierarchical.ward_tree...\n",
        "ward_tree(array([[-0.392975, ..., -0.146506],\n",
        "       ..., \n",
        "       [ 0.174003, ...,  0.971273]]), \n",
        "<3478x3478 sparse matrix of type '<type 'numpy.int64'>'\n",
        "\twith 21832 stored elements in LInked List format>, copy=True, n_components=None, n_clusters=26)"
       ]
      },
      {
       "output_type": "stream",
       "stream": "stdout",
       "text": [
        "\n",
        "________________________________________________________ward_tree - 0.9s, 0.0min"
       ]
      },
      {
       "output_type": "stream",
       "stream": "stdout",
       "text": [
        "\n",
        "wtf  1832.0 26\n",
        " working on roi 115 with 2 voxels \n",
        " working on roi 116 with 3490 voxels \n",
        "(267567,)"
       ]
      },
      {
       "output_type": "stream",
       "stream": "stdout",
       "text": [
        " (3490,) (3490,)\n",
        "(3490, 480)"
       ]
      },
      {
       "output_type": "stream",
       "stream": "stdout",
       "text": [
        "\n",
        "________________________________________________________________________________\n",
        "[Memory] Calling sklearn.cluster.hierarchical.ward_tree...\n",
        "ward_tree(array([[-0.3617  , ...,  1.202568],\n",
        "       ..., \n",
        "       [ 1.026285, ...,  0.484818]]), \n",
        "<3490x3490 sparse matrix of type '<type 'numpy.int64'>'\n",
        "\twith 21934 stored elements in LInked List format>, copy=True, n_components=None, n_clusters=26)"
       ]
      },
      {
       "output_type": "stream",
       "stream": "stdout",
       "text": [
        "\n",
        "________________________________________________________ward_tree - 0.9s, 0.0min"
       ]
      },
      {
       "output_type": "stream",
       "stream": "stdout",
       "text": [
        "\n",
        "wtf  1859.0 26\n",
        " working on roi 117 with 2651 voxels \n",
        "(267567,)"
       ]
      },
      {
       "output_type": "stream",
       "stream": "stdout",
       "text": [
        " (2651,) (2651,)\n",
        "(2651, 480)"
       ]
      },
      {
       "output_type": "stream",
       "stream": "stdout",
       "text": [
        "\n",
        "________________________________________________________________________________\n",
        "[Memory] Calling sklearn.cluster.hierarchical.ward_tree...\n",
        "ward_tree(array([[ 1.64953 , ...,  0.274803],\n",
        "       ..., \n",
        "       [-1.122682, ...,  0.08198 ]]), \n",
        "<2651x2651 sparse matrix of type '<type 'numpy.int64'>'\n",
        "\twith 16015 stored elements in LInked List format>, copy=True, n_components=None, n_clusters=20)"
       ]
      },
      {
       "output_type": "stream",
       "stream": "stdout",
       "text": [
        "\n",
        "________________________________________________________ward_tree - 0.7s, 0.0min"
       ]
      },
      {
       "output_type": "stream",
       "stream": "stdout",
       "text": [
        "\n",
        "wtf  1885.0 20\n",
        " working on roi 118 with 76 voxels \n",
        " working on roi 119 with 2781 voxels \n",
        "(267567,)"
       ]
      },
      {
       "output_type": "stream",
       "stream": "stdout",
       "text": [
        " (2781,) (2781,)\n",
        "(2781, 480)"
       ]
      },
      {
       "output_type": "stream",
       "stream": "stdout",
       "text": [
        "\n",
        "________________________________________________________________________________\n",
        "[Memory] Calling sklearn.cluster.hierarchical.ward_tree...\n",
        "ward_tree(array([[-1.066726, ..., -0.018352],\n",
        "       ..., \n",
        "       [ 1.812746, ...,  0.187883]]), \n",
        "<2781x2781 sparse matrix of type '<type 'numpy.int64'>'\n",
        "\twith 16631 stored elements in LInked List format>, copy=True, n_components=None, n_clusters=21)"
       ]
      },
      {
       "output_type": "stream",
       "stream": "stdout",
       "text": [
        "\n",
        "________________________________________________________ward_tree - 1.0s, 0.0min"
       ]
      },
      {
       "output_type": "stream",
       "stream": "stdout",
       "text": [
        "\n",
        "wtf  1906.0 21\n",
        " working on roi 120 with 1152 voxels \n",
        "(267567,)"
       ]
      },
      {
       "output_type": "stream",
       "stream": "stdout",
       "text": [
        " (1152,) (1152,)\n",
        "(1152, 480)"
       ]
      },
      {
       "output_type": "stream",
       "stream": "stdout",
       "text": [
        "\n",
        "________________________________________________________________________________\n",
        "[Memory] Calling sklearn.cluster.hierarchical.ward_tree...\n",
        "ward_tree(array([[-0.212453, ...,  0.850469],\n",
        "       ..., \n",
        "       [-0.485088, ...,  1.30841 ]]), \n",
        "<1152x1152 sparse matrix of type '<type 'numpy.int64'>'\n",
        "\twith 6376 stored elements in LInked List format>, copy=True, n_components=None, n_clusters=9)"
       ]
      },
      {
       "output_type": "stream",
       "stream": "stdout",
       "text": [
        "\n",
        "________________________________________________________ward_tree - 0.3s, 0.0min"
       ]
      },
      {
       "output_type": "stream",
       "stream": "stdout",
       "text": [
        "\n",
        "wtf  1927.0 9\n",
        " working on roi 121 with 28 voxels \n",
        " working on roi 122 with 1216 voxels \n",
        "(267567,)"
       ]
      },
      {
       "output_type": "stream",
       "stream": "stdout",
       "text": [
        " (1216,) (1216,)\n",
        "(1216, 480)"
       ]
      },
      {
       "output_type": "stream",
       "stream": "stdout",
       "text": [
        "\n",
        "________________________________________________________________________________\n",
        "[Memory] Calling sklearn.cluster.hierarchical.ward_tree...\n",
        "ward_tree(array([[ 0.985496, ...,  1.163127],\n",
        "       ..., \n",
        "       [ 2.574785, ...,  0.026377]]), \n",
        "<1216x1216 sparse matrix of type '<type 'numpy.int64'>'\n",
        "\twith 6706 stored elements in LInked List format>, copy=True, n_components=None, n_clusters=9)"
       ]
      },
      {
       "output_type": "stream",
       "stream": "stdout",
       "text": [
        "\n",
        "________________________________________________________ward_tree - 0.3s, 0.0min"
       ]
      },
      {
       "output_type": "stream",
       "stream": "stdout",
       "text": [
        "\n",
        "wtf  1937.0 9\n",
        " working on roi 123 with 1194 voxels \n",
        "(267567,)"
       ]
      },
      {
       "output_type": "stream",
       "stream": "stdout",
       "text": [
        " (1194,) (1194,)\n",
        "(1194, 480)"
       ]
      },
      {
       "output_type": "stream",
       "stream": "stdout",
       "text": [
        "\n",
        "________________________________________________________________________________\n",
        "[Memory] Calling sklearn.cluster.hierarchical.ward_tree...\n",
        "ward_tree(array([[-0.422989, ...,  1.321742],\n",
        "       ..., \n",
        "       [-0.260587, ..., -0.094545]]), \n",
        "<1194x1194 sparse matrix of type '<type 'numpy.int64'>'\n",
        "\twith 6836 stored elements in LInked List format>, copy=True, n_components=None, n_clusters=9)"
       ]
      },
      {
       "output_type": "stream",
       "stream": "stdout",
       "text": [
        "\n",
        "________________________________________________________ward_tree - 0.4s, 0.0min"
       ]
      },
      {
       "output_type": "stream",
       "stream": "stdout",
       "text": [
        "\n",
        "wtf  1946.0 9\n",
        " working on roi 124 with 272 voxels \n",
        "(267567,)"
       ]
      },
      {
       "output_type": "stream",
       "stream": "stdout",
       "text": [
        " (272,) (272,)\n",
        "(272, 480)"
       ]
      },
      {
       "output_type": "stream",
       "stream": "stdout",
       "text": [
        "\n",
        "________________________________________________________________________________\n",
        "[Memory] Calling sklearn.cluster.hierarchical.ward_tree...\n",
        "ward_tree(array([[ 0.101566, ..., -0.218305],\n",
        "       ..., \n",
        "       [-0.038659, ...,  1.296312]]), \n",
        "<272x272 sparse matrix of type '<type 'numpy.int64'>'\n",
        "\twith 1440 stored elements in LInked List format>, copy=True, n_components=None, n_clusters=2)\n",
        "________________________________________________________ward_tree - 0.1s, 0.0min"
       ]
      },
      {
       "output_type": "stream",
       "stream": "stdout",
       "text": [
        "\n",
        "wtf  1955.0 2\n",
        " working on roi 125 with 1162 voxels \n",
        "(267567,)"
       ]
      },
      {
       "output_type": "stream",
       "stream": "stdout",
       "text": [
        " (1162,) (1162,)\n",
        "(1162, 480)"
       ]
      },
      {
       "output_type": "stream",
       "stream": "stdout",
       "text": [
        "\n",
        "________________________________________________________________________________\n",
        "[Memory] Calling sklearn.cluster.hierarchical.ward_tree...\n",
        "ward_tree(array([[-1.309526, ...,  0.57006 ],\n",
        "       ..., \n",
        "       [-0.115391, ...,  1.536835]]), \n",
        "<1162x1162 sparse matrix of type '<type 'numpy.int64'>'\n",
        "\twith 6606 stored elements in LInked List format>, copy=True, n_components=None, n_clusters=9)"
       ]
      },
      {
       "output_type": "stream",
       "stream": "stdout",
       "text": [
        "\n",
        "________________________________________________________ward_tree - 0.3s, 0.0min"
       ]
      },
      {
       "output_type": "stream",
       "stream": "stdout",
       "text": [
        "\n",
        "wtf  1957.0 9\n",
        " working on roi 126 with 1215 voxels \n",
        "(267567,)"
       ]
      },
      {
       "output_type": "stream",
       "stream": "stdout",
       "text": [
        " (1215,) (1215,)\n",
        "(1215, 480)"
       ]
      },
      {
       "output_type": "stream",
       "stream": "stdout",
       "text": [
        "\n",
        "________________________________________________________________________________\n",
        "[Memory] Calling sklearn.cluster.hierarchical.ward_tree...\n",
        "ward_tree(array([[-0.677295, ...,  0.208557],\n",
        "       ..., \n",
        "       [-1.618913, ...,  0.616309]]), \n",
        "<1215x1215 sparse matrix of type '<type 'numpy.int64'>'\n",
        "\twith 7145 stored elements in LInked List format>, copy=True, n_components=None, n_clusters=9)"
       ]
      },
      {
       "output_type": "stream",
       "stream": "stdout",
       "text": [
        "\n",
        "________________________________________________________ward_tree - 0.3s, 0.0min"
       ]
      },
      {
       "output_type": "stream",
       "stream": "stdout",
       "text": [
        "\n",
        "wtf  1966.0 9\n",
        " working on roi 127 with 103 voxels \n",
        " working on roi 128 with 1061 voxels \n",
        "(267567,)"
       ]
      },
      {
       "output_type": "stream",
       "stream": "stdout",
       "text": [
        " (1061,) (1061,)\n",
        "(1061, 480)"
       ]
      },
      {
       "output_type": "stream",
       "stream": "stdout",
       "text": [
        "\n",
        "________________________________________________________________________________\n",
        "[Memory] Calling sklearn.cluster.hierarchical.ward_tree...\n",
        "ward_tree(array([[-2.480716, ..., -0.97296 ],\n",
        "       ..., \n",
        "       [-0.760371, ...,  0.965998]]), \n",
        "<1061x1061 sparse matrix of type '<type 'numpy.int64'>'\n",
        "\twith 6177 stored elements in LInked List format>, copy=True, n_components=None, n_clusters=8)"
       ]
      },
      {
       "output_type": "stream",
       "stream": "stdout",
       "text": [
        "\n",
        "________________________________________________________ward_tree - 0.3s, 0.0min"
       ]
      },
      {
       "output_type": "stream",
       "stream": "stdout",
       "text": [
        "\n",
        "wtf  1976.0 8\n",
        " working on roi 129 with 925 voxels \n",
        "(267567,)"
       ]
      },
      {
       "output_type": "stream",
       "stream": "stdout",
       "text": [
        " (925,) (925,)\n",
        "(925, 480)"
       ]
      },
      {
       "output_type": "stream",
       "stream": "stdout",
       "text": [
        "\n",
        "________________________________________________________________________________\n",
        "[Memory] Calling sklearn.cluster.hierarchical.ward_tree...\n",
        "ward_tree(array([[ 0.172086, ..., -0.198048],\n",
        "       ..., \n",
        "       [-2.328247, ...,  0.330536]]), \n",
        "<925x925 sparse matrix of type '<type 'numpy.int64'>'\n",
        "\twith 5483 stored elements in LInked List format>, copy=True, n_components=None, n_clusters=7)"
       ]
      },
      {
       "output_type": "stream",
       "stream": "stdout",
       "text": [
        "\n",
        "________________________________________________________ward_tree - 0.2s, 0.0min"
       ]
      },
      {
       "output_type": "stream",
       "stream": "stdout",
       "text": [
        "\n",
        "wtf  1984.0 7\n",
        " working on roi 130 with 153 voxels \n",
        " working on roi 131 with 931 voxels \n",
        "(267567,)"
       ]
      },
      {
       "output_type": "stream",
       "stream": "stdout",
       "text": [
        " (931,) (931,)\n",
        "(931, 480)"
       ]
      },
      {
       "output_type": "stream",
       "stream": "stdout",
       "text": [
        "\n",
        "________________________________________________________________________________\n",
        "[Memory] Calling sklearn.cluster.hierarchical.ward_tree...\n",
        "ward_tree(array([[ 0.132642, ...,  1.797079],\n",
        "       ..., \n",
        "       [-0.848594, ..., -0.841288]]), \n",
        "<931x931 sparse matrix of type '<type 'numpy.int64'>'\n",
        "\twith 5469 stored elements in LInked List format>, copy=True, n_components=None, n_clusters=7)"
       ]
      },
      {
       "output_type": "stream",
       "stream": "stdout",
       "text": [
        "\n",
        "________________________________________________________ward_tree - 0.2s, 0.0min"
       ]
      },
      {
       "output_type": "stream",
       "stream": "stdout",
       "text": [
        "\n",
        "wtf  1992.0 7\n",
        " working on roi 132 with 256 voxels \n",
        "(267567,)"
       ]
      },
      {
       "output_type": "stream",
       "stream": "stdout",
       "text": [
        " (256,) (256,)\n",
        "(256, 480)"
       ]
      },
      {
       "output_type": "stream",
       "stream": "stdout",
       "text": [
        "\n",
        "________________________________________________________________________________\n",
        "[Memory] Calling sklearn.cluster.hierarchical.ward_tree...\n",
        "ward_tree(array([[ 1.091297, ..., -1.43634 ],\n",
        "       ..., \n",
        "       [-2.392465, ..., -0.072367]]), \n",
        "<256x256 sparse matrix of type '<type 'numpy.int64'>'\n",
        "\twith 1416 stored elements in LInked List format>, copy=True, n_components=None, n_clusters=2)\n",
        "________________________________________________________ward_tree - 0.1s, 0.0min"
       ]
      },
      {
       "output_type": "stream",
       "stream": "stdout",
       "text": [
        "\n",
        "wtf  1999.0 2\n",
        " working on roi 133 with 72 voxels \n",
        " working on roi 134 with 248 voxels \n",
        "(267567,)"
       ]
      },
      {
       "output_type": "stream",
       "stream": "stdout",
       "text": [
        " (248,) (248,)\n",
        "(248, 480)"
       ]
      },
      {
       "output_type": "stream",
       "stream": "stdout",
       "text": [
        "\n",
        "________________________________________________________________________________\n",
        "[Memory] Calling sklearn.cluster.hierarchical.ward_tree...\n",
        "ward_tree(array([[-0.139757, ..., -0.314767],\n",
        "       ..., \n",
        "       [ 2.233361, ...,  0.05797 ]]), \n",
        "<248x248 sparse matrix of type '<type 'numpy.int64'>'\n",
        "\twith 1346 stored elements in LInked List format>, copy=True, n_components=None, n_clusters=2)\n",
        "________________________________________________________ward_tree - 0.0s, 0.0min"
       ]
      },
      {
       "output_type": "stream",
       "stream": "stdout",
       "text": [
        "\n",
        "wtf  2002.0 2\n"
       ]
      }
     ],
     "prompt_number": 163,
     "trusted": true
    },
    {
     "cell_type": "code",
     "collapsed": false,
     "input": [
      "print newlabels\n"
     ],
     "language": "python",
     "metadata": {},
     "outputs": [
      {
       "output_type": "stream",
       "stream": "stdout",
       "text": [
        "[(array([  0.,   1.,   2.,   3.,   4.,   5.,   6.,   7.,   8.,   9.,  10.,\n",
        "        11.,  12.,  13.,  14.,  15.,  16.,  17.,  18.,  19.,  20.,  21.,\n",
        "        22.,  23.,  24.,  25.,  26.,  27.,  28.,  29.,  30.,  31.,  32.,\n",
        "        33.,  34.,  35.,  36.,  37.,  38.,  39.,  40.,  41.,  42.,  43.,\n",
        "        44.,  45.,  46.,  47.,  48.,  49.,  50.,  51.,  52.,  53.,  54.,\n",
        "        55.,  56.,  57.,  58.,  59.,  60.,  61.,  62.,  63.,  64.,  65.,\n",
        "        66.,  67.,  68.,  69.,  70.,  71.]), [u'0', u'Left_Frontal Pole']), (array([ 72.,  73.,  74.,  75.,  76.,  77.,  78.,  79.,  80.,  81.]), [u'1', u'Left_Insular Cortex']), (array([  82.,   83.,   84.,   85.,   86.,   87.,   88.,   89.,   90.,\n",
        "         91.,   92.,   93.,   94.,   95.,   96.,   97.,   98.,   99.,\n",
        "        100.,  101.,  102.,  103.,  104.,  105.,  106.,  107.]), [u'2', u'Left_Superior Frontal Gyrus']), (array([ 108.,  109.,  110.,  111.,  112.,  113.,  114.,  115.,  116.,\n",
        "        117.,  118.,  119.,  120.,  121.,  122.,  123.,  124.,  125.,\n",
        "        126.,  127.,  128.,  129.,  130.,  131.,  132.,  133.]), [u'3', u'Left_Middle Frontal Gyrus']), (array([ 134.,  135.,  136.,  137.,  138.,  139.]), [u'4', u'Left_Inferior Frontal Gyrus, pars triangularis']), (array([ 140.,  141.,  142.,  143.,  144.,  145.,  146.]), [u'5', u'Left_Inferior Frontal Gyrus, pars opercularis']), (array([ 147.,  148.,  149.,  150.,  151.,  152.,  153.,  154.,  155.,\n",
        "        156.,  157.,  158.,  159.,  160.,  161.,  162.,  163.,  164.,\n",
        "        165.,  166.,  167.,  168.,  169.,  170.,  171.,  172.,  173.,\n",
        "        174.,  175.,  176.,  177.,  178.,  179.,  180.,  181.,  182.]), [u'6', u'Left_Precentral Gyrus']), (array([ 183.,  184.,  185.,  186.,  187.,  188.,  189.,  190.,  191.,\n",
        "        192.,  193.,  194.,  195.,  196.,  197.,  198.,  199.,  200.,\n",
        "        201.,  202.,  203.,  204.,  205.,  206.,  207.,  208.,  209.,  210.]), [u'7', u'Left_Temporal Pole']), (array([ 211.,  212.,  213.]), [u'8', u'Left_Superior Temporal Gyrus, anterior division']), (array([ 214.,  215.,  216.,  217.,  218.,  219.]), [u'9', u'Left_Superior Temporal Gyrus, posterior division']), (array([ 220.,  221.,  222.,  223.,  224.]), [u'10', u'Left_Middle Temporal Gyrus, anterior division']), (array([ 225.,  226.,  227.,  228.,  229.,  230.,  231.,  232.,  233.,\n",
        "        234.,  235.,  236.,  237.]), [u'11', u'Left_Middle Temporal Gyrus, posterior division']), (array([ 238.,  239.,  240.,  241.,  242.,  243.,  244.,  245.]), [u'12', u'Left_Middle Temporal Gyrus, temporooccipital part']), (array([ 246.,  247.,  248.,  249.]), [u'13', u'Left_Inferior Temporal Gyrus, anterior division']), (array([ 250.,  251.,  252.,  253.,  254.,  255.,  256.,  257.,  258.,\n",
        "        259.,  260.,  261.,  262.]), [u'14', u'Left_Inferior Temporal Gyrus, posterior division']), (array([ 263.,  264.,  265.,  266.,  267.,  268.]), [u'15', u'Left_Inferior Temporal Gyrus, temporooccipital part']), (array([ 269.,  270.,  271.,  272.,  273.,  274.,  275.,  276.,  277.,\n",
        "        278.,  279.,  280.,  281.,  282.,  283.,  284.,  285.,  286.,\n",
        "        287.,  288.,  289.,  290.,  291.,  292.,  293.,  294.,  295.,\n",
        "        296.,  297.,  298.,  299.,  300.,  301.,  302.]), [u'16', u'Left_Postcentral Gyrus']), (array([ 303.,  304.,  305.,  306.,  307.,  308.,  309.,  310.,  311.,\n",
        "        312.,  313.,  314.,  315.]), [u'17', u'Left_Superior Parietal Lobule']), (array([ 316.,  317.,  318.,  319.,  320.,  321.,  322.,  323.,  324.]), [u'18', u'Left_Supramarginal Gyrus, anterior division']), (array([ 325.,  326.,  327.,  328.,  329.,  330.,  331.,  332.,  333.,  334.]), [u'19', u'Left_Supramarginal Gyrus, posterior division']), (array([ 335.,  336.,  337.,  338.,  339.,  340.,  341.,  342.]), [u'20', u'Left_Angular Gyrus']), (array([ 343.,  344.,  345.,  346.,  347.,  348.,  349.,  350.,  351.,\n",
        "        352.,  353.,  354.,  355.,  356.,  357.,  358.,  359.,  360.,\n",
        "        361.,  362.,  363.,  364.,  365.,  366.,  367.,  368.,  369.,\n",
        "        370.,  371.,  372.,  373.,  374.,  375.,  376.,  377.,  378.,\n",
        "        379.,  380.,  381.,  382.,  383.,  384.,  385.,  386.,  387.,  388.]), [u'21', u'Left_Lateral Occipital Cortex, superior division']), (array([ 389.,  390.,  391.,  392.,  393.,  394.,  395.,  396.,  397.,\n",
        "        398.,  399.,  400.,  401.,  402.,  403.,  404.,  405.,  406.,\n",
        "        407.,  408.]), [u'22', u'Left_Lateral Occipital Cortex, inferior division']), (array([ 409.,  410.,  411.,  412.]), [u'23', u'Left_Intracalcarine Cortex']), (array([ 413.,  414.,  415.,  416.,  417.,  418.,  419.,  420.]), [u'24', u'Frontal Medial Cortex']), (array([ 421.,  422.,  423.,  424.,  425.,  426.,  427.,  428.,  429.,\n",
        "        430.,  431.]), [u'25', u'Juxtapositional Lobule Cortex (formerly Supplementary Motor Cortex)']), (array([ 432.,  433.,  434.,  435.,  436.,  437.,  438.,  439.,  440.,\n",
        "        441.,  442.]), [u'26', u'Subcallosal Cortex']), (array([ 443.,  444.,  445.,  446.,  447.,  448.,  449.,  450.,  451.,\n",
        "        452.,  453.,  454.,  455.,  456.,  457.,  458.,  459.,  460.,\n",
        "        461.,  462.]), [u'27', u'Paracingulate Gyrus']), (array([ 463.,  464.,  465.,  466.,  467.,  468.,  469.,  470.,  471.,\n",
        "        472.,  473.,  474.,  475.,  476.,  477.,  478.]), [u'28', u'Cingulate Gyrus, anterior division']), (array([ 479.,  480.,  481.,  482.,  483.,  484.,  485.,  486.,  487.,\n",
        "        488.,  489.,  490.,  491.,  492.,  493.,  494.]), [u'29', u'Cingulate Gyrus, posterior division']), (array([ 495.,  496.,  497.,  498.,  499.,  500.,  501.,  502.,  503.,\n",
        "        504.,  505.,  506.,  507.,  508.,  509.,  510.,  511.,  512.,\n",
        "        513.,  514.,  515.,  516.,  517.,  518.,  519.,  520.,  521.,\n",
        "        522.,  523.,  524.,  525.,  526.,  527.,  528.,  529.,  530.,\n",
        "        531.,  532.,  533.,  534.]), [u'30', u'Precuneous Cortex']), (array([ 535.,  536.,  537.,  538.,  539.,  540.,  541.,  542.,  543.]), [u'31', u'Cuneal Cortex']), (array([ 544.,  545.,  546.,  547.,  548.,  549.,  550.,  551.,  552.,\n",
        "        553.,  554.,  555.,  556.,  557.,  558.,  559.]), [u'32', u'Left_Frontal Orbital Cortex']), (array([ 560.,  561.,  562.,  563.,  564.,  565.]), [u'33', u'Left_Parahippocampal Gyrus, anterior division']), (array([ 566.,  567.,  568.]), [u'34', u'Left_Parahippocampal Gyrus, posterior division']), (array([ 569.,  570.,  571.,  572.,  573.,  574.,  575.,  576.,  577.,  578.]), [u'35', u'Left_Lingual Gyrus']), (array([ 579.,  580.,  581.,  582.]), [u'36', u'Left_Temporal Fusiform Cortex, anterior division']), (array([ 583.,  584.,  585.,  586.,  587.,  588.,  589.,  590.]), [u'37', u'Left_Temporal Fusiform Cortex, posterior division']), (array([ 591.,  592.,  593.,  594.]), [u'38', u'Left_Temporal Occipital Fusiform Cortex']), (array([ 595.,  596.,  597.,  598.,  599.]), [u'39', u'Left_Occipital Fusiform Gyrus']), (array([ 600.,  601.,  602.]), [u'40', u'Left_Frontal Operculum Cortex']), (array([ 603.,  604.,  605.,  606.,  607.,  608.,  609.]), [u'41', u'Left_Central Opercular Cortex']), (array([ 610.,  611.,  612.,  613.]), [u'42', u'Left_Parietal Operculum Cortex']), (array([ 614.,  615.,  616.]), [u'43', u'Left_Planum Polare']), (array([ 617.,  618.]), [u'44', u\"Left_Heschl's Gyrus (includes H1 and H2)\"]), (array([ 619.,  620.,  621.,  622.]), [u'45', u'Left_Planum Temporale']), (array([ 623.]), [u'46', u'Left_Supracalcarine Cortex']), (array([ 624.,  625.,  626.,  627.,  628.,  629.,  630.,  631.,  632.,\n",
        "        633.,  634.,  635.,  636.,  637.,  638.,  639.,  640.,  641.,\n",
        "        642.,  643.,  644.,  645.,  646.,  647.,  648.,  649.,  650.,\n",
        "        651.,  652.,  653.,  654.,  655.,  656.]), [u'47', u'Left_Occipital Pole']), (array([ 657.,  658.,  659.,  660.,  661.,  662.,  663.,  664.,  665.,\n",
        "        666.,  667.,  668.,  669.,  670.,  671.,  672.,  673.,  674.,\n",
        "        675.,  676.,  677.,  678.,  679.,  680.,  681.,  682.,  683.,\n",
        "        684.,  685.,  686.,  687.,  688.,  689.,  690.,  691.,  692.,\n",
        "        693.,  694.,  695.,  696.,  697.,  698.,  699.,  700.,  701.,\n",
        "        702.,  703.,  704.,  705.,  706.,  707.,  708.,  709.,  710.,\n",
        "        711.,  712.,  713.,  714.,  715.,  716.,  717.,  718.,  719.,\n",
        "        720.,  721.,  722.,  723.,  724.,  725.,  726.,  727.,  728.,\n",
        "        729.,  730.,  731.,  732.,  733.,  734.,  735.,  736.,  737.,\n",
        "        738.,  739.]), [u'48', u'Right_Frontal Pole']), (array([ 740.,  741.,  742.,  743.,  744.,  745.,  746.,  747.,  748.]), [u'49', u'Right_Insular Cortex']), (array([ 749.,  750.,  751.,  752.,  753.,  754.,  755.,  756.,  757.,\n",
        "        758.,  759.,  760.,  761.,  762.,  763.,  764.,  765.,  766.,\n",
        "        767.,  768.,  769.,  770.,  771.,  772.]), [u'50', u'Right_Superior Frontal Gyrus']), (array([ 773.,  774.,  775.,  776.,  777.,  778.,  779.,  780.,  781.,\n",
        "        782.,  783.,  784.,  785.,  786.,  787.,  788.,  789.,  790.,\n",
        "        791.,  792.]), [u'51', u'Right_Middle Frontal Gyrus']), (array([ 793.,  794.,  795.,  796.,  797.]), [u'52', u'Right_Inferior Frontal Gyrus, pars triangularis']), (array([ 798.,  799.,  800.,  801.,  802.]), [u'53', u'Right_Inferior Frontal Gyrus, pars opercularis']), (array([ 803.,  804.,  805.,  806.,  807.,  808.,  809.,  810.,  811.,\n",
        "        812.,  813.,  814.,  815.,  816.,  817.,  818.,  819.,  820.,\n",
        "        821.,  822.,  823.,  824.,  825.,  826.,  827.,  828.,  829.,\n",
        "        830.,  831.,  832.,  833.,  834.]), [u'54', u'Right_Precentral Gyrus']), (array([ 835.,  836.,  837.,  838.,  839.,  840.,  841.,  842.,  843.,\n",
        "        844.,  845.,  846.,  847.,  848.,  849.,  850.,  851.,  852.,\n",
        "        853.,  854.,  855.,  856.,  857.,  858.,  859.,  860.,  861.]), [u'55', u'Right_Temporal Pole']), (array([ 862.,  863.,  864.]), [u'56', u'Right_Superior Temporal Gyrus, anterior division']), (array([ 865.,  866.,  867.,  868.,  869.]), [u'57', u'Right_Superior Temporal Gyrus, posterior division']), (array([ 870.,  871.,  872.,  873.]), [u'58', u'Right_Middle Temporal Gyrus, anterior division']), (array([ 874.,  875.,  876.,  877.,  878.,  879.,  880.,  881.,  882.,\n",
        "        883.,  884.,  885.]), [u'59', u'Right_Middle Temporal Gyrus, posterior division']), (array([ 886.,  887.,  888.,  889.,  890.,  891.,  892.,  893.]), [u'60', u'Right_Middle Temporal Gyrus, temporooccipital part']), (array([ 894.,  895.,  896.]), [u'61', u'Right_Inferior Temporal Gyrus, anterior division']), (array([ 897.,  898.,  899.,  900.,  901.,  902.,  903.,  904.,  905.,\n",
        "        906.,  907.]), [u'62', u'Right_Inferior Temporal Gyrus, posterior division']), (array([ 908.,  909.,  910.,  911.,  912.,  913.,  914.]), [u'63', u'Right_Inferior Temporal Gyrus, temporooccipital part']), (array([ 915.,  916.,  917.,  918.,  919.,  920.,  921.,  922.,  923.,\n",
        "        924.,  925.,  926.,  927.,  928.,  929.,  930.,  931.,  932.,\n",
        "        933.,  934.,  935.,  936.,  937.,  938.,  939.,  940.,  941.]), [u'64', u'Right_Postcentral Gyrus']), (array([ 942.,  943.,  944.,  945.,  946.,  947.,  948.,  949.,  950.,\n",
        "        951.,  952.]), [u'65', u'Right_Superior Parietal Lobule']), (array([ 953.,  954.,  955.,  956.,  957.,  958.,  959.]), [u'66', u'Right_Supramarginal Gyrus, anterior division']), (array([ 960.,  961.,  962.,  963.,  964.,  965.,  966.,  967.,  968.]), [u'67', u'Right_Supramarginal Gyrus, posterior division']), (array([ 969.,  970.,  971.,  972.,  973.,  974.,  975.,  976.,  977.,\n",
        "        978.,  979.]), [u'68', u'Right_Angular Gyrus']), (array([  980.,   981.,   982.,   983.,   984.,   985.,   986.,   987.,\n",
        "         988.,   989.,   990.,   991.,   992.,   993.,   994.,   995.,\n",
        "         996.,   997.,   998.,   999.,  1000.,  1001.,  1002.,  1003.,\n",
        "        1004.,  1005.,  1006.,  1007.,  1008.,  1009.,  1010.,  1011.,\n",
        "        1012.,  1013.,  1014.,  1015.,  1016.,  1017.,  1018.,  1019.,\n",
        "        1020.]), [u'69', u'Right_Lateral Occipital Cortex, superior division']), (array([ 1021.,  1022.,  1023.,  1024.,  1025.,  1026.,  1027.,  1028.,\n",
        "        1029.,  1030.,  1031.,  1032.,  1033.,  1034.,  1035.,  1036.,\n",
        "        1037.,  1038.]), [u'70', u'Right_Lateral Occipital Cortex, inferior division']), (array([ 1039.,  1040.,  1041.,  1042.]), [u'71', u'Right_Intracalcarine Cortex']), (array([ 1043.,  1044.,  1045.,  1046.,  1047.,  1048.,  1049.,  1050.,\n",
        "        1051.,  1052.,  1053.,  1054.,  1055.]), [u'72', u'Right_Frontal Orbital Cortex']), (array([ 1056.,  1057.,  1058.,  1059.,  1060.,  1061.,  1062.]), [u'73', u'Right_Parahippocampal Gyrus, anterior division']), (array([ 1063.,  1064.]), [u'74', u'Right_Parahippocampal Gyrus, posterior division']), (array([ 1065.,  1066.,  1067.,  1068.,  1069.,  1070.,  1071.,  1072.,\n",
        "        1073.,  1074.,  1075.]), [u'75', u'Right_Lingual Gyrus']), (array([ 1076.,  1077.,  1078.]), [u'76', u'Right_Temporal Fusiform Cortex, anterior division']), (array([ 1079.,  1080.,  1081.,  1082.,  1083.,  1084.,  1085.]), [u'77', u'Right_Temporal Fusiform Cortex, posterior division']), (array([ 1086.,  1087.,  1088.,  1089.]), [u'78', u'Right_Temporal Occipital Fusiform Cortex']), (array([ 1090.,  1091.,  1092.,  1093.,  1094.]), [u'79', u'Right_Occipital Fusiform Gyrus']), (array([ 1095.,  1096.]), [u'80', u'Right_Frontal Operculum Cortex']), (array([ 1097.,  1098.,  1099.,  1100.,  1101.,  1102.]), [u'81', u'Right_Central Opercular Cortex']), (array([ 1103.,  1104.,  1105.]), [u'82', u'Right_Parietal Operculum Cortex']), (array([ 1106.,  1107.]), [u'83', u'Right_Planum Polare']), (array([ 1108.,  1109.]), [u'84', u\"Right_Heschl's Gyrus (includes H1 and H2)\"]), (array([ 1110.,  1111.]), [u'85', u'Right_Planum Temporale']), (array([ 1112.]), [u'86', u'Right_Supracalcarine Cortex']), (array([ 1113.,  1114.,  1115.,  1116.,  1117.,  1118.,  1119.,  1120.,\n",
        "        1121.,  1122.,  1123.,  1124.,  1125.,  1126.,  1127.,  1128.,\n",
        "        1129.,  1130.,  1131.,  1132.,  1133.,  1134.,  1135.,  1136.,\n",
        "        1137.,  1138.,  1139.,  1140.,  1141.,  1142.,  1143.,  1144.]), [u'87', u'Right_Occipital Pole']), (array([ 1145.,  1146.,  1147.,  1148.,  1149.,  1150.,  1151.,  1152.,\n",
        "        1153.,  1154.,  1155.,  1156.,  1157.,  1158.,  1159.,  1160.,\n",
        "        1161.,  1162.,  1163.,  1164.,  1165.,  1166.,  1167.,  1168.,\n",
        "        1169.,  1170.,  1171.,  1172.,  1173.,  1174.,  1175.,  1176.,\n",
        "        1177.,  1178.,  1179.,  1180.,  1181.,  1182.,  1183.,  1184.,\n",
        "        1185.,  1186.,  1187.,  1188.,  1189.,  1190.,  1191.,  1192.,\n",
        "        1193.,  1194.,  1195.,  1196.,  1197.,  1198.,  1199.,  1200.,\n",
        "        1201.,  1202.,  1203.,  1204.,  1205.,  1206.,  1207.,  1208.,\n",
        "        1209.,  1210.,  1211.,  1212.,  1213.,  1214.,  1215.,  1216.,\n",
        "        1217.,  1218.,  1219.,  1220.,  1221.,  1222.,  1223.,  1224.,\n",
        "        1225.,  1226.,  1227.,  1228.,  1229.,  1230.,  1231.,  1232.,\n",
        "        1233.,  1234.,  1235.,  1236.,  1237.,  1238.,  1239.,  1240.,\n",
        "        1241.,  1242.,  1243.,  1244.,  1245.,  1246.,  1247.,  1248.,\n",
        "        1249.,  1250.,  1251.,  1252.,  1253.,  1254.,  1255.,  1256.,\n",
        "        1257.,  1258.,  1259.,  1260.,  1261.,  1262.,  1263.,  1264.,\n",
        "        1265.,  1266.,  1267.,  1268.,  1269.,  1270.,  1271.,  1272.,\n",
        "        1273.,  1274.,  1275.,  1276.,  1277.,  1278.,  1279.,  1280.,\n",
        "        1281.,  1282.,  1283.,  1284.,  1285.,  1286.,  1287.,  1288.,\n",
        "        1289.,  1290.,  1291.,  1292.,  1293.,  1294.,  1295.,  1296.,\n",
        "        1297.,  1298.,  1299.,  1300.,  1301.,  1302.,  1303.,  1304.,\n",
        "        1305.,  1306.,  1307.,  1308.,  1309.,  1310.,  1311.,  1312.,\n",
        "        1313.,  1314.,  1315.,  1316.,  1317.,  1318.,  1319.,  1320.,\n",
        "        1321.,  1322.,  1323.,  1324.,  1325.,  1326.,  1327.,  1328.,\n",
        "        1329.,  1330.,  1331.,  1332.,  1333.,  1334.,  1335.,  1336.,\n",
        "        1337.,  1338.,  1339.,  1340.,  1341.,  1342.,  1343.,  1344.,\n",
        "        1345.,  1346.,  1347.,  1348.,  1349.,  1350.,  1351.,  1352.,\n",
        "        1353.,  1354.,  1355.,  1356.,  1357.]), [u'88', u'Left Cerebral White Matter']), (array([ 1358.,  1359.,  1360.,  1361.,  1362.,  1363.,  1364.,  1365.,\n",
        "        1366.,  1367.]), [u'89', u'Left Lateral Ventrical']), (array([ 1368.,  1369.,  1370.,  1371.,  1372.,  1373.,  1374.,  1375.,\n",
        "        1376.,  1377.,  1378.,  1379.]), [u'90', u'Left Thalamus']), (array([ 1380.,  1381.,  1382.,  1383.]), [u'91', u'Left Caudate']), (array([ 1384.,  1385.,  1386.,  1387.,  1388.,  1389.,  1390.]), [u'92', u'Left Putamen']), (array([ 1391.,  1392.]), [u'93', u'Left Pallidum']), (array([ 1393.,  1394.,  1395.,  1396.,  1397.,  1398.,  1399.,  1400.,\n",
        "        1401.,  1402.,  1403.,  1404.,  1405.,  1406.,  1407.,  1408.,\n",
        "        1409.,  1410.,  1411.,  1412.,  1413.,  1414.,  1415.,  1416.,\n",
        "        1417.,  1418.,  1419.,  1420.,  1421.,  1422.,  1423.,  1424.,\n",
        "        1425.,  1426.,  1427.,  1428.,  1429.,  1430.,  1431.,  1432.,\n",
        "        1433.,  1434.,  1435.,  1436.,  1437.,  1438.,  1439.]), [u'94', u'Brain-Stem']), (array([ 1440.,  1441.,  1442.,  1443.,  1444.,  1445.,  1446.]), [u'95', u'Left Hippocampus']), (array([ 1447.,  1448.,  1449.]), [u'96', u'Left Amygdala']), (array([ 1450.]), [u'97', u'Left Accumbens']), (array([ 1451.,  1452.,  1453.,  1454.,  1455.,  1456.,  1457.,  1458.,\n",
        "        1459.,  1460.,  1461.,  1462.,  1463.,  1464.,  1465.,  1466.,\n",
        "        1467.,  1468.,  1469.,  1470.,  1471.,  1472.,  1473.,  1474.,\n",
        "        1475.,  1476.,  1477.,  1478.,  1479.,  1480.,  1481.,  1482.,\n",
        "        1483.,  1484.,  1485.,  1486.,  1487.,  1488.,  1489.,  1490.,\n",
        "        1491.,  1492.,  1493.,  1494.,  1495.,  1496.,  1497.,  1498.,\n",
        "        1499.,  1500.,  1501.,  1502.,  1503.,  1504.,  1505.,  1506.,\n",
        "        1507.,  1508.,  1509.,  1510.,  1511.,  1512.,  1513.,  1514.,\n",
        "        1515.,  1516.,  1517.,  1518.,  1519.,  1520.,  1521.,  1522.,\n",
        "        1523.,  1524.,  1525.,  1526.,  1527.,  1528.,  1529.,  1530.,\n",
        "        1531.,  1532.,  1533.,  1534.,  1535.,  1536.,  1537.,  1538.,\n",
        "        1539.,  1540.,  1541.,  1542.,  1543.,  1544.,  1545.,  1546.,\n",
        "        1547.,  1548.,  1549.,  1550.,  1551.,  1552.,  1553.,  1554.,\n",
        "        1555.,  1556.,  1557.,  1558.,  1559.,  1560.,  1561.,  1562.,\n",
        "        1563.,  1564.,  1565.,  1566.,  1567.,  1568.,  1569.,  1570.,\n",
        "        1571.,  1572.,  1573.,  1574.,  1575.,  1576.,  1577.,  1578.,\n",
        "        1579.,  1580.,  1581.,  1582.,  1583.,  1584.,  1585.,  1586.,\n",
        "        1587.,  1588.,  1589.,  1590.,  1591.,  1592.,  1593.,  1594.,\n",
        "        1595.,  1596.,  1597.,  1598.,  1599.,  1600.,  1601.,  1602.,\n",
        "        1603.,  1604.,  1605.,  1606.,  1607.,  1608.,  1609.,  1610.,\n",
        "        1611.,  1612.,  1613.,  1614.,  1615.,  1616.,  1617.,  1618.,\n",
        "        1619.,  1620.,  1621.,  1622.,  1623.,  1624.,  1625.,  1626.,\n",
        "        1627.,  1628.,  1629.,  1630.,  1631.,  1632.,  1633.,  1634.,\n",
        "        1635.,  1636.,  1637.,  1638.,  1639.,  1640.,  1641.,  1642.,\n",
        "        1643.,  1644.,  1645.,  1646.,  1647.,  1648.,  1649.,  1650.,\n",
        "        1651.,  1652.,  1653.,  1654.,  1655.,  1656.,  1657.,  1658.,\n",
        "        1659.,  1660.,  1661.,  1662.,  1663.,  1664.,  1665.,  1666.,\n",
        "        1667.,  1668.,  1669.,  1670.,  1671.,  1672.,  1673.,  1674.,\n",
        "        1675.,  1676.,  1677.,  1678.,  1679.,  1680.,  1681.,  1682.,\n",
        "        1683.,  1684.,  1685.,  1686.,  1687.,  1688.,  1689.,  1690.,\n",
        "        1691.,  1692.,  1693.,  1694.,  1695.,  1696.,  1697.,  1698.,\n",
        "        1699.,  1700.,  1701.,  1702.,  1703.,  1704.,  1705.,  1706.,\n",
        "        1707.,  1708.,  1709.,  1710.,  1711.,  1712.,  1713.,  1714.,\n",
        "        1715.,  1716.,  1717.,  1718.,  1719.,  1720.,  1721.,  1722.,\n",
        "        1723.,  1724.,  1725.,  1726.,  1727.,  1728.]), [u'98', u'Right Cerebral White Matter']), (array([ 1729.,  1730.,  1731.,  1732.,  1733.,  1734.,  1735.,  1736.]), [u'99', u'Right Lateral Ventricle']), (array([ 1737.,  1738.,  1739.,  1740.,  1741.,  1742.,  1743.,  1744.,\n",
        "        1745.,  1746.]), [u'100', u'Right Thalamus']), (array([ 1747.,  1748.,  1749.,  1750.]), [u'101', u'Right Caudate']), (array([ 1751.,  1752.,  1753.,  1754.,  1755.,  1756.]), [u'102', u'Right Putamen']), (array([ 1757.,  1758.]), [u'103', u'Right Pallidum']), (array([ 1759.,  1760.,  1761.,  1762.,  1763.,  1764.]), [u'104', u'Right Hippocampus']), (array([ 1765.,  1766.,  1767.,  1768.]), [u'105', u'Right Amygdala']), (array([ 1769.]), [u'106', u'Right Accumbens']), (array([ 1770.,  1771.,  1772.,  1773.,  1774.,  1775.,  1776.,  1777.]), [u'107', u'Left_I_IV']), (array([ 1778.,  1779.,  1780.,  1781.,  1782.,  1783.,  1784.,  1785.]), [u'108', u'Right_I_IV']), (array([ 1786.,  1787.,  1788.,  1789.,  1790.,  1791.,  1792.]), [u'109', u'Left_V']), (array([ 1793.,  1794.,  1795.,  1796.,  1797.,  1798.,  1799.]), [u'110', u'Right_V']), (array([ 1800.,  1801.,  1802.,  1803.,  1804.,  1805.,  1806.,  1807.,\n",
        "        1808.,  1809.,  1810.,  1811.,  1812.,  1813.,  1814.,  1815.]), [u'111', u'Left_VI']), (array([ 1816.,  1817.,  1818.]), [u'112', u'Vermis_VI']), (array([ 1819.,  1820.,  1821.,  1822.,  1823.,  1824.,  1825.,  1826.,\n",
        "        1827.,  1828.,  1829.,  1830.,  1831.,  1832.]), [u'113', u'Right_VI']), (array([ 1833.,  1834.,  1835.,  1836.,  1837.,  1838.,  1839.,  1840.,\n",
        "        1841.,  1842.,  1843.,  1844.,  1845.,  1846.,  1847.,  1848.,\n",
        "        1849.,  1850.,  1851.,  1852.,  1853.,  1854.,  1855.,  1856.,\n",
        "        1857.,  1858.]), [u'114', u'Left_CrusI']), (array([ 1859.]), [u'115', u'Vermis_CrusI']), (array([ 1860.,  1861.,  1862.,  1863.,  1864.,  1865.,  1866.,  1867.,\n",
        "        1868.,  1869.,  1870.,  1871.,  1872.,  1873.,  1874.,  1875.,\n",
        "        1876.,  1877.,  1878.,  1879.,  1880.,  1881.,  1882.,  1883.,\n",
        "        1884.,  1885.]), [u'116', u'Right_CrusI']), (array([ 1886.,  1887.,  1888.,  1889.,  1890.,  1891.,  1892.,  1893.,\n",
        "        1894.,  1895.,  1896.,  1897.,  1898.,  1899.,  1900.,  1901.,\n",
        "        1902.,  1903.,  1904.,  1905.]), [u'117', u'Left_CrusII']), (array([ 1906.]), [u'118', u'Vermis_CrusII']), (array([ 1907.,  1908.,  1909.,  1910.,  1911.,  1912.,  1913.,  1914.,\n",
        "        1915.,  1916.,  1917.,  1918.,  1919.,  1920.,  1921.,  1922.,\n",
        "        1923.,  1924.,  1925.,  1926.,  1927.]), [u'119', u'Right_CrusII']), (array([ 1928.,  1929.,  1930.,  1931.,  1932.,  1933.,  1934.,  1935.,\n",
        "        1936.]), [u'120', u'Left_VIIb']), (array([ 1937.]), [u'121', u'Vermis_VIIb']), (array([ 1938.,  1939.,  1940.,  1941.,  1942.,  1943.,  1944.,  1945.,\n",
        "        1946.]), [u'122', u'Right_VIIb']), (array([ 1947.,  1948.,  1949.,  1950.,  1951.,  1952.,  1953.,  1954.,\n",
        "        1955.]), [u'123', u'Left_VIIIa']), (array([ 1956.,  1957.]), [u'124', u'Vermis_VIIIa']), (array([ 1958.,  1959.,  1960.,  1961.,  1962.,  1963.,  1964.,  1965.,\n",
        "        1966.]), [u'125', u'Right_VIIIa']), (array([ 1967.,  1968.,  1969.,  1970.,  1971.,  1972.,  1973.,  1974.,\n",
        "        1975.]), [u'126', u'Left_VIIIb']), (array([ 1976.]), [u'127', u'Vermis_VIIIb']), (array([ 1977.,  1978.,  1979.,  1980.,  1981.,  1982.,  1983.,  1984.]), [u'128', u'Right_VIIIb']), (array([ 1985.,  1986.,  1987.,  1988.,  1989.,  1990.,  1991.]), [u'129', u'Left_IX']), (array([ 1992.]), [u'130', u'Vermis_IX']), (array([ 1993.,  1994.,  1995.,  1996.,  1997.,  1998.,  1999.]), [u'131', u'Right_IX']), (array([ 2000.,  2001.]), [u'132', u'Left_X']), (array([ 2002.]), [u'133', u'Vermis_X']), (array([ 2003.,  2004.]), [u'134', u'Right_X'])]\n"
       ]
      }
     ],
     "prompt_number": 164,
     "trusted": true
    },
    {
     "cell_type": "code",
     "collapsed": false,
     "input": [
      "np.unique(template)"
     ],
     "language": "python",
     "metadata": {},
     "outputs": [
      {
       "metadata": {},
       "output_type": "pyout",
       "prompt_number": 165,
       "text": [
        "array([ -1.00000000e+00,   0.00000000e+00,   1.00000000e+00, ...,\n",
        "         2.00200000e+03,   2.00300000e+03,   2.00400000e+03])"
       ]
      }
     ],
     "prompt_number": 165,
     "trusted": true
    },
    {
     "cell_type": "code",
     "collapsed": false,
     "input": [
      "func_atlas = nib.nifti1.Nifti1Image(template, atlas.get_affine())"
     ],
     "language": "python",
     "metadata": {},
     "outputs": [],
     "prompt_number": 166,
     "trusted": true
    },
    {
     "cell_type": "code",
     "collapsed": false,
     "input": [
      "anafunc_atlas_name = 'anafunc_' + \"%04d\" % NROI + '.nii'\n",
      "print anafunc_atlas_name\n",
      "anafunc_filename = osp.join(HOME, 'code', 'regions', 'regions', anafunc_atlas_name)"
     ],
     "language": "python",
     "metadata": {},
     "outputs": [
      {
       "output_type": "stream",
       "stream": "stdout",
       "text": [
        "anafunc_2000.nii\n"
       ]
      }
     ],
     "prompt_number": 167,
     "trusted": true
    },
    {
     "cell_type": "code",
     "collapsed": false,
     "input": [
      "func_atlas.to_filename(anafunc_filename)"
     ],
     "language": "python",
     "metadata": {},
     "outputs": [],
     "prompt_number": 168,
     "trusted": true
    },
    {
     "cell_type": "code",
     "collapsed": false,
     "input": [
      "print template.max()\n",
      "template.shape"
     ],
     "language": "python",
     "metadata": {},
     "outputs": [
      {
       "output_type": "stream",
       "stream": "stdout",
       "text": [
        "2004.0\n"
       ]
      },
      {
       "metadata": {},
       "output_type": "pyout",
       "prompt_number": 169,
       "text": [
        "(91, 109, 91)"
       ]
      }
     ],
     "prompt_number": 169,
     "trusted": true
    },
    {
     "cell_type": "code",
     "collapsed": false,
     "input": [
      "print [(template == ridx).sum() for ridx in range(int(template.max())+1)]"
     ],
     "language": "python",
     "metadata": {},
     "outputs": [
      {
       "output_type": "stream",
       "stream": "stdout",
       "text": [
        "[95, 68, 48, 89, 82, 102, 68, 79, 103, 96, 82, 91, 97, 90, 79, 80, 92, 118, 110, 92, 74, 78, 72, 143, 122, 140, 132, 134, 104, 123, 177, 105, 103, 124, 113, 115, 117, 173, 120, 151, 143, 117, 198, 142, 145, 99, 163, 172, 135, 194, 218, 95, 197, 143, 127, 146, 173, 163, 197, 230, 219, 131, 231, 197, 158, 184, 158, 235, 172, 281, 208, 134, 78, 88, 94, 83, 78, 151, 158, 180, 215, 209, 35, 57, 85, 76, 79, 101, 119, 119, 96, 155, 115, 108, 141, 174, 133, 135, 197, 130, 201, 152, 127, 175, 172, 234, 172, 217, 35, 54, 74, 78, 79, 79, 87, 125, 102, 94, 132, 130, 116, 167, 133, 154, 154, 174, 153, 166, 176, 202, 228, 198, 182, 173, 49, 147, 114, 131, 213, 189, 89, 98, 95, 140, 171, 109, 239, 58, 91, 87, 89, 110, 115, 91, 103, 97, 105, 92, 161, 125, 137, 146, 156, 137, 147, 139, 83, 129, 146, 101, 135, 115, 145, 131, 173, 234, 182, 175, 202, 147, 210, 207, 148, 71, 81, 77, 110, 79, 98, 80, 100, 89, 116, 160, 128, 108, 161, 116, 124, 151, 117, 113, 189, 138, 142, 190, 167, 241, 248, 181, 162, 73, 145, 192, 76, 86, 67, 179, 129, 210, 88, 111, 149, 115, 179, 48, 84, 127, 130, 94, 112, 108, 147, 119, 149, 159, 196, 239, 86, 94, 81, 82, 120, 182, 179, 219, 127, 147, 185, 143, 39, 81, 108, 95, 136, 86, 140, 146, 252, 169, 102, 117, 216, 59, 92, 158, 152, 197, 208, 86, 75, 74, 73, 109, 113, 117, 118, 117, 94, 112, 94, 89, 113, 134, 92, 100, 98, 151, 114, 162, 177, 182, 139, 184, 129, 129, 124, 200, 206, 252, 146, 224, 220, 60, 93, 79, 106, 127, 144, 135, 82, 161, 141, 114, 202, 261, 87, 76, 78, 113, 124, 130, 199, 224, 190, 58, 117, 104, 99, 138, 89, 227, 133, 160, 255, 41, 102, 137, 139, 109, 175, 195, 155, 82, 80, 88, 84, 114, 72, 89, 119, 102, 124, 166, 73, 89, 94, 115, 142, 132, 107, 133, 114, 200, 109, 120, 137, 96, 97, 201, 108, 125, 117, 147, 119, 168, 207, 245, 207, 113, 227, 126, 120, 192, 187, 236, 141, 146, 178, 28, 77, 85, 76, 81, 118, 112, 100, 114, 127, 116, 179, 141, 159, 150, 179, 168, 239, 153, 235, 102, 105, 153, 225, 26, 106, 105, 193, 151, 79, 226, 127, 91, 105, 108, 107, 114, 190, 124, 177, 113, 202, 155, 74, 44, 73, 114, 76, 123, 153, 156, 138, 218, 244, 77, 76, 92, 100, 98, 91, 88, 141, 115, 99, 127, 152, 147, 173, 114, 208, 230, 187, 210, 114, 76, 99, 84, 100, 159, 125, 173, 115, 149, 149, 110, 136, 204, 127, 231, 162, 67, 101, 81, 129, 211, 77, 98, 99, 133, 195, 141, 79, 106, 148, 168, 274, 45, 32, 81, 40, 58, 94, 90, 60, 96, 83, 42, 86, 187, 124, 74, 158, 114, 122, 85, 163, 148, 114, 203, 202, 119, 121, 176, 164, 148, 159, 177, 190, 141, 169, 107, 224, 214, 192, 155, 416, 59, 110, 75, 181, 141, 161, 111, 138, 182, 56, 85, 127, 83, 137, 101, 150, 131, 136, 98, 143, 181, 219, 132, 183, 150, 77, 76, 100, 120, 182, 279, 105, 118, 174, 41, 80, 118, 68, 209, 151, 230, 125, 119, 148, 82, 130, 137, 178, 74, 47, 84, 127, 178, 196, 154, 231, 159, 129, 122, 98, 69, 83, 115, 180, 240, 98, 130, 124, 86, 106, 189, 124, 134, 173, 139, 89, 96, 171, 181, 45, 110, 209, 104, 193, 78, 137, 137, 212, 75, 78, 62, 64, 83, 108, 59, 89, 82, 107, 108, 112, 132, 149, 113, 112, 119, 158, 117, 142, 113, 184, 200, 192, 172, 91, 216, 250, 136, 135, 214, 185, 173, 131, 62, 50, 60, 105, 69, 72, 68, 84, 82, 84, 121, 82, 87, 119, 131, 107, 89, 81, 134, 85, 65, 91, 104, 132, 114, 104, 135, 97, 87, 132, 110, 86, 122, 157, 138, 126, 94, 127, 135, 128, 149, 160, 117, 136, 109, 139, 153, 159, 123, 128, 115, 150, 101, 119, 86, 152, 251, 228, 106, 136, 137, 134, 129, 187, 170, 105, 251, 230, 263, 145, 262, 277, 129, 164, 132, 203, 175, 141, 181, 188, 210, 209, 147, 64, 78, 114, 101, 158, 137, 225, 159, 189, 96, 67, 69, 64, 89, 148, 99, 102, 128, 128, 135, 141, 154, 99, 203, 108, 93, 181, 204, 202, 212, 239, 122, 169, 25, 56, 45, 80, 77, 132, 95, 134, 165, 125, 192, 214, 182, 129, 206, 175, 140, 92, 199, 193, 55, 111, 124, 221, 211, 118, 142, 134, 155, 159, 21, 91, 151, 90, 112, 104, 131, 52, 130, 115, 161, 194, 130, 95, 108, 160, 135, 31, 141, 194, 166, 156, 107, 89, 217, 145, 172, 154, 214, 217, 96, 247, 62, 76, 69, 133, 83, 102, 120, 149, 92, 100, 106, 95, 90, 158, 148, 110, 132, 134, 165, 102, 191, 242, 174, 172, 190, 220, 168, 94, 120, 142, 32, 71, 192, 191, 179, 68, 68, 232, 202, 43, 124, 92, 106, 165, 156, 168, 142, 128, 177, 138, 167, 65, 93, 110, 123, 155, 322, 139, 121, 122, 126, 220, 91, 73, 139, 91, 126, 125, 95, 193, 197, 225, 150, 89, 103, 80, 117, 75, 217, 287, 70, 70, 68, 99, 90, 93, 150, 142, 134, 131, 144, 156, 129, 91, 136, 104, 118, 198, 116, 174, 146, 140, 156, 213, 165, 152, 164, 65, 129, 65, 131, 150, 95, 156, 131, 222, 125, 173, 72, 72, 135, 129, 144, 146, 189, 63, 53, 106, 153, 174, 163, 173, 131, 229, 61, 75, 115, 74, 154, 173, 124, 125, 156, 200, 201, 12, 54, 99, 65, 72, 110, 90, 69, 132, 120, 87, 100, 91, 122, 116, 135, 165, 97, 111, 142, 113, 123, 177, 152, 165, 108, 135, 113, 232, 108, 145, 156, 205, 156, 137, 239, 181, 277, 148, 147, 246, 48, 33, 60, 106, 106, 78, 111, 146, 125, 141, 88, 134, 136, 259, 191, 163, 303, 213, 73, 83, 166, 230, 63, 89, 85, 106, 84, 94, 147, 131, 120, 184, 232, 194, 251, 89, 111, 91, 105, 117, 164, 227, 169, 131, 104, 74, 165, 111, 89, 162, 144, 145, 158, 132, 170, 118, 164, 186, 57, 107, 102, 89, 206, 186, 229, 106, 78, 178, 171, 39, 171, 118, 163, 119, 112, 158, 66, 130, 135, 129, 184, 134, 88, 158, 194, 87, 217, 93, 132, 106, 227, 167, 83, 89, 73, 53, 53, 134, 75, 98, 119, 112, 89, 160, 99, 162, 117, 103, 159, 166, 98, 163, 144, 129, 155, 166, 174, 237, 134, 187, 213, 147, 255, 144, 23, 35, 42, 45, 49, 80, 71, 68, 34, 56, 78, 62, 51, 62, 76, 85, 78, 119, 86, 63, 75, 86, 85, 75, 93, 101, 92, 100, 94, 116, 62, 106, 59, 97, 109, 110, 125, 111, 99, 114, 63, 108, 68, 94, 104, 131, 85, 125, 96, 103, 138, 118, 113, 94, 87, 127, 91, 128, 99, 109, 99, 124, 153, 95, 116, 176, 132, 108, 90, 108, 88, 155, 131, 98, 79, 77, 96, 115, 104, 133, 76, 106, 121, 100, 100, 144, 81, 141, 117, 84, 116, 104, 107, 112, 140, 146, 125, 106, 128, 169, 111, 160, 137, 151, 101, 301, 109, 127, 134, 134, 115, 118, 132, 131, 152, 98, 143, 98, 106, 266, 128, 119, 111, 98, 138, 115, 169, 164, 174, 148, 133, 86, 108, 105, 134, 163, 170, 141, 150, 123, 146, 177, 186, 119, 108, 140, 164, 129, 236, 164, 130, 195, 144, 154, 192, 226, 170, 209, 184, 169, 128, 186, 193, 119, 140, 246, 176, 169, 157, 152, 197, 116, 147, 153, 289, 174, 142, 150, 128, 174, 157, 238, 182, 102, 258, 152, 261, 204, 144, 244, 147, 156, 307, 186, 197, 194, 176, 244, 202, 189, 206, 240, 175, 172, 193, 200, 217, 212, 142, 214, 213, 157, 152, 66, 83, 117, 105, 142, 113, 183, 170, 150, 165, 55, 73, 120, 122, 145, 121, 99, 131, 125, 185, 167, 248, 83, 108, 152, 229, 62, 108, 142, 135, 146, 159, 192, 115, 197, 23, 23, 76, 90, 89, 77, 150, 74, 70, 100, 89, 96, 116, 67, 105, 83, 82, 111, 99, 105, 94, 113, 117, 163, 343, 122, 135, 121, 126, 124, 122, 325, 193, 133, 102, 135, 177, 168, 140, 154, 143, 208, 110, 234, 348, 165, 183, 102, 107, 143, 97, 124, 87, 238, 138, 166, 137, 146, 36, 35, 86, 54, 45, 66, 74, 63, 65, 75, 151, 75, 54, 73, 73, 72, 115, 96, 77, 71, 95, 79, 88, 57, 85, 40, 82, 78, 112, 84, 58, 65, 94, 77, 80, 86, 87, 105, 136, 142, 125, 89, 107, 75, 82, 78, 88, 85, 82, 93, 72, 101, 108, 69, 112, 95, 64, 135, 80, 98, 117, 126, 111, 98, 87, 135, 65, 140, 156, 92, 84, 149, 88, 100, 94, 90, 76, 64, 185, 115, 84, 75, 103, 110, 125, 57, 128, 108, 111, 114, 74, 138, 119, 83, 112, 118, 95, 127, 134, 104, 178, 148, 102, 128, 129, 124, 98, 183, 107, 151, 93, 105, 93, 124, 98, 94, 96, 153, 102, 203, 109, 96, 148, 131, 171, 94, 122, 117, 126, 114, 120, 128, 125, 94, 172, 169, 119, 113, 109, 144, 152, 99, 122, 120, 144, 142, 100, 313, 237, 166, 182, 180, 204, 133, 148, 112, 145, 131, 136, 151, 122, 97, 118, 114, 108, 142, 188, 123, 149, 122, 174, 117, 112, 138, 106, 128, 159, 157, 124, 121, 182, 190, 143, 157, 165, 128, 76, 154, 139, 157, 206, 189, 188, 198, 127, 62, 162, 134, 184, 154, 118, 180, 212, 186, 132, 158, 162, 138, 150, 196, 187, 143, 237, 159, 139, 135, 134, 99, 215, 152, 177, 191, 194, 179, 159, 193, 180, 183, 140, 114, 172, 177, 130, 165, 179, 153, 181, 130, 291, 143, 207, 192, 159, 231, 124, 150, 270, 176, 195, 125, 243, 181, 227, 170, 147, 177, 159, 189, 172, 143, 113, 143, 193, 242, 201, 261, 282, 255, 286, 194, 196, 210, 289, 144, 149, 192, 169, 244, 84, 105, 127, 91, 143, 163, 94, 218, 82, 89, 113, 102, 143, 117, 224, 153, 182, 197, 68, 90, 178, 179, 93, 80, 144, 103, 255, 149, 104, 162, 111, 91, 105, 128, 163, 180, 84, 124, 91, 178, 101, 41, 86, 113, 135, 141, 124, 199, 168, 47, 71, 83, 136, 145, 186, 164, 207, 124, 119, 84, 65, 83, 155, 240, 102, 109, 103, 159, 112, 161, 148, 60, 96, 100, 111, 58, 103, 128, 127, 116, 105, 204, 196, 180, 148, 174, 195, 79, 176, 186, 24, 78, 91, 85, 115, 149, 137, 145, 157, 172, 143, 232, 148, 198, 71, 85, 80, 105, 94, 85, 157, 139, 101, 119, 119, 100, 120, 99, 155, 130, 130, 147, 128, 137, 223, 174, 185, 188, 150, 257, 2, 27, 75, 75, 59, 95, 106, 122, 140, 115, 51, 109, 100, 88, 94, 149, 136, 170, 158, 224, 268, 183, 196, 184, 200, 194, 172, 19, 87, 77, 109, 89, 108, 109, 125, 159, 81, 152, 124, 169, 133, 273, 139, 218, 161, 164, 155, 76, 45, 43, 59, 82, 146, 127, 121, 124, 170, 92, 142, 114, 127, 101, 223, 170, 201, 202, 149, 229, 114, 86, 77, 115, 99, 147, 149, 147, 174, 158, 28, 63, 125, 135, 150, 163, 145, 144, 145, 146, 46, 87, 93, 143, 162, 123, 95, 231, 214, 103, 169, 74, 69, 95, 123, 109, 135, 194, 152, 211, 28, 82, 89, 79, 162, 122, 205, 226, 222, 103, 56, 112, 131, 123, 163, 163, 167, 146, 71, 89, 138, 121, 104, 200, 202, 153, 56, 101, 120, 221, 123, 173, 137, 98, 158, 72, 97, 151]\n"
       ]
      }
     ],
     "prompt_number": 170,
     "trusted": true
    },
    {
     "cell_type": "code",
     "collapsed": false,
     "input": [
      "print avgclustsize"
     ],
     "language": "python",
     "metadata": {},
     "outputs": [
      {
       "output_type": "stream",
       "stream": "stdout",
       "text": [
        "133.7835\n"
       ]
      }
     ],
     "prompt_number": 171,
     "trusted": true
    },
    {
     "cell_type": "code",
     "collapsed": false,
     "input": [
      "import matplotlib.pyplot as plt\n",
      "\n",
      "def show_imgs(imgs, pos, titles=None, cmap=\"gray\", interp=\"nearest\"):\n",
      "    \"\"\"\n",
      "    \"\"\"\n",
      "    \n",
      "    Nimg = len(imgs)\n",
      "    \n",
      "    if (titles is None):\n",
      "        titles = ['No title']*Nimg \n",
      "    \n",
      "    if not isinstance(pos, list):\n",
      "        pos = [pos]*Nimg\n",
      "        \n",
      "    fig, ax = plt.subplots(1,Nimg)\n",
      "    \n",
      "    for ix,im in enumerate(imgs):\n",
      "        if hasattr(im, \"get_data\") and callable(getattr(im, \"get_data\")):\n",
      "            data = im.get_data()\n",
      "        else: #assume im is a 3d array\n",
      "            data = im         \n",
      "        \n",
      "        ax[ix].imshow(data[pos[ix]], cmap=cmap, interpolation=interp)\n",
      "        ax[ix].get_xaxis().set_ticks([])\n",
      "        ax[ix].get_yaxis().set_ticks([])\n",
      "        ax[ix].set_title(titles[ix])"
     ],
     "language": "python",
     "metadata": {},
     "outputs": [],
     "prompt_number": 172,
     "trusted": true
    },
    {
     "cell_type": "code",
     "collapsed": false,
     "input": [
      "test = template.copy()\n",
      "xi, yi, zi = np.where(test == 3)\n",
      "print xi.shape, yi.shape\n",
      "v=20\n",
      "x,y,z = xi[v], yi[v], zi[v], \n",
      "pos = [[x, slice(None), slice(None)],\n",
      "       [slice(None), y, slice(None)],\n",
      "       [slice(None), slice(None), z]]\n",
      "titles = [\"sagittal\", \"coronal\", \"axial\"]\n",
      "show_imgs([template*10]*3, pos[::-1], cmap=\"jet\", titles=titles[::-1])"
     ],
     "language": "python",
     "metadata": {},
     "outputs": [
      {
       "output_type": "stream",
       "stream": "stdout",
       "text": [
        "(89,) (89,)\n"
       ]
      },
      {
       "metadata": {},
       "output_type": "display_data",
       "png": "[encoded data removed]",
       "text": [
        "<matplotlib.figure.Figure at 0x51d0d90>"
       ]
      }
     ],
     "prompt_number": 173,
     "trusted": true
    },
    {
     "cell_type": "code",
     "collapsed": false,
     "input": [
      "test = template.copy()\n",
      "xi, yi, zi = np.where(test == 162)\n",
      "print xi.shape, yi.shape\n",
      "v=20\n",
      "x,y,z = xi[v], yi[v], zi[v], \n",
      "test[test>184] = 0\n",
      "test[test<158] = -10\n",
      "pos = [[x, slice(None), slice(None)],\n",
      "       [slice(None), y, slice(None)],\n",
      "       [slice(None), slice(None), z]]\n",
      "titles = [\"sagittal\", \"coronal\", \"axial\"]\n",
      "show_imgs([test]*3, pos[::-1], cmap=\"jet\", titles=titles[::-1])"
     ],
     "language": "python",
     "metadata": {},
     "outputs": [
      {
       "output_type": "stream",
       "stream": "stdout",
       "text": [
        "(156,) (156,)\n"
       ]
      },
      {
       "metadata": {},
       "output_type": "display_data",
       "png": "[encoded data removed]",
       "text": [
        "<matplotlib.figure.Figure at 0x51d0b50>"
       ]
      }
     ],
     "prompt_number": 174,
     "trusted": true
    },
    {
     "cell_type": "code",
     "collapsed": false,
     "input": [
      "import json\n",
      "type(newlabels)\n",
      "np.save(anafunc_filename+'.labels', np.asarray(newlabels))\n",
      "with open(anafunc_filename+'.json','w') as f:\n",
      "    json.dump([(str(l[0]), l[1:]) for l in newlabels], f)\n"
     ],
     "language": "python",
     "metadata": {},
     "outputs": [],
     "prompt_number": 175,
     "trusted": true
    },
    {
     "cell_type": "code",
     "collapsed": false,
     "input": [
      "pattern = \"White.*\"\n",
      "import re\n",
      "regsearch = [re.search(pattern, newlabels[i][1][1]) for i in range(len(newlabels))]"
     ],
     "language": "python",
     "metadata": {},
     "outputs": [],
     "trusted": true
    },
    {
     "cell_type": "code",
     "collapsed": false,
     "input": [
      "idx =  [i for (i,s) in enumerate(regsearch) if s]"
     ],
     "language": "python",
     "metadata": {},
     "outputs": [],
     "trusted": true
    },
    {
     "cell_type": "code",
     "collapsed": false,
     "input": [
      "idx"
     ],
     "language": "python",
     "metadata": {},
     "outputs": [],
     "trusted": true
    },
    {
     "cell_type": "code",
     "collapsed": false,
     "input": [
      "[len(newlabels[i][0]) for i in idx]"
     ],
     "language": "python",
     "metadata": {},
     "outputs": [],
     "trusted": true
    },
    {
     "cell_type": "code",
     "collapsed": false,
     "input": [
      "277 - 62"
     ],
     "language": "python",
     "metadata": {},
     "outputs": [],
     "trusted": true
    },
    {
     "cell_type": "code",
     "collapsed": false,
     "input": [
      "A = grid_to_graph(n_x=dim[0], n_y=dim[1], n_z=dim[2], mask=roi_mask)"
     ],
     "language": "python",
     "metadata": {},
     "outputs": [],
     "trusted": true
    },
    {
     "cell_type": "code",
     "collapsed": false,
     "input": [
      "print A.getcol(0)\n",
      "print A.getrow(0)\n",
      "print A.getnnz()\n",
      "print 3252*3252"
     ],
     "language": "python",
     "metadata": {},
     "outputs": [],
     "trusted": true
    },
    {
     "cell_type": "code",
     "collapsed": false,
     "input": [
      "mem = Memory(cachedir='.', verbose=1)\n",
      "ward = WardAgglomeration(n_clusters=nclust, connectivity=A.tolil(), memory=mem)"
     ],
     "language": "python",
     "metadata": {},
     "outputs": [],
     "trusted": true
    },
    {
     "cell_type": "code",
     "collapsed": false,
     "input": [
      "X = np.random.normal(loc=0.0, scale=1.0, size=(3252, 400))\n",
      "print X.shape"
     ],
     "language": "python",
     "metadata": {},
     "outputs": [],
     "trusted": true
    },
    {
     "cell_type": "code",
     "collapsed": false,
     "input": [
      "ward.fit(X.T)"
     ],
     "language": "python",
     "metadata": {},
     "outputs": [],
     "trusted": true
    },
    {
     "cell_type": "code",
     "collapsed": false,
     "input": [
      "ward.labels_.shape"
     ],
     "language": "python",
     "metadata": {},
     "outputs": [],
     "trusted": true
    },
    {
     "cell_type": "code",
     "collapsed": false,
     "input": [
      "ward.labels_[:30]"
     ],
     "language": "python",
     "metadata": {},
     "outputs": [],
     "trusted": true
    },
    {
     "cell_type": "code",
     "collapsed": false,
     "input": [],
     "language": "python",
     "metadata": {},
     "outputs": [],
     "trusted": true
    }
   ],
   "metadata": {}
  }
 ]
}