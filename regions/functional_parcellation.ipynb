{
 "metadata": {
  "name": "",
  "signature": "sha256:80347e48a996c188f7971596e56916b17d986bfa2d4f9d84d0404aab718fed1e"
 },
 "nbformat": 3,
 "nbformat_minor": 0,
 "worksheets": [
  {
   "cells": [
    {
     "cell_type": "code",
     "collapsed": false,
     "input": [
      "%pylab inline --no-import-all"
     ],
     "language": "python",
     "metadata": {},
     "outputs": [
      {
       "output_type": "stream",
       "stream": "stdout",
       "text": [
        "Populating the interactive namespace from numpy and matplotlib\n"
       ]
      }
     ],
     "prompt_number": 85
    },
    {
     "cell_type": "heading",
     "level": 3,
     "metadata": {},
     "source": [
      "Get Data and Anatomical Atlas"
     ]
    },
    {
     "cell_type": "code",
     "collapsed": false,
     "input": [
      "import os\n",
      "import os.path as osp\n",
      "import sys\n",
      "import numpy as np\n",
      "import nibabel as nib\n",
      "import nipy\n",
      "import nilearn as nil\n",
      "import sklearn as skl\n",
      "from glob import glob\n",
      "import json"
     ],
     "language": "python",
     "metadata": {},
     "outputs": [],
     "prompt_number": 86
    },
    {
     "cell_type": "code",
     "collapsed": false,
     "input": [
      "HOME = osp.expanduser('~')\n",
      "DATADIR = osp.join(HOME,'data','adhd200','NeuroIMAGE')\n",
      "filenames = glob(osp.join(DATADIR,'*','sfnwmr*'))\n",
      "#filenames"
     ],
     "language": "python",
     "metadata": {},
     "outputs": [],
     "prompt_number": 87
    },
    {
     "cell_type": "code",
     "collapsed": false,
     "input": [
      "ATLASDIR = osp.join(HOME,'code','regions','regions')\n",
      "atlasfilename = osp.join(ATLASDIR, 'CSC2mm.nii')\n",
      "atlas = nib.load(atlasfilename)"
     ],
     "language": "python",
     "metadata": {},
     "outputs": [],
     "prompt_number": 88
    },
    {
     "cell_type": "heading",
     "level": 3,
     "metadata": {},
     "source": [
      "Example with one roi"
     ]
    },
    {
     "cell_type": "code",
     "collapsed": false,
     "input": [
      "print atlas.shape\n",
      "atlasd = np.asarray(atlas.get_data())\n",
      "nvox = (atlasd >= 0).sum()\n",
      "\n",
      "# - NROI : approximate number of desired ROI\n",
      "NROI = 500\n",
      "avgroisize = nvox * 1. / NROI \n",
      "print nvox, avgroisize, np.prod(atlasd.shape)"
     ],
     "language": "python",
     "metadata": {},
     "outputs": [
      {
       "output_type": "stream",
       "stream": "stdout",
       "text": [
        "(91, 109, 91)\n",
        "231305 462.61 902629\n"
       ]
      }
     ],
     "prompt_number": 89
    },
    {
     "cell_type": "code",
     "collapsed": false,
     "input": [
      "roiidx = 50\n",
      "mask = (atlasd == roiidx)\n",
      "nvoxroi = mask.sum()\n",
      "\n",
      "def iround(x):\n",
      "    \"\"\"iround(number) -> integer\n",
      "    Round a number to the nearest integer.\"\"\"\n",
      "    y = round(x) - .5\n",
      "    return int(y) + (y > 0)"
     ],
     "language": "python",
     "metadata": {},
     "outputs": [],
     "prompt_number": 90
    },
    {
     "cell_type": "code",
     "collapsed": false,
     "input": [
      "nclust = iround(nvoxroi / avgroisize)\n",
      "print nclust"
     ],
     "language": "python",
     "metadata": {},
     "outputs": [
      {
       "output_type": "stream",
       "stream": "stdout",
       "text": [
        "6\n"
       ]
      }
     ],
     "prompt_number": 91
    },
    {
     "cell_type": "heading",
     "level": 3,
     "metadata": {},
     "source": [
      "Interpolate the fmri to the atlas resolution"
     ]
    },
    {
     "cell_type": "code",
     "collapsed": false,
     "input": [
      "from nipy.algorithms.resample import resample_img2img, resample\n",
      "import nipy.core.api as capi # vox2mni\n",
      "from nipy.core.image import image\n",
      "from nipy.core.reference import coordinate_map as cmap\n",
      "from nilearn._utils import niimg_conversions as niiconv\n"
     ],
     "language": "python",
     "metadata": {},
     "outputs": [],
     "prompt_number": 92
    },
    {
     "cell_type": "code",
     "collapsed": false,
     "input": [
      "atlas = nib.load(atlasfilename)\n",
      "tmp = nib.load(filenames[0])\n",
      "timedim = tmp.shape[-1]\n",
      "del tmp\n",
      "\n",
      "cmap_out = capi.vox2mni(atlas.get_affine(), 1.0)\n",
      "out_shape = atlas.shape + (timedim,)\n"
     ],
     "language": "python",
     "metadata": {},
     "outputs": [],
     "prompt_number": 93
    },
    {
     "cell_type": "code",
     "collapsed": false,
     "input": [
      "Done = True\n",
      "if not Done:\n",
      "    for f in filenames:\n",
      "        print f\n",
      "        img_in = nipy.load_image(f)\n",
      "        img_out = resample(img_in, cmap_out, np.eye(5), out_shape, order=1)\n",
      "        filename_out = osp.join(osp.dirname(f), 'i'+osp.basename(f))\n",
      "        _ = nipy.save_image(img_out, filename_out)\n"
     ],
     "language": "python",
     "metadata": {},
     "outputs": [],
     "prompt_number": 94
    },
    {
     "cell_type": "heading",
     "level": 3,
     "metadata": {},
     "source": [
      "Create a smaller dimension feature space for the Ward"
     ]
    },
    {
     "cell_type": "code",
     "collapsed": false,
     "input": [
      "ifilenames = glob(osp.join(DATADIR,'*','isfnwmr*'))"
     ],
     "language": "python",
     "metadata": {},
     "outputs": [],
     "prompt_number": 95
    },
    {
     "cell_type": "code",
     "collapsed": false,
     "input": [
      "from sklearn.decomposition import PCA\n",
      "from sklearn.externals.joblib import Memory"
     ],
     "language": "python",
     "metadata": {},
     "outputs": [],
     "prompt_number": 96
    },
    {
     "cell_type": "code",
     "collapsed": false,
     "input": [
      "import json\n",
      "fbase, ext = osp.splitext(atlasfilename)\n",
      "if osp.isfile(fbase+\"_full\"+\".json\"): fjson= fbase+\"_full.json\"\n",
      "with open(fjson) as f:\n",
      "    j_labels = json.load(f)\n",
      "#print j_labels"
     ],
     "language": "python",
     "metadata": {},
     "outputs": [],
     "prompt_number": 97
    },
    {
     "cell_type": "code",
     "collapsed": false,
     "input": [
      "print atlasfilename, fjson"
     ],
     "language": "python",
     "metadata": {},
     "outputs": [
      {
       "output_type": "stream",
       "stream": "stdout",
       "text": [
        "/home/jb/code/regions/regions/CSC2mm.nii /home/jb/code/regions/regions/CSC2mm_full.json\n"
       ]
      }
     ],
     "prompt_number": 98
    },
    {
     "cell_type": "code",
     "collapsed": false,
     "input": [
      "%run parcellation.py"
     ],
     "language": "python",
     "metadata": {},
     "outputs": [
      {
       "output_type": "stream",
       "stream": "stdout",
       "text": [
        "reloading parcellation at 14-10-30-00-29-31 \n",
        "\n"
       ]
      }
     ],
     "prompt_number": 99
    },
    {
     "cell_type": "code",
     "collapsed": false,
     "input": [
      "img_in = nipy.load_image(ifilenames[0])\n",
      "print type(img_in)\n",
      "print img_in.affine\n",
      "img_out = nipy_to_nibabel(img_in)\n",
      "print type(img_out)\n",
      "print img_out.get_affine()\n",
      "#niiconv.check_niimg(img_in)\n",
      "#tmp = niiconv.concat_niimgs("
     ],
     "language": "python",
     "metadata": {},
     "outputs": [
      {
       "output_type": "stream",
       "stream": "stdout",
       "text": [
        "<class 'nipy.core.image.image.Image'>\n",
        "[[  -2.    0.    0.    0.   90.]\n",
        " [   0.    2.    0.    0. -126.]\n",
        " [   0.    0.    2.    0.  -72.]\n",
        " [   0.    0.    0.    1.    0.]\n",
        " [   0.    0.    0.    0.    1.]]\n",
        "<class 'nibabel.nifti1.Nifti1Image'>"
       ]
      },
      {
       "output_type": "stream",
       "stream": "stdout",
       "text": [
        "\n",
        "[[  -2.    0.    0.   90.]\n",
        " [   0.    2.    0. -126.]\n",
        " [   0.    0.    2.  -72.]\n",
        " [   0.    0.    0.    1.]]\n"
       ]
      }
     ],
     "prompt_number": 100
    },
    {
     "cell_type": "heading",
     "level": 3,
     "metadata": {},
     "source": [
      "Reduce dimension and standardize time series"
     ]
    },
    {
     "cell_type": "code",
     "collapsed": false,
     "input": [
      "ifilenames = glob(osp.join(DATADIR,'*','isfnwmr*'))\n",
      "files2process = ifilenames\n",
      "\n",
      "cast_to = 'float32'\n",
      "tiny = np.finfo(cast_to).eps * 1000\n",
      "\n",
      "atlas = nib.load(atlasfilename)\n",
      "atlas_mask = atlas.get_data() != -1\n",
      "nvoxmask = atlas_mask.sum()\n",
      "nsubj = len(files2process)\n",
      "ncomp = 10 # arbitrary\n",
      "print nvoxmask\n",
      "\n",
      "features_filename = osp.join(DATADIR,'features_v2.npy')\n",
      "if osp.isfile(features_filename):\n",
      "    Done = True\n",
      "else:\n",
      "    Done = False\n",
      "\n",
      "if not Done:\n",
      "    features = np.zeros((nvoxmask, ncomp*nsubj))\n",
      "\n",
      "    for idx, sub in enumerate(files2process):\n",
      "        # load image\n",
      "        img = nib.load(sub)\n",
      "        \n",
      "        # get signals in mask\n",
      "        tsignals = img.get_data()[atlas_mask]\n",
      "        print osp.basename(sub), \"\\t\", tsignals.shape\n",
      "        \n",
      "        # reduce to 10 components\n",
      "        pca = PCA(n_components=ncomp)\n",
      "        pca.fit(tsignals)\n",
      "        tsignals_pca = pca.transform(tsignals)\n",
      "        print tsignals_pca.shape\n",
      "        \n",
      "        # Standardizing pca-ed time courses (cf Bernard's code)\n",
      "        tc_std = np.std(tsignals_pca, axis=1)\n",
      "        ind = tc_std > tiny\n",
      "        \n",
      "        if ind.sum() != tc_std.shape[0]:\n",
      "            print '\\n *********** \\n ind.sum() != tc_std.shape[0]:', ind.sum(), tc_std.shape[0], '\\n'\n",
      "            print tsignals_pca[~ind,:].mean(axis=1)\n",
      "        \n",
      "        tsignals_pca[ind, :] = tsignals_pca[ind, :] - tsignals_pca[ind, :].mean(axis=1)[:, np.newaxis]\n",
      "        tsignals_pca[ind, :] = tsignals_pca[ind, :] / tsignals_pca[ind, :].std(axis=1)[:, np.newaxis]\n",
      "    \n",
      "        # append to previous data\n",
      "        features[:, idx*ncomp + np.arange(ncomp)] = tsignals_pca\n",
      "    \n",
      "    np.save(features_filename, features)\n",
      "else:\n",
      "    features = np.load(features_filename)"
     ],
     "language": "python",
     "metadata": {},
     "outputs": [
      {
       "output_type": "stream",
       "stream": "stdout",
       "text": [
        "231305\n"
       ]
      }
     ],
     "prompt_number": 101
    },
    {
     "cell_type": "code",
     "collapsed": false,
     "input": [
      "a = features[500:501:8,60:320]\n",
      "p = plt.plot(a.T)"
     ],
     "language": "python",
     "metadata": {},
     "outputs": [
      {
       "metadata": {},
       "output_type": "display_data",
       "png": "[encoded data removed]",
       "text": [
        "<matplotlib.figure.Figure at 0x3dec2d0>"
       ]
      }
     ],
     "prompt_number": 102
    },
    {
     "cell_type": "heading",
     "level": 2,
     "metadata": {},
     "source": [
      "Parcellate the atlas regions"
     ]
    },
    {
     "cell_type": "code",
     "collapsed": false,
     "input": [
      "from sklearn.feature_extraction.image import grid_to_graph\n",
      "from sklearn.cluster import WardAgglomeration\n",
      "from sklearn.externals.joblib import Memory"
     ],
     "language": "python",
     "metadata": {},
     "outputs": [],
     "prompt_number": 103
    },
    {
     "cell_type": "code",
     "collapsed": false,
     "input": [
      "atlasd = np.asarray(atlas.get_data())\n",
      "n_rois = len(np.unique(atlasd)) - 1 # remove background"
     ],
     "language": "python",
     "metadata": {},
     "outputs": [],
     "prompt_number": 104
    },
    {
     "cell_type": "code",
     "collapsed": false,
     "input": [
      "mem = Memory(cachedir='.', verbose=1)\n",
      "\n",
      "# atlas_mask = atlas.get_data() != -1\n",
      "nvox = atlas_mask.sum()\n",
      "NROI = 500 # approximate desired number of ROI\n",
      "avgclustsize = nvox * 1. / NROI\n",
      "\n",
      "\n",
      "template = np.zeros_like(atlasd)\n",
      "template.fill(-1.)\n",
      "dim = atlasd.shape\n",
      "n_clust = np.zeros(n_rois, dtype=int) #number of cluster per ROI\n",
      "\n",
      "curr_label = 0\n",
      "newlabels = []\n",
      "roi_indexes = range(n_rois)"
     ],
     "language": "python",
     "metadata": {},
     "outputs": [],
     "prompt_number": 105
    },
    {
     "cell_type": "code",
     "collapsed": false,
     "input": [
      "print n_rois, nvox, avgclustsize"
     ],
     "language": "python",
     "metadata": {},
     "outputs": [
      {
       "output_type": "stream",
       "stream": "stdout",
       "text": [
        "134 231305 462.61\n"
       ]
      }
     ],
     "prompt_number": 106
    },
    {
     "cell_type": "code",
     "collapsed": false,
     "input": [
      "for ridx in roi_indexes:\n",
      "    \n",
      "    curr_label = template.max() \n",
      "    # first should be -1, \n",
      "    # print \"current label is %d \" % curr_label\n",
      "    \n",
      "    # get the mask of the roi\n",
      "    roi_mask = (atlasd == ridx)\n",
      "    nvoxroi = roi_mask.sum()\n",
      "    # print \" working on roi %d with %d voxels \" %(ridx, nvoxroi)\n",
      "    \n",
      "    # how many cluster in this ROI?\n",
      "    nclust = iround(nvoxroi / avgclustsize)\n",
      "    n_clust[ridx] = nclust\n",
      "\n",
      "    if (nclust == 1) or (nclust == 0):\n",
      "        curr_label += 1\n",
      "        template[roi_mask] = curr_label\n",
      "        newlabels.append((np.asarray([curr_label]), j_labels[ridx])) #\n",
      "        continue\n",
      " \n",
      "    # this gets the indices of the roi voxels in the atlas_mask array\n",
      "    atlas_mask_idx = np.where(atlas_mask.ravel())[0]\n",
      "    roi_mask_idx = np.where(roi_mask.ravel())[0]\n",
      "    ts_indexes_for_roi = np.in1d(atlas_mask_idx, roi_mask_idx).nonzero()[0]\n",
      "    \n",
      "    print atlas_mask_idx.shape, roi_mask_idx.shape, ts_indexes_for_roi.shape\n",
      "    \n",
      "    # Define connectivity based on brain mask\n",
      "    A = grid_to_graph(n_x=dim[0], n_y=dim[1], n_z=dim[2], mask=roi_mask)\n",
      "    ward = WardAgglomeration(n_clusters=nclust, connectivity=A.tolil(), memory=mem)\n",
      "    \n",
      "    # give to ward.fit the time series of the ROI\n",
      "    #print ts_indexes_for_roi.shape, ts_indexes_for_roi.max(), \"features:\", features.shape\n",
      "    #print features[ts_indexes_for_roi,:].shape\n",
      "    ward.fit(features[ts_indexes_for_roi,:].T)\n",
      "    \n",
      "    # this assumes that ward.labels start at 0\n",
      "    template[roi_mask] = ward.labels_ + curr_label + 1 \n",
      "    newlabels.append((np.arange(curr_label,curr_label+nclust)+1, j_labels[ridx]))\n",
      "    print \"wtf: curr_label, nclust, ridx, nvoxroi \", curr_label, nclust, ridx, nvoxroi\n",
      "    "
     ],
     "language": "python",
     "metadata": {},
     "outputs": [
      {
       "output_type": "stream",
       "stream": "stdout",
       "text": [
        "(231305,) (6799,) (6799,)\n",
        "wtf: curr_label, nclust, ridx, nvoxroi "
       ]
      },
      {
       "output_type": "stream",
       "stream": "stderr",
       "text": [
        "/home/jb/.local/lib/python2.7/site-packages/sklearn/cluster/hierarchical.py:761: DeprecationWarning: The Ward class is deprecated since 0.14 and will be removed in 0.17. Use the AgglomerativeClustering instead.\n",
        "  \"instead.\", DeprecationWarning)\n",
        "/home/jb/.local/lib/python2.7/site-packages/sklearn/cluster/hierarchical.py:761: DeprecationWarning: The Ward class is deprecated since 0.14 and will be removed in 0.17. Use the AgglomerativeClustering instead.\n",
        "  \"instead.\", DeprecationWarning)\n"
       ]
      },
      {
       "output_type": "stream",
       "stream": "stdout",
       "text": [
        " -1.0 15 0 6799\n",
        "(231305,) (1333,) (1333,)\n",
        "wtf: curr_label, nclust, ridx, nvoxroi "
       ]
      },
      {
       "output_type": "stream",
       "stream": "stdout",
       "text": [
        " 14.0 3 1 1333\n",
        "(231305,) (2869,) (2869,)\n",
        "wtf: curr_label, nclust, ridx, nvoxroi "
       ]
      },
      {
       "output_type": "stream",
       "stream": "stderr",
       "text": [
        "/home/jb/.local/lib/python2.7/site-packages/sklearn/cluster/hierarchical.py:761: DeprecationWarning: The Ward class is deprecated since 0.14 and will be removed in 0.17. Use the AgglomerativeClustering instead.\n",
        "  \"instead.\", DeprecationWarning)\n",
        "/home/jb/.local/lib/python2.7/site-packages/sklearn/cluster/hierarchical.py:761: DeprecationWarning: The Ward class is deprecated since 0.14 and will be removed in 0.17. Use the AgglomerativeClustering instead.\n",
        "  \"instead.\", DeprecationWarning)\n"
       ]
      },
      {
       "output_type": "stream",
       "stream": "stdout",
       "text": [
        " 17.0 6 2 2869\n",
        "(231305,) (2889,) (2889,)\n",
        "wtf: curr_label, nclust, ridx, nvoxroi "
       ]
      },
      {
       "output_type": "stream",
       "stream": "stdout",
       "text": [
        " 23.0 6 3 2889\n",
        "(231305,) (695,) (695,)\n",
        "wtf: curr_label, nclust, ridx, nvoxroi "
       ]
      },
      {
       "output_type": "stream",
       "stream": "stderr",
       "text": [
        "/home/jb/.local/lib/python2.7/site-packages/sklearn/cluster/hierarchical.py:761: DeprecationWarning: The Ward class is deprecated since 0.14 and will be removed in 0.17. Use the AgglomerativeClustering instead.\n",
        "  \"instead.\", DeprecationWarning)\n",
        "/home/jb/.local/lib/python2.7/site-packages/sklearn/cluster/hierarchical.py:761: DeprecationWarning: The Ward class is deprecated since 0.14 and will be removed in 0.17. Use the AgglomerativeClustering instead.\n",
        "  \"instead.\", DeprecationWarning)\n"
       ]
      },
      {
       "output_type": "stream",
       "stream": "stdout",
       "text": [
        " 29.0 2 4 695\n",
        "(231305,) (779,) (779,)\n",
        "wtf: curr_label, nclust, ridx, nvoxroi "
       ]
      },
      {
       "output_type": "stream",
       "stream": "stdout",
       "text": [
        " 31.0 2 5 779\n",
        "(231305,) (4115,) (4115,)\n",
        "wtf: curr_label, nclust, ridx, nvoxroi "
       ]
      },
      {
       "output_type": "stream",
       "stream": "stderr",
       "text": [
        "/home/jb/.local/lib/python2.7/site-packages/sklearn/cluster/hierarchical.py:761: DeprecationWarning: The Ward class is deprecated since 0.14 and will be removed in 0.17. Use the AgglomerativeClustering instead.\n",
        "  \"instead.\", DeprecationWarning)\n",
        "/home/jb/.local/lib/python2.7/site-packages/sklearn/cluster/hierarchical.py:761: DeprecationWarning: The Ward class is deprecated since 0.14 and will be removed in 0.17. Use the AgglomerativeClustering instead.\n",
        "  \"instead.\", DeprecationWarning)\n"
       ]
      },
      {
       "output_type": "stream",
       "stream": "stdout",
       "text": [
        " 33.0 9 6 4115\n",
        "(231305,) (2555,) (2555,)\n",
        "wtf: curr_label, nclust, ridx, nvoxroi "
       ]
      },
      {
       "output_type": "stream",
       "stream": "stdout",
       "text": [
        " 42.0 6 7 2555\n",
        "(231305,)"
       ]
      },
      {
       "output_type": "stream",
       "stream": "stdout",
       "text": [
        " (1408,) (1408,)\n",
        "wtf: curr_label, nclust, ridx, nvoxroi "
       ]
      },
      {
       "output_type": "stream",
       "stream": "stderr",
       "text": [
        "/home/jb/.local/lib/python2.7/site-packages/sklearn/cluster/hierarchical.py:761: DeprecationWarning: The Ward class is deprecated since 0.14 and will be removed in 0.17. Use the AgglomerativeClustering instead.\n",
        "  \"instead.\", DeprecationWarning)\n",
        "/home/jb/.local/lib/python2.7/site-packages/sklearn/cluster/hierarchical.py:761: DeprecationWarning: The Ward class is deprecated since 0.14 and will be removed in 0.17. Use the AgglomerativeClustering instead.\n",
        "  \"instead.\", DeprecationWarning)\n"
       ]
      },
      {
       "output_type": "stream",
       "stream": "stdout",
       "text": [
        " 51.0 3 11 1408\n",
        "(231305,) (864,) (864,)\n",
        "wtf: curr_label, nclust, ridx, nvoxroi "
       ]
      },
      {
       "output_type": "stream",
       "stream": "stdout",
       "text": [
        " 54.0 2 12 864\n",
        "(231305,)"
       ]
      },
      {
       "output_type": "stream",
       "stream": "stdout",
       "text": [
        " (1104,) (1104,)\n",
        "wtf: curr_label, nclust, ridx, nvoxroi "
       ]
      },
      {
       "output_type": "stream",
       "stream": "stderr",
       "text": [
        "/home/jb/.local/lib/python2.7/site-packages/sklearn/cluster/hierarchical.py:761: DeprecationWarning: The Ward class is deprecated since 0.14 and will be removed in 0.17. Use the AgglomerativeClustering instead.\n",
        "  \"instead.\", DeprecationWarning)\n",
        "/home/jb/.local/lib/python2.7/site-packages/sklearn/cluster/hierarchical.py:761: DeprecationWarning: The Ward class is deprecated since 0.14 and will be removed in 0.17. Use the AgglomerativeClustering instead.\n",
        "  \"instead.\", DeprecationWarning)\n"
       ]
      },
      {
       "output_type": "stream",
       "stream": "stdout",
       "text": [
        " 57.0 2 14 1104\n",
        "(231305,) (746,) (746,)\n",
        "wtf: curr_label, nclust, ridx, nvoxroi "
       ]
      },
      {
       "output_type": "stream",
       "stream": "stdout",
       "text": [
        " 59.0 2 15 746\n",
        "(231305,) (3693,) (3693,)\n",
        "wtf: curr_label, nclust, ridx, nvoxroi "
       ]
      },
      {
       "output_type": "stream",
       "stream": "stderr",
       "text": [
        "/home/jb/.local/lib/python2.7/site-packages/sklearn/cluster/hierarchical.py:761: DeprecationWarning: The Ward class is deprecated since 0.14 and will be removed in 0.17. Use the AgglomerativeClustering instead.\n",
        "  \"instead.\", DeprecationWarning)\n",
        "/home/jb/.local/lib/python2.7/site-packages/sklearn/cluster/hierarchical.py:761: DeprecationWarning: The Ward class is deprecated since 0.14 and will be removed in 0.17. Use the AgglomerativeClustering instead.\n",
        "  \"instead.\", DeprecationWarning)\n"
       ]
      },
      {
       "output_type": "stream",
       "stream": "stdout",
       "text": [
        " 61.0 8 16 3693\n",
        "(231305,) (1485,) (1485,)\n",
        "wtf: curr_label, nclust, ridx, nvoxroi "
       ]
      },
      {
       "output_type": "stream",
       "stream": "stdout",
       "text": [
        " 69.0 3 17 1485\n",
        "(231305,) (998,) (998,)\n",
        "wtf: curr_label, nclust, ridx, nvoxroi "
       ]
      },
      {
       "output_type": "stream",
       "stream": "stderr",
       "text": [
        "/home/jb/.local/lib/python2.7/site-packages/sklearn/cluster/hierarchical.py:761: DeprecationWarning: The Ward class is deprecated since 0.14 and will be removed in 0.17. Use the AgglomerativeClustering instead.\n",
        "  \"instead.\", DeprecationWarning)\n",
        "/home/jb/.local/lib/python2.7/site-packages/sklearn/cluster/hierarchical.py:761: DeprecationWarning: The Ward class is deprecated since 0.14 and will be removed in 0.17. Use the AgglomerativeClustering instead.\n",
        "  \"instead.\", DeprecationWarning)\n"
       ]
      },
      {
       "output_type": "stream",
       "stream": "stdout",
       "text": [
        " 72.0 2 18 998\n",
        "(231305,) (1171,) (1171,)\n",
        "wtf: curr_label, nclust, ridx, nvoxroi "
       ]
      },
      {
       "output_type": "stream",
       "stream": "stdout",
       "text": [
        " 74.0 3 19 1171\n",
        "(231305,) (968,) (968,)\n",
        "wtf: curr_label, nclust, ridx, nvoxroi "
       ]
      },
      {
       "output_type": "stream",
       "stream": "stderr",
       "text": [
        "/home/jb/.local/lib/python2.7/site-packages/sklearn/cluster/hierarchical.py:761: DeprecationWarning: The Ward class is deprecated since 0.14 and will be removed in 0.17. Use the AgglomerativeClustering instead.\n",
        "  \"instead.\", DeprecationWarning)\n",
        "/home/jb/.local/lib/python2.7/site-packages/sklearn/cluster/hierarchical.py:761: DeprecationWarning: The Ward class is deprecated since 0.14 and will be removed in 0.17. Use the AgglomerativeClustering instead.\n",
        "  \"instead.\", DeprecationWarning)\n"
       ]
      },
      {
       "output_type": "stream",
       "stream": "stdout",
       "text": [
        " 77.0 2 20 968\n",
        "(231305,) (4881,) (4881,)\n",
        "wtf: curr_label, nclust, ridx, nvoxroi "
       ]
      },
      {
       "output_type": "stream",
       "stream": "stdout",
       "text": [
        " 79.0 11 21 4881\n",
        "(231305,) (2065,) (2065,)\n",
        "wtf: curr_label, nclust, ridx, nvoxroi "
       ]
      },
      {
       "output_type": "stream",
       "stream": "stderr",
       "text": [
        "/home/jb/.local/lib/python2.7/site-packages/sklearn/cluster/hierarchical.py:761: DeprecationWarning: The Ward class is deprecated since 0.14 and will be removed in 0.17. Use the AgglomerativeClustering instead.\n",
        "  \"instead.\", DeprecationWarning)\n",
        "/home/jb/.local/lib/python2.7/site-packages/sklearn/cluster/hierarchical.py:761: DeprecationWarning: The Ward class is deprecated since 0.14 and will be removed in 0.17. Use the AgglomerativeClustering instead.\n",
        "  \"instead.\", DeprecationWarning)\n"
       ]
      },
      {
       "output_type": "stream",
       "stream": "stdout",
       "text": [
        " 90.0 4 22 2065\n",
        "(231305,) (895,) (895,)\n",
        "wtf: curr_label, nclust, ridx, nvoxroi "
       ]
      },
      {
       "output_type": "stream",
       "stream": "stdout",
       "text": [
        " 95.0 2 24 895\n",
        "(231305,) (1354,) (1354,)\n",
        "wtf: curr_label, nclust, ridx, nvoxroi "
       ]
      },
      {
       "output_type": "stream",
       "stream": "stderr",
       "text": [
        "/home/jb/.local/lib/python2.7/site-packages/sklearn/cluster/hierarchical.py:761: DeprecationWarning: The Ward class is deprecated since 0.14 and will be removed in 0.17. Use the AgglomerativeClustering instead.\n",
        "  \"instead.\", DeprecationWarning)\n",
        "/home/jb/.local/lib/python2.7/site-packages/sklearn/cluster/hierarchical.py:761: DeprecationWarning: The Ward class is deprecated since 0.14 and will be removed in 0.17. Use the AgglomerativeClustering instead.\n",
        "  \"instead.\", DeprecationWarning)\n"
       ]
      },
      {
       "output_type": "stream",
       "stream": "stdout",
       "text": [
        " 97.0 3 25 1354\n",
        "(231305,) (1165,) (1165,)\n",
        "wtf: curr_label, nclust, ridx, nvoxroi "
       ]
      },
      {
       "output_type": "stream",
       "stream": "stdout",
       "text": [
        " 100.0 3 26 1165\n",
        "(231305,) (2640,) (2640,)\n",
        "wtf: curr_label, nclust, ridx, nvoxroi "
       ]
      },
      {
       "output_type": "stream",
       "stream": "stderr",
       "text": [
        "/home/jb/.local/lib/python2.7/site-packages/sklearn/cluster/hierarchical.py:761: DeprecationWarning: The Ward class is deprecated since 0.14 and will be removed in 0.17. Use the AgglomerativeClustering instead.\n",
        "  \"instead.\", DeprecationWarning)\n",
        "/home/jb/.local/lib/python2.7/site-packages/sklearn/cluster/hierarchical.py:761: DeprecationWarning: The Ward class is deprecated since 0.14 and will be removed in 0.17. Use the AgglomerativeClustering instead.\n",
        "  \"instead.\", DeprecationWarning)\n"
       ]
      },
      {
       "output_type": "stream",
       "stream": "stdout",
       "text": [
        " 103.0 6 27 2640\n",
        "(231305,) (2199,) (2199,)\n",
        "wtf: curr_label, nclust, ridx, nvoxroi "
       ]
      },
      {
       "output_type": "stream",
       "stream": "stdout",
       "text": [
        " 109.0 5 28 2199\n",
        "(231305,) (2054,) (2054,)\n",
        "wtf: curr_label, nclust, ridx, nvoxroi "
       ]
      },
      {
       "output_type": "stream",
       "stream": "stderr",
       "text": [
        "/home/jb/.local/lib/python2.7/site-packages/sklearn/cluster/hierarchical.py:761: DeprecationWarning: The Ward class is deprecated since 0.14 and will be removed in 0.17. Use the AgglomerativeClustering instead.\n",
        "  \"instead.\", DeprecationWarning)\n",
        "/home/jb/.local/lib/python2.7/site-packages/sklearn/cluster/hierarchical.py:761: DeprecationWarning: The Ward class is deprecated since 0.14 and will be removed in 0.17. Use the AgglomerativeClustering instead.\n",
        "  \"instead.\", DeprecationWarning)\n"
       ]
      },
      {
       "output_type": "stream",
       "stream": "stdout",
       "text": [
        " 114.0 4 29 2054\n",
        "(231305,) (5069,) (5069,)\n",
        "wtf: curr_label, nclust, ridx, nvoxroi "
       ]
      },
      {
       "output_type": "stream",
       "stream": "stdout",
       "text": [
        " 118.0 11 30 5069\n",
        "(231305,) (1049,) (1049,)\n",
        "wtf: curr_label, nclust, ridx, nvoxroi "
       ]
      },
      {
       "output_type": "stream",
       "stream": "stderr",
       "text": [
        "/home/jb/.local/lib/python2.7/site-packages/sklearn/cluster/hierarchical.py:761: DeprecationWarning: The Ward class is deprecated since 0.14 and will be removed in 0.17. Use the AgglomerativeClustering instead.\n",
        "  \"instead.\", DeprecationWarning)\n",
        "/home/jb/.local/lib/python2.7/site-packages/sklearn/cluster/hierarchical.py:761: DeprecationWarning: The Ward class is deprecated since 0.14 and will be removed in 0.17. Use the AgglomerativeClustering instead.\n",
        "  \"instead.\", DeprecationWarning)\n"
       ]
      },
      {
       "output_type": "stream",
       "stream": "stdout",
       "text": [
        " 129.0 2 31 1049\n",
        "(231305,) (1750,) (1750,)\n",
        "wtf: curr_label, nclust, ridx, nvoxroi "
       ]
      },
      {
       "output_type": "stream",
       "stream": "stdout",
       "text": [
        " 131.0 4 32 1750\n",
        "(231305,)"
       ]
      },
      {
       "output_type": "stream",
       "stream": "stdout",
       "text": [
        " (1418,) (1418,)\n",
        "wtf: curr_label, nclust, ridx, nvoxroi "
       ]
      },
      {
       "output_type": "stream",
       "stream": "stderr",
       "text": [
        "/home/jb/.local/lib/python2.7/site-packages/sklearn/cluster/hierarchical.py:761: DeprecationWarning: The Ward class is deprecated since 0.14 and will be removed in 0.17. Use the AgglomerativeClustering instead.\n",
        "  \"instead.\", DeprecationWarning)\n",
        "/home/jb/.local/lib/python2.7/site-packages/sklearn/cluster/hierarchical.py:761: DeprecationWarning: The Ward class is deprecated since 0.14 and will be removed in 0.17. Use the AgglomerativeClustering instead.\n",
        "  \"instead.\", DeprecationWarning)\n"
       ]
      },
      {
       "output_type": "stream",
       "stream": "stdout",
       "text": [
        " 137.0 3 35 1418\n",
        "(231305,) (924,) (924,)\n",
        "wtf: curr_label, nclust, ridx, nvoxroi "
       ]
      },
      {
       "output_type": "stream",
       "stream": "stdout",
       "text": [
        " 141.0 2 37 924\n",
        "(231305,) (815,) (815,)\n",
        "wtf: curr_label, nclust, ridx, nvoxroi "
       ]
      },
      {
       "output_type": "stream",
       "stream": "stderr",
       "text": [
        "/home/jb/.local/lib/python2.7/site-packages/sklearn/cluster/hierarchical.py:761: DeprecationWarning: The Ward class is deprecated since 0.14 and will be removed in 0.17. Use the AgglomerativeClustering instead.\n",
        "  \"instead.\", DeprecationWarning)\n",
        "/home/jb/.local/lib/python2.7/site-packages/sklearn/cluster/hierarchical.py:761: DeprecationWarning: The Ward class is deprecated since 0.14 and will be removed in 0.17. Use the AgglomerativeClustering instead.\n",
        "  \"instead.\", DeprecationWarning)\n"
       ]
      },
      {
       "output_type": "stream",
       "stream": "stdout",
       "text": [
        " 144.0 2 39 815\n",
        "(231305,) (947,) (947,)\n",
        "wtf: curr_label, nclust, ridx, nvoxroi "
       ]
      },
      {
       "output_type": "stream",
       "stream": "stdout",
       "text": [
        " 147.0 2 41 947\n",
        "(231305,)"
       ]
      },
      {
       "output_type": "stream",
       "stream": "stdout",
       "text": [
        " (2724,) (2724,)\n",
        "wtf: curr_label, nclust, ridx, nvoxroi "
       ]
      },
      {
       "output_type": "stream",
       "stream": "stderr",
       "text": [
        "/home/jb/.local/lib/python2.7/site-packages/sklearn/cluster/hierarchical.py:761: DeprecationWarning: The Ward class is deprecated since 0.14 and will be removed in 0.17. Use the AgglomerativeClustering instead.\n",
        "  \"instead.\", DeprecationWarning)\n",
        "/home/jb/.local/lib/python2.7/site-packages/sklearn/cluster/hierarchical.py:761: DeprecationWarning: The Ward class is deprecated since 0.14 and will be removed in 0.17. Use the AgglomerativeClustering instead.\n",
        "  \"instead.\", DeprecationWarning)\n"
       ]
      },
      {
       "output_type": "stream",
       "stream": "stdout",
       "text": [
        " 154.0 6 47 2724\n",
        "(231305,) (7374,) (7374,)\n",
        "wtf: curr_label, nclust, ridx, nvoxroi "
       ]
      },
      {
       "output_type": "stream",
       "stream": "stdout",
       "text": [
        " 160.0 16 48 7374\n",
        "(231305,) (1225,) (1225,)\n",
        "wtf: curr_label, nclust, ridx, nvoxroi "
       ]
      },
      {
       "output_type": "stream",
       "stream": "stderr",
       "text": [
        "/home/jb/.local/lib/python2.7/site-packages/sklearn/cluster/hierarchical.py:761: DeprecationWarning: The Ward class is deprecated since 0.14 and will be removed in 0.17. Use the AgglomerativeClustering instead.\n",
        "  \"instead.\", DeprecationWarning)\n",
        "/home/jb/.local/lib/python2.7/site-packages/sklearn/cluster/hierarchical.py:761: DeprecationWarning: The Ward class is deprecated since 0.14 and will be removed in 0.17. Use the AgglomerativeClustering instead.\n",
        "  \"instead.\", DeprecationWarning)\n"
       ]
      },
      {
       "output_type": "stream",
       "stream": "stdout",
       "text": [
        " 176.0 3 49 1225\n",
        "(231305,) (2592,) (2592,)\n",
        "wtf: curr_label, nclust, ridx, nvoxroi "
       ]
      },
      {
       "output_type": "stream",
       "stream": "stdout",
       "text": [
        " 179.0 6 50 2592\n",
        "(231305,) (2224,) (2224,)\n",
        "wtf: curr_label, nclust, ridx, nvoxroi "
       ]
      },
      {
       "output_type": "stream",
       "stream": "stdout",
       "text": [
        " 185.0 5 51 2224\n",
        "(231305,)"
       ]
      },
      {
       "output_type": "stream",
       "stream": "stderr",
       "text": [
        "/home/jb/.local/lib/python2.7/site-packages/sklearn/cluster/hierarchical.py:761: DeprecationWarning: The Ward class is deprecated since 0.14 and will be removed in 0.17. Use the AgglomerativeClustering instead.\n",
        "  \"instead.\", DeprecationWarning)\n",
        "/home/jb/.local/lib/python2.7/site-packages/sklearn/cluster/hierarchical.py:761: DeprecationWarning: The Ward class is deprecated since 0.14 and will be removed in 0.17. Use the AgglomerativeClustering instead.\n",
        "  \"instead.\", DeprecationWarning)\n"
       ]
      },
      {
       "output_type": "stream",
       "stream": "stdout",
       "text": [
        " (3460,) (3460,)\n",
        "wtf: curr_label, nclust, ridx, nvoxroi "
       ]
      },
      {
       "output_type": "stream",
       "stream": "stdout",
       "text": [
        " 192.0 7 54 3460\n",
        "(231305,) (2421,) (2421,)\n",
        "wtf: curr_label, nclust, ridx, nvoxroi "
       ]
      },
      {
       "output_type": "stream",
       "stream": "stdout",
       "text": [
        " 199.0 5 55 2421\n",
        "(231305,)"
       ]
      },
      {
       "output_type": "stream",
       "stream": "stderr",
       "text": [
        "/home/jb/.local/lib/python2.7/site-packages/sklearn/cluster/hierarchical.py:761: DeprecationWarning: The Ward class is deprecated since 0.14 and will be removed in 0.17. Use the AgglomerativeClustering instead.\n",
        "  \"instead.\", DeprecationWarning)\n",
        "/home/jb/.local/lib/python2.7/site-packages/sklearn/cluster/hierarchical.py:761: DeprecationWarning: The Ward class is deprecated since 0.14 and will be removed in 0.17. Use the AgglomerativeClustering instead.\n",
        "  \"instead.\", DeprecationWarning)\n"
       ]
      },
      {
       "output_type": "stream",
       "stream": "stdout",
       "text": [
        " (1216,) (1216,)\n",
        "wtf: curr_label, nclust, ridx, nvoxroi "
       ]
      },
      {
       "output_type": "stream",
       "stream": "stdout",
       "text": [
        " 207.0 3 59 1216\n",
        "(231305,) (963,) (963,)\n",
        "wtf: curr_label, nclust, ridx, nvoxroi "
       ]
      },
      {
       "output_type": "stream",
       "stream": "stderr",
       "text": [
        "/home/jb/.local/lib/python2.7/site-packages/sklearn/cluster/hierarchical.py:761: DeprecationWarning: The Ward class is deprecated since 0.14 and will be removed in 0.17. Use the AgglomerativeClustering instead.\n",
        "  \"instead.\", DeprecationWarning)\n",
        "/home/jb/.local/lib/python2.7/site-packages/sklearn/cluster/hierarchical.py:761: DeprecationWarning: The Ward class is deprecated since 0.14 and will be removed in 0.17. Use the AgglomerativeClustering instead.\n",
        "  \"instead.\", DeprecationWarning)\n"
       ]
      },
      {
       "output_type": "stream",
       "stream": "stdout",
       "text": [
        " 210.0 2 60 963\n",
        "(231305,) (863,) (863,)\n",
        "wtf: curr_label, nclust, ridx, nvoxroi "
       ]
      },
      {
       "output_type": "stream",
       "stream": "stdout",
       "text": [
        " 213.0 2 62 863\n",
        "(231305,) (721,) (721,)\n",
        "wtf: curr_label, nclust, ridx, nvoxroi "
       ]
      },
      {
       "output_type": "stream",
       "stream": "stderr",
       "text": [
        "/home/jb/.local/lib/python2.7/site-packages/sklearn/cluster/hierarchical.py:761: DeprecationWarning: The Ward class is deprecated since 0.14 and will be removed in 0.17. Use the AgglomerativeClustering instead.\n",
        "  \"instead.\", DeprecationWarning)\n",
        "/home/jb/.local/lib/python2.7/site-packages/sklearn/cluster/hierarchical.py:761: DeprecationWarning: The Ward class is deprecated since 0.14 and will be removed in 0.17. Use the AgglomerativeClustering instead.\n",
        "  \"instead.\", DeprecationWarning)\n"
       ]
      },
      {
       "output_type": "stream",
       "stream": "stdout",
       "text": [
        " 215.0 2 63 721\n",
        "(231305,) (2887,) (2887,)\n",
        "wtf: curr_label, nclust, ridx, nvoxroi "
       ]
      },
      {
       "output_type": "stream",
       "stream": "stdout",
       "text": [
        " 217.0 6 64 2887\n",
        "(231305,) (1187,) (1187,)\n",
        "wtf: curr_label, nclust, ridx, nvoxroi "
       ]
      },
      {
       "output_type": "stream",
       "stream": "stderr",
       "text": [
        "/home/jb/.local/lib/python2.7/site-packages/sklearn/cluster/hierarchical.py:761: DeprecationWarning: The Ward class is deprecated since 0.14 and will be removed in 0.17. Use the AgglomerativeClustering instead.\n",
        "  \"instead.\", DeprecationWarning)\n",
        "/home/jb/.local/lib/python2.7/site-packages/sklearn/cluster/hierarchical.py:761: DeprecationWarning: The Ward class is deprecated since 0.14 and will be removed in 0.17. Use the AgglomerativeClustering instead.\n",
        "  \"instead.\", DeprecationWarning)\n"
       ]
      },
      {
       "output_type": "stream",
       "stream": "stdout",
       "text": [
        " 223.0 3 65 1187\n",
        "(231305,) (731,) (731,)\n",
        "wtf: curr_label, nclust, ridx, nvoxroi "
       ]
      },
      {
       "output_type": "stream",
       "stream": "stdout",
       "text": [
        " 226.0 2 66 731\n",
        "(231305,) (1027,) (1027,)\n",
        "wtf: curr_label, nclust, ridx, nvoxroi "
       ]
      },
      {
       "output_type": "stream",
       "stream": "stderr",
       "text": [
        "/home/jb/.local/lib/python2.7/site-packages/sklearn/cluster/hierarchical.py:761: DeprecationWarning: The Ward class is deprecated since 0.14 and will be removed in 0.17. Use the AgglomerativeClustering instead.\n",
        "  \"instead.\", DeprecationWarning)\n",
        "/home/jb/.local/lib/python2.7/site-packages/sklearn/cluster/hierarchical.py:761: DeprecationWarning: The Ward class is deprecated since 0.14 and will be removed in 0.17. Use the AgglomerativeClustering instead.\n",
        "  \"instead.\", DeprecationWarning)\n"
       ]
      },
      {
       "output_type": "stream",
       "stream": "stdout",
       "text": [
        " 228.0 2 67 1027\n",
        "(231305,) (1212,) (1212,)\n",
        "wtf: curr_label, nclust, ridx, nvoxroi "
       ]
      },
      {
       "output_type": "stream",
       "stream": "stdout",
       "text": [
        " 230.0 3 68 1212\n",
        "(231305,) (4133,) (4133,)\n",
        "wtf: curr_label, nclust, ridx, nvoxroi "
       ]
      },
      {
       "output_type": "stream",
       "stream": "stderr",
       "text": [
        "/home/jb/.local/lib/python2.7/site-packages/sklearn/cluster/hierarchical.py:761: DeprecationWarning: The Ward class is deprecated since 0.14 and will be removed in 0.17. Use the AgglomerativeClustering instead.\n",
        "  \"instead.\", DeprecationWarning)\n",
        "/home/jb/.local/lib/python2.7/site-packages/sklearn/cluster/hierarchical.py:761: DeprecationWarning: The Ward class is deprecated since 0.14 and will be removed in 0.17. Use the AgglomerativeClustering instead.\n",
        "  \"instead.\", DeprecationWarning)\n"
       ]
      },
      {
       "output_type": "stream",
       "stream": "stdout",
       "text": [
        " 233.0 9 69 4133\n",
        "(231305,) (1767,) (1767,)\n",
        "wtf: curr_label, nclust, ridx, nvoxroi "
       ]
      },
      {
       "output_type": "stream",
       "stream": "stdout",
       "text": [
        " 242.0 4 70 1767\n",
        "(231305,) (1412,) (1412,)\n",
        "wtf: curr_label, nclust, ridx, nvoxroi "
       ]
      },
      {
       "output_type": "stream",
       "stream": "stdout",
       "text": [
        " 247.0 3 72 1412\n",
        "(231305,)"
       ]
      },
      {
       "output_type": "stream",
       "stream": "stderr",
       "text": [
        "/home/jb/.local/lib/python2.7/site-packages/sklearn/cluster/hierarchical.py:761: DeprecationWarning: The Ward class is deprecated since 0.14 and will be removed in 0.17. Use the AgglomerativeClustering instead.\n",
        "  \"instead.\", DeprecationWarning)\n",
        "/home/jb/.local/lib/python2.7/site-packages/sklearn/cluster/hierarchical.py:761: DeprecationWarning: The Ward class is deprecated since 0.14 and will be removed in 0.17. Use the AgglomerativeClustering instead.\n",
        "  \"instead.\", DeprecationWarning)\n"
       ]
      },
      {
       "output_type": "stream",
       "stream": "stdout",
       "text": [
        " (1514,) (1514,)\n",
        "wtf: curr_label, nclust, ridx, nvoxroi "
       ]
      },
      {
       "output_type": "stream",
       "stream": "stdout",
       "text": [
        " 252.0 3 75 1514\n",
        "(231305,) (723,) (723,)\n",
        "wtf: curr_label, nclust, ridx, nvoxroi "
       ]
      },
      {
       "output_type": "stream",
       "stream": "stderr",
       "text": [
        "/home/jb/.local/lib/python2.7/site-packages/sklearn/cluster/hierarchical.py:761: DeprecationWarning: The Ward class is deprecated since 0.14 and will be removed in 0.17. Use the AgglomerativeClustering instead.\n",
        "  \"instead.\", DeprecationWarning)\n",
        "/home/jb/.local/lib/python2.7/site-packages/sklearn/cluster/hierarchical.py:761: DeprecationWarning: The Ward class is deprecated since 0.14 and will be removed in 0.17. Use the AgglomerativeClustering instead.\n",
        "  \"instead.\", DeprecationWarning)\n"
       ]
      },
      {
       "output_type": "stream",
       "stream": "stdout",
       "text": [
        " 256.0 2 77 723\n",
        "(231305,) (713,) (713,)\n",
        "wtf: curr_label, nclust, ridx, nvoxroi "
       ]
      },
      {
       "output_type": "stream",
       "stream": "stdout",
       "text": [
        " 259.0 2 79 713\n",
        "(231305,) (772,) (772,)\n",
        "wtf: curr_label, nclust, ridx, nvoxroi "
       ]
      },
      {
       "output_type": "stream",
       "stream": "stdout",
       "text": [
        " 262.0 2 81 772\n",
        "(231305,)"
       ]
      },
      {
       "output_type": "stream",
       "stream": "stderr",
       "text": [
        "/home/jb/.local/lib/python2.7/site-packages/sklearn/cluster/hierarchical.py:761: DeprecationWarning: The Ward class is deprecated since 0.14 and will be removed in 0.17. Use the AgglomerativeClustering instead.\n",
        "  \"instead.\", DeprecationWarning)\n",
        "/home/jb/.local/lib/python2.7/site-packages/sklearn/cluster/hierarchical.py:761: DeprecationWarning: The Ward class is deprecated since 0.14 and will be removed in 0.17. Use the AgglomerativeClustering instead.\n",
        "  \"instead.\", DeprecationWarning)\n"
       ]
      },
      {
       "output_type": "stream",
       "stream": "stdout",
       "text": [
        " (2456,) (2456,)\n",
        "wtf: curr_label, nclust, ridx, nvoxroi "
       ]
      },
      {
       "output_type": "stream",
       "stream": "stdout",
       "text": [
        " 269.0 5 87 2456\n",
        "(231305,) (28618,) (28618,)\n",
        "wtf: curr_label, nclust, ridx, nvoxroi "
       ]
      },
      {
       "output_type": "stream",
       "stream": "stderr",
       "text": [
        "/home/jb/.local/lib/python2.7/site-packages/sklearn/cluster/hierarchical.py:761: DeprecationWarning: The Ward class is deprecated since 0.14 and will be removed in 0.17. Use the AgglomerativeClustering instead.\n",
        "  \"instead.\", DeprecationWarning)\n",
        "/home/jb/.local/lib/python2.7/site-packages/sklearn/cluster/hierarchical.py:761: DeprecationWarning: The Ward class is deprecated since 0.14 and will be removed in 0.17. Use the AgglomerativeClustering instead.\n",
        "  \"instead.\", DeprecationWarning)\n"
       ]
      },
      {
       "output_type": "stream",
       "stream": "stdout",
       "text": [
        " 274.0 62 88 28618\n",
        "(231305,) (1294,) (1294,)\n",
        "wtf: curr_label, nclust, ridx, nvoxroi "
       ]
      },
      {
       "output_type": "stream",
       "stream": "stdout",
       "text": [
        " 336.0 3 89 1294\n",
        "(231305,) (1592,) (1592,)\n",
        "wtf: curr_label, nclust, ridx, nvoxroi "
       ]
      },
      {
       "output_type": "stream",
       "stream": "stderr",
       "text": [
        "/home/jb/.local/lib/python2.7/site-packages/sklearn/cluster/hierarchical.py:761: DeprecationWarning: The Ward class is deprecated since 0.14 and will be removed in 0.17. Use the AgglomerativeClustering instead.\n",
        "  \"instead.\", DeprecationWarning)\n",
        "/home/jb/.local/lib/python2.7/site-packages/sklearn/cluster/hierarchical.py:761: DeprecationWarning: The Ward class is deprecated since 0.14 and will be removed in 0.17. Use the AgglomerativeClustering instead.\n",
        "  \"instead.\", DeprecationWarning)\n"
       ]
      },
      {
       "output_type": "stream",
       "stream": "stdout",
       "text": [
        " 339.0 3 90 1592\n",
        "(231305,) (944,) (944,)\n",
        "wtf: curr_label, nclust, ridx, nvoxroi "
       ]
      },
      {
       "output_type": "stream",
       "stream": "stdout",
       "text": [
        " 343.0 2 92 944\n",
        "(231305,) (6890,) (6890,)\n",
        "wtf: curr_label, nclust, ridx, nvoxroi "
       ]
      },
      {
       "output_type": "stream",
       "stream": "stdout",
       "text": [
        " 346.0 15 94 6890\n",
        "(231305,)"
       ]
      },
      {
       "output_type": "stream",
       "stream": "stderr",
       "text": [
        "/home/jb/.local/lib/python2.7/site-packages/sklearn/cluster/hierarchical.py:761: DeprecationWarning: The Ward class is deprecated since 0.14 and will be removed in 0.17. Use the AgglomerativeClustering instead.\n",
        "  \"instead.\", DeprecationWarning)\n",
        "/home/jb/.local/lib/python2.7/site-packages/sklearn/cluster/hierarchical.py:761: DeprecationWarning: The Ward class is deprecated since 0.14 and will be removed in 0.17. Use the AgglomerativeClustering instead.\n",
        "  \"instead.\", DeprecationWarning)\n"
       ]
      },
      {
       "output_type": "stream",
       "stream": "stdout",
       "text": [
        " (927,) (927,)\n",
        "wtf: curr_label, nclust, ridx, nvoxroi "
       ]
      },
      {
       "output_type": "stream",
       "stream": "stdout",
       "text": [
        " 361.0 2 95 927\n",
        "(231305,)"
       ]
      },
      {
       "output_type": "stream",
       "stream": "stdout",
       "text": [
        " (38550,) (38550,)\n",
        "wtf: curr_label, nclust, ridx, nvoxroi "
       ]
      },
      {
       "output_type": "stream",
       "stream": "stderr",
       "text": [
        "/home/jb/.local/lib/python2.7/site-packages/sklearn/cluster/hierarchical.py:761: DeprecationWarning: The Ward class is deprecated since 0.14 and will be removed in 0.17. Use the AgglomerativeClustering instead.\n",
        "  \"instead.\", DeprecationWarning)\n",
        "/home/jb/.local/lib/python2.7/site-packages/sklearn/cluster/hierarchical.py:761: DeprecationWarning: The Ward class is deprecated since 0.14 and will be removed in 0.17. Use the AgglomerativeClustering instead.\n",
        "  \"instead.\", DeprecationWarning)\n"
       ]
      },
      {
       "output_type": "stream",
       "stream": "stdout",
       "text": [
        " 365.0 83 98 38550\n",
        "(231305,) (1025,) (1025,)\n",
        "wtf: curr_label, nclust, ridx, nvoxroi "
       ]
      },
      {
       "output_type": "stream",
       "stream": "stdout",
       "text": [
        " 448.0 2 99 1025\n",
        "(231305,) (1404,) (1404,)\n",
        "wtf: curr_label, nclust, ridx, nvoxroi "
       ]
      },
      {
       "output_type": "stream",
       "stream": "stderr",
       "text": [
        "/home/jb/.local/lib/python2.7/site-packages/sklearn/cluster/hierarchical.py:761: DeprecationWarning: The Ward class is deprecated since 0.14 and will be removed in 0.17. Use the AgglomerativeClustering instead.\n",
        "  \"instead.\", DeprecationWarning)\n",
        "/home/jb/.local/lib/python2.7/site-packages/sklearn/cluster/hierarchical.py:761: DeprecationWarning: The Ward class is deprecated since 0.14 and will be removed in 0.17. Use the AgglomerativeClustering instead.\n",
        "  \"instead.\", DeprecationWarning)\n"
       ]
      },
      {
       "output_type": "stream",
       "stream": "stdout",
       "text": [
        " 450.0 3 100 1404\n",
        "(231305,) (824,) (824,)\n",
        "wtf: curr_label, nclust, ridx, nvoxroi "
       ]
      },
      {
       "output_type": "stream",
       "stream": "stdout",
       "text": [
        " 454.0 2 102 824\n",
        "(231305,) (794,) (794,)\n",
        "wtf: curr_label, nclust, ridx, nvoxroi "
       ]
      },
      {
       "output_type": "stream",
       "stream": "stdout",
       "text": [
        " 457.0 2 104 794\n",
        "(231305,)"
       ]
      },
      {
       "output_type": "stream",
       "stream": "stderr",
       "text": [
        "/home/jb/.local/lib/python2.7/site-packages/sklearn/cluster/hierarchical.py:761: DeprecationWarning: The Ward class is deprecated since 0.14 and will be removed in 0.17. Use the AgglomerativeClustering instead.\n",
        "  \"instead.\", DeprecationWarning)\n",
        "/home/jb/.local/lib/python2.7/site-packages/sklearn/cluster/hierarchical.py:761: DeprecationWarning: The Ward class is deprecated since 0.14 and will be removed in 0.17. Use the AgglomerativeClustering instead.\n",
        "  \"instead.\", DeprecationWarning)\n"
       ]
      },
      {
       "output_type": "stream",
       "stream": "stdout",
       "text": [
        " (743,) (743,)\n",
        "wtf: curr_label, nclust, ridx, nvoxroi "
       ]
      },
      {
       "output_type": "stream",
       "stream": "stdout",
       "text": [
        " 461.0 2 107 743\n",
        "(231305,) (809,) (809,)\n",
        "wtf: curr_label, nclust, ridx, nvoxroi "
       ]
      },
      {
       "output_type": "stream",
       "stream": "stderr",
       "text": [
        "/home/jb/.local/lib/python2.7/site-packages/sklearn/cluster/hierarchical.py:761: DeprecationWarning: The Ward class is deprecated since 0.14 and will be removed in 0.17. Use the AgglomerativeClustering instead.\n",
        "  \"instead.\", DeprecationWarning)\n",
        "/home/jb/.local/lib/python2.7/site-packages/sklearn/cluster/hierarchical.py:761: DeprecationWarning: The Ward class is deprecated since 0.14 and will be removed in 0.17. Use the AgglomerativeClustering instead.\n",
        "  \"instead.\", DeprecationWarning)\n"
       ]
      },
      {
       "output_type": "stream",
       "stream": "stdout",
       "text": [
        " 463.0 2 108 809\n",
        "(231305,) (719,) (719,)\n",
        "wtf: curr_label, nclust, ridx, nvoxroi "
       ]
      },
      {
       "output_type": "stream",
       "stream": "stdout",
       "text": [
        " 465.0 2 109 719\n",
        "(231305,) (717,) (717,)\n",
        "wtf: curr_label, nclust, ridx, nvoxroi "
       ]
      },
      {
       "output_type": "stream",
       "stream": "stderr",
       "text": [
        "/home/jb/.local/lib/python2.7/site-packages/sklearn/cluster/hierarchical.py:761: DeprecationWarning: The Ward class is deprecated since 0.14 and will be removed in 0.17. Use the AgglomerativeClustering instead.\n",
        "  \"instead.\", DeprecationWarning)\n",
        "/home/jb/.local/lib/python2.7/site-packages/sklearn/cluster/hierarchical.py:761: DeprecationWarning: The Ward class is deprecated since 0.14 and will be removed in 0.17. Use the AgglomerativeClustering instead.\n",
        "  \"instead.\", DeprecationWarning)\n"
       ]
      },
      {
       "output_type": "stream",
       "stream": "stdout",
       "text": [
        " 467.0 2 110 717\n",
        "(231305,) (1709,) (1709,)\n",
        "wtf: curr_label, nclust, ridx, nvoxroi "
       ]
      },
      {
       "output_type": "stream",
       "stream": "stdout",
       "text": [
        " 469.0 4 111 1709\n",
        "(231305,) (1570,) (1570,)\n",
        "wtf: curr_label, nclust, ridx, nvoxroi "
       ]
      },
      {
       "output_type": "stream",
       "stream": "stderr",
       "text": [
        "/home/jb/.local/lib/python2.7/site-packages/sklearn/cluster/hierarchical.py:761: DeprecationWarning: The Ward class is deprecated since 0.14 and will be removed in 0.17. Use the AgglomerativeClustering instead.\n",
        "  \"instead.\", DeprecationWarning)\n",
        "/home/jb/.local/lib/python2.7/site-packages/sklearn/cluster/hierarchical.py:761: DeprecationWarning: The Ward class is deprecated since 0.14 and will be removed in 0.17. Use the AgglomerativeClustering instead.\n",
        "  \"instead.\", DeprecationWarning)\n"
       ]
      },
      {
       "output_type": "stream",
       "stream": "stdout",
       "text": [
        " 474.0 3 113 1570\n",
        "(231305,) (2711,) (2711,)\n",
        "wtf: curr_label, nclust, ridx, nvoxroi "
       ]
      },
      {
       "output_type": "stream",
       "stream": "stdout",
       "text": [
        " 477.0 6 114 2711\n",
        "(231305,) (2644,) (2644,)\n",
        "wtf: curr_label, nclust, ridx, nvoxroi "
       ]
      },
      {
       "output_type": "stream",
       "stream": "stderr",
       "text": [
        "/home/jb/.local/lib/python2.7/site-packages/sklearn/cluster/hierarchical.py:761: DeprecationWarning: The Ward class is deprecated since 0.14 and will be removed in 0.17. Use the AgglomerativeClustering instead.\n",
        "  \"instead.\", DeprecationWarning)\n",
        "/home/jb/.local/lib/python2.7/site-packages/sklearn/cluster/hierarchical.py:761: DeprecationWarning: The Ward class is deprecated since 0.14 and will be removed in 0.17. Use the AgglomerativeClustering instead.\n",
        "  \"instead.\", DeprecationWarning)\n"
       ]
      },
      {
       "output_type": "stream",
       "stream": "stdout",
       "text": [
        " 483.0 6 116 2644\n",
        "(231305,) (1894,) (1894,)\n",
        "wtf: curr_label, nclust, ridx, nvoxroi "
       ]
      },
      {
       "output_type": "stream",
       "stream": "stdout",
       "text": [
        " 489.0 4 117 1894\n",
        "(231305,) (1819,) (1819,)\n",
        "wtf: curr_label, nclust, ridx, nvoxroi "
       ]
      },
      {
       "output_type": "stream",
       "stream": "stderr",
       "text": [
        "/home/jb/.local/lib/python2.7/site-packages/sklearn/cluster/hierarchical.py:761: DeprecationWarning: The Ward class is deprecated since 0.14 and will be removed in 0.17. Use the AgglomerativeClustering instead.\n",
        "  \"instead.\", DeprecationWarning)\n",
        "/home/jb/.local/lib/python2.7/site-packages/sklearn/cluster/hierarchical.py:761: DeprecationWarning: The Ward class is deprecated since 0.14 and will be removed in 0.17. Use the AgglomerativeClustering instead.\n",
        "  \"instead.\", DeprecationWarning)\n"
       ]
      },
      {
       "output_type": "stream",
       "stream": "stdout",
       "text": [
        " 494.0 4 119 1819\n",
        "(231305,) (764,) (764,)\n",
        "wtf: curr_label, nclust, ridx, nvoxroi "
       ]
      },
      {
       "output_type": "stream",
       "stream": "stdout",
       "text": [
        " 498.0 2 120 764\n",
        "(231305,) (878,) (878,)\n",
        "wtf: curr_label, nclust, ridx, nvoxroi "
       ]
      },
      {
       "output_type": "stream",
       "stream": "stderr",
       "text": [
        "/home/jb/.local/lib/python2.7/site-packages/sklearn/cluster/hierarchical.py:761: DeprecationWarning: The Ward class is deprecated since 0.14 and will be removed in 0.17. Use the AgglomerativeClustering instead.\n",
        "  \"instead.\", DeprecationWarning)\n",
        "/home/jb/.local/lib/python2.7/site-packages/sklearn/cluster/hierarchical.py:761: DeprecationWarning: The Ward class is deprecated since 0.14 and will be removed in 0.17. Use the AgglomerativeClustering instead.\n",
        "  \"instead.\", DeprecationWarning)\n"
       ]
      },
      {
       "output_type": "stream",
       "stream": "stdout",
       "text": [
        " 501.0 2 122 878\n",
        "(231305,) (792,) (792,)\n",
        "wtf: curr_label, nclust, ridx, nvoxroi "
       ]
      },
      {
       "output_type": "stream",
       "stream": "stdout",
       "text": [
        " 503.0 2 123 792\n",
        "(231305,) (774,) (774,)\n",
        "wtf: curr_label, nclust, ridx, nvoxroi "
       ]
      },
      {
       "output_type": "stream",
       "stream": "stdout",
       "text": [
        " 506.0 2 125 774\n"
       ]
      },
      {
       "output_type": "stream",
       "stream": "stderr",
       "text": [
        "/home/jb/.local/lib/python2.7/site-packages/sklearn/cluster/hierarchical.py:761: DeprecationWarning: The Ward class is deprecated since 0.14 and will be removed in 0.17. Use the AgglomerativeClustering instead.\n",
        "  \"instead.\", DeprecationWarning)\n"
       ]
      }
     ],
     "prompt_number": 107
    },
    {
     "cell_type": "code",
     "collapsed": false,
     "input": [
      "#print newlabels"
     ],
     "language": "python",
     "metadata": {},
     "outputs": [],
     "prompt_number": 108
    },
    {
     "cell_type": "code",
     "collapsed": false,
     "input": [
      "print type(newlabels)\n",
      "\n",
      "func_atlas = nib.nifti1.Nifti1Image(template, atlas.get_affine())\n",
      "anafunc_atlas_name = 'jba_' + \"%04d\" % NROI + '.nii'\n",
      "print anafunc_atlas_name\n",
      "\n",
      "anafunc_filename = osp.join(HOME, 'code', 'regions', 'regions', anafunc_atlas_name)\n",
      "func_atlas.to_filename(anafunc_filename)\n",
      "\n",
      "fbase, ext = osp.splitext(anafunc_filename)\n",
      "np.save(fbase+'.labels', np.asarray(newlabels))\n",
      "with open(fbase+'.json','w') as f:\n",
      "    json.dump([(str(l[0]), l[1:]) for l in newlabels], f)\n"
     ],
     "language": "python",
     "metadata": {},
     "outputs": [
      {
       "output_type": "stream",
       "stream": "stdout",
       "text": [
        "<type 'list'>\n",
        "jba_0500.nii\n"
       ]
      }
     ],
     "prompt_number": 109
    },
    {
     "cell_type": "code",
     "collapsed": false,
     "input": [
      "np.unique(template).max()"
     ],
     "language": "python",
     "metadata": {},
     "outputs": [
      {
       "metadata": {},
       "output_type": "pyout",
       "prompt_number": 110,
       "text": [
        "516.0"
       ]
      }
     ],
     "prompt_number": 110
    },
    {
     "cell_type": "code",
     "collapsed": false,
     "input": [
      "print template.max()\n",
      "template.shape"
     ],
     "language": "python",
     "metadata": {},
     "outputs": [
      {
       "output_type": "stream",
       "stream": "stdout",
       "text": [
        "516.0\n"
       ]
      },
      {
       "metadata": {},
       "output_type": "pyout",
       "prompt_number": 111,
       "text": [
        "(91, 109, 91)"
       ]
      }
     ],
     "prompt_number": 111
    },
    {
     "cell_type": "code",
     "collapsed": false,
     "input": [
      "print [(template == ridx).sum() for ridx in range(int(template.max())+1)]"
     ],
     "language": "python",
     "metadata": {},
     "outputs": [
      {
       "output_type": "stream",
       "stream": "stdout",
       "text": [
        "[109, 88, 95, 183, 600, 119, 376, 188, 1015, 1393, 853, 497, 430, 114, 739, 40, 98, 1195, 112, 121, 316, 869, 947, 504, 115, 245, 154, 114, 240, 2021, 122, 573, 136, 643, 71, 80, 56, 133, 176, 143, 209, 607, 2640, 49, 136, 93, 82, 216, 1979, 341, 609, 513, 61, 369, 978, 29, 835, 403, 155, 949, 32, 714, 78, 218, 109, 481, 263, 136, 159, 2249, 83, 224, 1178, 292, 706, 77, 72, 1022, 281, 687, 42, 85, 222, 144, 259, 163, 321, 72, 371, 134, 3068, 54, 249, 1543, 219, 585, 81, 814, 144, 234, 976, 134, 176, 855, 100, 93, 125, 1786, 246, 290, 71, 76, 187, 357, 1508, 197, 166, 221, 1470, 54, 105, 337, 170, 1129, 434, 658, 401, 701, 788, 292, 161, 888, 68, 148, 301, 1233, 599, 410, 300, 475, 643, 361, 37, 887, 570, 295, 520, 351, 36, 911, 536, 363, 297, 563, 75, 95, 135, 144, 183, 374, 1793, 78, 214, 338, 751, 797, 553, 349, 215, 418, 444, 277, 478, 591, 774, 651, 446, 477, 295, 453, 101, 91, 307, 357, 1106, 630, 90, 86, 595, 588, 865, 474, 603, 87, 123, 337, 880, 468, 949, 616, 516, 739, 441, 341, 384, 267, 491, 404, 137, 294, 785, 156, 807, 372, 327, 536, 292, 429, 225, 230, 278, 1288, 390, 476, 203, 293, 691, 128, 603, 793, 234, 383, 566, 263, 104, 196, 341, 450, 236, 832, 850, 633, 491, 348, 472, 584, 363, 552, 86, 344, 982, 614, 305, 101, 526, 887, 313, 56, 667, 603, 378, 335, 267, 70, 702, 440, 304, 225, 330, 167, 306, 297, 412, 1115, 326, 48, 36, 98, 76, 125, 94, 84, 74, 214, 207, 120, 71, 67, 123, 128, 65, 314, 201, 103, 296, 230, 185, 244, 111, 439, 87, 191, 922, 291, 99, 334, 782, 101, 234, 146, 200, 577, 162, 441, 93, 115, 280, 1494, 271, 141, 147, 304, 262, 162, 276, 1245, 177, 135, 758, 274, 445, 262, 253, 1617, 451, 6910, 4226, 71, 446, 777, 192, 335, 1065, 572, 45, 899, 312, 146, 182, 138, 130, 169, 281, 931, 291, 231, 230, 591, 452, 963, 1562, 593, 39, 888, 475, 146, 50, 37, 54, 92, 96, 200, 81, 124, 90, 75, 139, 218, 268, 186, 270, 374, 117, 169, 156, 232, 202, 65, 469, 401, 216, 152, 681, 326, 107, 164, 283, 195, 533, 394, 304, 224, 654, 121, 709, 172, 153, 157, 668, 201, 338, 280, 160, 220, 554, 639, 265, 685, 208, 625, 624, 302, 703, 537, 320, 486, 494, 307, 1982, 199, 764, 358, 2683, 1307, 213, 320, 1273, 556, 498, 1121, 2962, 1656, 1306, 818, 418, 256, 292, 353, 889, 117, 908, 116, 99, 1189, 515, 59, 765, 266, 239, 555, 503, 101, 163, 580, 233, 576, 216, 503, 462, 255, 141, 294, 514, 760, 352, 229, 622, 719, 89, 64, 142, 147, 193, 2076, 116, 333, 435, 389, 436, 935, 150, 134, 1409, 201, 68, 163, 155, 594, 907, 207, 557, 26, 222, 656, 332, 460, 213, 154, 620, 672, 93, 684, 607, 113, 595, 117, 41]\n"
       ]
      }
     ],
     "prompt_number": 112
    },
    {
     "cell_type": "code",
     "collapsed": false,
     "input": [
      "print avgclustsize"
     ],
     "language": "python",
     "metadata": {},
     "outputs": [
      {
       "output_type": "stream",
       "stream": "stdout",
       "text": [
        "462.61\n"
       ]
      }
     ],
     "prompt_number": 113
    },
    {
     "cell_type": "code",
     "collapsed": false,
     "input": [
      "import matplotlib.pyplot as plt\n",
      "\n",
      "def show_imgs(imgs, pos, titles=None, cmap=\"gray\", interp=\"nearest\"):\n",
      "    \"\"\"\n",
      "    \"\"\"\n",
      "    \n",
      "    Nimg = len(imgs)\n",
      "    \n",
      "    if (titles is None):\n",
      "        titles = ['No title']*Nimg \n",
      "    \n",
      "    if not isinstance(pos, list):\n",
      "        pos = [pos]*Nimg\n",
      "        \n",
      "    fig, ax = plt.subplots(1,Nimg)\n",
      "    \n",
      "    for ix,im in enumerate(imgs):\n",
      "        if hasattr(im, \"get_data\") and callable(getattr(im, \"get_data\")):\n",
      "            data = im.get_data()\n",
      "        else: #assume im is a 3d array\n",
      "            data = im         \n",
      "        \n",
      "        ax[ix].imshow(data[pos[ix]], cmap=cmap, interpolation=interp)\n",
      "        ax[ix].get_xaxis().set_ticks([])\n",
      "        ax[ix].get_yaxis().set_ticks([])\n",
      "        ax[ix].set_title(titles[ix])"
     ],
     "language": "python",
     "metadata": {},
     "outputs": [],
     "prompt_number": 114
    },
    {
     "cell_type": "code",
     "collapsed": false,
     "input": [
      "test = template.copy()\n",
      "xi, yi, zi = np.where(test == 3)\n",
      "print xi.shape, yi.shape\n",
      "v=20\n",
      "x,y,z = xi[v], yi[v], zi[v], \n",
      "pos = [[x, slice(None), slice(None)],\n",
      "       [slice(None), y, slice(None)],\n",
      "       [slice(None), slice(None), z]]\n",
      "titles = [\"sagittal\", \"coronal\", \"axial\"]\n",
      "show_imgs([template*10]*3, pos[::-1], cmap=\"jet\", titles=titles[::-1])"
     ],
     "language": "python",
     "metadata": {},
     "outputs": [
      {
       "output_type": "stream",
       "stream": "stdout",
       "text": [
        "(183,) (183,)\n"
       ]
      },
      {
       "metadata": {},
       "output_type": "display_data",
       "png": "[encoded data removed]",
       "text": [
        "<matplotlib.figure.Figure at 0x5e24610>"
       ]
      }
     ],
     "prompt_number": 115
    },
    {
     "cell_type": "code",
     "collapsed": false,
     "input": [
      "test = template.copy()\n",
      "xi, yi, zi = np.where(test == 162)\n",
      "print xi.shape, yi.shape\n",
      "v=20\n",
      "x,y,z = xi[v], yi[v], zi[v], \n",
      "test[test>184] = 0\n",
      "test[test<158] = -10\n",
      "pos = [[x, slice(None), slice(None)],\n",
      "       [slice(None), y, slice(None)],\n",
      "       [slice(None), slice(None), z]]\n",
      "titles = [\"sagittal\", \"coronal\", \"axial\"]\n",
      "show_imgs([test]*3, pos[::-1], cmap=\"jet\", titles=titles[::-1])"
     ],
     "language": "python",
     "metadata": {},
     "outputs": [
      {
       "output_type": "stream",
       "stream": "stdout",
       "text": [
        "(214,) (214,)\n"
       ]
      },
      {
       "metadata": {},
       "output_type": "display_data",
       "png": "[encoded data removed]",
       "text": [
        "<matplotlib.figure.Figure at 0x638fe50>"
       ]
      }
     ],
     "prompt_number": 116
    },
    {
     "cell_type": "code",
     "collapsed": false,
     "input": [
      "pattern = \"White.*\"\n",
      "import re\n",
      "regsearch = [re.search(pattern, newlabels[i][1][1]) for i in range(len(newlabels))]"
     ],
     "language": "python",
     "metadata": {},
     "outputs": [],
     "prompt_number": 117
    },
    {
     "cell_type": "code",
     "collapsed": false,
     "input": [
      "idx =  [i for (i,s) in enumerate(regsearch) if s]"
     ],
     "language": "python",
     "metadata": {},
     "outputs": [],
     "prompt_number": 118
    },
    {
     "cell_type": "code",
     "collapsed": false,
     "input": [
      "idx"
     ],
     "language": "python",
     "metadata": {},
     "outputs": [
      {
       "metadata": {},
       "output_type": "pyout",
       "prompt_number": 119,
       "text": [
        "[88, 98]"
       ]
      }
     ],
     "prompt_number": 119
    },
    {
     "cell_type": "code",
     "collapsed": false,
     "input": [
      "[len(newlabels[i][0]) for i in idx]"
     ],
     "language": "python",
     "metadata": {},
     "outputs": [
      {
       "metadata": {},
       "output_type": "pyout",
       "prompt_number": 120,
       "text": [
        "[62, 83]"
       ]
      }
     ],
     "prompt_number": 120
    },
    {
     "cell_type": "code",
     "collapsed": false,
     "input": [
      "277 - 62"
     ],
     "language": "python",
     "metadata": {},
     "outputs": [
      {
       "metadata": {},
       "output_type": "pyout",
       "prompt_number": 121,
       "text": [
        "215"
       ]
      }
     ],
     "prompt_number": 121
    },
    {
     "cell_type": "code",
     "collapsed": false,
     "input": [
      "A = grid_to_graph(n_x=dim[0], n_y=dim[1], n_z=dim[2], mask=roi_mask)"
     ],
     "language": "python",
     "metadata": {},
     "outputs": [],
     "prompt_number": 122
    },
    {
     "cell_type": "code",
     "collapsed": false,
     "input": [
      "print A.getcol(0)\n",
      "print A.getrow(0)\n",
      "print A.getnnz()\n",
      "print 3252*3252"
     ],
     "language": "python",
     "metadata": {},
     "outputs": [
      {
       "output_type": "stream",
       "stream": "stdout",
       "text": [
        "  (0, 0)\t1\n",
        "  (2, 0)\t1\n",
        "  (0, 2)\t1\n",
        "  (0, 0)\t1\n",
        "191\n",
        "10575504\n"
       ]
      }
     ],
     "prompt_number": 123
    },
    {
     "cell_type": "code",
     "collapsed": false,
     "input": [
      "mem = Memory(cachedir='.', verbose=1)\n",
      "ward = WardAgglomeration(n_clusters=nclust, connectivity=A.tolil(), memory=mem)"
     ],
     "language": "python",
     "metadata": {},
     "outputs": [
      {
       "output_type": "stream",
       "stream": "stderr",
       "text": [
        "/home/jb/.local/lib/python2.7/site-packages/sklearn/cluster/hierarchical.py:761: DeprecationWarning: The Ward class is deprecated since 0.14 and will be removed in 0.17. Use the AgglomerativeClustering instead.\n",
        "  \"instead.\", DeprecationWarning)\n"
       ]
      }
     ],
     "prompt_number": 124
    },
    {
     "cell_type": "code",
     "collapsed": false,
     "input": [
      "X = np.random.normal(loc=0.0, scale=1.0, size=(3252, 400))\n",
      "print X.shape"
     ],
     "language": "python",
     "metadata": {},
     "outputs": [
      {
       "output_type": "stream",
       "stream": "stdout",
       "text": [
        "(3252, 400)\n"
       ]
      }
     ],
     "prompt_number": 125
    },
    {
     "cell_type": "code",
     "collapsed": false,
     "input": [
      "ward.fit(X.T)"
     ],
     "language": "python",
     "metadata": {},
     "outputs": [
      {
       "ename": "ValueError",
       "evalue": "`connectivity` does not have shape (n_samples, n_samples)",
       "output_type": "pyerr",
       "traceback": [
        "\u001b[1;31m---------------------------------------------------------------------------\u001b[0m\n\u001b[1;31mValueError\u001b[0m                                Traceback (most recent call last)",
        "\u001b[1;32m<ipython-input-126-73ada162b83c>\u001b[0m in \u001b[0;36m<module>\u001b[1;34m()\u001b[0m\n\u001b[1;32m----> 1\u001b[1;33m \u001b[0mward\u001b[0m\u001b[1;33m.\u001b[0m\u001b[0mfit\u001b[0m\u001b[1;33m(\u001b[0m\u001b[0mX\u001b[0m\u001b[1;33m.\u001b[0m\u001b[0mT\u001b[0m\u001b[1;33m)\u001b[0m\u001b[1;33m\u001b[0m\u001b[0m\n\u001b[0m",
        "\u001b[1;32m/home/jb/.local/lib/python2.7/site-packages/sklearn/cluster/hierarchical.pyc\u001b[0m in \u001b[0;36mfit\u001b[1;34m(self, X, y, **params)\u001b[0m\n\u001b[0;32m    837\u001b[0m         \u001b[0mself\u001b[0m\u001b[1;33m\u001b[0m\u001b[0m\n\u001b[0;32m    838\u001b[0m         \"\"\"\n\u001b[1;32m--> 839\u001b[1;33m         \u001b[1;32mreturn\u001b[0m \u001b[0mWard\u001b[0m\u001b[1;33m.\u001b[0m\u001b[0mfit\u001b[0m\u001b[1;33m(\u001b[0m\u001b[0mself\u001b[0m\u001b[1;33m,\u001b[0m \u001b[0mX\u001b[0m\u001b[1;33m.\u001b[0m\u001b[0mT\u001b[0m\u001b[1;33m,\u001b[0m \u001b[1;33m**\u001b[0m\u001b[0mparams\u001b[0m\u001b[1;33m)\u001b[0m\u001b[1;33m\u001b[0m\u001b[0m\n\u001b[0m",
        "\u001b[1;32m/home/jb/.local/lib/python2.7/site-packages/sklearn/cluster/hierarchical.pyc\u001b[0m in \u001b[0;36mfit\u001b[1;34m(self, X)\u001b[0m\n\u001b[0;32m    633\u001b[0m             if (self.connectivity.shape[0] != X.shape[0] or\n\u001b[0;32m    634\u001b[0m                     self.connectivity.shape[1] != X.shape[0]):\n\u001b[1;32m--> 635\u001b[1;33m                 raise ValueError(\"`connectivity` does not have shape \"\n\u001b[0m\u001b[0;32m    636\u001b[0m                                  \"(n_samples, n_samples)\")\n\u001b[0;32m    637\u001b[0m \u001b[1;33m\u001b[0m\u001b[0m\n",
        "\u001b[1;31mValueError\u001b[0m: `connectivity` does not have shape (n_samples, n_samples)"
       ]
      }
     ],
     "prompt_number": 126
    },
    {
     "cell_type": "code",
     "collapsed": false,
     "input": [
      "ward.labels_.shape"
     ],
     "language": "python",
     "metadata": {},
     "outputs": []
    },
    {
     "cell_type": "code",
     "collapsed": false,
     "input": [
      "ward.labels_[:30]"
     ],
     "language": "python",
     "metadata": {},
     "outputs": []
    },
    {
     "cell_type": "code",
     "collapsed": false,
     "input": [],
     "language": "python",
     "metadata": {},
     "outputs": []
    },
    {
     "cell_type": "code",
     "collapsed": false,
     "input": [],
     "language": "python",
     "metadata": {},
     "outputs": []
    }
   ],
   "metadata": {}
  }
 ]
}