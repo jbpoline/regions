{
 "metadata": {
  "name": ""
 },
 "nbformat": 3,
 "nbformat_minor": 0,
 "worksheets": [
  {
   "cells": [
    {
     "cell_type": "code",
     "collapsed": false,
     "input": [
      "%pylab inline --no-import-all"
     ],
     "language": "python",
     "metadata": {},
     "outputs": [
      {
       "output_type": "stream",
       "stream": "stdout",
       "text": [
        "Populating the interactive namespace from numpy and matplotlib\n"
       ]
      }
     ],
     "prompt_number": 1
    },
    {
     "cell_type": "heading",
     "level": 3,
     "metadata": {},
     "source": [
      "Get Data and Anatomical Atlas"
     ]
    },
    {
     "cell_type": "code",
     "collapsed": false,
     "input": [
      "import os\n",
      "import os.path as osp\n",
      "import sys\n",
      "import numpy as np\n",
      "import nibabel as nib\n",
      "import nilearn as nil\n",
      "import sklearn as skl\n",
      "from glob import glob"
     ],
     "language": "python",
     "metadata": {},
     "outputs": [],
     "prompt_number": 21
    },
    {
     "cell_type": "code",
     "collapsed": false,
     "input": [
      "HOME = osp.expanduser('~')\n",
      "DATADIR = osp.join(HOME,'data','adhd200','NeuroIMAGE')\n",
      "filenames = glob(osp.join(DATADIR,'*','sfnwmr*'))\n",
      "#filenames"
     ],
     "language": "python",
     "metadata": {},
     "outputs": [],
     "prompt_number": 8
    },
    {
     "cell_type": "code",
     "collapsed": false,
     "input": [
      "ATLASDIR = osp.join(HOME,'code','regions','regions')\n",
      "atlasfilename = osp.join(ATLASDIR, 'CSC2mm.nii')\n",
      "atlas = nib.load(atlasfilename)"
     ],
     "language": "python",
     "metadata": {},
     "outputs": [],
     "prompt_number": 16
    },
    {
     "cell_type": "code",
     "collapsed": false,
     "input": [],
     "language": "python",
     "metadata": {},
     "outputs": []
    },
    {
     "cell_type": "heading",
     "level": 3,
     "metadata": {},
     "source": [
      "Example with one roi"
     ]
    },
    {
     "cell_type": "code",
     "collapsed": false,
     "input": [
      "print atlas.shape\n",
      "atlasd = np.asarray(atlas.get_data())\n",
      "nvox = (atlasd >= 0).sum()\n",
      "\n",
      "# - NROI : approximate number of desired ROI\n",
      "NROI = 250\n",
      "avgroisize = nvox * 1. / NROI \n",
      "print nvox, avgroisize, np.prod(atlasd.shape)"
     ],
     "language": "python",
     "metadata": {},
     "outputs": [
      {
       "output_type": "stream",
       "stream": "stdout",
       "text": [
        "(91, 109, 91)\n",
        "267567 1070.268 902629\n"
       ]
      }
     ],
     "prompt_number": 35
    },
    {
     "cell_type": "code",
     "collapsed": false,
     "input": [
      "idx = 50\n",
      "mask = (atlasd == idx)\n",
      "nvoxroi = mask.sum()\n",
      "def iround(x):\n",
      "    \"\"\"iround(number) -> integer\n",
      "    Round a number to the nearest integer.\"\"\"\n",
      "    y = round(x) - .5\n",
      "    return int(y) + (y > 0)"
     ],
     "language": "python",
     "metadata": {},
     "outputs": [],
     "prompt_number": 45
    },
    {
     "cell_type": "code",
     "collapsed": false,
     "input": [
      "nclust = iround(nvoxroi / avgroisize)\n",
      "print nclust"
     ],
     "language": "python",
     "metadata": {},
     "outputs": [
      {
       "output_type": "stream",
       "stream": "stdout",
       "text": [
        "3\n"
       ]
      }
     ],
     "prompt_number": 48
    },
    {
     "cell_type": "code",
     "collapsed": false,
     "input": [],
     "language": "python",
     "metadata": {},
     "outputs": []
    }
   ],
   "metadata": {}
  }
 ]
}