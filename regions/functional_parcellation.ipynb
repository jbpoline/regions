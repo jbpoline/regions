{
 "metadata": {
  "name": ""
 },
 "nbformat": 3,
 "nbformat_minor": 0,
 "worksheets": [
  {
   "cells": [
    {
     "cell_type": "code",
     "collapsed": false,
     "input": [
      "%pylab inline --no-import-all"
     ],
     "language": "python",
     "metadata": {},
     "outputs": [
      {
       "output_type": "stream",
       "stream": "stdout",
       "text": [
        "Populating the interactive namespace from numpy and matplotlib\n"
       ]
      }
     ],
     "prompt_number": 1
    },
    {
     "cell_type": "heading",
     "level": 3,
     "metadata": {},
     "source": [
      "Get Data and Anatomical Atlas"
     ]
    },
    {
     "cell_type": "code",
     "collapsed": false,
     "input": [
      "import os\n",
      "import os.path as osp\n",
      "import sys\n",
      "import numpy as np\n",
      "import nibabel as nib\n",
      "import nipy\n",
      "import nilearn as nil\n",
      "#from nilearn import nil\n",
      "import sklearn as skl\n",
      "from glob import glob"
     ],
     "language": "python",
     "metadata": {},
     "outputs": [],
     "prompt_number": 2
    },
    {
     "cell_type": "code",
     "collapsed": false,
     "input": [
      "HOME = osp.expanduser('~')\n",
      "DATADIR = osp.join(HOME,'data','adhd200','NeuroIMAGE')\n",
      "filenames = glob(osp.join(DATADIR,'*','sfnwmr*'))\n",
      "#filenames"
     ],
     "language": "python",
     "metadata": {},
     "outputs": [],
     "prompt_number": 3
    },
    {
     "cell_type": "code",
     "collapsed": false,
     "input": [
      "ATLASDIR = osp.join(HOME,'code','regions','regions')\n",
      "atlasfilename = osp.join(ATLASDIR, 'CSC2mm.nii')\n",
      "atlas = nib.load(atlasfilename)"
     ],
     "language": "python",
     "metadata": {},
     "outputs": [],
     "prompt_number": 4
    },
    {
     "cell_type": "heading",
     "level": 3,
     "metadata": {},
     "source": [
      "Example with one roi"
     ]
    },
    {
     "cell_type": "code",
     "collapsed": false,
     "input": [
      "print atlas.shape\n",
      "atlasd = np.asarray(atlas.get_data())\n",
      "nvox = (atlasd >= 0).sum()\n",
      "\n",
      "# - NROI : approximate number of desired ROI\n",
      "NROI = 250\n",
      "avgroisize = nvox * 1. / NROI \n",
      "print nvox, avgroisize, np.prod(atlasd.shape)"
     ],
     "language": "python",
     "metadata": {},
     "outputs": [
      {
       "output_type": "stream",
       "stream": "stdout",
       "text": [
        "(91, 109, 91)\n",
        "267567 1070.268 902629\n"
       ]
      }
     ],
     "prompt_number": 5
    },
    {
     "cell_type": "code",
     "collapsed": false,
     "input": [
      "roiidx = 50\n",
      "mask = (atlasd == roiidx)\n",
      "nvoxroi = mask.sum()\n",
      "\n",
      "def iround(x):\n",
      "    \"\"\"iround(number) -> integer\n",
      "    Round a number to the nearest integer.\"\"\"\n",
      "    y = round(x) - .5\n",
      "    return int(y) + (y > 0)"
     ],
     "language": "python",
     "metadata": {},
     "outputs": [],
     "prompt_number": 6
    },
    {
     "cell_type": "code",
     "collapsed": false,
     "input": [
      "nclust = iround(nvoxroi / avgroisize)\n",
      "print nclust"
     ],
     "language": "python",
     "metadata": {},
     "outputs": [
      {
       "output_type": "stream",
       "stream": "stdout",
       "text": [
        "3\n"
       ]
      }
     ],
     "prompt_number": 7
    },
    {
     "cell_type": "heading",
     "level": 3,
     "metadata": {},
     "source": [
      "Interpolate the fmri to the atlas resolution"
     ]
    },
    {
     "cell_type": "code",
     "collapsed": false,
     "input": [
      "from nipy.algorithms.resample import resample_img2img, resample\n",
      "import nipy.core.api as capi # vox2mni\n",
      "from nipy.core.image import image\n",
      "from nipy.core.reference import coordinate_map as cmap\n",
      "from nilearn._utils import niimg_conversions as niiconv\n"
     ],
     "language": "python",
     "metadata": {},
     "outputs": [],
     "prompt_number": 8
    },
    {
     "cell_type": "code",
     "collapsed": false,
     "input": [
      "atlas = nib.load(atlasfilename)\n",
      "tmp = nib.load(filenames[0])\n",
      "timedim = tmp.shape[-1]\n",
      "del tmp\n",
      "\n",
      "cmap_out = capi.vox2mni(atlas.get_affine(), 1.0)\n",
      "out_shape = atlas.shape + (timedim,)\n"
     ],
     "language": "python",
     "metadata": {},
     "outputs": [],
     "prompt_number": 9
    },
    {
     "cell_type": "code",
     "collapsed": false,
     "input": [
      "Done = True\n",
      "if not Done:\n",
      "    for f in filenames:\n",
      "        print f\n",
      "        img_in = nipy.load_image(f)\n",
      "        img_out = resample(img_in, cmap_out, np.eye(5), out_shape, order=1)\n",
      "        filename_out = osp.join(osp.dirname(f), 'i'+osp.basename(f))\n",
      "        _ = nipy.save_image(img_out, filename_out)\n"
     ],
     "language": "python",
     "metadata": {},
     "outputs": [],
     "prompt_number": 10
    },
    {
     "cell_type": "heading",
     "level": 3,
     "metadata": {},
     "source": [
      "Create a smaller dimension feature space for the Ward"
     ]
    },
    {
     "cell_type": "code",
     "collapsed": false,
     "input": [
      "ifilenames = glob(osp.join(DATADIR,'*','isfnwmr*'))"
     ],
     "language": "python",
     "metadata": {},
     "outputs": [],
     "prompt_number": 11
    },
    {
     "cell_type": "code",
     "collapsed": false,
     "input": [
      "from sklearn.decomposition import PCA\n",
      "from sklearn.externals.joblib import Memory"
     ],
     "language": "python",
     "metadata": {},
     "outputs": [],
     "prompt_number": 12
    },
    {
     "cell_type": "code",
     "collapsed": false,
     "input": [
      "import json\n",
      "fbase, ext = osp.splitext(atlasfilename)\n",
      "if osp.isfile(fbase+\"_full\"+\".json\"): fjson= fbase+\"_full.json\"\n",
      "with open(fjson) as f:\n",
      "    j_labels = json.load(f)\n",
      "#print j_labels"
     ],
     "language": "python",
     "metadata": {},
     "outputs": [],
     "prompt_number": 13
    },
    {
     "cell_type": "code",
     "collapsed": false,
     "input": [
      "print atlasfilename, fjson"
     ],
     "language": "python",
     "metadata": {},
     "outputs": [
      {
       "output_type": "stream",
       "stream": "stdout",
       "text": [
        "/home/jb/code/regions/regions/CSC2mm.nii /home/jb/code/regions/regions/CSC2mm_full.json\n"
       ]
      }
     ],
     "prompt_number": 14
    },
    {
     "cell_type": "code",
     "collapsed": false,
     "input": [
      "%run parcellation.py"
     ],
     "language": "python",
     "metadata": {},
     "outputs": [
      {
       "output_type": "stream",
       "stream": "stdout",
       "text": [
        "reloading parcellation at 14-01-14-15-02-25 \n",
        "\n"
       ]
      }
     ],
     "prompt_number": 15
    },
    {
     "cell_type": "code",
     "collapsed": false,
     "input": [
      "img_in = nipy.load_image(ifilenames[0])\n",
      "print type(img_in)\n",
      "print img_in.affine\n",
      "img_out = nipy_to_nibabel(img_in)\n",
      "print type(img_out)\n",
      "print img_out.get_affine()\n",
      "#niiconv.check_niimg(img_in)\n",
      "#tmp = niiconv.concat_niimgs("
     ],
     "language": "python",
     "metadata": {},
     "outputs": [
      {
       "output_type": "stream",
       "stream": "stdout",
       "text": [
        "<class 'nipy.core.image.image.Image'>\n",
        "[[  -2.    0.    0.    0.   90.]\n",
        " [   0.    2.    0.    0. -126.]\n",
        " [   0.    0.    2.    0.  -72.]\n",
        " [   0.    0.    0.    1.    0.]\n",
        " [   0.    0.    0.    0.    1.]]\n",
        "<class 'nibabel.nifti1.Nifti1Image'>\n",
        "[[  -2.    0.    0.   90.]\n",
        " [   0.    2.    0. -126.]\n",
        " [   0.    0.    2.  -72.]\n",
        " [   0.    0.    0.    1.]]\n"
       ]
      }
     ],
     "prompt_number": 16
    },
    {
     "cell_type": "heading",
     "level": 3,
     "metadata": {},
     "source": [
      "Reduce dimension and standardize time series"
     ]
    },
    {
     "cell_type": "code",
     "collapsed": false,
     "input": [
      "ifilenames = glob(osp.join(DATADIR,'*','isfnwmr*'))\n",
      "files2process = ifilenames\n",
      "\n",
      "cast_to = 'float32'\n",
      "tiny = np.finfo(cast_to).eps * 1000\n",
      "\n",
      "atlas = nib.load(atlasfilename)\n",
      "atlas_mask = atlas.get_data() != -1\n",
      "nvoxmask = atlas_mask.sum()\n",
      "nsubj = len(files2process)\n",
      "ncomp = 10 # arbitrary\n",
      "print nvoxmask\n",
      "\n",
      "features_filename = osp.join(DATADIR,'features')\n",
      "if osp.isfile(features_filename):\n",
      "    Done = True\n",
      "elif:\n",
      "    Done = False\n",
      "\n",
      "if not Done:\n",
      "    features = np.zeros((nvoxmask, ncomp*nsubj))\n",
      "\n",
      "    for idx, sub in enumerate(files2process):\n",
      "        # load image\n",
      "        img = nib.load(sub)\n",
      "        \n",
      "        # get signals in mask\n",
      "        tsignals = img.get_data()[atlas_mask]\n",
      "        print osp.basename(sub), \"\\t\", tsignals.shape\n",
      "        \n",
      "        # reduce to 10 components\n",
      "        pca = PCA(n_components=ncomp)\n",
      "        pca.fit(tsignals)\n",
      "        tsignals_pca = pca.transform(tsignals)\n",
      "        print tsignals_pca.shape\n",
      "        \n",
      "        # Standardizing pca-ed time courses (cf Bernard's code)\n",
      "        tc_std = np.std(tsignals_pca, axis=1)\n",
      "        ind = tc_std > tiny\n",
      "        \n",
      "        if ind.sum() != tc_std.shape[0]:\n",
      "            print '\\n *********** \\n ind.sum() != tc_std.shape[0]:', ind.sum(), tc_std.shape[0], '\\n'\n",
      "            print tsignals_pca[~ind,:].mean(axis=1)\n",
      "        \n",
      "        tsignals_pca[ind, :] = tsignals_pca[ind, :] - tsignals_pca[ind, :].mean(axis=1)[:, np.newaxis]\n",
      "        tsignals_pca[ind, :] = tsignals_pca[ind, :] / tsignals_pca[ind, :].std(axis=1)[:, np.newaxis]\n",
      "    \n",
      "        # append to previous data\n",
      "        features[:, idx*ncomp + np.arange(ncomp)] = tsignals_pca\n",
      "    \n",
      "    np.save(features_filename, features)"
     ],
     "language": "python",
     "metadata": {},
     "outputs": [
      {
       "output_type": "stream",
       "stream": "stdout",
       "text": [
        "267567\n",
        "isfnwmrda2352986_session_1_rest_1.nii.gz"
       ]
      },
      {
       "output_type": "stream",
       "stream": "stdout",
       "text": [
        " \t(267567, 257)\n",
        "(267567, 10)"
       ]
      },
      {
       "output_type": "stream",
       "stream": "stdout",
       "text": [
        "\n",
        "isfnwmrda8991934_session_1_rest_1.nii.gz"
       ]
      },
      {
       "output_type": "stream",
       "stream": "stdout",
       "text": [
        " \t(267567, 257)\n",
        "(267567, 10)"
       ]
      },
      {
       "output_type": "stream",
       "stream": "stdout",
       "text": [
        "\n",
        "isfnwmrda1411495_session_1_rest_1.nii.gz"
       ]
      },
      {
       "output_type": "stream",
       "stream": "stdout",
       "text": [
        " \t(267567, 257)\n",
        "(267567, 10)"
       ]
      },
      {
       "output_type": "stream",
       "stream": "stdout",
       "text": [
        "\n",
        "isfnwmrda3048588_session_1_rest_1.nii.gz"
       ]
      },
      {
       "output_type": "stream",
       "stream": "stdout",
       "text": [
        " \t(267567, 257)\n",
        "(267567, 10)"
       ]
      },
      {
       "output_type": "stream",
       "stream": "stdout",
       "text": [
        "\n",
        "isfnwmrda1208586_session_1_rest_1.nii.gz"
       ]
      },
      {
       "output_type": "stream",
       "stream": "stdout",
       "text": [
        " \t(267567, 257)\n",
        "(267567, 10)"
       ]
      },
      {
       "output_type": "stream",
       "stream": "stdout",
       "text": [
        "\n",
        "isfnwmrda3858891_session_1_rest_1.nii.gz"
       ]
      },
      {
       "output_type": "stream",
       "stream": "stdout",
       "text": [
        " \t(267567, 257)\n",
        "(267567, 10)"
       ]
      },
      {
       "output_type": "stream",
       "stream": "stdout",
       "text": [
        "\n",
        "isfnwmrda1017176_session_1_rest_1.nii.gz"
       ]
      },
      {
       "output_type": "stream",
       "stream": "stdout",
       "text": [
        " \t(267567, 257)\n",
        "(267567, 10)"
       ]
      },
      {
       "output_type": "stream",
       "stream": "stdout",
       "text": [
        "\n",
        "isfnwmrda5045355_session_1_rest_1.nii.gz"
       ]
      },
      {
       "output_type": "stream",
       "stream": "stdout",
       "text": [
        " \t(267567, 257)\n",
        "(267567, 10)"
       ]
      },
      {
       "output_type": "stream",
       "stream": "stdout",
       "text": [
        "\n",
        "isfnwmrda8409791_session_1_rest_1.nii.gz"
       ]
      },
      {
       "output_type": "stream",
       "stream": "stdout",
       "text": [
        " \t(267567, 257)\n",
        "(267567, 10)"
       ]
      },
      {
       "output_type": "stream",
       "stream": "stdout",
       "text": [
        "\n",
        "isfnwmrda1125505_session_1_rest_1.nii.gz"
       ]
      },
      {
       "output_type": "stream",
       "stream": "stdout",
       "text": [
        " \t(267567, 257)\n",
        "(267567, 10)"
       ]
      },
      {
       "output_type": "stream",
       "stream": "stdout",
       "text": [
        "\n",
        "isfnwmrda4239636_session_1_rest_1.nii.gz"
       ]
      },
      {
       "output_type": "stream",
       "stream": "stdout",
       "text": [
        " \t(267567, 257)\n",
        "(267567, 10)"
       ]
      },
      {
       "output_type": "stream",
       "stream": "stdout",
       "text": [
        "\n",
        "isfnwmrda3007585_session_1_rest_1.nii.gz"
       ]
      },
      {
       "output_type": "stream",
       "stream": "stdout",
       "text": [
        " \t(267567, 257)\n",
        "(267567, 10)"
       ]
      },
      {
       "output_type": "stream",
       "stream": "stdout",
       "text": [
        "\n",
        "isfnwmrda1585708_session_1_rest_1.nii.gz"
       ]
      },
      {
       "output_type": "stream",
       "stream": "stdout",
       "text": [
        " \t(267567, 257)\n",
        "(267567, 10)"
       ]
      },
      {
       "output_type": "stream",
       "stream": "stdout",
       "text": [
        "\n",
        "isfnwmrda7446626_session_1_rest_1.nii.gz"
       ]
      },
      {
       "output_type": "stream",
       "stream": "stdout",
       "text": [
        " \t(267567, 257)\n",
        "(267567, 10)"
       ]
      },
      {
       "output_type": "stream",
       "stream": "stdout",
       "text": [
        "\n",
        "isfnwmrda2671604_session_1_rest_1.nii.gz"
       ]
      },
      {
       "output_type": "stream",
       "stream": "stdout",
       "text": [
        " \t(267567, 257)\n",
        "(267567, 10)"
       ]
      },
      {
       "output_type": "stream",
       "stream": "stdout",
       "text": [
        "\n",
        "isfnwmrda1312097_session_1_rest_1.nii.gz"
       ]
      },
      {
       "output_type": "stream",
       "stream": "stdout",
       "text": [
        " \t(267567, 257)\n",
        "(267567, 10)"
       ]
      },
      {
       "output_type": "stream",
       "stream": "stdout",
       "text": [
        "\n",
        "isfnwmrda3566449_session_1_rest_1.nii.gz"
       ]
      },
      {
       "output_type": "stream",
       "stream": "stdout",
       "text": [
        " \t(267567, 257)\n",
        "(267567, 10)"
       ]
      },
      {
       "output_type": "stream",
       "stream": "stdout",
       "text": [
        "\n",
        "isfnwmrda2074737_session_1_rest_1.nii.gz"
       ]
      },
      {
       "output_type": "stream",
       "stream": "stdout",
       "text": [
        " \t(267567, 257)\n",
        "(267567, 10)"
       ]
      },
      {
       "output_type": "stream",
       "stream": "stdout",
       "text": [
        "\n",
        "isfnwmrda3959823_session_1_rest_1.nii.gz"
       ]
      },
      {
       "output_type": "stream",
       "stream": "stdout",
       "text": [
        " \t(267567, 257)\n",
        "(267567, 10)"
       ]
      },
      {
       "output_type": "stream",
       "stream": "stdout",
       "text": [
        "\n",
        "isfnwmrda7504392_session_1_rest_1.nii.gz"
       ]
      },
      {
       "output_type": "stream",
       "stream": "stdout",
       "text": [
        " \t(267567, 257)\n",
        "(267567, 10)"
       ]
      },
      {
       "output_type": "stream",
       "stream": "stdout",
       "text": [
        "\n",
        "isfnwmrda9956994_session_1_rest_1.nii.gz"
       ]
      },
      {
       "output_type": "stream",
       "stream": "stdout",
       "text": [
        " \t(267567, 257)\n",
        "(267567, 10)"
       ]
      },
      {
       "output_type": "stream",
       "stream": "stdout",
       "text": [
        "\n",
        "isfnwmrda3190461_session_1_rest_1.nii.gz"
       ]
      },
      {
       "output_type": "stream",
       "stream": "stdout",
       "text": [
        " \t(267567, 257)\n",
        "(267567, 10)"
       ]
      },
      {
       "output_type": "stream",
       "stream": "stdout",
       "text": [
        "\n",
        "isfnwmrda3980079_session_1_rest_1.nii.gz"
       ]
      },
      {
       "output_type": "stream",
       "stream": "stdout",
       "text": [
        " \t(267567, 257)\n",
        "(267567, 10)"
       ]
      },
      {
       "output_type": "stream",
       "stream": "stdout",
       "text": [
        "\n",
        "isfnwmrda3304956_session_1_rest_1.nii.gz"
       ]
      },
      {
       "output_type": "stream",
       "stream": "stdout",
       "text": [
        " \t(267567, 257)\n",
        "(267567, 10)"
       ]
      },
      {
       "output_type": "stream",
       "stream": "stdout",
       "text": [
        "\n",
        "isfnwmrda1538046_session_1_rest_1.nii.gz"
       ]
      },
      {
       "output_type": "stream",
       "stream": "stdout",
       "text": [
        " \t(267567, 257)\n",
        "(267567, 10)"
       ]
      },
      {
       "output_type": "stream",
       "stream": "stdout",
       "text": [
        "\n",
        "isfnwmrda2574674_session_1_rest_1.nii.gz"
       ]
      },
      {
       "output_type": "stream",
       "stream": "stdout",
       "text": [
        " \t(267567, 257)\n",
        "(267567, 10)"
       ]
      },
      {
       "output_type": "stream",
       "stream": "stdout",
       "text": [
        "\n",
        "isfnwmrda3322144_session_1_rest_1.nii.gz"
       ]
      },
      {
       "output_type": "stream",
       "stream": "stdout",
       "text": [
        " \t(267567, 257)\n",
        "(267567, 10)"
       ]
      },
      {
       "output_type": "stream",
       "stream": "stdout",
       "text": [
        "\n",
        "isfnwmrda2029723_session_1_rest_1.nii.gz"
       ]
      },
      {
       "output_type": "stream",
       "stream": "stdout",
       "text": [
        " \t(267567, 257)\n",
        "(267567, 10)"
       ]
      },
      {
       "output_type": "stream",
       "stream": "stdout",
       "text": [
        "\n",
        "isfnwmrda1438162_session_1_rest_1.nii.gz"
       ]
      },
      {
       "output_type": "stream",
       "stream": "stdout",
       "text": [
        " \t(267567, 257)\n",
        "(267567, 10)"
       ]
      },
      {
       "output_type": "stream",
       "stream": "stdout",
       "text": [
        "\n",
        "isfnwmrda3515506_session_1_rest_1.nii.gz"
       ]
      },
      {
       "output_type": "stream",
       "stream": "stdout",
       "text": [
        " \t(267567, 257)\n",
        "(267567, 10)"
       ]
      },
      {
       "output_type": "stream",
       "stream": "stdout",
       "text": [
        "\n",
        "isfnwmrda2961243_session_1_rest_1.nii.gz"
       ]
      },
      {
       "output_type": "stream",
       "stream": "stdout",
       "text": [
        " \t(267567, 257)\n",
        "(267567, 10)"
       ]
      },
      {
       "output_type": "stream",
       "stream": "stdout",
       "text": [
        "\n",
        "isfnwmrda3108222_session_1_rest_1.nii.gz"
       ]
      },
      {
       "output_type": "stream",
       "stream": "stdout",
       "text": [
        " \t(267567, 257)\n",
        "(267567, 10)"
       ]
      },
      {
       "output_type": "stream",
       "stream": "stdout",
       "text": [
        "\n",
        "isfnwmrda2756846_session_1_rest_1.nii.gz"
       ]
      },
      {
       "output_type": "stream",
       "stream": "stdout",
       "text": [
        " \t(267567, 257)\n",
        "(267567, 10)"
       ]
      },
      {
       "output_type": "stream",
       "stream": "stdout",
       "text": [
        "\n",
        "isfnwmrda8387093_session_1_rest_1.nii.gz"
       ]
      },
      {
       "output_type": "stream",
       "stream": "stdout",
       "text": [
        " \t(267567, 257)\n",
        "(267567, 10)"
       ]
      },
      {
       "output_type": "stream",
       "stream": "stdout",
       "text": [
        "\n",
        "isfnwmrda3941358_session_1_rest_1.nii.gz"
       ]
      },
      {
       "output_type": "stream",
       "stream": "stdout",
       "text": [
        " \t(267567, 257)\n",
        "(267567, 10)"
       ]
      },
      {
       "output_type": "stream",
       "stream": "stdout",
       "text": [
        "\n",
        "isfnwmrda6115230_session_1_rest_1.nii.gz"
       ]
      },
      {
       "output_type": "stream",
       "stream": "stdout",
       "text": [
        " \t(267567, 257)\n",
        "(267567, 10)"
       ]
      },
      {
       "output_type": "stream",
       "stream": "stdout",
       "text": [
        "\n",
        "isfnwmrda4020830_session_1_rest_1.nii.gz"
       ]
      },
      {
       "output_type": "stream",
       "stream": "stdout",
       "text": [
        " \t(267567, 257)\n",
        "(267567, 10)"
       ]
      },
      {
       "output_type": "stream",
       "stream": "stdout",
       "text": [
        "\n",
        "isfnwmrda4919979_session_1_rest_1.nii.gz"
       ]
      },
      {
       "output_type": "stream",
       "stream": "stdout",
       "text": [
        " \t(267567, 257)\n",
        "(267567, 10)"
       ]
      },
      {
       "output_type": "stream",
       "stream": "stdout",
       "text": [
        "\n",
        "isfnwmrda3888614_session_1_rest_1.nii.gz"
       ]
      },
      {
       "output_type": "stream",
       "stream": "stdout",
       "text": [
        " \t(267567, 257)\n",
        "(267567, 10)"
       ]
      },
      {
       "output_type": "stream",
       "stream": "stdout",
       "text": [
        "\n",
        "isfnwmrda4134561_session_1_rest_1.nii.gz"
       ]
      },
      {
       "output_type": "stream",
       "stream": "stdout",
       "text": [
        " \t(267567, 257)\n",
        "(267567, 10)"
       ]
      },
      {
       "output_type": "stream",
       "stream": "stdout",
       "text": [
        "\n",
        "isfnwmrda7339173_session_1_rest_1.nii.gz"
       ]
      },
      {
       "output_type": "stream",
       "stream": "stdout",
       "text": [
        " \t(267567, 257)\n",
        "(267567, 10)"
       ]
      },
      {
       "output_type": "stream",
       "stream": "stdout",
       "text": [
        "\n",
        "isfnwmrda3449233_session_1_rest_1.nii.gz"
       ]
      },
      {
       "output_type": "stream",
       "stream": "stdout",
       "text": [
        " \t(267567, 257)\n",
        "(267567, 10)"
       ]
      },
      {
       "output_type": "stream",
       "stream": "stdout",
       "text": [
        "\n",
        "isfnwmrda2876903_session_1_rest_1.nii.gz"
       ]
      },
      {
       "output_type": "stream",
       "stream": "stdout",
       "text": [
        " \t(267567, 257)\n",
        "(267567, 10)"
       ]
      },
      {
       "output_type": "stream",
       "stream": "stdout",
       "text": [
        "\n",
        "isfnwmrda4285031_session_1_rest_1.nii.gz"
       ]
      },
      {
       "output_type": "stream",
       "stream": "stdout",
       "text": [
        " \t(267567, 257)\n",
        "(267567, 10)"
       ]
      },
      {
       "output_type": "stream",
       "stream": "stdout",
       "text": [
        "\n",
        "isfnwmrda1588809_session_1_rest_1.nii.gz"
       ]
      },
      {
       "output_type": "stream",
       "stream": "stdout",
       "text": [
        " \t(267567, 257)\n",
        "(267567, 10)"
       ]
      },
      {
       "output_type": "stream",
       "stream": "stdout",
       "text": [
        "\n",
        "isfnwmrda3808273_session_1_rest_1.nii.gz"
       ]
      },
      {
       "output_type": "stream",
       "stream": "stdout",
       "text": [
        " \t(267567, 257)\n",
        "(267567, 10)"
       ]
      },
      {
       "output_type": "stream",
       "stream": "stdout",
       "text": [
        "\n",
        "isfnwmrda3082137_session_1_rest_1.nii.gz"
       ]
      },
      {
       "output_type": "stream",
       "stream": "stdout",
       "text": [
        " \t(267567, 257)\n",
        "(267567, 10)"
       ]
      },
      {
       "output_type": "stream",
       "stream": "stdout",
       "text": [
        "\n",
        "isfnwmrda2419464_session_1_rest_1.nii.gz"
       ]
      },
      {
       "output_type": "stream",
       "stream": "stdout",
       "text": [
        " \t(267567, 257)\n",
        "(267567, 10)"
       ]
      },
      {
       "output_type": "stream",
       "stream": "stdout",
       "text": [
        "\n"
       ]
      }
     ],
     "prompt_number": 17
    },
    {
     "cell_type": "code",
     "collapsed": false,
     "input": [
      "a = features[500:501:8,60:320]\n",
      "p = plot(a.T)"
     ],
     "language": "python",
     "metadata": {},
     "outputs": [
      {
       "metadata": {},
       "output_type": "display_data",
       "png": "[encoded data removed]",
       "text": [
        "<matplotlib.figure.Figure at 0x618b210>"
       ]
      }
     ],
     "prompt_number": 20
    },
    {
     "cell_type": "code",
     "collapsed": false,
     "input": [
      "#np.save(features_filename, features)"
     ],
     "language": "python",
     "metadata": {},
     "outputs": [],
     "prompt_number": 25
    },
    {
     "cell_type": "code",
     "collapsed": false,
     "input": [
      "from sklearn.feature_extraction.image import grid_to_graph\n",
      "from sklearn.cluster import WardAgglomeration\n",
      "from sklearn.externals.joblib import Memory"
     ],
     "language": "python",
     "metadata": {},
     "outputs": [],
     "prompt_number": 21
    },
    {
     "cell_type": "code",
     "collapsed": false,
     "input": [
      "atlasd = np.asarray(atlas.get_data())\n",
      "n_rois = len(np.unique(atlasd)) - 1 # remove background"
     ],
     "language": "python",
     "metadata": {},
     "outputs": [],
     "prompt_number": 22
    },
    {
     "cell_type": "code",
     "collapsed": false,
     "input": [
      "mem = Memory(cachedir='.', verbose=1)\n",
      "\n",
      "# atlas_mask = atlas.get_data() != -1\n",
      "nvox = atlas_mask.sum()\n",
      "NROI = 250 # approximate desired number of ROI\n",
      "avgclustsize = nvox * 1. / NROI\n",
      "\n",
      "\n",
      "template = np.zeros_like(atlasd)\n",
      "template.fill(-1.)\n",
      "dim = atlasd.shape\n",
      "n_clust = np.zeros(n_rois, dtype=int) #number of cluster per ROI\n",
      "\n",
      "curr_label = 0\n",
      "newlabels = []\n",
      "roi_indexes = range(n_rois)\n",
      "\n",
      "for ridx in roi_indexes:\n",
      "    \n",
      "    curr_label = template.max() # first should be -1, \n",
      "    print \"current label is %d \" % curr_label\n",
      "    \n",
      "    # get the mask of the roi\n",
      "    roi_mask = (atlasd == ridx)\n",
      "    nvoxroi = roi_mask.sum()\n",
      "    print \" working on roi %d with %d voxels \" %(ridx, nvoxroi)\n",
      "    \n",
      "    # how many cluster in this ROI?\n",
      "    nclust = iround(nvoxroi / avgclustsize)\n",
      "    n_clust[ridx] = nclust\n",
      "\n",
      "    atlas_mask_idx = np.where(atlas_mask.ravel())[0]\n",
      "    roi_mask_idx = np.where(roi_mask.ravel())[0]\n",
      "    ts_indexes_for_roi = np.in1d(atlas_mask_idx, roi_mask_idx).nonzero()[0]\n",
      "    \n",
      "    print atlas_mask_idx.shape, roi_mask_idx.shape, ts_indexes_for_roi.shape\n",
      "    \n",
      "    if (nclust == 1) or (nclust == 0):\n",
      "        curr_label += 1\n",
      "        template[roi_mask] = curr_label\n",
      "        newlabels.append((np.asarray([curr_label]), j_labels[ridx])) #\n",
      "        continue\n",
      "    \n",
      "    # Define connectivity based on brain mask\n",
      "    A = grid_to_graph(n_x=dim[0], n_y=dim[1], n_z=dim[2], mask=roi_mask)\n",
      "    ward = WardAgglomeration(n_clusters=nclust, connectivity=A.tolil(), memory=mem)\n",
      "    # give to ward.fit the time series of the ROI\n",
      "    print features[ts_indexes_for_roi,:].shape\n",
      "    ward.fit(features[ts_indexes_for_roi,:].T)\n",
      "    template[roi_mask] = ward.labels_ + curr_label +1 # this assumes that ward.labels start at 0\n",
      "    newlabels.append((np.arange(curr_label,curr_label+nclust)+1, j_labels[ridx]))\n",
      "    print \"wtf \", curr_label, nclust\n",
      "    "
     ],
     "language": "python",
     "metadata": {},
     "outputs": [
      {
       "output_type": "stream",
       "stream": "stdout",
       "text": [
        "current label is -1 \n",
        " working on roi 0 with 9686 voxels \n",
        "(267567,)"
       ]
      },
      {
       "output_type": "stream",
       "stream": "stdout",
       "text": [
        " (9686,) (9686,)\n",
        "(9686, 480)"
       ]
      },
      {
       "output_type": "stream",
       "stream": "stdout",
       "text": [
        "\n",
        "wtf "
       ]
      },
      {
       "output_type": "stream",
       "stream": "stdout",
       "text": [
        " -1.0 9\n",
        "current label is 8 \n",
        " working on roi 1 with 1334 voxels \n",
        "(267567,) (1334,) (1334,)\n",
        "current label is 9 \n",
        " working on roi 2 with 3505 voxels "
       ]
      },
      {
       "output_type": "stream",
       "stream": "stdout",
       "text": [
        "\n",
        "(267567,) (3505,) (3505,)\n",
        "(3505, 480)"
       ]
      },
      {
       "output_type": "stream",
       "stream": "stdout",
       "text": [
        "\n",
        "wtf "
       ]
      },
      {
       "output_type": "stream",
       "stream": "stdout",
       "text": [
        " 9.0 3\n",
        "current label is 12 \n",
        " working on roi 3 with 3445 voxels \n",
        "(267567,) (3445,) (3445,)\n",
        "(3445, 480)"
       ]
      },
      {
       "output_type": "stream",
       "stream": "stdout",
       "text": [
        "\n",
        "________________________________________________________________________________\n",
        "[Memory] Calling sklearn.cluster.hierarchical.ward_tree...\n",
        "ward_tree(array([[ 1.514093, ..., -0.04314 ],\n",
        "       ..., \n",
        "       [ 0.026579, ..., -0.164982]]), \n",
        "<3445x3445 sparse matrix of type '<type 'numpy.int64'>'\n",
        "\twith 21405 stored elements in LInked List format>, copy=True, n_components=None, n_clusters=3)"
       ]
      },
      {
       "output_type": "stream",
       "stream": "stdout",
       "text": [
        "\n",
        "________________________________________________________ward_tree - 1.1s, 0.0min"
       ]
      },
      {
       "output_type": "stream",
       "stream": "stdout",
       "text": [
        "\n",
        "wtf  12.0 3\n",
        "current label is 15 \n",
        " working on roi 4 with 843 voxels \n",
        "(267567,) (843,) (843,)\n",
        "current label is 16 "
       ]
      },
      {
       "output_type": "stream",
       "stream": "stdout",
       "text": [
        "\n",
        " working on roi 5 with 941 voxels \n",
        "(267567,) (941,) (941,)\n",
        "current label is 17 \n",
        " working on roi 6 with 4849 voxels "
       ]
      },
      {
       "output_type": "stream",
       "stream": "stdout",
       "text": [
        "\n",
        "(267567,) (4849,) (4849,)\n",
        "(4849, 480)"
       ]
      },
      {
       "output_type": "stream",
       "stream": "stdout",
       "text": [
        "\n",
        "________________________________________________________________________________\n",
        "[Memory] Calling sklearn.cluster.hierarchical.ward_tree...\n",
        "ward_tree(array([[-1.749302, ..., -0.242267],\n",
        "       ..., \n",
        "       [-2.122062, ..., -1.08654 ]]), \n",
        "<4849x4849 sparse matrix of type '<type 'numpy.int64'>'\n",
        "\twith 29503 stored elements in LInked List format>, copy=True, n_components=None, n_clusters=5)"
       ]
      },
      {
       "output_type": "stream",
       "stream": "stderr",
       "text": [
        "/home/jb/.local/lib/python2.7/site-packages/sklearn/cluster/hierarchical.py:116: UserWarning: the number of connected components of the connectivity matrix is 11 > 1. Completing it to avoid stopping the tree early.\n",
        "  \"stopping the tree early.\" % n_components)\n",
        "/home/jb/.local/lib/python2.7/site-packages/sklearn/cluster/hierarchical.py:116: UserWarning: the number of connected components of the connectivity matrix is 2 > 1. Completing it to avoid stopping the tree early.\n",
        "  \"stopping the tree early.\" % n_components)\n"
       ]
      },
      {
       "output_type": "stream",
       "stream": "stdout",
       "text": [
        "\n",
        "________________________________________________________ward_tree - 1.1s, 0.0min"
       ]
      },
      {
       "output_type": "stream",
       "stream": "stdout",
       "text": [
        "\n",
        "wtf  17.0 5\n",
        "current label is 22 \n",
        " working on roi 7 with 3737 voxels \n",
        "(267567,) (3737,) (3737,)\n",
        "(3737, 480)"
       ]
      },
      {
       "output_type": "stream",
       "stream": "stdout",
       "text": [
        "\n",
        "________________________________________________________________________________\n",
        "[Memory] Calling sklearn.cluster.hierarchical.ward_tree...\n",
        "ward_tree(array([[-0.990006, ...,  1.827742],\n",
        "       ..., \n",
        "       [ 1.455634, ...,  0.158986]]), \n",
        "<3737x3737 sparse matrix of type '<type 'numpy.int64'>'\n",
        "\twith 23735 stored elements in LInked List format>, copy=True, n_components=None, n_clusters=3)"
       ]
      },
      {
       "output_type": "stream",
       "stream": "stdout",
       "text": [
        "\n",
        "________________________________________________________ward_tree - 0.9s, 0.0min"
       ]
      },
      {
       "output_type": "stream",
       "stream": "stdout",
       "text": [
        "\n",
        "wtf  22.0 3\n",
        "current label is 25 \n",
        " working on roi 8 with 410 voxels \n",
        "(267567,) (410,) (410,)\n",
        "current label is 26 "
       ]
      },
      {
       "output_type": "stream",
       "stream": "stdout",
       "text": [
        "\n",
        " working on roi 9 with 747 voxels \n",
        "(267567,) (747,) (747,)\n",
        "current label is 27 \n",
        " working on roi 10 with 642 voxels \n",
        "(267567,)"
       ]
      },
      {
       "output_type": "stream",
       "stream": "stdout",
       "text": [
        " (642,) (642,)\n",
        "current label is 28 \n",
        " working on roi 11 with 1712 voxels \n",
        "(267567,) (1712,) (1712,)\n",
        "(1712, 480)"
       ]
      },
      {
       "output_type": "stream",
       "stream": "stdout",
       "text": [
        "\n",
        "________________________________________________________________________________\n",
        "[Memory] Calling sklearn.cluster.hierarchical.ward_tree...\n",
        "ward_tree(array([[ 0.505145, ..., -0.804387],\n",
        "       ..., \n",
        "       [-1.187314, ...,  1.050731]]), \n",
        "<1712x1712 sparse matrix of type '<type 'numpy.int64'>'\n",
        "\twith 10486 stored elements in LInked List format>, copy=True, n_components=None, n_clusters=2)"
       ]
      },
      {
       "output_type": "stream",
       "stream": "stdout",
       "text": [
        "\n",
        "________________________________________________________ward_tree - 0.5s, 0.0min"
       ]
      },
      {
       "output_type": "stream",
       "stream": "stdout",
       "text": [
        "\n",
        "wtf  28.0 2\n",
        "current label is 30 \n",
        " working on roi 12 with 1043 voxels \n",
        "(267567,) (1043,) (1043,)\n",
        "current label is 31 "
       ]
      },
      {
       "output_type": "stream",
       "stream": "stdout",
       "text": [
        "\n",
        " working on roi 13 with 602 voxels \n",
        "(267567,) (602,) (602,)\n",
        "current label is 32 \n",
        " working on roi 14 with 1687 voxels "
       ]
      },
      {
       "output_type": "stream",
       "stream": "stdout",
       "text": [
        "\n",
        "(267567,) (1687,) (1687,)\n",
        "(1687, 480)"
       ]
      },
      {
       "output_type": "stream",
       "stream": "stdout",
       "text": [
        "\n",
        "________________________________________________________________________________\n",
        "[Memory] Calling sklearn.cluster.hierarchical.ward_tree...\n",
        "ward_tree(array([[ 1.30293 , ...,  0.559387],\n",
        "       ..., \n",
        "       [ 1.907826, ...,  0.54917 ]]), \n",
        "<1687x1687 sparse matrix of type '<type 'numpy.int64'>'\n",
        "\twith 10169 stored elements in LInked List format>, copy=True, n_components=None, n_clusters=2)"
       ]
      },
      {
       "output_type": "stream",
       "stream": "stdout",
       "text": [
        "\n",
        "________________________________________________________ward_tree - 0.5s, 0.0min"
       ]
      },
      {
       "output_type": "stream",
       "stream": "stdout",
       "text": [
        "\n",
        "wtf  32.0 2\n",
        "current label is 34 \n",
        " working on roi 15 with 866 voxels \n",
        "(267567,) (866,) (866,)\n",
        "current label is 35 "
       ]
      },
      {
       "output_type": "stream",
       "stream": "stdout",
       "text": [
        "\n",
        " working on roi 16 with 4547 voxels \n",
        "(267567,) (4547,) (4547,)\n",
        "(4547, 480)"
       ]
      },
      {
       "output_type": "stream",
       "stream": "stdout",
       "text": [
        "\n",
        "________________________________________________________________________________\n",
        "[Memory] Calling sklearn.cluster.hierarchical.ward_tree...\n",
        "ward_tree(array([[-0.951024, ...,  0.36169 ],\n",
        "       ..., \n",
        "       [-1.45821 , ..., -0.727569]]), \n",
        "<4547x4547 sparse matrix of type '<type 'numpy.int64'>'\n",
        "\twith 28125 stored elements in LInked List format>, copy=True, n_components=None, n_clusters=4)"
       ]
      },
      {
       "output_type": "stream",
       "stream": "stderr",
       "text": [
        "/home/jb/.local/lib/python2.7/site-packages/sklearn/cluster/hierarchical.py:116: UserWarning: the number of connected components of the connectivity matrix is 7 > 1. Completing it to avoid stopping the tree early.\n",
        "  \"stopping the tree early.\" % n_components)\n",
        "/home/jb/.local/lib/python2.7/site-packages/sklearn/cluster/hierarchical.py:116: UserWarning: the number of connected components of the connectivity matrix is 3 > 1. Completing it to avoid stopping the tree early.\n",
        "  \"stopping the tree early.\" % n_components)\n"
       ]
      },
      {
       "output_type": "stream",
       "stream": "stdout",
       "text": [
        "\n",
        "________________________________________________________ward_tree - 1.2s, 0.0min"
       ]
      },
      {
       "output_type": "stream",
       "stream": "stdout",
       "text": [
        "\n",
        "wtf  35.0 4\n",
        "current label is 39 \n",
        " working on roi 17 with 1705 voxels \n",
        "(267567,)"
       ]
      },
      {
       "output_type": "stream",
       "stream": "stdout",
       "text": [
        " (1705,) (1705,)\n",
        "(1705, 480)"
       ]
      },
      {
       "output_type": "stream",
       "stream": "stdout",
       "text": [
        "\n",
        "________________________________________________________________________________\n",
        "[Memory] Calling sklearn.cluster.hierarchical.ward_tree...\n",
        "ward_tree(array([[-0.616651, ...,  0.48467 ],\n",
        "       ..., \n",
        "       [ 0.356343, ...,  0.266931]]), \n",
        "<1705x1705 sparse matrix of type '<type 'numpy.int64'>'\n",
        "\twith 10321 stored elements in LInked List format>, copy=True, n_components=None, n_clusters=2)"
       ]
      },
      {
       "output_type": "stream",
       "stream": "stdout",
       "text": [
        "\n",
        "________________________________________________________ward_tree - 0.4s, 0.0min"
       ]
      },
      {
       "output_type": "stream",
       "stream": "stdout",
       "text": [
        "\n",
        "wtf  39.0 2\n",
        "current label is 41 \n",
        " working on roi 18 with 1221 voxels \n",
        "(267567,) (1221,) (1221,)\n",
        "current label is 42 "
       ]
      },
      {
       "output_type": "stream",
       "stream": "stdout",
       "text": [
        "\n",
        " working on roi 19 with 1380 voxels \n",
        "(267567,) (1380,) (1380,)\n",
        "current label is 43 \n",
        " working on roi 20 with 1053 voxels "
       ]
      },
      {
       "output_type": "stream",
       "stream": "stdout",
       "text": [
        "\n",
        "(267567,) (1053,) (1053,)\n",
        "current label is 44 \n",
        " working on roi 21 with 6188 voxels "
       ]
      },
      {
       "output_type": "stream",
       "stream": "stdout",
       "text": [
        "\n",
        "(267567,) (6188,) (6188,)\n",
        "(6188, 480)"
       ]
      },
      {
       "output_type": "stream",
       "stream": "stdout",
       "text": [
        "\n",
        "________________________________________________________________________________\n",
        "[Memory] Calling sklearn.cluster.hierarchical.ward_tree...\n",
        "ward_tree(array([[-1.031417, ...,  0.205048],\n",
        "       ..., \n",
        "       [-0.484861, ..., -0.670819]]), \n",
        "<6188x6188 sparse matrix of type '<type 'numpy.int64'>'\n",
        "\twith 39264 stored elements in LInked List format>, copy=True, n_components=None, n_clusters=6)"
       ]
      },
      {
       "output_type": "stream",
       "stream": "stdout",
       "text": [
        "\n",
        "________________________________________________________ward_tree - 2.1s, 0.0min"
       ]
      },
      {
       "output_type": "stream",
       "stream": "stdout",
       "text": [
        "\n",
        "wtf  44.0 6\n",
        "current label is 50 \n",
        " working on roi 22 with 2637 voxels \n",
        "(267567,)"
       ]
      },
      {
       "output_type": "stream",
       "stream": "stdout",
       "text": [
        " (2637,) (2637,)\n",
        "(2637, 480)"
       ]
      },
      {
       "output_type": "stream",
       "stream": "stdout",
       "text": [
        "\n",
        "________________________________________________________________________________\n",
        "[Memory] Calling sklearn.cluster.hierarchical.ward_tree...\n",
        "ward_tree(array([[-1.01718 , ...,  1.514881],\n",
        "       ..., \n",
        "       [ 0.19768 , ..., -0.609409]]), \n",
        "<2637x2637 sparse matrix of type '<type 'numpy.int64'>'\n",
        "\twith 16495 stored elements in LInked List format>, copy=True, n_components=None, n_clusters=2)"
       ]
      },
      {
       "output_type": "stream",
       "stream": "stdout",
       "text": [
        "\n",
        "________________________________________________________ward_tree - 0.7s, 0.0min"
       ]
      },
      {
       "output_type": "stream",
       "stream": "stdout",
       "text": [
        "\n",
        "wtf  50.0 2\n",
        "current label is 52 \n",
        " working on roi 23 with 585 voxels \n",
        "(267567,)"
       ]
      },
      {
       "output_type": "stream",
       "stream": "stdout",
       "text": [
        " (585,) (585,)\n",
        "current label is 53 \n",
        " working on roi 24 with 1013 voxels \n",
        "(267567,) (1013,) (1013,)\n",
        "current label is 54 "
       ]
      },
      {
       "output_type": "stream",
       "stream": "stdout",
       "text": [
        "\n",
        " working on roi 25 with 1486 voxels \n",
        "(267567,) (1486,) (1486,)\n",
        "current label is 55 \n",
        " working on roi 26 with 1413 voxels "
       ]
      },
      {
       "output_type": "stream",
       "stream": "stdout",
       "text": [
        "\n",
        "(267567,) (1413,) (1413,)\n",
        "current label is 56 \n",
        " working on roi 27 with 2639 voxels \n",
        "(267567,)"
       ]
      },
      {
       "output_type": "stream",
       "stream": "stdout",
       "text": [
        " (2639,) (2639,)\n",
        "(2639, 480)"
       ]
      },
      {
       "output_type": "stream",
       "stream": "stdout",
       "text": [
        "\n",
        "________________________________________________________________________________\n",
        "[Memory] Calling sklearn.cluster.hierarchical.ward_tree...\n",
        "ward_tree(array([[-1.005262, ...,  0.534326],\n",
        "       ..., \n",
        "       [ 1.331493, ..., -0.268365]]), \n",
        "<2639x2639 sparse matrix of type '<type 'numpy.int64'>'\n",
        "\twith 16133 stored elements in LInked List format>, copy=True, n_components=None, n_clusters=2)"
       ]
      },
      {
       "output_type": "stream",
       "stream": "stdout",
       "text": [
        "\n",
        "________________________________________________________ward_tree - 0.5s, 0.0min"
       ]
      },
      {
       "output_type": "stream",
       "stream": "stdout",
       "text": [
        "\n",
        "wtf  56.0 2\n",
        "current label is 58 \n",
        " working on roi 28 with 2199 voxels \n",
        "(267567,) (2199,) (2199,)\n",
        "(2199, 480)"
       ]
      },
      {
       "output_type": "stream",
       "stream": "stdout",
       "text": [
        "\n",
        "________________________________________________________________________________\n",
        "[Memory] Calling sklearn.cluster.hierarchical.ward_tree...\n",
        "ward_tree(array([[-0.279138, ...,  0.469814],\n",
        "       ..., \n",
        "       [ 1.087781, ..., -0.996792]]), \n",
        "<2199x2199 sparse matrix of type '<type 'numpy.int64'>'\n",
        "\twith 13359 stored elements in LInked List format>, copy=True, n_components=None, n_clusters=2)"
       ]
      },
      {
       "output_type": "stream",
       "stream": "stdout",
       "text": [
        "\n",
        "________________________________________________________ward_tree - 0.5s, 0.0min"
       ]
      },
      {
       "output_type": "stream",
       "stream": "stdout",
       "text": [
        "\n",
        "wtf  58.0 2\n",
        "current label is 60 \n",
        " working on roi 29 with 2107 voxels \n",
        "(267567,)"
       ]
      },
      {
       "output_type": "stream",
       "stream": "stdout",
       "text": [
        " (2107,) (2107,)\n",
        "(2107, 480)"
       ]
      },
      {
       "output_type": "stream",
       "stream": "stdout",
       "text": [
        "\n",
        "________________________________________________________________________________\n",
        "[Memory] Calling sklearn.cluster.hierarchical.ward_tree...\n",
        "ward_tree(array([[-0.398834, ...,  0.473263],\n",
        "       ..., \n",
        "       [-0.527878, ..., -0.003224]]), \n",
        "<2107x2107 sparse matrix of type '<type 'numpy.int64'>'\n",
        "\twith 12717 stored elements in LInked List format>, copy=True, n_components=None, n_clusters=2)"
       ]
      },
      {
       "output_type": "stream",
       "stream": "stdout",
       "text": [
        "\n",
        "________________________________________________________ward_tree - 0.5s, 0.0min"
       ]
      },
      {
       "output_type": "stream",
       "stream": "stdout",
       "text": [
        "\n",
        "wtf  60.0 2\n",
        "current label is 62 \n",
        " working on roi 30 with 5373 voxels \n",
        "(267567,)"
       ]
      },
      {
       "output_type": "stream",
       "stream": "stdout",
       "text": [
        " (5373,) (5373,)\n",
        "(5373, 480)"
       ]
      },
      {
       "output_type": "stream",
       "stream": "stdout",
       "text": [
        "\n",
        "________________________________________________________________________________\n",
        "[Memory] Calling sklearn.cluster.hierarchical.ward_tree...\n",
        "ward_tree(array([[-0.987244, ..., -0.568936],\n",
        "       ..., \n",
        "       [-1.034354, ...,  0.450014]]), \n",
        "<5373x5373 sparse matrix of type '<type 'numpy.int64'>'\n",
        "\twith 33731 stored elements in LInked List format>, copy=True, n_components=None, n_clusters=5)"
       ]
      },
      {
       "output_type": "stream",
       "stream": "stderr",
       "text": [
        "/home/jb/.local/lib/python2.7/site-packages/sklearn/cluster/hierarchical.py:116: UserWarning: the number of connected components of the connectivity matrix is 6 > 1. Completing it to avoid stopping the tree early.\n",
        "  \"stopping the tree early.\" % n_components)\n",
        "/home/jb/.local/lib/python2.7/site-packages/sklearn/cluster/hierarchical.py:116: UserWarning: the number of connected components of the connectivity matrix is 8 > 1. Completing it to avoid stopping the tree early.\n",
        "  \"stopping the tree early.\" % n_components)\n"
       ]
      },
      {
       "output_type": "stream",
       "stream": "stdout",
       "text": [
        "\n",
        "________________________________________________________ward_tree - 1.6s, 0.0min"
       ]
      },
      {
       "output_type": "stream",
       "stream": "stdout",
       "text": [
        "\n",
        "wtf  62.0 5\n",
        "current label is 67 \n",
        " working on roi 31 with 1158 voxels \n",
        "(267567,) (1158,) (1158,)\n",
        "current label is 68 "
       ]
      },
      {
       "output_type": "stream",
       "stream": "stdout",
       "text": [
        "\n",
        " working on roi 32 with 2112 voxels \n",
        "(267567,) (2112,) (2112,)\n",
        "(2112, 480)"
       ]
      },
      {
       "output_type": "stream",
       "stream": "stdout",
       "text": [
        "\n",
        "________________________________________________________________________________\n",
        "[Memory] Calling sklearn.cluster.hierarchical.ward_tree...\n",
        "ward_tree(array([[ 0.542554, ...,  0.069301],\n",
        "       ..., \n",
        "       [ 2.118478, ..., -0.351114]]), \n",
        "<2112x2112 sparse matrix of type '<type 'numpy.int64'>'\n",
        "\twith 12754 stored elements in LInked List format>, copy=True, n_components=None, n_clusters=2)"
       ]
      },
      {
       "output_type": "stream",
       "stream": "stdout",
       "text": [
        "\n",
        "________________________________________________________ward_tree - 0.5s, 0.0min"
       ]
      },
      {
       "output_type": "stream",
       "stream": "stdout",
       "text": [
        "\n",
        "wtf  68.0 2\n",
        "current label is 70 \n",
        " working on roi 33 with 834 voxels \n",
        "(267567,) (834,) (834,)\n",
        "current label is 71 "
       ]
      },
      {
       "output_type": "stream",
       "stream": "stdout",
       "text": [
        "\n",
        " working on roi 34 with 397 voxels \n",
        "(267567,) (397,) (397,)\n",
        "current label is 72 \n",
        " working on roi 35 with 1289 voxels \n",
        "(267567,)"
       ]
      },
      {
       "output_type": "stream",
       "stream": "stdout",
       "text": [
        " (1289,) (1289,)\n",
        "current label is 73 \n",
        " working on roi 36 with 527 voxels \n",
        "(267567,) (527,) (527,)\n",
        "current label is 74 "
       ]
      },
      {
       "output_type": "stream",
       "stream": "stdout",
       "text": [
        "\n",
        " working on roi 37 with 1091 voxels \n",
        "(267567,) (1091,) (1091,)\n",
        "current label is 75 \n",
        " working on roi 38 with 508 voxels \n",
        "(267567,)"
       ]
      },
      {
       "output_type": "stream",
       "stream": "stdout",
       "text": [
        " (508,) (508,)\n",
        "current label is 76 \n",
        " working on roi 39 with 687 voxels \n",
        "(267567,) (687,) (687,)\n",
        "current label is 77 "
       ]
      },
      {
       "output_type": "stream",
       "stream": "stdout",
       "text": [
        "\n",
        " working on roi 40 with 352 voxels \n",
        "(267567,) (352,) (352,)\n",
        "current label is 78 \n",
        " working on roi 41 with 951 voxels \n",
        "(267567,)"
       ]
      },
      {
       "output_type": "stream",
       "stream": "stdout",
       "text": [
        " (951,) (951,)\n",
        "current label is 79 \n",
        " working on roi 42 with 537 voxels \n",
        "(267567,) (537,) (537,)\n",
        "current label is 80 "
       ]
      },
      {
       "output_type": "stream",
       "stream": "stdout",
       "text": [
        "\n",
        " working on roi 43 with 364 voxels \n",
        "(267567,) (364,) (364,)\n",
        "current label is 81 \n",
        " working on roi 44 with 297 voxels "
       ]
      },
      {
       "output_type": "stream",
       "stream": "stdout",
       "text": [
        "\n",
        "(267567,) (297,) (297,)\n",
        "current label is 82 \n",
        " working on roi 45 with 564 voxels \n",
        "(267567,)"
       ]
      },
      {
       "output_type": "stream",
       "stream": "stdout",
       "text": [
        " (564,) (564,)\n",
        "current label is 83 \n",
        " working on roi 46 with 75 voxels \n",
        "(267567,) (75,) (75,)\n",
        "current label is 84 "
       ]
      },
      {
       "output_type": "stream",
       "stream": "stdout",
       "text": [
        "\n",
        " working on roi 47 with 4386 voxels \n",
        "(267567,) (4386,) (4386,)\n",
        "(4386, 480)"
       ]
      },
      {
       "output_type": "stream",
       "stream": "stdout",
       "text": [
        "\n",
        "________________________________________________________________________________\n",
        "[Memory] Calling sklearn.cluster.hierarchical.ward_tree...\n",
        "ward_tree(array([[-2.115418, ...,  0.933983],\n",
        "       ..., \n",
        "       [ 0.525383, ...,  0.984193]]), \n",
        "<4386x4386 sparse matrix of type '<type 'numpy.int64'>'\n",
        "\twith 27848 stored elements in LInked List format>, copy=True, n_components=None, n_clusters=4)"
       ]
      },
      {
       "output_type": "stream",
       "stream": "stdout",
       "text": [
        "\n",
        "________________________________________________________ward_tree - 1.2s, 0.0min"
       ]
      },
      {
       "output_type": "stream",
       "stream": "stdout",
       "text": [
        "\n",
        "wtf  84.0 4\n",
        "current label is 88 \n",
        " working on roi 48 with 11042 voxels \n",
        "(267567,) (11042,) (11042,)\n",
        "(11042, 480)"
       ]
      },
      {
       "output_type": "stream",
       "stream": "stdout",
       "text": [
        "\n",
        "________________________________________________________________________________\n",
        "[Memory] Calling sklearn.cluster.hierarchical.ward_tree...\n",
        "ward_tree(array([[ 2.408797, ..., -0.293365],\n",
        "       ..., \n",
        "       [ 1.349591, ..., -0.202108]]), \n",
        "<11042x11042 sparse matrix of type '<type 'numpy.int64'>'\n",
        "\twith 70902 stored elements in LInked List format>, copy=True, n_components=None, n_clusters=10)"
       ]
      },
      {
       "output_type": "stream",
       "stream": "stdout",
       "text": [
        "\n",
        "________________________________________________________ward_tree - 3.6s, 0.1min"
       ]
      },
      {
       "output_type": "stream",
       "stream": "stdout",
       "text": [
        "\n",
        "wtf  88.0 10\n",
        "current label is 98 \n",
        " working on roi 49 with 1225 voxels \n",
        "(267567,)"
       ]
      },
      {
       "output_type": "stream",
       "stream": "stdout",
       "text": [
        " (1225,) (1225,)\n",
        "current label is 99 \n",
        " working on roi 50 with 3252 voxels \n",
        "(267567,) (3252,) (3252,)\n",
        "(3252, 480)"
       ]
      },
      {
       "output_type": "stream",
       "stream": "stdout",
       "text": [
        "\n",
        "________________________________________________________________________________\n",
        "[Memory] Calling sklearn.cluster.hierarchical.ward_tree...\n",
        "ward_tree(array([[ 1.531387, ..., -1.551267],\n",
        "       ..., \n",
        "       [ 1.219899, ...,  0.354658]]), \n",
        "<3252x3252 sparse matrix of type '<type 'numpy.int64'>'\n",
        "\twith 19956 stored elements in LInked List format>, copy=True, n_components=None, n_clusters=3)"
       ]
      },
      {
       "output_type": "stream",
       "stream": "stdout",
       "text": [
        "\n",
        "________________________________________________________ward_tree - 1.0s, 0.0min"
       ]
      },
      {
       "output_type": "stream",
       "stream": "stdout",
       "text": [
        "\n",
        "wtf  99.0 3\n",
        "current label is 102 \n",
        " working on roi 51 with 2656 voxels \n",
        "(267567,) (2656,) (2656,)\n",
        "(2656, 480)"
       ]
      },
      {
       "output_type": "stream",
       "stream": "stdout",
       "text": [
        "\n",
        "________________________________________________________________________________\n",
        "[Memory] Calling sklearn.cluster.hierarchical.ward_tree...\n",
        "ward_tree(array([[ 1.072781, ..., -0.028346],\n",
        "       ..., \n",
        "       [ 1.859021, ...,  0.565721]]), \n",
        "<2656x2656 sparse matrix of type '<type 'numpy.int64'>'\n",
        "\twith 16072 stored elements in LInked List format>, copy=True, n_components=None, n_clusters=2)"
       ]
      },
      {
       "output_type": "stream",
       "stream": "stdout",
       "text": [
        "\n",
        "________________________________________________________ward_tree - 0.8s, 0.0min"
       ]
      },
      {
       "output_type": "stream",
       "stream": "stdout",
       "text": [
        "\n",
        "wtf  102.0 2\n",
        "current label is 104 \n",
        " working on roi 52 with 722 voxels \n",
        "(267567,) (722,) (722,)\n",
        "current label is 105 \n",
        " working on roi 53 with 708 voxels "
       ]
      },
      {
       "output_type": "stream",
       "stream": "stdout",
       "text": [
        "\n",
        "(267567,) (708,) (708,)\n",
        "current label is 106 \n",
        " working on roi 54 with 4326 voxels \n",
        "(267567,)"
       ]
      },
      {
       "output_type": "stream",
       "stream": "stdout",
       "text": [
        " (4326,) (4326,)\n",
        "(4326, 480)"
       ]
      },
      {
       "output_type": "stream",
       "stream": "stdout",
       "text": [
        "\n",
        "________________________________________________________________________________\n",
        "[Memory] Calling sklearn.cluster.hierarchical.ward_tree...\n",
        "ward_tree(array([[-1.828671, ..., -0.73128 ],\n",
        "       ..., \n",
        "       [ 1.937635, ...,  0.27475 ]]), \n",
        "<4326x4326 sparse matrix of type '<type 'numpy.int64'>'\n",
        "\twith 25642 stored elements in LInked List format>, copy=True, n_components=None, n_clusters=4)"
       ]
      },
      {
       "output_type": "stream",
       "stream": "stdout",
       "text": [
        "\n",
        "________________________________________________________ward_tree - 1.4s, 0.0min"
       ]
      },
      {
       "output_type": "stream",
       "stream": "stdout",
       "text": [
        "\n",
        "wtf  106.0 4\n",
        "current label is 110 \n",
        " working on roi 55 with 3583 voxels \n",
        "(267567,) (3583,) (3583,)\n",
        "(3583, 480)"
       ]
      },
      {
       "output_type": "stream",
       "stream": "stdout",
       "text": [
        "\n",
        "________________________________________________________________________________\n",
        "[Memory] Calling sklearn.cluster.hierarchical.ward_tree...\n",
        "ward_tree(array([[-1.146724, ..., -0.060984],\n",
        "       ..., \n",
        "       [-0.338685, ...,  1.204904]]), \n",
        "<3583x3583 sparse matrix of type '<type 'numpy.int64'>'\n",
        "\twith 22501 stored elements in LInked List format>, copy=True, n_components=None, n_clusters=3)"
       ]
      },
      {
       "output_type": "stream",
       "stream": "stdout",
       "text": [
        "\n",
        "________________________________________________________ward_tree - 0.9s, 0.0min"
       ]
      },
      {
       "output_type": "stream",
       "stream": "stdout",
       "text": [
        "\n",
        "wtf  110.0 3\n",
        "current label is 113 \n",
        " working on roi 56 with 356 voxels \n",
        "(267567,) (356,) (356,)\n",
        "current label is 114 "
       ]
      },
      {
       "output_type": "stream",
       "stream": "stdout",
       "text": [
        "\n",
        " working on roi 57 with 665 voxels \n",
        "(267567,) (665,) (665,)\n",
        "current label is 115 \n",
        " working on roi 58 with 570 voxels \n",
        "(267567,)"
       ]
      },
      {
       "output_type": "stream",
       "stream": "stdout",
       "text": [
        " (570,) (570,)\n",
        "current label is 116 \n",
        " working on roi 59 with 1606 voxels \n",
        "(267567,) (1606,) (1606,)\n",
        "(1606, 480)"
       ]
      },
      {
       "output_type": "stream",
       "stream": "stdout",
       "text": [
        "\n",
        "________________________________________________________________________________\n",
        "[Memory] Calling sklearn.cluster.hierarchical.ward_tree...\n",
        "ward_tree(array([[ 1.363647, ..., -0.29836 ],\n",
        "       ..., \n",
        "       [-0.712082, ..., -0.775081]]), \n",
        "<1606x1606 sparse matrix of type '<type 'numpy.int64'>'\n",
        "\twith 9530 stored elements in LInked List format>, copy=True, n_components=None, n_clusters=2)"
       ]
      },
      {
       "output_type": "stream",
       "stream": "stdout",
       "text": [
        "\n",
        "________________________________________________________ward_tree - 0.4s, 0.0min"
       ]
      },
      {
       "output_type": "stream",
       "stream": "stdout",
       "text": [
        "\n",
        "wtf  116.0 2\n",
        "current label is 118 \n",
        " working on roi 60 with 1128 voxels \n",
        "(267567,) (1128,) (1128,)\n",
        "current label is 119 "
       ]
      },
      {
       "output_type": "stream",
       "stream": "stdout",
       "text": [
        "\n",
        " working on roi 61 with 468 voxels \n",
        "(267567,) (468,) (468,)\n",
        "current label is 120 \n",
        " working on roi 62 with 1505 voxels "
       ]
      },
      {
       "output_type": "stream",
       "stream": "stdout",
       "text": [
        "\n",
        "(267567,) (1505,) (1505,)\n",
        "current label is 121 \n",
        " working on roi 63 with 968 voxels "
       ]
      },
      {
       "output_type": "stream",
       "stream": "stdout",
       "text": [
        "\n",
        "(267567,) (968,) (968,)\n",
        "current label is 122 \n",
        " working on roi 64 with 3549 voxels "
       ]
      },
      {
       "output_type": "stream",
       "stream": "stdout",
       "text": [
        "\n",
        "(267567,) (3549,) (3549,)\n",
        "(3549, 480)"
       ]
      },
      {
       "output_type": "stream",
       "stream": "stdout",
       "text": [
        "\n",
        "________________________________________________________________________________\n",
        "[Memory] Calling sklearn.cluster.hierarchical.ward_tree...\n",
        "ward_tree(array([[-1.683727, ...,  0.527176],\n",
        "       ..., \n",
        "       [-1.820652, ..., -0.140204]]), \n",
        "<3549x3549 sparse matrix of type '<type 'numpy.int64'>'\n",
        "\twith 21271 stored elements in LInked List format>, copy=True, n_components=None, n_clusters=3)"
       ]
      },
      {
       "output_type": "stream",
       "stream": "stdout",
       "text": [
        "\n",
        "________________________________________________________ward_tree - 0.9s, 0.0min"
       ]
      },
      {
       "output_type": "stream",
       "stream": "stdout",
       "text": [
        "\n",
        "wtf  122.0 3\n",
        "current label is 125 \n",
        " working on roi 65 with 1442 voxels \n",
        "(267567,) (1442,) (1442,)\n",
        "current label is 126 "
       ]
      },
      {
       "output_type": "stream",
       "stream": "stdout",
       "text": [
        "\n",
        " working on roi 66 with 887 voxels \n",
        "(267567,)"
       ]
      },
      {
       "output_type": "stream",
       "stream": "stdout",
       "text": [
        " (887,) (887,)\n",
        "current label is 127 \n",
        " working on roi 67 with 1245 voxels \n",
        "(267567,)"
       ]
      },
      {
       "output_type": "stream",
       "stream": "stdout",
       "text": [
        " (1245,) (1245,)\n",
        "current label is 128 \n",
        " working on roi 68 with 1458 voxels \n",
        "(267567,)"
       ]
      },
      {
       "output_type": "stream",
       "stream": "stdout",
       "text": [
        " (1458,) (1458,)\n",
        "current label is 129 \n",
        " working on roi 69 with 5452 voxels \n",
        "(267567,)"
       ]
      },
      {
       "output_type": "stream",
       "stream": "stdout",
       "text": [
        " (5452,) (5452,)\n",
        "(5452, 480)"
       ]
      },
      {
       "output_type": "stream",
       "stream": "stdout",
       "text": [
        "\n",
        "________________________________________________________________________________\n",
        "[Memory] Calling sklearn.cluster.hierarchical.ward_tree...\n",
        "ward_tree(array([[-0.662087, ...,  0.149818],\n",
        "       ..., \n",
        "       [-0.98767 , ..., -0.328749]]), \n",
        "<5452x5452 sparse matrix of type '<type 'numpy.int64'>'\n",
        "\twith 34388 stored elements in LInked List format>, copy=True, n_components=None, n_clusters=5)"
       ]
      },
      {
       "output_type": "stream",
       "stream": "stderr",
       "text": [
        "/home/jb/.local/lib/python2.7/site-packages/sklearn/cluster/hierarchical.py:116: UserWarning: the number of connected components of the connectivity matrix is 9 > 1. Completing it to avoid stopping the tree early.\n",
        "  \"stopping the tree early.\" % n_components)\n",
        "/home/jb/.local/lib/python2.7/site-packages/sklearn/cluster/hierarchical.py:116: UserWarning: the number of connected components of the connectivity matrix is 16 > 1. Completing it to avoid stopping the tree early.\n",
        "  \"stopping the tree early.\" % n_components)\n"
       ]
      },
      {
       "output_type": "stream",
       "stream": "stdout",
       "text": [
        "\n",
        "________________________________________________________ward_tree - 2.0s, 0.0min"
       ]
      },
      {
       "output_type": "stream",
       "stream": "stdout",
       "text": [
        "\n",
        "wtf  129.0 5\n",
        "current label is 134 \n",
        " working on roi 70 with 2441 voxels \n",
        "(267567,) (2441,) (2441,)\n",
        "(2441, 480)"
       ]
      },
      {
       "output_type": "stream",
       "stream": "stdout",
       "text": [
        "\n",
        "________________________________________________________________________________\n",
        "[Memory] Calling sklearn.cluster.hierarchical.ward_tree...\n",
        "ward_tree(array([[-1.762024, ...,  0.924226],\n",
        "       ..., \n",
        "       [-0.499146, ...,  0.66048 ]]), \n",
        "<2441x2441 sparse matrix of type '<type 'numpy.int64'>'\n",
        "\twith 15053 stored elements in LInked List format>, copy=True, n_components=None, n_clusters=2)"
       ]
      },
      {
       "output_type": "stream",
       "stream": "stdout",
       "text": [
        "\n",
        "________________________________________________________ward_tree - 0.7s, 0.0min"
       ]
      },
      {
       "output_type": "stream",
       "stream": "stdout",
       "text": [
        "\n",
        "wtf  134.0 2\n",
        "current label is 136 \n",
        " working on roi 71 with 552 voxels \n",
        "(267567,)"
       ]
      },
      {
       "output_type": "stream",
       "stream": "stdout",
       "text": [
        " (552,) (552,)\n",
        "current label is 137 \n",
        " working on roi 72 with 1780 voxels \n",
        "(267567,) (1780,) (1780,)\n",
        "(1780, 480)"
       ]
      },
      {
       "output_type": "stream",
       "stream": "stdout",
       "text": [
        "\n",
        "________________________________________________________________________________\n",
        "[Memory] Calling sklearn.cluster.hierarchical.ward_tree...\n",
        "ward_tree(array([[ 0.667203, ...,  0.507941],\n",
        "       ..., \n",
        "       [ 0.80427 , ..., -0.457604]]), \n",
        "<1780x1780 sparse matrix of type '<type 'numpy.int64'>'\n",
        "\twith 10756 stored elements in LInked List format>, copy=True, n_components=None, n_clusters=2)"
       ]
      },
      {
       "output_type": "stream",
       "stream": "stdout",
       "text": [
        "\n",
        "________________________________________________________ward_tree - 0.4s, 0.0min"
       ]
      },
      {
       "output_type": "stream",
       "stream": "stdout",
       "text": [
        "\n",
        "wtf  137.0 2\n",
        "current label is 139 \n",
        " working on roi 73 with 904 voxels \n",
        "(267567,) (904,) (904,)\n",
        "current label is 140 "
       ]
      },
      {
       "output_type": "stream",
       "stream": "stdout",
       "text": [
        "\n",
        " working on roi 74 with 300 voxels \n",
        "(267567,) (300,) (300,)\n",
        "current label is 141 \n",
        " working on roi 75 with 1454 voxels "
       ]
      },
      {
       "output_type": "stream",
       "stream": "stdout",
       "text": [
        "\n",
        "(267567,) (1454,) (1454,)\n",
        "current label is 142 \n",
        " working on roi 76 with 468 voxels \n",
        "(267567,)"
       ]
      },
      {
       "output_type": "stream",
       "stream": "stdout",
       "text": [
        " (468,) (468,)\n",
        "current label is 143 \n",
        " working on roi 77 with 976 voxels \n",
        "(267567,) (976,) (976,)\n",
        "current label is 144 "
       ]
      },
      {
       "output_type": "stream",
       "stream": "stdout",
       "text": [
        "\n",
        " working on roi 78 with 533 voxels \n",
        "(267567,) (533,) (533,)\n",
        "current label is 145 \n",
        " working on roi 79 with 610 voxels "
       ]
      },
      {
       "output_type": "stream",
       "stream": "stdout",
       "text": [
        "\n",
        "(267567,) (610,) (610,)\n",
        "current label is 146 \n",
        " working on roi 80 with 270 voxels \n",
        "(267567,)"
       ]
      },
      {
       "output_type": "stream",
       "stream": "stdout",
       "text": [
        " (270,) (270,)\n",
        "current label is 147 \n",
        " working on roi 81 with 778 voxels \n",
        "(267567,) (778,) (778,)\n",
        "current label is 148 "
       ]
      },
      {
       "output_type": "stream",
       "stream": "stdout",
       "text": [
        "\n",
        " working on roi 82 with 440 voxels \n",
        "(267567,) (440,) (440,)\n",
        "current label is 149 \n",
        " working on roi 83 with 304 voxels "
       ]
      },
      {
       "output_type": "stream",
       "stream": "stdout",
       "text": [
        "\n",
        "(267567,) (304,) (304,)\n",
        "current label is 150 \n",
        " working on roi 84 with 225 voxels \n",
        "(267567,)"
       ]
      },
      {
       "output_type": "stream",
       "stream": "stdout",
       "text": [
        " (225,) (225,)\n",
        "current label is 151 \n",
        " working on roi 85 with 333 voxels \n",
        "(267567,) (333,) (333,)\n",
        "current label is 152 "
       ]
      },
      {
       "output_type": "stream",
       "stream": "stdout",
       "text": [
        "\n",
        " working on roi 86 with 167 voxels \n",
        "(267567,) (167,) (167,)\n",
        "current label is 153 \n",
        " working on roi 87 with 4290 voxels "
       ]
      },
      {
       "output_type": "stream",
       "stream": "stdout",
       "text": [
        "\n",
        "(267567,) (4290,) (4290,)\n",
        "(4290, 480)"
       ]
      },
      {
       "output_type": "stream",
       "stream": "stdout",
       "text": [
        "\n",
        "________________________________________________________________________________\n",
        "[Memory] Calling sklearn.cluster.hierarchical.ward_tree...\n",
        "ward_tree(array([[-1.080086, ..., -0.56824 ],\n",
        "       ..., \n",
        "       [-0.866929, ..., -0.164162]]), \n",
        "<4290x4290 sparse matrix of type '<type 'numpy.int64'>'\n",
        "\twith 27012 stored elements in LInked List format>, copy=True, n_components=None, n_clusters=4)"
       ]
      },
      {
       "output_type": "stream",
       "stream": "stdout",
       "text": [
        "\n",
        "________________________________________________________ward_tree - 1.1s, 0.0min"
       ]
      },
      {
       "output_type": "stream",
       "stream": "stdout",
       "text": [
        "\n",
        "wtf  153.0 4\n",
        "current label is 157 \n",
        " working on roi 88 with 28465 voxels \n",
        "(267567,)"
       ]
      },
      {
       "output_type": "stream",
       "stream": "stdout",
       "text": [
        " (28465,) (28465,)\n",
        "(28465, 480)"
       ]
      },
      {
       "output_type": "stream",
       "stream": "stdout",
       "text": [
        "\n",
        "________________________________________________________________________________\n",
        "[Memory] Calling sklearn.cluster.hierarchical.ward_tree...\n",
        "ward_tree(array([[ 0.769253, ...,  0.413966],\n",
        "       ..., \n",
        "       [-1.142011, ...,  0.846891]]), \n",
        "<28465x28465 sparse matrix of type '<type 'numpy.int64'>'\n",
        "\twith 179703 stored elements in LInked List format>, copy=True, n_components=None, n_clusters=27)"
       ]
      },
      {
       "output_type": "stream",
       "stream": "stderr",
       "text": [
        "/home/jb/.local/lib/python2.7/site-packages/sklearn/cluster/hierarchical.py:116: UserWarning: the number of connected components of the connectivity matrix is 4 > 1. Completing it to avoid stopping the tree early.\n",
        "  \"stopping the tree early.\" % n_components)\n",
        "/home/jb/.local/lib/python2.7/site-packages/sklearn/cluster/hierarchical.py:116: UserWarning: the number of connected components of the connectivity matrix is 22 > 1. Completing it to avoid stopping the tree early.\n",
        "  \"stopping the tree early.\" % n_components)\n"
       ]
      },
      {
       "output_type": "stream",
       "stream": "stdout",
       "text": [
        "\n",
        "_______________________________________________________ward_tree - 12.7s, 0.2min"
       ]
      },
      {
       "output_type": "stream",
       "stream": "stdout",
       "text": [
        "\n",
        "wtf  157.0 27\n",
        "current label is 184 \n",
        " working on roi 89 with 1294 voxels \n",
        "(267567,)"
       ]
      },
      {
       "output_type": "stream",
       "stream": "stdout",
       "text": [
        " (1294,) (1294,)\n",
        "current label is 185 \n",
        " working on roi 90 with 1591 voxels \n",
        "(267567,) (1591,) (1591,)\n",
        "current label is 186 "
       ]
      },
      {
       "output_type": "stream",
       "stream": "stdout",
       "text": [
        "\n",
        " working on roi 91 with 572 voxels \n",
        "(267567,) (572,) (572,)\n",
        "current label is 187 \n",
        " working on roi 92 with 944 voxels \n",
        "(267567,)"
       ]
      },
      {
       "output_type": "stream",
       "stream": "stdout",
       "text": [
        " (944,) (944,)\n",
        "current label is 188 \n",
        " working on roi 93 with 312 voxels \n",
        "(267567,) (312,) (312,)\n",
        "current label is 189 \n"
       ]
      },
      {
       "output_type": "stream",
       "stream": "stdout",
       "text": [
        " working on roi 94 with 6223 voxels \n",
        "(267567,) (6223,) (6223,)\n",
        "(6223, 480)"
       ]
      },
      {
       "output_type": "stream",
       "stream": "stdout",
       "text": [
        "\n",
        "________________________________________________________________________________\n",
        "[Memory] Calling sklearn.cluster.hierarchical.ward_tree...\n",
        "ward_tree(array([[-1.289522, ...,  0.909694],\n",
        "       ..., \n",
        "       [ 1.111157, ..., -0.187072]]), \n",
        "<6223x6223 sparse matrix of type '<type 'numpy.int64'>'\n",
        "\twith 40367 stored elements in LInked List format>, copy=True, n_components=None, n_clusters=6)"
       ]
      },
      {
       "output_type": "stream",
       "stream": "stdout",
       "text": [
        "\n",
        "________________________________________________________ward_tree - 1.6s, 0.0min"
       ]
      },
      {
       "output_type": "stream",
       "stream": "stdout",
       "text": [
        "\n",
        "wtf  189.0 6\n",
        "current label is 195 \n",
        " working on roi 95 with 898 voxels \n",
        "(267567,)"
       ]
      },
      {
       "output_type": "stream",
       "stream": "stdout",
       "text": [
        " (898,) (898,)\n",
        "current label is 196 \n",
        " working on roi 96 with 441 voxels \n",
        "(267567,)"
       ]
      },
      {
       "output_type": "stream",
       "stream": "stdout",
       "text": [
        " (441,) (441,)\n",
        "current label is 197 \n",
        " working on roi 97 with 146 voxels \n",
        "(267567,) (146,) (146,)\n",
        "current label is 198 \n",
        " working on roi 98 with 37239 voxels "
       ]
      },
      {
       "output_type": "stream",
       "stream": "stdout",
       "text": [
        "\n",
        "(267567,) (37239,) (37239,)\n",
        "(37239, 480)"
       ]
      },
      {
       "output_type": "stream",
       "stream": "stdout",
       "text": [
        "\n",
        "________________________________________________________________________________\n",
        "[Memory] Calling sklearn.cluster.hierarchical.ward_tree...\n",
        "ward_tree(array([[-0.885504, ...,  0.609626],\n",
        "       ..., \n",
        "       [ 1.312741, ..., -0.262677]]), \n",
        "<37239x37239 sparse matrix of type '<type 'numpy.int64'>'\n",
        "\twith 237649 stored elements in LInked List format>, copy=True, n_components=None, n_clusters=35)"
       ]
      },
      {
       "output_type": "stream",
       "stream": "stdout",
       "text": [
        "\n",
        "_______________________________________________________ward_tree - 16.1s, 0.3min"
       ]
      },
      {
       "output_type": "stream",
       "stream": "stdout",
       "text": [
        "\n",
        "wtf  198.0 35\n",
        "current label is 233 \n",
        " working on roi 99 with 1025 voxels \n",
        "(267567,)"
       ]
      },
      {
       "output_type": "stream",
       "stream": "stdout",
       "text": [
        " (1025,) (1025,)\n",
        "current label is 234 \n",
        " working on roi 100 with 1402 voxels \n",
        "(267567,) (1402,) (1402,)\n",
        "current label is 235 "
       ]
      },
      {
       "output_type": "stream",
       "stream": "stdout",
       "text": [
        "\n",
        " working on roi 101 with 515 voxels \n",
        "(267567,) (515,) (515,)\n",
        "current label is 236 "
       ]
      },
      {
       "output_type": "stream",
       "stream": "stdout",
       "text": [
        "\n",
        " working on roi 102 with 824 voxels \n",
        "(267567,) (824,) (824,)\n",
        "current label is 237 \n",
        " working on roi 103 with 266 voxels "
       ]
      },
      {
       "output_type": "stream",
       "stream": "stdout",
       "text": [
        "\n",
        "(267567,) (266,) (266,)\n",
        "current label is 238 \n",
        " working on roi 104 with 778 voxels \n",
        "(267567,)"
       ]
      },
      {
       "output_type": "stream",
       "stream": "stdout",
       "text": [
        " (778,) (778,)\n",
        "current label is 239 \n",
        " working on roi 105 with 477 voxels \n",
        "(267567,)"
       ]
      },
      {
       "output_type": "stream",
       "stream": "stdout",
       "text": [
        " (477,) (477,)\n",
        "current label is 240 \n",
        " working on roi 106 with 101 voxels \n",
        "(267567,) (101,) (101,)\n",
        "current label is 241 "
       ]
      },
      {
       "output_type": "stream",
       "stream": "stdout",
       "text": [
        "\n",
        " working on roi 107 with 1007 voxels \n",
        "(267567,) (1007,) (1007,)\n",
        "current label is 242 \n",
        " working on roi 108 with 1039 voxels "
       ]
      },
      {
       "output_type": "stream",
       "stream": "stdout",
       "text": [
        "\n",
        "(267567,) (1039,) (1039,)\n",
        "current label is 243 \n",
        " working on roi 109 with 870 voxels \n",
        "(267567,)"
       ]
      },
      {
       "output_type": "stream",
       "stream": "stdout",
       "text": [
        " (870,) (870,)\n",
        "current label is 244 \n",
        " working on roi 110 with 894 voxels \n",
        "(267567,) (894,) (894,)\n",
        "current label is 245 "
       ]
      },
      {
       "output_type": "stream",
       "stream": "stdout",
       "text": [
        "\n",
        " working on roi 111 with 2101 voxels \n",
        "(267567,) (2101,) (2101,)\n",
        "(2101, 480)"
       ]
      },
      {
       "output_type": "stream",
       "stream": "stdout",
       "text": [
        "\n",
        "________________________________________________________________________________\n",
        "[Memory] Calling sklearn.cluster.hierarchical.ward_tree...\n",
        "ward_tree(array([[ 0.348218, ..., -0.133018],\n",
        "       ..., \n",
        "       [ 0.637937, ...,  0.362625]]), \n",
        "<2101x2101 sparse matrix of type '<type 'numpy.int64'>'\n",
        "\twith 12821 stored elements in LInked List format>, copy=True, n_components=None, n_clusters=2)"
       ]
      },
      {
       "output_type": "stream",
       "stream": "stdout",
       "text": [
        "\n",
        "________________________________________________________ward_tree - 0.5s, 0.0min"
       ]
      },
      {
       "output_type": "stream",
       "stream": "stdout",
       "text": [
        "\n",
        "wtf  245.0 2\n",
        "current label is 247 \n",
        " working on roi 112 with 441 voxels \n",
        "(267567,) (441,) (441,)\n",
        "current label is 248 "
       ]
      },
      {
       "output_type": "stream",
       "stream": "stdout",
       "text": [
        "\n",
        " working on roi 113 with 1874 voxels \n",
        "(267567,) (1874,) (1874,)\n",
        "(1874, 480)"
       ]
      },
      {
       "output_type": "stream",
       "stream": "stdout",
       "text": [
        "\n",
        "________________________________________________________________________________\n",
        "[Memory] Calling sklearn.cluster.hierarchical.ward_tree...\n",
        "ward_tree(array([[ 0.403204, ...,  0.351047],\n",
        "       ..., \n",
        "       [ 1.390956, ...,  0.132825]]), \n",
        "<1874x1874 sparse matrix of type '<type 'numpy.int64'>'\n",
        "\twith 11440 stored elements in LInked List format>, copy=True, n_components=None, n_clusters=2)"
       ]
      },
      {
       "output_type": "stream",
       "stream": "stdout",
       "text": [
        "\n",
        "________________________________________________________ward_tree - 0.4s, 0.0min"
       ]
      },
      {
       "output_type": "stream",
       "stream": "stdout",
       "text": [
        "\n",
        "wtf  248.0 2\n",
        "current label is 250 \n",
        " working on roi 114 with 3478 voxels \n",
        "(267567,) (3478,) (3478,)\n",
        "(3478, 480)"
       ]
      },
      {
       "output_type": "stream",
       "stream": "stdout",
       "text": [
        "\n",
        "________________________________________________________________________________\n",
        "[Memory] Calling sklearn.cluster.hierarchical.ward_tree...\n",
        "ward_tree(array([[-0.392975, ..., -0.146506],\n",
        "       ..., \n",
        "       [ 0.174003, ...,  0.971273]]), \n",
        "<3478x3478 sparse matrix of type '<type 'numpy.int64'>'\n",
        "\twith 21832 stored elements in LInked List format>, copy=True, n_components=None, n_clusters=3)"
       ]
      },
      {
       "output_type": "stream",
       "stream": "stdout",
       "text": [
        "\n",
        "________________________________________________________ward_tree - 0.8s, 0.0min"
       ]
      },
      {
       "output_type": "stream",
       "stream": "stdout",
       "text": [
        "\n",
        "wtf  250.0 3\n",
        "current label is 253 \n",
        " working on roi 115 with 2 voxels \n",
        "(267567,) (2,) (2,)\n",
        "current label is 254 \n",
        " working on roi 116 with 3490 voxels \n",
        "(267567,)"
       ]
      },
      {
       "output_type": "stream",
       "stream": "stdout",
       "text": [
        " (3490,) (3490,)\n",
        "(3490, 480)"
       ]
      },
      {
       "output_type": "stream",
       "stream": "stdout",
       "text": [
        "\n",
        "________________________________________________________________________________\n",
        "[Memory] Calling sklearn.cluster.hierarchical.ward_tree...\n",
        "ward_tree(array([[-0.3617  , ...,  1.202568],\n",
        "       ..., \n",
        "       [ 1.026285, ...,  0.484818]]), \n",
        "<3490x3490 sparse matrix of type '<type 'numpy.int64'>'\n",
        "\twith 21934 stored elements in LInked List format>, copy=True, n_components=None, n_clusters=3)"
       ]
      },
      {
       "output_type": "stream",
       "stream": "stdout",
       "text": [
        "\n",
        "________________________________________________________ward_tree - 0.9s, 0.0min"
       ]
      },
      {
       "output_type": "stream",
       "stream": "stdout",
       "text": [
        "\n",
        "wtf  254.0 3\n",
        "current label is 257 \n",
        " working on roi 117 with 2651 voxels \n",
        "(267567,) (2651,) (2651,)\n",
        "(2651, 480)"
       ]
      },
      {
       "output_type": "stream",
       "stream": "stdout",
       "text": [
        "\n",
        "________________________________________________________________________________\n",
        "[Memory] Calling sklearn.cluster.hierarchical.ward_tree...\n",
        "ward_tree(array([[ 1.64953 , ...,  0.274803],\n",
        "       ..., \n",
        "       [-1.122682, ...,  0.08198 ]]), \n",
        "<2651x2651 sparse matrix of type '<type 'numpy.int64'>'\n",
        "\twith 16015 stored elements in LInked List format>, copy=True, n_components=None, n_clusters=2)"
       ]
      },
      {
       "output_type": "stream",
       "stream": "stdout",
       "text": [
        "\n",
        "________________________________________________________ward_tree - 0.7s, 0.0min"
       ]
      },
      {
       "output_type": "stream",
       "stream": "stdout",
       "text": [
        "\n",
        "wtf  257.0 2\n",
        "current label is 259 \n",
        " working on roi 118 with 76 voxels \n",
        "(267567,) (76,) (76,)\n",
        "current label is 260 "
       ]
      },
      {
       "output_type": "stream",
       "stream": "stdout",
       "text": [
        "\n",
        " working on roi 119 with 2781 voxels \n",
        "(267567,) (2781,) (2781,)\n",
        "(2781, 480)"
       ]
      },
      {
       "output_type": "stream",
       "stream": "stdout",
       "text": [
        "\n",
        "________________________________________________________________________________\n",
        "[Memory] Calling sklearn.cluster.hierarchical.ward_tree...\n",
        "ward_tree(array([[-1.066726, ..., -0.018352],\n",
        "       ..., \n",
        "       [ 1.812746, ...,  0.187883]]), \n",
        "<2781x2781 sparse matrix of type '<type 'numpy.int64'>'\n",
        "\twith 16631 stored elements in LInked List format>, copy=True, n_components=None, n_clusters=3)"
       ]
      },
      {
       "output_type": "stream",
       "stream": "stderr",
       "text": [
        "/home/jb/.local/lib/python2.7/site-packages/sklearn/cluster/hierarchical.py:116: UserWarning: the number of connected components of the connectivity matrix is 21 > 1. Completing it to avoid stopping the tree early.\n",
        "  \"stopping the tree early.\" % n_components)\n",
        "/home/jb/.local/lib/python2.7/site-packages/sklearn/cluster/hierarchical.py:116: UserWarning: the number of connected components of the connectivity matrix is 20 > 1. Completing it to avoid stopping the tree early.\n",
        "  \"stopping the tree early.\" % n_components)\n"
       ]
      },
      {
       "output_type": "stream",
       "stream": "stdout",
       "text": [
        "\n",
        "________________________________________________________ward_tree - 1.1s, 0.0min"
       ]
      },
      {
       "output_type": "stream",
       "stream": "stdout",
       "text": [
        "\n",
        "wtf  260.0 3\n",
        "current label is 263 \n",
        " working on roi 120 with 1152 voxels \n",
        "(267567,) (1152,) (1152,)\n",
        "current label is 264 "
       ]
      },
      {
       "output_type": "stream",
       "stream": "stdout",
       "text": [
        "\n",
        " working on roi 121 with 28 voxels \n",
        "(267567,) (28,) (28,)\n",
        "current label is 265 \n",
        " working on roi 122 with 1216 voxels \n",
        "(267567,)"
       ]
      },
      {
       "output_type": "stream",
       "stream": "stdout",
       "text": [
        " (1216,) (1216,)\n",
        "current label is 266 \n",
        " working on roi 123 with 1194 voxels \n",
        "(267567,)"
       ]
      },
      {
       "output_type": "stream",
       "stream": "stdout",
       "text": [
        " (1194,) (1194,)\n",
        "current label is 267 \n",
        " working on roi 124 with 272 voxels \n",
        "(267567,) (272,) (272,)\n",
        "current label is 268 "
       ]
      },
      {
       "output_type": "stream",
       "stream": "stdout",
       "text": [
        "\n",
        " working on roi 125 with 1162 voxels \n",
        "(267567,) (1162,) (1162,)\n",
        "current label is 269 "
       ]
      },
      {
       "output_type": "stream",
       "stream": "stdout",
       "text": [
        "\n",
        " working on roi 126 with 1215 voxels \n",
        "(267567,) (1215,) (1215,)\n",
        "current label is 270 "
       ]
      },
      {
       "output_type": "stream",
       "stream": "stdout",
       "text": [
        "\n",
        " working on roi 127 with 103 voxels \n",
        "(267567,) (103,) (103,)\n",
        "current label is 271 "
       ]
      },
      {
       "output_type": "stream",
       "stream": "stdout",
       "text": [
        "\n",
        " working on roi 128 with 1061 voxels \n",
        "(267567,) (1061,) (1061,)\n",
        "current label is 272 "
       ]
      },
      {
       "output_type": "stream",
       "stream": "stdout",
       "text": [
        "\n",
        " working on roi 129 with 925 voxels \n",
        "(267567,) (925,) (925,)\n",
        "current label is 273 "
       ]
      },
      {
       "output_type": "stream",
       "stream": "stdout",
       "text": [
        "\n",
        " working on roi 130 with 153 voxels \n",
        "(267567,) (153,) (153,)\n",
        "current label is 274 "
       ]
      },
      {
       "output_type": "stream",
       "stream": "stdout",
       "text": [
        "\n",
        " working on roi 131 with 931 voxels \n",
        "(267567,) (931,) (931,)\n",
        "current label is 275 "
       ]
      },
      {
       "output_type": "stream",
       "stream": "stdout",
       "text": [
        "\n",
        " working on roi 132 with 256 voxels \n",
        "(267567,) (256,) (256,)\n",
        "current label is 276 "
       ]
      },
      {
       "output_type": "stream",
       "stream": "stdout",
       "text": [
        "\n",
        " working on roi 133 with 72 voxels \n",
        "(267567,) (72,) (72,)\n",
        "current label is 277 "
       ]
      },
      {
       "output_type": "stream",
       "stream": "stdout",
       "text": [
        "\n",
        " working on roi 134 with 248 voxels \n",
        "(267567,) (248,) (248,)\n"
       ]
      }
     ],
     "prompt_number": 27
    },
    {
     "cell_type": "code",
     "collapsed": false,
     "input": [
      "print newlabels\n"
     ],
     "language": "python",
     "metadata": {},
     "outputs": [
      {
       "output_type": "stream",
       "stream": "stdout",
       "text": [
        "[(array([ 0.,  1.,  2.,  3.,  4.,  5.,  6.,  7.,  8.]), [u'0', u'Left_Frontal Pole']), (array([ 9.]), [u'1', u'Left_Insular Cortex']), (array([ 10.,  11.,  12.]), [u'2', u'Left_Superior Frontal Gyrus']), (array([ 13.,  14.,  15.]), [u'3', u'Left_Middle Frontal Gyrus']), (array([ 16.]), [u'4', u'Left_Inferior Frontal Gyrus, pars triangularis']), (array([ 17.]), [u'5', u'Left_Inferior Frontal Gyrus, pars opercularis']), (array([ 18.,  19.,  20.,  21.,  22.]), [u'6', u'Left_Precentral Gyrus']), (array([ 23.,  24.,  25.]), [u'7', u'Left_Temporal Pole']), (array([ 26.]), [u'8', u'Left_Superior Temporal Gyrus, anterior division']), (array([ 27.]), [u'9', u'Left_Superior Temporal Gyrus, posterior division']), (array([ 28.]), [u'10', u'Left_Middle Temporal Gyrus, anterior division']), (array([ 29.,  30.]), [u'11', u'Left_Middle Temporal Gyrus, posterior division']), (array([ 31.]), [u'12', u'Left_Middle Temporal Gyrus, temporooccipital part']), (array([ 32.]), [u'13', u'Left_Inferior Temporal Gyrus, anterior division']), (array([ 33.,  34.]), [u'14', u'Left_Inferior Temporal Gyrus, posterior division']), (array([ 35.]), [u'15', u'Left_Inferior Temporal Gyrus, temporooccipital part']), (array([ 36.,  37.,  38.,  39.]), [u'16', u'Left_Postcentral Gyrus']), (array([ 40.,  41.]), [u'17', u'Left_Superior Parietal Lobule']), (array([ 42.]), [u'18', u'Left_Supramarginal Gyrus, anterior division']), (array([ 43.]), [u'19', u'Left_Supramarginal Gyrus, posterior division']), (array([ 44.]), [u'20', u'Left_Angular Gyrus']), (array([ 45.,  46.,  47.,  48.,  49.,  50.]), [u'21', u'Left_Lateral Occipital Cortex, superior division']), (array([ 51.,  52.]), [u'22', u'Left_Lateral Occipital Cortex, inferior division']), (array([ 53.]), [u'23', u'Left_Intracalcarine Cortex']), (array([ 54.]), [u'24', u'Frontal Medial Cortex']), (array([ 55.]), [u'25', u'Juxtapositional Lobule Cortex (formerly Supplementary Motor Cortex)']), (array([ 56.]), [u'26', u'Subcallosal Cortex']), (array([ 57.,  58.]), [u'27', u'Paracingulate Gyrus']), (array([ 59.,  60.]), [u'28', u'Cingulate Gyrus, anterior division']), (array([ 61.,  62.]), [u'29', u'Cingulate Gyrus, posterior division']), (array([ 63.,  64.,  65.,  66.,  67.]), [u'30', u'Precuneous Cortex']), (array([ 68.]), [u'31', u'Cuneal Cortex']), (array([ 69.,  70.]), [u'32', u'Left_Frontal Orbital Cortex']), (array([ 71.]), [u'33', u'Left_Parahippocampal Gyrus, anterior division']), (array([ 72.]), [u'34', u'Left_Parahippocampal Gyrus, posterior division']), (array([ 73.]), [u'35', u'Left_Lingual Gyrus']), (array([ 74.]), [u'36', u'Left_Temporal Fusiform Cortex, anterior division']), (array([ 75.]), [u'37', u'Left_Temporal Fusiform Cortex, posterior division']), (array([ 76.]), [u'38', u'Left_Temporal Occipital Fusiform Cortex']), (array([ 77.]), [u'39', u'Left_Occipital Fusiform Gyrus']), (array([ 78.]), [u'40', u'Left_Frontal Operculum Cortex']), (array([ 79.]), [u'41', u'Left_Central Opercular Cortex']), (array([ 80.]), [u'42', u'Left_Parietal Operculum Cortex']), (array([ 81.]), [u'43', u'Left_Planum Polare']), (array([ 82.]), [u'44', u\"Left_Heschl's Gyrus (includes H1 and H2)\"]), (array([ 83.]), [u'45', u'Left_Planum Temporale']), (array([ 84.]), [u'46', u'Left_Supracalcarine Cortex']), (array([ 85.,  86.,  87.,  88.]), [u'47', u'Left_Occipital Pole']), (array([ 89.,  90.,  91.,  92.,  93.,  94.,  95.,  96.,  97.,  98.]), [u'48', u'Right_Frontal Pole']), (array([ 99.]), [u'49', u'Right_Insular Cortex']), (array([ 100.,  101.,  102.]), [u'50', u'Right_Superior Frontal Gyrus']), (array([ 103.,  104.]), [u'51', u'Right_Middle Frontal Gyrus']), (array([ 105.]), [u'52', u'Right_Inferior Frontal Gyrus, pars triangularis']), (array([ 106.]), [u'53', u'Right_Inferior Frontal Gyrus, pars opercularis']), (array([ 107.,  108.,  109.,  110.]), [u'54', u'Right_Precentral Gyrus']), (array([ 111.,  112.,  113.]), [u'55', u'Right_Temporal Pole']), (array([ 114.]), [u'56', u'Right_Superior Temporal Gyrus, anterior division']), (array([ 115.]), [u'57', u'Right_Superior Temporal Gyrus, posterior division']), (array([ 116.]), [u'58', u'Right_Middle Temporal Gyrus, anterior division']), (array([ 117.,  118.]), [u'59', u'Right_Middle Temporal Gyrus, posterior division']), (array([ 119.]), [u'60', u'Right_Middle Temporal Gyrus, temporooccipital part']), (array([ 120.]), [u'61', u'Right_Inferior Temporal Gyrus, anterior division']), (array([ 121.]), [u'62', u'Right_Inferior Temporal Gyrus, posterior division']), (array([ 122.]), [u'63', u'Right_Inferior Temporal Gyrus, temporooccipital part']), (array([ 123.,  124.,  125.]), [u'64', u'Right_Postcentral Gyrus']), (array([ 126.]), [u'65', u'Right_Superior Parietal Lobule']), (array([ 127.]), [u'66', u'Right_Supramarginal Gyrus, anterior division']), (array([ 128.]), [u'67', u'Right_Supramarginal Gyrus, posterior division']), (array([ 129.]), [u'68', u'Right_Angular Gyrus']), (array([ 130.,  131.,  132.,  133.,  134.]), [u'69', u'Right_Lateral Occipital Cortex, superior division']), (array([ 135.,  136.]), [u'70', u'Right_Lateral Occipital Cortex, inferior division']), (array([ 137.]), [u'71', u'Right_Intracalcarine Cortex']), (array([ 138.,  139.]), [u'72', u'Right_Frontal Orbital Cortex']), (array([ 140.]), [u'73', u'Right_Parahippocampal Gyrus, anterior division']), (array([ 141.]), [u'74', u'Right_Parahippocampal Gyrus, posterior division']), (array([ 142.]), [u'75', u'Right_Lingual Gyrus']), (array([ 143.]), [u'76', u'Right_Temporal Fusiform Cortex, anterior division']), (array([ 144.]), [u'77', u'Right_Temporal Fusiform Cortex, posterior division']), (array([ 145.]), [u'78', u'Right_Temporal Occipital Fusiform Cortex']), (array([ 146.]), [u'79', u'Right_Occipital Fusiform Gyrus']), (array([ 147.]), [u'80', u'Right_Frontal Operculum Cortex']), (array([ 148.]), [u'81', u'Right_Central Opercular Cortex']), (array([ 149.]), [u'82', u'Right_Parietal Operculum Cortex']), (array([ 150.]), [u'83', u'Right_Planum Polare']), (array([ 151.]), [u'84', u\"Right_Heschl's Gyrus (includes H1 and H2)\"]), (array([ 152.]), [u'85', u'Right_Planum Temporale']), (array([ 153.]), [u'86', u'Right_Supracalcarine Cortex']), (array([ 154.,  155.,  156.,  157.]), [u'87', u'Right_Occipital Pole']), (array([ 158.,  159.,  160.,  161.,  162.,  163.,  164.,  165.,  166.,\n",
        "        167.,  168.,  169.,  170.,  171.,  172.,  173.,  174.,  175.,\n",
        "        176.,  177.,  178.,  179.,  180.,  181.,  182.,  183.,  184.]), [u'88', u'Left Cerebral White Matter']), (array([ 185.]), [u'89', u'Left Lateral Ventrical']), (array([ 186.]), [u'90', u'Left Thalamus']), (array([ 187.]), [u'91', u'Left Caudate']), (array([ 188.]), [u'92', u'Left Putamen']), (array([ 189.]), [u'93', u'Left Pallidum']), (array([ 190.,  191.,  192.,  193.,  194.,  195.]), [u'94', u'Brain-Stem']), (array([ 196.]), [u'95', u'Left Hippocampus']), (array([ 197.]), [u'96', u'Left Amygdala']), (array([ 198.]), [u'97', u'Left Accumbens']), (array([ 199.,  200.,  201.,  202.,  203.,  204.,  205.,  206.,  207.,\n",
        "        208.,  209.,  210.,  211.,  212.,  213.,  214.,  215.,  216.,\n",
        "        217.,  218.,  219.,  220.,  221.,  222.,  223.,  224.,  225.,\n",
        "        226.,  227.,  228.,  229.,  230.,  231.,  232.,  233.]), [u'98', u'Right Cerebral White Matter']), (array([ 234.]), [u'99', u'Right Lateral Ventricle']), (array([ 235.]), [u'100', u'Right Thalamus']), (array([ 236.]), [u'101', u'Right Caudate']), (array([ 237.]), [u'102', u'Right Putamen']), (array([ 238.]), [u'103', u'Right Pallidum']), (array([ 239.]), [u'104', u'Right Hippocampus']), (array([ 240.]), [u'105', u'Right Amygdala']), (array([ 241.]), [u'106', u'Right Accumbens']), (array([ 242.]), [u'107', u'Left_I_IV']), (array([ 243.]), [u'108', u'Right_I_IV']), (array([ 244.]), [u'109', u'Left_V']), (array([ 245.]), [u'110', u'Right_V']), (array([ 246.,  247.]), [u'111', u'Left_VI']), (array([ 248.]), [u'112', u'Vermis_VI']), (array([ 249.,  250.]), [u'113', u'Right_VI']), (array([ 251.,  252.,  253.]), [u'114', u'Left_CrusI']), (array([ 254.]), [u'115', u'Vermis_CrusI']), (array([ 255.,  256.,  257.]), [u'116', u'Right_CrusI']), (array([ 258.,  259.]), [u'117', u'Left_CrusII']), (array([ 260.]), [u'118', u'Vermis_CrusII']), (array([ 261.,  262.,  263.]), [u'119', u'Right_CrusII']), (array([ 264.]), [u'120', u'Left_VIIb']), (array([ 265.]), [u'121', u'Vermis_VIIb']), (array([ 266.]), [u'122', u'Right_VIIb']), (array([ 267.]), [u'123', u'Left_VIIIa']), (array([ 268.]), [u'124', u'Vermis_VIIIa']), (array([ 269.]), [u'125', u'Right_VIIIa']), (array([ 270.]), [u'126', u'Left_VIIIb']), (array([ 271.]), [u'127', u'Vermis_VIIIb']), (array([ 272.]), [u'128', u'Right_VIIIb']), (array([ 273.]), [u'129', u'Left_IX']), (array([ 274.]), [u'130', u'Vermis_IX']), (array([ 275.]), [u'131', u'Right_IX']), (array([ 276.]), [u'132', u'Left_X']), (array([ 277.]), [u'133', u'Vermis_X']), (array([ 278.]), [u'134', u'Right_X'])]\n"
       ]
      }
     ],
     "prompt_number": 28
    },
    {
     "cell_type": "code",
     "collapsed": false,
     "input": [
      "np.unique(template)"
     ],
     "language": "python",
     "metadata": {},
     "outputs": [
      {
       "metadata": {},
       "output_type": "pyout",
       "prompt_number": 34,
       "text": [
        "array([  -1.,    0.,    1.,    2.,    3.,    4.,    5.,    6.,    7.,\n",
        "          8.,    9.,   10.,   11.,   12.,   13.,   14.,   15.,   16.,\n",
        "         17.,   18.,   19.,   20.,   21.,   22.,   23.,   24.,   25.,\n",
        "         26.,   27.,   28.,   29.,   30.,   31.,   32.,   33.,   34.,\n",
        "         35.,   36.,   37.,   38.,   39.,   40.,   41.,   42.,   43.,\n",
        "         44.,   45.,   46.,   47.,   48.,   49.,   50.,   51.,   52.,\n",
        "         53.,   54.,   55.,   56.,   57.,   58.,   59.,   60.,   61.,\n",
        "         62.,   63.,   64.,   65.,   66.,   67.,   68.,   69.,   70.,\n",
        "         71.,   72.,   73.,   74.,   75.,   76.,   77.,   78.,   79.,\n",
        "         80.,   81.,   82.,   83.,   84.,   85.,   86.,   87.,   88.,\n",
        "         89.,   90.,   91.,   92.,   93.,   94.,   95.,   96.,   97.,\n",
        "         98.,   99.,  100.,  101.,  102.,  103.,  104.,  105.,  106.,\n",
        "        107.,  108.,  109.,  110.,  111.,  112.,  113.,  114.,  115.,\n",
        "        116.,  117.,  118.,  119.,  120.,  121.,  122.,  123.,  124.,\n",
        "        125.,  126.,  127.,  128.,  129.,  130.,  131.,  132.,  133.,\n",
        "        134.,  135.,  136.,  137.,  138.,  139.,  140.,  141.,  142.,\n",
        "        143.,  144.,  145.,  146.,  147.,  148.,  149.,  150.,  151.,\n",
        "        152.,  153.,  154.,  155.,  156.,  157.,  158.,  159.,  160.,\n",
        "        161.,  162.,  163.,  164.,  165.,  166.,  167.,  168.,  169.,\n",
        "        170.,  171.,  172.,  173.,  174.,  175.,  176.,  177.,  178.,\n",
        "        179.,  180.,  181.,  182.,  183.,  184.,  185.,  186.,  187.,\n",
        "        188.,  189.,  190.,  191.,  192.,  193.,  194.,  195.,  196.,\n",
        "        197.,  198.,  199.,  200.,  201.,  202.,  203.,  204.,  205.,\n",
        "        206.,  207.,  208.,  209.,  210.,  211.,  212.,  213.,  214.,\n",
        "        215.,  216.,  217.,  218.,  219.,  220.,  221.,  222.,  223.,\n",
        "        224.,  225.,  226.,  227.,  228.,  229.,  230.,  231.,  232.,\n",
        "        233.,  234.,  235.,  236.,  237.,  238.,  239.,  240.,  241.,\n",
        "        242.,  243.,  244.,  245.,  246.,  247.,  248.,  249.,  250.,\n",
        "        251.,  252.,  253.,  254.,  255.,  256.,  257.,  258.,  259.,\n",
        "        260.,  261.,  262.,  263.,  264.,  265.,  266.,  267.,  268.,\n",
        "        269.,  270.,  271.,  272.,  273.,  274.,  275.,  276.,  277.,  278.])"
       ]
      }
     ],
     "prompt_number": 34
    },
    {
     "cell_type": "code",
     "collapsed": false,
     "input": [
      "func_atlas = nib.nifti1.Nifti1Image(template, atlas.get_affine())"
     ],
     "language": "python",
     "metadata": {},
     "outputs": [],
     "prompt_number": 31
    },
    {
     "cell_type": "code",
     "collapsed": false,
     "input": [
      "func_atlas.to_filename(osp.join(HOME, 'code', 'regions', 'regions', 'anafunc.nii'))"
     ],
     "language": "python",
     "metadata": {},
     "outputs": [],
     "prompt_number": 33
    },
    {
     "cell_type": "code",
     "collapsed": false,
     "input": [
      "template.max()\n",
      "template.shape"
     ],
     "language": "python",
     "metadata": {},
     "outputs": [
      {
       "metadata": {},
       "output_type": "pyout",
       "prompt_number": 41,
       "text": [
        "(91, 109, 91)"
       ]
      }
     ],
     "prompt_number": 41
    },
    {
     "cell_type": "code",
     "collapsed": false,
     "input": [
      "print [(template == ridx).sum() for ridx in range(int(template.max()))+[-1]"
     ],
     "language": "python",
     "metadata": {},
     "outputs": [
      {
       "output_type": "stream",
       "stream": "stdout",
       "text": [
        "[756, 889, 1138, 958, 1042, 1172, 1299, 1092, 1340, 1334, 661, 1580, 1264, 409, 1689, 1347, 843, 941, 488, 568, 1068, 1090, 1635, 738, 1665, 1334, 410, 747, 642, 889, 823, 1043, 602, 744, 943, 866, 837, 1315, 1105, 1290, 460, 1245, 1221, 1380, 1053, 547, 1144, 1266, 943, 1236, 1052, 1097, 1540, 585, 1013, 1486, 1413, 785, 1854, 1202, 997, 560, 1547, 812, 837, 907, 1067, 1750, 1158, 746, 1366, 834, 397, 1289, 527, 1091, 508, 687, 352, 951, 537, 364, 297, 564, 75, 708, 873, 1508, 1297, 394, 506, 548, 759, 1732, 2148, 1007, 1319, 1197, 1432, 1225, 789, 787, 1676, 1232, 1424, 722, 708, 1114, 994, 1257, 961, 374, 1237, 1972, 356, 665, 570, 503, 1103, 1128, 468, 1505, 968, 839, 1151, 1559, 1442, 887, 1245, 1458, 537, 436, 1601, 1364, 1514, 531, 1910, 552, 321, 1459, 904, 300, 1454, 468, 976, 533, 610, 270, 778, 440, 304, 225, 333, 167, 865, 509, 1329, 1587, 457, 253, 400, 561, 822, 393, 764, 925, 658, 563, 2082, 966, 1625, 1378, 907, 1179, 915, 1055, 2019, 883, 1373, 997, 1723, 1431, 1079, 1496, 1561, 1294, 1591, 572, 944, 312, 707, 986, 842, 1436, 1248, 1004, 898, 441, 146, 102, 595, 537, 493, 1088, 829, 637, 526, 1485, 492, 509, 1049, 1568, 1102, 739, 761, 738, 970, 891, 960, 990, 1062, 1257, 712, 1617, 1316, 1452, 1244, 2290, 1353, 1131, 1316, 2238, 1855, 1335, 1025, 1402, 515, 824, 266, 778, 477, 101, 1007, 1039, 870, 894, 1011, 1090, 441, 573, 1301, 1267, 843, 1368, 2, 727, 1209, 1554, 1230, 1421, 76, 469, 922, 1390, 1152, 28, 1216, 1194, 272, 1162, 1215, 103, 1061, 925, 153, 931, 256, 72, 635062]\n"
       ]
      }
     ],
     "prompt_number": 38
    },
    {
     "cell_type": "code",
     "collapsed": false,
     "input": [
      "print avgclustsize"
     ],
     "language": "python",
     "metadata": {},
     "outputs": [
      {
       "output_type": "stream",
       "stream": "stdout",
       "text": [
        "1070.268\n"
       ]
      }
     ],
     "prompt_number": 39
    },
    {
     "cell_type": "code",
     "collapsed": false,
     "input": [
      "import matplotlib.pyplot as plt\n",
      "\n",
      "def show_imgs(imgs, pos, titles=None, cmap=\"gray\", interp=\"nearest\"):\n",
      "    \"\"\"\n",
      "    \"\"\"\n",
      "    \n",
      "    Nimg = len(imgs)\n",
      "    \n",
      "    if (titles is None):\n",
      "        titles = ['No title']*Nimg \n",
      "    \n",
      "    if not isinstance(pos, list):\n",
      "        pos = [pos]*Nimg\n",
      "        \n",
      "    fig, ax = plt.subplots(1,Nimg)\n",
      "    \n",
      "    for ix,im in enumerate(imgs):\n",
      "        if hasattr(im, \"get_data\") and callable(getattr(im, \"get_data\")):\n",
      "            data = im.get_data()\n",
      "        else: #assume im is a 3d array\n",
      "            data = im         \n",
      "        \n",
      "        ax[ix].imshow(data[pos[ix]], cmap=cmap, interpolation=interp)\n",
      "        ax[ix].get_xaxis().set_ticks([])\n",
      "        ax[ix].get_yaxis().set_ticks([])\n",
      "        ax[ix].set_title(titles[ix])"
     ],
     "language": "python",
     "metadata": {},
     "outputs": [],
     "prompt_number": 40
    },
    {
     "cell_type": "code",
     "collapsed": false,
     "input": [
      "test = template.copy()\n",
      "xi, yi, zi = np.where(test == 3)\n",
      "print xi.shape, yi.shape\n",
      "v=20\n",
      "x,y,z = xi[v], yi[v], zi[v], \n",
      "pos = [[x, slice(None), slice(None)],\n",
      "       [slice(None), y, slice(None)],\n",
      "       [slice(None), slice(None), z]]\n",
      "titles = [\"sagittal\", \"coronal\", \"axial\"]\n",
      "show_imgs([template*10]*3, pos[::-1], cmap=\"jet\", titles=titles[::-1])"
     ],
     "language": "python",
     "metadata": {},
     "outputs": [
      {
       "output_type": "stream",
       "stream": "stdout",
       "text": [
        "(958,) (958,)\n"
       ]
      },
      {
       "metadata": {},
       "output_type": "display_data",
       "png": "[encoded data removed]",
       "text": [
        "<matplotlib.figure.Figure at 0x83d0b50>"
       ]
      }
     ],
     "prompt_number": 53
    },
    {
     "cell_type": "code",
     "collapsed": false,
     "input": [
      "test = template.copy()\n",
      "xi, yi, zi = np.where(test == 162)\n",
      "print xi.shape, yi.shape\n",
      "v=20\n",
      "x,y,z = xi[v], yi[v], zi[v], \n",
      "test[test>184] = 0\n",
      "test[test<158] = -10\n",
      "pos = [[x, slice(None), slice(None)],\n",
      "       [slice(None), y, slice(None)],\n",
      "       [slice(None), slice(None), z]]\n",
      "titles = [\"sagittal\", \"coronal\", \"axial\"]\n",
      "show_imgs([test]*3, pos[::-1], cmap=\"jet\", titles=titles[::-1])"
     ],
     "language": "python",
     "metadata": {},
     "outputs": [
      {
       "output_type": "stream",
       "stream": "stdout",
       "text": [
        "(822,) (822,)\n"
       ]
      },
      {
       "metadata": {},
       "output_type": "display_data",
       "png": "[encoded data removed]",
       "text": [
        "<matplotlib.figure.Figure at 0x8a80e10>"
       ]
      }
     ],
     "prompt_number": 59
    },
    {
     "cell_type": "code",
     "collapsed": false,
     "input": [
      "import json\n",
      "type(newlabels)\n",
      "anafunc_filename = osp.join(HOME, 'code', 'regions', 'regions', 'anafunc')\n",
      "np.save(anafunc_filename+'.labels', np.asarray(newlabels))\n",
      "with open(anafunc_filename+'.json','w') as f:\n",
      "    json.dump([(str(l[0]), l[1:]) for l in newlabels], f)\n"
     ],
     "language": "python",
     "metadata": {},
     "outputs": [],
     "prompt_number": 65
    },
    {
     "cell_type": "code",
     "collapsed": false,
     "input": [
      "A = grid_to_graph(n_x=dim[0], n_y=dim[1], n_z=dim[2], mask=roi_mask)"
     ],
     "language": "python",
     "metadata": {},
     "outputs": []
    },
    {
     "cell_type": "code",
     "collapsed": false,
     "input": [
      "print A.getcol(0)\n",
      "print A.getrow(0)\n",
      "print A.getnnz()\n",
      "print 3252*3252"
     ],
     "language": "python",
     "metadata": {},
     "outputs": []
    },
    {
     "cell_type": "code",
     "collapsed": false,
     "input": [
      "mem = Memory(cachedir='.', verbose=1)\n",
      "ward = WardAgglomeration(n_clusters=nclust, connectivity=A.tolil(), memory=mem)"
     ],
     "language": "python",
     "metadata": {},
     "outputs": []
    },
    {
     "cell_type": "code",
     "collapsed": false,
     "input": [
      "X = np.random.normal(loc=0.0, scale=1.0, size=(3252, 400))\n",
      "print X.shape"
     ],
     "language": "python",
     "metadata": {},
     "outputs": []
    },
    {
     "cell_type": "code",
     "collapsed": false,
     "input": [
      "ward.fit(X.T)"
     ],
     "language": "python",
     "metadata": {},
     "outputs": []
    },
    {
     "cell_type": "code",
     "collapsed": false,
     "input": [
      "ward.labels_.shape"
     ],
     "language": "python",
     "metadata": {},
     "outputs": []
    },
    {
     "cell_type": "code",
     "collapsed": false,
     "input": [
      "ward.labels_[:30]"
     ],
     "language": "python",
     "metadata": {},
     "outputs": []
    },
    {
     "cell_type": "code",
     "collapsed": false,
     "input": [],
     "language": "python",
     "metadata": {},
     "outputs": []
    }
   ],
   "metadata": {}
  }
 ]
}